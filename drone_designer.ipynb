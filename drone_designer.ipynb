{
 "cells": [
  {
   "attachments": {},
   "cell_type": "markdown",
   "metadata": {},
   "source": [
    "# Drone Designer Platform"
   ]
  },
  {
   "cell_type": "code",
   "execution_count": 37,
   "metadata": {},
   "outputs": [
    {
     "name": "stdout",
     "output_type": "stream",
     "text": [
      "The autoreload extension is already loaded. To reload it, use:\n",
      "  %reload_ext autoreload\n"
     ]
    }
   ],
   "source": [
    "from uav import UAVModel\n",
    "from tradespace import TradespaceDesigner\n",
    "\n",
    "%load_ext autoreload\n",
    "%autoreload 2\n",
    "\n",
    "# local imports\n"
   ]
  },
  {
   "attachments": {},
   "cell_type": "markdown",
   "metadata": {},
   "source": [
    "## Performance Variables or Attributes\n",
    "\n",
    "Performance variables or Attributes are used to evaluate the performance of a system. In this case, the system is a drone. The rules for selecting the performance variables are:\n",
    "\n",
    "1. The performance variables must represent how good the system is.\n",
    "2. They must be measurable.\n",
    "3. They will be used to compare different designs."
   ]
  },
  {
   "cell_type": "markdown",
   "metadata": {},
   "source": []
  },
  {
   "cell_type": "code",
   "execution_count": 38,
   "metadata": {},
   "outputs": [],
   "source": [
    "# Define your performance variables\n",
    "td = TradespaceDesigner()\n",
    "\n",
    "# Add performance variables\n",
    "# Add maximum flight distance\n",
    "td.add_performance_variable(\"max_flight_distance\", 1, 20000, \"m\", 0.4)\n",
    "\n",
    "# Add maximum speed\n",
    "td.add_performance_variable(\"max_speed\", 5, 50, \"m/s\", 0.1)\n",
    "\n",
    "# Add maximum payload\n",
    "td.add_performance_variable(\"max_payload\", 0.1, 10, \"kg\", 0.1)\n",
    "\n",
    "# Add maximum endurance\n",
    "td.add_performance_variable(\"max_flight_time\", 5, 60, \"min\", 0.4)\n"
   ]
  },
  {
   "attachments": {},
   "cell_type": "markdown",
   "metadata": {},
   "source": [
    "## Design Variables\n",
    "\n",
    "Design variables are the variables that can be changed to improve the performance of the system. In this case, the system is a drone. The rules for selecting the design variables are:\n",
    "\n",
    "1. The design variables are the components of the drone.\n",
    "2. Their characteristics must be measurable.\n",
    "3. The relationship between the design vars and the performance vars in this case is the mathematical model of the drone.\n",
    "4. The design variables are concatenated into components, each one has a name, category, and a list of attributes that can be changed.\n",
    "\n",
    "The following function will help us to add each component for the design space:\n"
   ]
  },
  {
   "cell_type": "code",
   "execution_count": 39,
   "metadata": {},
   "outputs": [],
   "source": [
    "def add_frame(name, Df, nr, mass, price):\n",
    "    # add frame to the tradespace designer\n",
    "    td.add_design_component({'name': name,\n",
    "                             'category': 'frame',\n",
    "                             'attributes': {'diagonal': {'value': Df, 'units': 'mm'},\n",
    "                                            'number_of_rotors': {'value': nr, 'units': 'int'},\n",
    "                                            'mass': {'value': mass, 'units': 'kg'},\n",
    "                                            'price': {'value': price, 'units': 'USD'}}})\n",
    "    return\n",
    "\n",
    "\n",
    "def add_propeller(name, Dp, Hp, Bp, mass, price):\n",
    "    # add propeller to the tradespace designer\n",
    "    td.add_design_component({'name': name,\n",
    "                             'category': 'propeller',\n",
    "                             'attributes': {'diameter': {'value': Dp, 'units': 'in'},\n",
    "                                            'pitch': {'value': Hp, 'units': 'in'},\n",
    "                                            'num_blades': {'value': Bp, 'units': 'int'},\n",
    "                                            'mass': {'value': mass, 'units': 'kg'},\n",
    "                                            'price': {'value': price, 'units': 'USD'}}})\n",
    "    return\n",
    "\n",
    "\n",
    "def add_motor(name, Kv0, Um0, Im0, Rm, mass, price):\n",
    "    # add motor to the tradespace designer\n",
    "    td.add_design_component({'name': name,\n",
    "                             'category': 'motor',\n",
    "                             'attributes': {'kv': {'value': Kv0, 'units': 'rpm/V'},\n",
    "                                            'no-load voltage': {'value': Um0, 'units': 'V'},\n",
    "                                            'no-load current': {'value': Im0, 'units': 'A'},\n",
    "                                            'resistance': {'value': Rm, 'units': 'ohm'},\n",
    "                                            'mass': {'value': mass, 'units': 'kg'},\n",
    "                                            'price': {'value': price, 'units': 'USD'}}})\n",
    "    return\n",
    "\n",
    "\n",
    "def add_esc(name, Re, mass, price):\n",
    "    # add ESC to the tradespace designer\n",
    "    td.add_design_component({'name': name,\n",
    "                             'category': 'esc',\n",
    "                             'attributes': {'resistance': {'value': Re, 'units': 'ohm'},\n",
    "                                            'mass': {'value': mass, 'units': 'kg'},\n",
    "                                            'price': {'value': price, 'units': 'USD'}}})\n",
    "    return\n",
    "\n",
    "\n",
    "def add_battery(name, Ub, Cb, Cmin, Rb, mass, price):\n",
    "    # add battery to the tradespace designer\n",
    "    td.add_design_component({'name': name,\n",
    "                             'category': 'battery',\n",
    "                             'attributes': {'voltage': {'value': Ub, 'units': 'V'},\n",
    "                                            'capacity': {'value': Cb, 'units': 'mAh'},\n",
    "                                            'min_capacity': {'value': Cmin, 'units': 'mAh'},\n",
    "                                            'resistance': {'value': Rb, 'units': 'ohm'},\n",
    "                                            'mass': {'value': mass, 'units': 'kg'},\n",
    "                                            'price': {'value': price, 'units': 'EUR'}}})\n",
    "    return\n",
    "\n",
    "\n",
    "def add_onboard_computer(name, Icontrol, mass, price):\n",
    "    # add onboard computer to the tradespace designer\n",
    "    td.add_design_component({'name': name,\n",
    "                             'category': 'onboard_computer',\n",
    "                             'attributes': {'control_current': {'value': Icontrol, 'units': 'A'},\n",
    "                                            'mass': {'value': mass, 'units': 'kg'},\n",
    "                                            'price': {'value': price, 'units': 'USD'}}})\n",
    "    return\n"
   ]
  },
  {
   "attachments": {},
   "cell_type": "markdown",
   "metadata": {},
   "source": [
    "### Add Batteries options\n",
    "\n",
    "> On the batteries side, it is possible to choose between different options on the market, varying in weight, capacity, voltage and price. The question that we want to solve is: how those characteristics of each battery affect the performance of the drone? To answer that question, lets add the batteries to the design space."
   ]
  },
  {
   "cell_type": "code",
   "execution_count": 40,
   "metadata": {},
   "outputs": [],
   "source": [
    "\n",
    "# Add lipo battery with its attributes\n",
    "# Add Zeee 2S LiPo Battery 7.4V 60C 1500mAh (Pack with 2 in parallel)\n",
    "# https://amzn.eu/d/0v9NqXT\n",
    "add_battery(name='zeee_1500_2_pack', Ub=7.4, Cb=3000,\n",
    "            Cmin=600, Rb=0.2, mass=0.176, price=32.99)\n",
    "# Add Tattu 2300mAh 11.1V 45C 3S1P\n",
    "# https://amzn.eu/d/3qAMa69\n",
    "add_battery(name='tatoo_2300', Ub=11.1, Cb=2300,\n",
    "            Cmin=460, Rb=0.2, mass=0.1822, price=26.19)\n",
    "# Add HRB 2 Pack 3S 11,1 V 5000 mAh LiPo-accu 50 C\n",
    "# https://amzn.eu/d/bihiQ4N\n",
    "add_battery(name='hrb_5000', Ub=11.1, Cb=5000,\n",
    "            Cmin=1000, Rb=0.2, mass=0.376, price=45.99)\n",
    "# Add Zeee 3S Lipo Battery 11.1V 100C 8000mAh\n",
    "# https://amzn.eu/d/8p7C5QJ\n",
    "add_battery(name='zeee_8000', Ub=11.1, Cb=8000,\n",
    "            Cmin=1600, Rb=0.2, mass=0.493, price=79.99)\n",
    "# Add Tattu Lipo 6S RC Battery 22.2V 1300mAh 120C\n",
    "# https://amzn.eu/d/fp4bDz7\n",
    "add_battery(name='tatoo_1300', Ub=22.2, Cb=1300,\n",
    "            Cmin=260, Rb=0.2, mass=0.212, price=41.62)\n"
   ]
  },
  {
   "attachments": {},
   "cell_type": "markdown",
   "metadata": {},
   "source": [
    "### Motors"
   ]
  },
  {
   "cell_type": "code",
   "execution_count": 41,
   "metadata": {},
   "outputs": [],
   "source": [
    "# Add motor with its attributes\n",
    "# Add TMOTOR Velox Victory V3008 1350kv\n",
    "# https://shop.tmotor.com/products/cinematic-fpv-drone-motor-v3008\n",
    "add_motor(name='motor_v3008', Kv0=1350, Um0=10,\n",
    "          Im0=1.18, Rm=0.1, mass=0.07, price=28.39)\n",
    "# Add TMOTOR VELOCE V2808 1950KV\n",
    "# https://shop.tmotor.com/products/fpv-brushless-motor-v2808?variant=41118111367377\n",
    "add_motor(name='motor_v2808', Kv0=1950, Um0=10,\n",
    "          Im0=2.45, Rm=0.1, mass=0.061, price=24.83)\n"
   ]
  },
  {
   "attachments": {},
   "cell_type": "markdown",
   "metadata": {},
   "source": [
    "### Propellers"
   ]
  },
  {
   "cell_type": "code",
   "execution_count": 42,
   "metadata": {},
   "outputs": [],
   "source": [
    "# Add propeller with its attributes\n",
    "# Add Tmotor MS1101\n",
    "# https://uav-en.tmotor.com/html/2019/Straight_0429/242.html\n",
    "# https://store.tmotor.com/goods.php?id=822\n",
    "add_propeller(name='propeller_ms1101', Dp=11, Hp=4.2, Bp=2, mass=0.010, price=13.99 / 2)\n",
    "# Add Tmotor T9545-A\n",
    "# https://uav-en.tmotor.com/html/2018/Straight_0416/150.html\n",
    "# https://store.tmotor.com/goods.php?id=479\n",
    "add_propeller(name='propeller_t9545', Dp=9.5, Hp=4.5, Bp=2, mass=0.008, price=7.99 / 2)\n",
    "# Add Tmotor MF1302 folding propeller\n",
    "# https://uav-en.tmotor.com/html/2019/Folding_0603/250.html\n",
    "# https://store.tmotor.com/goods.php?id=853\n",
    "add_propeller(name='propeller_mf1302', Dp=13, Hp=4.8, Bp=2, mass=0.017, price=29.99 / 2)\n"
   ]
  },
  {
   "attachments": {},
   "cell_type": "markdown",
   "metadata": {},
   "source": [
    "### ESCs"
   ]
  },
  {
   "cell_type": "code",
   "execution_count": 43,
   "metadata": {},
   "outputs": [],
   "source": [
    "\n",
    "# Add ESC with its attributes\n",
    "# Add 30A ESC\n",
    "add_esc(name='esc_30', Re=0.01, mass=0.01, price=10)\n",
    "# # Add 20A ESC\n",
    "# add_esc('esc_20', 0.01, 0.01, 10)\n"
   ]
  },
  {
   "attachments": {},
   "cell_type": "markdown",
   "metadata": {},
   "source": [
    "### Frames"
   ]
  },
  {
   "cell_type": "code",
   "execution_count": 44,
   "metadata": {},
   "outputs": [],
   "source": [
    "# # Add frame with its attributes\n",
    "# # Add 450mm frame\n",
    "# https://www.aliexpress.com/item/1826445939.html?spm=a2g0o.productlist.main.1.50754792nUZ6Lo&algo_pvid=4287122b-6c35-4298-8ae2-759823a1c0b5&algo_exp_id=4287122b-6c35-4298-8ae2-759823a1c0b5-0&pdp_npi=3%40dis%21USD%2132.27%2119.04%21%21%2132.27%21%21%40212249cb16899388764054185d076a%2110000013899219007%21sea%21NL%212631492666&curPageLogUid=LcEeOINnKP5O\n",
    "add_frame(name='frame_450', Df=450, nr=4, mass=0.282, price=17.86)\n",
    "# # Add custom 3D printed frame\n",
    "add_frame(name='cig_frame', Df=450, nr=4, mass=0.2, price=15)\n"
   ]
  },
  {
   "cell_type": "code",
   "execution_count": 45,
   "metadata": {},
   "outputs": [],
   "source": [
    "# add_onboard_computer(name='raspberry_pi_4', Icontrol=1, mass=0.046, price=100)\n",
    "add_onboard_computer(name='jetson_nano', Icontrol=3, mass=0.100, price=150)\n"
   ]
  },
  {
   "cell_type": "code",
   "execution_count": 46,
   "metadata": {},
   "outputs": [
    {
     "name": "stdout",
     "output_type": "stream",
     "text": [
      "            battery        motor         propeller     esc      frame  \\\n",
      "0  zeee_1500_2_pack  motor_v3008  propeller_ms1101  esc_30  frame_450   \n",
      "1  zeee_1500_2_pack  motor_v3008  propeller_ms1101  esc_30  cig_frame   \n",
      "2  zeee_1500_2_pack  motor_v3008   propeller_t9545  esc_30  frame_450   \n",
      "3  zeee_1500_2_pack  motor_v3008   propeller_t9545  esc_30  cig_frame   \n",
      "4  zeee_1500_2_pack  motor_v3008  propeller_mf1302  esc_30  frame_450   \n",
      "\n",
      "  onboard_computer  \n",
      "0      jetson_nano  \n",
      "1      jetson_nano  \n",
      "2      jetson_nano  \n",
      "3      jetson_nano  \n",
      "4      jetson_nano  \n"
     ]
    }
   ],
   "source": [
    "# save design components to json file\n",
    "td.save_components_to_json('design_components.json')\n",
    "\n",
    "# generate the tradespace\n",
    "td.generate_tradespace()\n",
    "\n",
    "# see the tradespace\n",
    "print(td.tradespace_df.head())\n"
   ]
  },
  {
   "cell_type": "code",
   "execution_count": 47,
   "metadata": {},
   "outputs": [],
   "source": [
    "uav_list = []\n",
    "# calculate performance\n",
    "for index, row in td.tradespace_df.iterrows():\n",
    "    uav = UAVModel()\n",
    "\n",
    "    temp = 25\n",
    "    h = 10\n",
    "    safe_duty_cycle = 0.7\n",
    "\n",
    "    Icontrol = td.get_attr_by_name(row['onboard_computer'], 'control_current')\n",
    "\n",
    "    mass = td.get_attr_by_name(row['frame'], 'mass') + \\\n",
    "            td.get_attr_by_name(row['propeller'], 'mass') * td.get_attr_by_name(row['frame'], 'number_of_rotors') + \\\n",
    "            td.get_attr_by_name(row['motor'], 'mass') * td.get_attr_by_name(row['frame'], 'number_of_rotors') + \\\n",
    "            td.get_attr_by_name(row['esc'], 'mass') * td.get_attr_by_name(row['frame'], 'number_of_rotors') + \\\n",
    "            td.get_attr_by_name(row['battery'], 'mass') + \\\n",
    "            td.get_attr_by_name(row['onboard_computer'], 'mass')\n",
    "\n",
    "    nr = td.get_attr_by_name(row['frame'], 'number_of_rotors')\n",
    "\n",
    "    Dp = td.get_attr_by_name(row['propeller'], 'diameter')\n",
    "    Hp = td.get_attr_by_name(row['propeller'], 'pitch')\n",
    "    Bp = td.get_attr_by_name(row['propeller'], 'num_blades')\n",
    "\n",
    "    Kv0 = td.get_attr_by_name(row['motor'], 'kv')\n",
    "    Um0 = td.get_attr_by_name(row['motor'], 'no-load voltage')\n",
    "    Im0 = td.get_attr_by_name(row['motor'], 'no-load current')\n",
    "    Rm = td.get_attr_by_name(row['motor'], 'resistance')\n",
    "\n",
    "    Re = td.get_attr_by_name(row['esc'], 'resistance')\n",
    "\n",
    "    Ub = td.get_attr_by_name(row['battery'], 'voltage')\n",
    "    Cb = td.get_attr_by_name(row['battery'], 'capacity')\n",
    "    Cmin = td.get_attr_by_name(row['battery'], 'min_capacity')\n",
    "    Rb = td.get_attr_by_name(row['battery'], 'resistance')\n",
    "\n",
    "    # price\n",
    "    price = td.get_attr_by_name(row['frame'], 'price') + \\\n",
    "            td.get_attr_by_name(row['propeller'], 'price') * td.get_attr_by_name(row['frame'], 'number_of_rotors') + \\\n",
    "            td.get_attr_by_name(row['motor'], 'price') * td.get_attr_by_name(row['frame'], 'number_of_rotors') + \\\n",
    "            td.get_attr_by_name(row['esc'], 'price') * td.get_attr_by_name(row['frame'], 'number_of_rotors') + \\\n",
    "            td.get_attr_by_name(row['battery'], 'price') + \\\n",
    "            td.get_attr_by_name(row['onboard_computer'], 'price')\n",
    "\n",
    "    uav.setAll(temp, h, mass, nr, Dp, Hp, Bp, Kv0, Um0, Im0, Rm,\n",
    "               Re, Ub, Cb, Cmin, Rb, Icontrol, safe_duty_cycle)\n",
    "\n",
    "    # calculate performance\n",
    "    uav.calculate_performance()\n",
    "\n",
    "    # add design variables to the tradespace\n",
    "    td.tradespace_df.loc[index, 'mass']=uav.G / uav.g\n",
    "    td.tradespace_df.loc[index, 'number_of_rotors']=uav.nr\n",
    "    td.tradespace_df.loc[index, 'kv']=uav.Kv0\n",
    "    td.tradespace_df.loc[index, 'voltage']=uav.Ub\n",
    "    td.tradespace_df.loc[index, 'capacity']=uav.Cb\n",
    "\n",
    "    # add price to the tradespace\n",
    "    td.tradespace_df.loc[index, 'price']=price\n",
    "\n",
    "    # add performance to the tradespace\n",
    "    td.tradespace_df.loc[index, 'max_flight_distance']=uav.max_distance\n",
    "\n",
    "    td.tradespace_df.loc[index, 'max_speed']=uav.max_speed\n",
    "\n",
    "    td.tradespace_df.loc[index, 'max_payload']=uav.max_payload\n",
    "\n",
    "    td.tradespace_df.loc[index, 'max_flight_time']=uav.t_hover\n",
    "\n",
    "    # append uav to the list\n",
    "    uav_list.append(uav)\n"
   ]
  },
  {
   "cell_type": "code",
   "execution_count": 48,
   "metadata": {},
   "outputs": [
    {
     "data": {
      "application/vnd.plotly.v1+json": {
       "config": {
        "plotlyServerURL": "https://plot.ly"
       },
       "data": [
        {
         "cells": {
          "align": "left",
          "fill": {
           "color": "lavender"
          },
          "values": [
           [
            "zeee_1500_2_pack",
            "zeee_1500_2_pack",
            "zeee_1500_2_pack",
            "zeee_1500_2_pack",
            "zeee_1500_2_pack",
            "zeee_1500_2_pack",
            "zeee_1500_2_pack",
            "zeee_1500_2_pack",
            "zeee_1500_2_pack",
            "zeee_1500_2_pack",
            "zeee_1500_2_pack",
            "zeee_1500_2_pack",
            "tatoo_2300",
            "tatoo_2300",
            "tatoo_2300",
            "tatoo_2300",
            "tatoo_2300",
            "tatoo_2300",
            "tatoo_2300",
            "tatoo_2300",
            "tatoo_2300",
            "tatoo_2300",
            "tatoo_2300",
            "tatoo_2300",
            "hrb_5000",
            "hrb_5000",
            "hrb_5000",
            "hrb_5000",
            "hrb_5000",
            "hrb_5000",
            "hrb_5000",
            "hrb_5000",
            "hrb_5000",
            "hrb_5000",
            "hrb_5000",
            "hrb_5000",
            "zeee_8000",
            "zeee_8000",
            "zeee_8000",
            "zeee_8000",
            "zeee_8000",
            "zeee_8000",
            "zeee_8000",
            "zeee_8000",
            "zeee_8000",
            "zeee_8000",
            "zeee_8000",
            "zeee_8000",
            "tatoo_1300",
            "tatoo_1300",
            "tatoo_1300",
            "tatoo_1300",
            "tatoo_1300",
            "tatoo_1300",
            "tatoo_1300",
            "tatoo_1300",
            "tatoo_1300",
            "tatoo_1300",
            "tatoo_1300",
            "tatoo_1300"
           ],
           [
            "motor_v3008",
            "motor_v3008",
            "motor_v3008",
            "motor_v3008",
            "motor_v3008",
            "motor_v3008",
            "motor_v2808",
            "motor_v2808",
            "motor_v2808",
            "motor_v2808",
            "motor_v2808",
            "motor_v2808",
            "motor_v3008",
            "motor_v3008",
            "motor_v3008",
            "motor_v3008",
            "motor_v3008",
            "motor_v3008",
            "motor_v2808",
            "motor_v2808",
            "motor_v2808",
            "motor_v2808",
            "motor_v2808",
            "motor_v2808",
            "motor_v3008",
            "motor_v3008",
            "motor_v3008",
            "motor_v3008",
            "motor_v3008",
            "motor_v3008",
            "motor_v2808",
            "motor_v2808",
            "motor_v2808",
            "motor_v2808",
            "motor_v2808",
            "motor_v2808",
            "motor_v3008",
            "motor_v3008",
            "motor_v3008",
            "motor_v3008",
            "motor_v3008",
            "motor_v3008",
            "motor_v2808",
            "motor_v2808",
            "motor_v2808",
            "motor_v2808",
            "motor_v2808",
            "motor_v2808",
            "motor_v3008",
            "motor_v3008",
            "motor_v3008",
            "motor_v3008",
            "motor_v3008",
            "motor_v3008",
            "motor_v2808",
            "motor_v2808",
            "motor_v2808",
            "motor_v2808",
            "motor_v2808",
            "motor_v2808"
           ],
           [
            "propeller_ms1101",
            "propeller_ms1101",
            "propeller_t9545",
            "propeller_t9545",
            "propeller_mf1302",
            "propeller_mf1302",
            "propeller_ms1101",
            "propeller_ms1101",
            "propeller_t9545",
            "propeller_t9545",
            "propeller_mf1302",
            "propeller_mf1302",
            "propeller_ms1101",
            "propeller_ms1101",
            "propeller_t9545",
            "propeller_t9545",
            "propeller_mf1302",
            "propeller_mf1302",
            "propeller_ms1101",
            "propeller_ms1101",
            "propeller_t9545",
            "propeller_t9545",
            "propeller_mf1302",
            "propeller_mf1302",
            "propeller_ms1101",
            "propeller_ms1101",
            "propeller_t9545",
            "propeller_t9545",
            "propeller_mf1302",
            "propeller_mf1302",
            "propeller_ms1101",
            "propeller_ms1101",
            "propeller_t9545",
            "propeller_t9545",
            "propeller_mf1302",
            "propeller_mf1302",
            "propeller_ms1101",
            "propeller_ms1101",
            "propeller_t9545",
            "propeller_t9545",
            "propeller_mf1302",
            "propeller_mf1302",
            "propeller_ms1101",
            "propeller_ms1101",
            "propeller_t9545",
            "propeller_t9545",
            "propeller_mf1302",
            "propeller_mf1302",
            "propeller_ms1101",
            "propeller_ms1101",
            "propeller_t9545",
            "propeller_t9545",
            "propeller_mf1302",
            "propeller_mf1302",
            "propeller_ms1101",
            "propeller_ms1101",
            "propeller_t9545",
            "propeller_t9545",
            "propeller_mf1302",
            "propeller_mf1302"
           ],
           [
            "esc_30",
            "esc_30",
            "esc_30",
            "esc_30",
            "esc_30",
            "esc_30",
            "esc_30",
            "esc_30",
            "esc_30",
            "esc_30",
            "esc_30",
            "esc_30",
            "esc_30",
            "esc_30",
            "esc_30",
            "esc_30",
            "esc_30",
            "esc_30",
            "esc_30",
            "esc_30",
            "esc_30",
            "esc_30",
            "esc_30",
            "esc_30",
            "esc_30",
            "esc_30",
            "esc_30",
            "esc_30",
            "esc_30",
            "esc_30",
            "esc_30",
            "esc_30",
            "esc_30",
            "esc_30",
            "esc_30",
            "esc_30",
            "esc_30",
            "esc_30",
            "esc_30",
            "esc_30",
            "esc_30",
            "esc_30",
            "esc_30",
            "esc_30",
            "esc_30",
            "esc_30",
            "esc_30",
            "esc_30",
            "esc_30",
            "esc_30",
            "esc_30",
            "esc_30",
            "esc_30",
            "esc_30",
            "esc_30",
            "esc_30",
            "esc_30",
            "esc_30",
            "esc_30",
            "esc_30"
           ],
           [
            "frame_450",
            "cig_frame",
            "frame_450",
            "cig_frame",
            "frame_450",
            "cig_frame",
            "frame_450",
            "cig_frame",
            "frame_450",
            "cig_frame",
            "frame_450",
            "cig_frame",
            "frame_450",
            "cig_frame",
            "frame_450",
            "cig_frame",
            "frame_450",
            "cig_frame",
            "frame_450",
            "cig_frame",
            "frame_450",
            "cig_frame",
            "frame_450",
            "cig_frame",
            "frame_450",
            "cig_frame",
            "frame_450",
            "cig_frame",
            "frame_450",
            "cig_frame",
            "frame_450",
            "cig_frame",
            "frame_450",
            "cig_frame",
            "frame_450",
            "cig_frame",
            "frame_450",
            "cig_frame",
            "frame_450",
            "cig_frame",
            "frame_450",
            "cig_frame",
            "frame_450",
            "cig_frame",
            "frame_450",
            "cig_frame",
            "frame_450",
            "cig_frame",
            "frame_450",
            "cig_frame",
            "frame_450",
            "cig_frame",
            "frame_450",
            "cig_frame",
            "frame_450",
            "cig_frame",
            "frame_450",
            "cig_frame",
            "frame_450",
            "cig_frame"
           ],
           [
            "jetson_nano",
            "jetson_nano",
            "jetson_nano",
            "jetson_nano",
            "jetson_nano",
            "jetson_nano",
            "jetson_nano",
            "jetson_nano",
            "jetson_nano",
            "jetson_nano",
            "jetson_nano",
            "jetson_nano",
            "jetson_nano",
            "jetson_nano",
            "jetson_nano",
            "jetson_nano",
            "jetson_nano",
            "jetson_nano",
            "jetson_nano",
            "jetson_nano",
            "jetson_nano",
            "jetson_nano",
            "jetson_nano",
            "jetson_nano",
            "jetson_nano",
            "jetson_nano",
            "jetson_nano",
            "jetson_nano",
            "jetson_nano",
            "jetson_nano",
            "jetson_nano",
            "jetson_nano",
            "jetson_nano",
            "jetson_nano",
            "jetson_nano",
            "jetson_nano",
            "jetson_nano",
            "jetson_nano",
            "jetson_nano",
            "jetson_nano",
            "jetson_nano",
            "jetson_nano",
            "jetson_nano",
            "jetson_nano",
            "jetson_nano",
            "jetson_nano",
            "jetson_nano",
            "jetson_nano",
            "jetson_nano",
            "jetson_nano",
            "jetson_nano",
            "jetson_nano",
            "jetson_nano",
            "jetson_nano",
            "jetson_nano",
            "jetson_nano",
            "jetson_nano",
            "jetson_nano",
            "jetson_nano",
            "jetson_nano"
           ],
           [
            0.918,
            0.836,
            0.9099999999999999,
            0.828,
            0.946,
            0.864,
            0.882,
            0.7999999999999999,
            0.874,
            0.7919999999999999,
            0.9099999999999999,
            0.828,
            0.9242000000000001,
            0.8422000000000001,
            0.9162,
            0.8342,
            0.9522,
            0.8702000000000001,
            0.8882000000000001,
            0.8062,
            0.8802000000000001,
            0.7982,
            0.9162,
            0.8342,
            1.118,
            1.036,
            1.11,
            1.028,
            1.1460000000000001,
            1.064,
            1.082,
            1,
            1.074,
            0.992,
            1.11,
            1.028,
            1.235,
            1.153,
            1.227,
            1.145,
            1.2630000000000001,
            1.181,
            1.199,
            1.117,
            1.191,
            1.109,
            1.227,
            1.145,
            0.954,
            0.872,
            0.946,
            0.864,
            0.982,
            0.9,
            0.918,
            0.836,
            0.9099999999999999,
            0.828,
            0.946,
            0.864
           ],
           [
            4,
            4,
            4,
            4,
            4,
            4,
            4,
            4,
            4,
            4,
            4,
            4,
            4,
            4,
            4,
            4,
            4,
            4,
            4,
            4,
            4,
            4,
            4,
            4,
            4,
            4,
            4,
            4,
            4,
            4,
            4,
            4,
            4,
            4,
            4,
            4,
            4,
            4,
            4,
            4,
            4,
            4,
            4,
            4,
            4,
            4,
            4,
            4,
            4,
            4,
            4,
            4,
            4,
            4,
            4,
            4,
            4,
            4,
            4,
            4
           ],
           [
            1350,
            1350,
            1350,
            1350,
            1350,
            1350,
            1950,
            1950,
            1950,
            1950,
            1950,
            1950,
            1350,
            1350,
            1350,
            1350,
            1350,
            1350,
            1950,
            1950,
            1950,
            1950,
            1950,
            1950,
            1350,
            1350,
            1350,
            1350,
            1350,
            1350,
            1950,
            1950,
            1950,
            1950,
            1950,
            1950,
            1350,
            1350,
            1350,
            1350,
            1350,
            1350,
            1950,
            1950,
            1950,
            1950,
            1950,
            1950,
            1350,
            1350,
            1350,
            1350,
            1350,
            1350,
            1950,
            1950,
            1950,
            1950,
            1950,
            1950
           ],
           [
            7.4,
            7.4,
            7.4,
            7.4,
            7.4,
            7.4,
            7.4,
            7.4,
            7.4,
            7.4,
            7.4,
            7.4,
            11.1,
            11.1,
            11.1,
            11.1,
            11.1,
            11.1,
            11.1,
            11.1,
            11.1,
            11.1,
            11.1,
            11.1,
            11.1,
            11.1,
            11.1,
            11.1,
            11.1,
            11.1,
            11.1,
            11.1,
            11.1,
            11.1,
            11.1,
            11.1,
            11.1,
            11.1,
            11.1,
            11.1,
            11.1,
            11.1,
            11.1,
            11.1,
            11.1,
            11.1,
            11.1,
            11.1,
            22.2,
            22.2,
            22.2,
            22.2,
            22.2,
            22.2,
            22.2,
            22.2,
            22.2,
            22.2,
            22.2,
            22.2
           ],
           [
            3000,
            3000,
            3000,
            3000,
            3000,
            3000,
            3000,
            3000,
            3000,
            3000,
            3000,
            3000,
            2300,
            2300,
            2300,
            2300,
            2300,
            2300,
            2300,
            2300,
            2300,
            2300,
            2300,
            2300,
            5000,
            5000,
            5000,
            5000,
            5000,
            5000,
            5000,
            5000,
            5000,
            5000,
            5000,
            5000,
            8000,
            8000,
            8000,
            8000,
            8000,
            8000,
            8000,
            8000,
            8000,
            8000,
            8000,
            8000,
            1300,
            1300,
            1300,
            1300,
            1300,
            1300,
            1300,
            1300,
            1300,
            1300,
            1300,
            1300
           ],
           [
            382.39,
            379.53000000000003,
            370.39,
            367.53,
            414.39,
            411.53,
            368.15,
            365.29,
            356.15,
            353.28999999999996,
            400.15,
            397.28999999999996,
            375.59000000000003,
            372.73,
            363.59000000000003,
            360.73,
            407.59000000000003,
            404.73,
            361.35,
            358.49,
            349.35,
            346.49,
            393.35,
            390.49,
            395.39,
            392.53000000000003,
            383.39,
            380.53,
            427.39,
            424.53,
            381.15,
            378.29,
            369.15,
            366.28999999999996,
            413.15,
            410.28999999999996,
            429.39,
            426.53000000000003,
            417.39,
            414.53,
            461.39,
            458.53,
            415.15,
            412.29,
            403.15,
            400.28999999999996,
            447.15,
            444.28999999999996,
            391.02,
            388.16,
            379.02,
            376.15999999999997,
            423.02,
            420.15999999999997,
            376.78,
            373.92,
            364.78,
            361.91999999999996,
            408.78,
            405.91999999999996
           ],
           [
            2598.3520373781644,
            2773.023305878702,
            2566.1675090510785,
            2733.116279262705,
            2622.6202839672633,
            2806.7531636300328,
            2012.8502216380514,
            2160.6083025724547,
            2055.9841632889406,
            2198.701098354297,
            1903.3759439757675,
            2053.846945502486,
            2758.962343936866,
            2920.626460226049,
            2727.612443383902,
            2882.248005516304,
            2783.756896578015,
            2954.648713697263,
            2168.520842246246,
            2311.199103626012,
            2213.0938599024835,
            2350.243126638704,
            2056.868390660282,
            2203.9180433530905,
            5272.557139030822,
            5562.2376897704835,
            5234.157322172019,
            5512.263328161194,
            5287.983752633601,
            5592.5476437757525,
            4084.9081975475924,
            4334.568100604423,
            4201.184355714773,
            4443.972382949951,
            3831.278581225235,
            4083.9504553600395,
            7837.609544721217,
            8249.63662478102,
            7799.007167043099,
            8195.44858679304,
            7833.156313619289,
            8265.038954285083,
            6025.307494166234,
            6376.165102939045,
            6222.834921979061,
            6566.112442771018,
            5617.329988272279,
            5969.1987555548485,
            2537.430380973952,
            2641.834500889994,
            2515.043522544292,
            2615.02045258966,
            2556.7823721023638,
            2667.9295349988515,
            2056.4346511894482,
            2157.879005692958,
            2095.9077541514503,
            2192.3262455878935,
            1962.3478550060086,
            2069.8607429668423
           ],
           [
            8.835139479076282,
            8.944408869103198,
            7.8354815270632905,
            7.9556641732806845,
            10.165450991768285,
            10.259909613106474,
            9.531358360112229,
            9.632538102975266,
            9.058711563578754,
            9.165525591186462,
            9.994701034433604,
            10.090678137592977,
            12.877180495041932,
            12.942240279908543,
            11.859943443826575,
            11.934947153683959,
            14.133485655965295,
            14.188544485958072,
            13.235170660534616,
            13.29570499232176,
            12.880334634897036,
            12.943874473810173,
            13.502619118227418,
            13.561746666799326,
            12.712051002014347,
            12.783641292116087,
            11.672013133021494,
            11.753067504188914,
            13.992416079322943,
            14.053819117319216,
            13.079941539163677,
            13.147492062669086,
            12.717869957287851,
            12.78848235956973,
            13.35124987415016,
            13.417094366991378,
            12.606390702210298,
            12.680838442059729,
            11.553514882271108,
            11.636870395675533,
            13.901078354411615,
            13.965524013578634,
            12.979627558592245,
            13.050381224182548,
            12.613263962820117,
            12.68701299637643,
            13.253485868489618,
            13.32244109697754,
            21.870056971569447,
            21.88941363990314,
            20.957028843861103,
            20.978539988323305,
            22.81094537267186,
            22.82868439888726,
            21.212073182694365,
            21.23237707026128,
            21.180181271832506,
            21.200412234669653,
            20.990101195237283,
            21.011523368190016
           ],
           [
            0.9626682281328064,
            1.0446682281328064,
            0.651976143997457,
            0.733976143997457,
            1.4233807039769006,
            1.5053807039769007,
            1.2234846623040212,
            1.305484662304021,
            1.0624195619162906,
            1.1444195619162907,
            1.3784517035175388,
            1.4604517035175388,
            2.622376620282332,
            2.704376620282332,
            2.146658663513699,
            2.228658663513699,
            3.2574484178803944,
            3.3394484178803947,
            2.823608135634986,
            2.905608135634986,
            2.650451860367081,
            2.7324518603670813,
            2.943951471439747,
            3.0259514714397473,
            2.4285766202823322,
            2.510576620282332,
            1.9528586635136989,
            2.034858663513699,
            3.0636484178803944,
            3.1456484178803943,
            2.629808135634986,
            2.711808135634986,
            2.4566518603670806,
            2.538651860367081,
            2.750151471439747,
            2.8321514714397473,
            2.3115766202823322,
            2.393576620282332,
            1.8358586635136986,
            1.917858663513699,
            2.946648417880394,
            3.0286484178803943,
            2.5128081356349856,
            2.594808135634986,
            2.3396518603670806,
            2.421651860367081,
            2.633151471439747,
            2.7151514714397473,
            8.72037090477453,
            8.80237090477453,
            7.952796760216499,
            8.0347967602165,
            9.531095036849274,
            9.613095036849275,
            8.18740181358801,
            8.269401813588011,
            8.166912090681825,
            8.248912090681825,
            7.980231692040174,
            8.062231692040175
           ],
           [
            8.854606267092924,
            9.84677752879627,
            8.749632830171127,
            9.714459920797362,
            8.865818714341762,
            9.873703828963476,
            7.027739735247997,
            7.874505972756447,
            7.167453026860152,
            8.003831404078968,
            6.609411149556607,
            7.436026958865774,
            9.256563165151526,
            10.193883135020032,
            9.156946177688598,
            10.070498498779559,
            9.266308606450874,
            10.218205623918458,
            7.47230773084997,
            8.301110822849227,
            7.612386807921892,
            8.429082830486472,
            7.053954012480674,
            7.869539474026769,
            16.28723584905679,
            17.76407935426664,
            16.165635793593314,
            17.606496125842586,
            16.245000052560837,
            17.74654327307165,
            12.914900860187693,
            14.186928161646573,
            13.25189921870575,
            14.514307341529394,
            12.078921926654498,
            13.319378854990163,
            23.168523653536372,
            25.140072644815625,
            23.041927096924965,
            24.967467108863328,
            23.053101082120204,
            25.057155767876115,
            18.201258579303275,
            19.877285990828288,
            18.75045044961274,
            20.420762271542895,
            16.93551008265582,
            18.56131527201056,
            8.136163418500733,
            8.775068703697276,
            8.06886019276887,
            8.694396178861709,
            8.139634196067444,
            8.788366036282689,
            6.808174756731906,
            7.417093231364189,
            6.921256577798983,
            7.518214670766241,
            6.478264108788629,
            7.088121099708112
           ],
           [
            0.1298740955736869,
            0.13860809569872004,
            0.1282647886919885,
            0.136612644595365,
            0.131087568576792,
            0.14029467291514738,
            0.10059754095895052,
            0.1079858144193437,
            0.10275434588174112,
            0.1098905494451871,
            0.0951235533764572,
            0.10264747964910675,
            0.13790501244746567,
            0.14598862244242458,
            0.13633743904114715,
            0.144069603756003,
            0.1391448020690042,
            0.14768982017587193,
            0.10838146118537158,
            0.11551573096784899,
            0.11061022350629948,
            0.11746802973342187,
            0.10279855946098715,
            0.11015140973814143,
            0.2635910365033663,
            0.27807578827793805,
            0.2616709496560838,
            0.2755769452553225,
            0.2643624057519677,
            0.2795913617568755,
            0.20420562015838753,
            0.21668923949219576,
            0.21001971877167724,
            0.22215972713385423,
            0.1915235052365236,
            0.2041577306545347,
            0.39185006973954783,
            0.4124524538617441,
            0.3899198543448722,
            0.4097429164854763,
            0.391627397050817,
            0.41322260884469636,
            0.30123043623012324,
            0.31877419385664507,
            0.3111073014640262,
            0.3282720357403379,
            0.28083054094066096,
            0.29842485902069343,
            0.1268278604417197,
            0.13204832746087275,
            0.1257084615502921,
            0.13070755800738337,
            0.12779550838053721,
            0.13335314440716292,
            0.10277687140304256,
            0.10784934275178548,
            0.10475062523883445,
            0.10957179086893812,
            0.09807229636511869,
            0.10344820955882006
           ],
           [
            0.08522532175725073,
            0.0876535304245155,
            0.06301070060140646,
            0.0656814260729041,
            0.114787799817073,
            0.11688688029125499,
            0.10069685244693842,
            0.10294529117722813,
            0.09019359030175009,
            0.09256723535969916,
            0.11099335632074675,
            0.1131261808353995,
            0.17504845544537626,
            0.17649422844241205,
            0.15244318764059056,
            0.15410993674853243,
            0.20296634791033988,
            0.20418987746573494,
            0.18300379245632478,
            0.18434899982937245,
            0.17511854744215635,
            0.1765305438624483,
            0.18894709151616484,
            0.19026103703998504,
            0.17137891115587436,
            0.1729698064914686,
            0.14826695851158875,
            0.15006816675975365,
            0.19983146842939875,
            0.20119598038487146,
            0.17955425642585948,
            0.18105537917042414,
            0.17150822127306337,
            0.17307738576821624,
            0.1855833305366702,
            0.1870465414886973,
            0.16903090449356217,
            0.17068529871243843,
            0.14563366405046907,
            0.14748600879278964,
            0.197801741209147,
            0.19923386696841408,
            0.17732505685760544,
            0.17889736053738994,
            0.16918364361822483,
            0.17082251103058732,
            0.18341079707754707,
            0.18494313548838978,
            0.3748901549237655,
            0.37532030310895864,
            0.3546006409746912,
            0.35507866640718455,
            0.3957987860593747,
            0.3961929866419391,
            0.36026829294876367,
            0.36071949045025065,
            0.3595595838185001,
            0.3600091607704367,
            0.35533558211638405,
            0.3558116304042226
           ],
           [
            0.08713820486189963,
            0.09542103314472791,
            0.055755166060349186,
            0.06403799434317747,
            0.1336748185835253,
            0.1419576468663536,
            0.1134832992226284,
            0.12176612750545666,
            0.09721409716326168,
            0.10549692544608996,
            0.1291365357088423,
            0.13741936399167057,
            0.25478551720023557,
            0.26306834548306385,
            0.20673319833471707,
            0.21501602661754532,
            0.3189341836242822,
            0.32721701190711056,
            0.2751119328924228,
            0.2833947611752511,
            0.2576214000370789,
            0.2659042283199072,
            0.2872678253979542,
            0.29555065368078254,
            0.235209759624478,
            0.24349258790730624,
            0.18715744075895946,
            0.19544026904178777,
            0.2993584260485247,
            0.3076412543313529,
            0.2555361753166652,
            0.2638190035994935,
            0.23804564246132126,
            0.24632847074414957,
            0.2676920678221967,
            0.27597489610502496,
            0.22339157780629618,
            0.23167440608912443,
            0.17533925894077762,
            0.18362208722360593,
            0.2875402442303428,
            0.29582307251317114,
            0.2437179934984834,
            0.25200082178131167,
            0.22622746064313945,
            0.23451028892596776,
            0.25587388600401484,
            0.2641567142868431,
            0.8707445358358111,
            0.8790273641186395,
            0.7932117939612625,
            0.8014946222440908,
            0.9526358623080076,
            0.9609186905908359,
            0.8169092740997991,
            0.8251921023826274,
            0.8148396051193763,
            0.8231224334022046,
            0.7959829991959773,
            0.8042658274788056
           ],
           [
            0.07008375031078044,
            0.08812322779629582,
            0.06817514236674775,
            0.08571745310540657,
            0.07028761298803203,
            0.08861279689024502,
            0.03686799518632722,
            0.05226374495920813,
            0.03940823685200277,
            0.05461511643779941,
            0.029262020901029216,
            0.04429139925210499,
            0.07739205754820956,
            0.09443423881854604,
            0.07558083959433815,
            0.09219088179599198,
            0.07756924739001589,
            0.0948764658894265,
            0.04495104965181763,
            0.06002019677907684,
            0.04749794196221622,
            0.06234696055429949,
            0.03734461840873953,
            0.05217344498230488,
            0.2052224699828507,
            0.2320741700775753,
            0.2030115598835148,
            0.2292090204698652,
            0.20445454641019703,
            0.2317553322376664,
            0.14390728836704897,
            0.16703505748448316,
            0.15003453124919547,
            0.17298740620962533,
            0.12870767139371814,
            0.15126143372709386,
            0.3303367937006613,
            0.36618313899664773,
            0.32803503812590845,
            0.3630448565247878,
            0.32823820149309463,
            0.36467555941592933,
            0.24002288326005955,
            0.27049610892415066,
            0.2500081899929589,
            0.28037749584623445,
            0.21700927423010583,
            0.2465693685820102,
            0.05702115306364968,
            0.06863761279449591,
            0.05579745805034309,
            0.06717083961566743,
            0.057084258110317164,
            0.06887938247786707,
            0.03287590466785283,
            0.04394714966116706,
            0.034931937778163336,
            0.04578572128665893,
            0.026877529250702345,
            0.03796583817651113
           ],
           [
            0.09721949101570197,
            0.1089999857549307,
            0.09045255908967006,
            0.1019039811219168,
            0.10539633446598944,
            0.11744744063791782,
            0.07640422962506778,
            0.08657096561968922,
            0.07560580183999874,
            0.08560868243377352,
            0.07376721891395346,
            0.08383010604319172,
            0.12910222526283127,
            0.14012540189693584,
            0.12068495005172487,
            0.13141679055740577,
            0.13887567293707026,
            0.15016720336340394,
            0.10714457686975046,
            0.11698874719923269,
            0.10651726093532982,
            0.1161694733333241,
            0.10367876283930258,
            0.11351111096025529,
            0.22818426967252203,
            0.24570622278208284,
            0.2194154437428943,
            0.23646522987022922,
            0.23744577031265823,
            0.2554224010694392,
            0.1827542065844271,
            0.19797715706766336,
            0.18497708638178756,
            0.19999943898862843,
            0.1734200104879834,
            0.1884698095120237,
            0.3281169936060695,
            0.35169020762351305,
            0.31927924928743695,
            0.34222591880574516,
            0.33648043796151367,
            0.36066496125240877,
            0.25860563283168203,
            0.2787979393441885,
            0.26398730700893047,
            0.2839930926302845,
            0.24306439437646293,
            0.26290767601860476,
            0.19810307447810543,
            0.2057091428249073,
            0.18738361133384945,
            0.19480868791434786,
            0.20879537143308,
            0.21660417847728952,
            0.17197886713321445,
            0.17930975624846884,
            0.17331294410058673,
            0.18045616427950298,
            0.16511178837756454,
            0.1725733648824353
           ]
          ]
         },
         "header": {
          "align": "left",
          "fill": {
           "color": "paleturquoise"
          },
          "values": [
           "battery",
           "motor",
           "propeller",
           "esc",
           "frame",
           "onboard_computer",
           "mass",
           "number_of_rotors",
           "kv",
           "voltage",
           "capacity",
           "price",
           "max_flight_distance",
           "max_speed",
           "max_payload",
           "max_flight_time",
           "SAU_max_flight_distance",
           "SAU_max_speed",
           "SAU_max_payload",
           "SAU_max_flight_time",
           "MAU"
          ]
         },
         "type": "table"
        }
       ],
       "layout": {
        "template": {
         "data": {
          "bar": [
           {
            "error_x": {
             "color": "#2a3f5f"
            },
            "error_y": {
             "color": "#2a3f5f"
            },
            "marker": {
             "line": {
              "color": "#E5ECF6",
              "width": 0.5
             },
             "pattern": {
              "fillmode": "overlay",
              "size": 10,
              "solidity": 0.2
             }
            },
            "type": "bar"
           }
          ],
          "barpolar": [
           {
            "marker": {
             "line": {
              "color": "#E5ECF6",
              "width": 0.5
             },
             "pattern": {
              "fillmode": "overlay",
              "size": 10,
              "solidity": 0.2
             }
            },
            "type": "barpolar"
           }
          ],
          "carpet": [
           {
            "aaxis": {
             "endlinecolor": "#2a3f5f",
             "gridcolor": "white",
             "linecolor": "white",
             "minorgridcolor": "white",
             "startlinecolor": "#2a3f5f"
            },
            "baxis": {
             "endlinecolor": "#2a3f5f",
             "gridcolor": "white",
             "linecolor": "white",
             "minorgridcolor": "white",
             "startlinecolor": "#2a3f5f"
            },
            "type": "carpet"
           }
          ],
          "choropleth": [
           {
            "colorbar": {
             "outlinewidth": 0,
             "ticks": ""
            },
            "type": "choropleth"
           }
          ],
          "contour": [
           {
            "colorbar": {
             "outlinewidth": 0,
             "ticks": ""
            },
            "colorscale": [
             [
              0,
              "#0d0887"
             ],
             [
              0.1111111111111111,
              "#46039f"
             ],
             [
              0.2222222222222222,
              "#7201a8"
             ],
             [
              0.3333333333333333,
              "#9c179e"
             ],
             [
              0.4444444444444444,
              "#bd3786"
             ],
             [
              0.5555555555555556,
              "#d8576b"
             ],
             [
              0.6666666666666666,
              "#ed7953"
             ],
             [
              0.7777777777777778,
              "#fb9f3a"
             ],
             [
              0.8888888888888888,
              "#fdca26"
             ],
             [
              1,
              "#f0f921"
             ]
            ],
            "type": "contour"
           }
          ],
          "contourcarpet": [
           {
            "colorbar": {
             "outlinewidth": 0,
             "ticks": ""
            },
            "type": "contourcarpet"
           }
          ],
          "heatmap": [
           {
            "colorbar": {
             "outlinewidth": 0,
             "ticks": ""
            },
            "colorscale": [
             [
              0,
              "#0d0887"
             ],
             [
              0.1111111111111111,
              "#46039f"
             ],
             [
              0.2222222222222222,
              "#7201a8"
             ],
             [
              0.3333333333333333,
              "#9c179e"
             ],
             [
              0.4444444444444444,
              "#bd3786"
             ],
             [
              0.5555555555555556,
              "#d8576b"
             ],
             [
              0.6666666666666666,
              "#ed7953"
             ],
             [
              0.7777777777777778,
              "#fb9f3a"
             ],
             [
              0.8888888888888888,
              "#fdca26"
             ],
             [
              1,
              "#f0f921"
             ]
            ],
            "type": "heatmap"
           }
          ],
          "heatmapgl": [
           {
            "colorbar": {
             "outlinewidth": 0,
             "ticks": ""
            },
            "colorscale": [
             [
              0,
              "#0d0887"
             ],
             [
              0.1111111111111111,
              "#46039f"
             ],
             [
              0.2222222222222222,
              "#7201a8"
             ],
             [
              0.3333333333333333,
              "#9c179e"
             ],
             [
              0.4444444444444444,
              "#bd3786"
             ],
             [
              0.5555555555555556,
              "#d8576b"
             ],
             [
              0.6666666666666666,
              "#ed7953"
             ],
             [
              0.7777777777777778,
              "#fb9f3a"
             ],
             [
              0.8888888888888888,
              "#fdca26"
             ],
             [
              1,
              "#f0f921"
             ]
            ],
            "type": "heatmapgl"
           }
          ],
          "histogram": [
           {
            "marker": {
             "pattern": {
              "fillmode": "overlay",
              "size": 10,
              "solidity": 0.2
             }
            },
            "type": "histogram"
           }
          ],
          "histogram2d": [
           {
            "colorbar": {
             "outlinewidth": 0,
             "ticks": ""
            },
            "colorscale": [
             [
              0,
              "#0d0887"
             ],
             [
              0.1111111111111111,
              "#46039f"
             ],
             [
              0.2222222222222222,
              "#7201a8"
             ],
             [
              0.3333333333333333,
              "#9c179e"
             ],
             [
              0.4444444444444444,
              "#bd3786"
             ],
             [
              0.5555555555555556,
              "#d8576b"
             ],
             [
              0.6666666666666666,
              "#ed7953"
             ],
             [
              0.7777777777777778,
              "#fb9f3a"
             ],
             [
              0.8888888888888888,
              "#fdca26"
             ],
             [
              1,
              "#f0f921"
             ]
            ],
            "type": "histogram2d"
           }
          ],
          "histogram2dcontour": [
           {
            "colorbar": {
             "outlinewidth": 0,
             "ticks": ""
            },
            "colorscale": [
             [
              0,
              "#0d0887"
             ],
             [
              0.1111111111111111,
              "#46039f"
             ],
             [
              0.2222222222222222,
              "#7201a8"
             ],
             [
              0.3333333333333333,
              "#9c179e"
             ],
             [
              0.4444444444444444,
              "#bd3786"
             ],
             [
              0.5555555555555556,
              "#d8576b"
             ],
             [
              0.6666666666666666,
              "#ed7953"
             ],
             [
              0.7777777777777778,
              "#fb9f3a"
             ],
             [
              0.8888888888888888,
              "#fdca26"
             ],
             [
              1,
              "#f0f921"
             ]
            ],
            "type": "histogram2dcontour"
           }
          ],
          "mesh3d": [
           {
            "colorbar": {
             "outlinewidth": 0,
             "ticks": ""
            },
            "type": "mesh3d"
           }
          ],
          "parcoords": [
           {
            "line": {
             "colorbar": {
              "outlinewidth": 0,
              "ticks": ""
             }
            },
            "type": "parcoords"
           }
          ],
          "pie": [
           {
            "automargin": true,
            "type": "pie"
           }
          ],
          "scatter": [
           {
            "fillpattern": {
             "fillmode": "overlay",
             "size": 10,
             "solidity": 0.2
            },
            "type": "scatter"
           }
          ],
          "scatter3d": [
           {
            "line": {
             "colorbar": {
              "outlinewidth": 0,
              "ticks": ""
             }
            },
            "marker": {
             "colorbar": {
              "outlinewidth": 0,
              "ticks": ""
             }
            },
            "type": "scatter3d"
           }
          ],
          "scattercarpet": [
           {
            "marker": {
             "colorbar": {
              "outlinewidth": 0,
              "ticks": ""
             }
            },
            "type": "scattercarpet"
           }
          ],
          "scattergeo": [
           {
            "marker": {
             "colorbar": {
              "outlinewidth": 0,
              "ticks": ""
             }
            },
            "type": "scattergeo"
           }
          ],
          "scattergl": [
           {
            "marker": {
             "colorbar": {
              "outlinewidth": 0,
              "ticks": ""
             }
            },
            "type": "scattergl"
           }
          ],
          "scattermapbox": [
           {
            "marker": {
             "colorbar": {
              "outlinewidth": 0,
              "ticks": ""
             }
            },
            "type": "scattermapbox"
           }
          ],
          "scatterpolar": [
           {
            "marker": {
             "colorbar": {
              "outlinewidth": 0,
              "ticks": ""
             }
            },
            "type": "scatterpolar"
           }
          ],
          "scatterpolargl": [
           {
            "marker": {
             "colorbar": {
              "outlinewidth": 0,
              "ticks": ""
             }
            },
            "type": "scatterpolargl"
           }
          ],
          "scatterternary": [
           {
            "marker": {
             "colorbar": {
              "outlinewidth": 0,
              "ticks": ""
             }
            },
            "type": "scatterternary"
           }
          ],
          "surface": [
           {
            "colorbar": {
             "outlinewidth": 0,
             "ticks": ""
            },
            "colorscale": [
             [
              0,
              "#0d0887"
             ],
             [
              0.1111111111111111,
              "#46039f"
             ],
             [
              0.2222222222222222,
              "#7201a8"
             ],
             [
              0.3333333333333333,
              "#9c179e"
             ],
             [
              0.4444444444444444,
              "#bd3786"
             ],
             [
              0.5555555555555556,
              "#d8576b"
             ],
             [
              0.6666666666666666,
              "#ed7953"
             ],
             [
              0.7777777777777778,
              "#fb9f3a"
             ],
             [
              0.8888888888888888,
              "#fdca26"
             ],
             [
              1,
              "#f0f921"
             ]
            ],
            "type": "surface"
           }
          ],
          "table": [
           {
            "cells": {
             "fill": {
              "color": "#EBF0F8"
             },
             "line": {
              "color": "white"
             }
            },
            "header": {
             "fill": {
              "color": "#C8D4E3"
             },
             "line": {
              "color": "white"
             }
            },
            "type": "table"
           }
          ]
         },
         "layout": {
          "annotationdefaults": {
           "arrowcolor": "#2a3f5f",
           "arrowhead": 0,
           "arrowwidth": 1
          },
          "autotypenumbers": "strict",
          "coloraxis": {
           "colorbar": {
            "outlinewidth": 0,
            "ticks": ""
           }
          },
          "colorscale": {
           "diverging": [
            [
             0,
             "#8e0152"
            ],
            [
             0.1,
             "#c51b7d"
            ],
            [
             0.2,
             "#de77ae"
            ],
            [
             0.3,
             "#f1b6da"
            ],
            [
             0.4,
             "#fde0ef"
            ],
            [
             0.5,
             "#f7f7f7"
            ],
            [
             0.6,
             "#e6f5d0"
            ],
            [
             0.7,
             "#b8e186"
            ],
            [
             0.8,
             "#7fbc41"
            ],
            [
             0.9,
             "#4d9221"
            ],
            [
             1,
             "#276419"
            ]
           ],
           "sequential": [
            [
             0,
             "#0d0887"
            ],
            [
             0.1111111111111111,
             "#46039f"
            ],
            [
             0.2222222222222222,
             "#7201a8"
            ],
            [
             0.3333333333333333,
             "#9c179e"
            ],
            [
             0.4444444444444444,
             "#bd3786"
            ],
            [
             0.5555555555555556,
             "#d8576b"
            ],
            [
             0.6666666666666666,
             "#ed7953"
            ],
            [
             0.7777777777777778,
             "#fb9f3a"
            ],
            [
             0.8888888888888888,
             "#fdca26"
            ],
            [
             1,
             "#f0f921"
            ]
           ],
           "sequentialminus": [
            [
             0,
             "#0d0887"
            ],
            [
             0.1111111111111111,
             "#46039f"
            ],
            [
             0.2222222222222222,
             "#7201a8"
            ],
            [
             0.3333333333333333,
             "#9c179e"
            ],
            [
             0.4444444444444444,
             "#bd3786"
            ],
            [
             0.5555555555555556,
             "#d8576b"
            ],
            [
             0.6666666666666666,
             "#ed7953"
            ],
            [
             0.7777777777777778,
             "#fb9f3a"
            ],
            [
             0.8888888888888888,
             "#fdca26"
            ],
            [
             1,
             "#f0f921"
            ]
           ]
          },
          "colorway": [
           "#636efa",
           "#EF553B",
           "#00cc96",
           "#ab63fa",
           "#FFA15A",
           "#19d3f3",
           "#FF6692",
           "#B6E880",
           "#FF97FF",
           "#FECB52"
          ],
          "font": {
           "color": "#2a3f5f"
          },
          "geo": {
           "bgcolor": "white",
           "lakecolor": "white",
           "landcolor": "#E5ECF6",
           "showlakes": true,
           "showland": true,
           "subunitcolor": "white"
          },
          "hoverlabel": {
           "align": "left"
          },
          "hovermode": "closest",
          "mapbox": {
           "style": "light"
          },
          "paper_bgcolor": "white",
          "plot_bgcolor": "#E5ECF6",
          "polar": {
           "angularaxis": {
            "gridcolor": "white",
            "linecolor": "white",
            "ticks": ""
           },
           "bgcolor": "#E5ECF6",
           "radialaxis": {
            "gridcolor": "white",
            "linecolor": "white",
            "ticks": ""
           }
          },
          "scene": {
           "xaxis": {
            "backgroundcolor": "#E5ECF6",
            "gridcolor": "white",
            "gridwidth": 2,
            "linecolor": "white",
            "showbackground": true,
            "ticks": "",
            "zerolinecolor": "white"
           },
           "yaxis": {
            "backgroundcolor": "#E5ECF6",
            "gridcolor": "white",
            "gridwidth": 2,
            "linecolor": "white",
            "showbackground": true,
            "ticks": "",
            "zerolinecolor": "white"
           },
           "zaxis": {
            "backgroundcolor": "#E5ECF6",
            "gridcolor": "white",
            "gridwidth": 2,
            "linecolor": "white",
            "showbackground": true,
            "ticks": "",
            "zerolinecolor": "white"
           }
          },
          "shapedefaults": {
           "line": {
            "color": "#2a3f5f"
           }
          },
          "ternary": {
           "aaxis": {
            "gridcolor": "white",
            "linecolor": "white",
            "ticks": ""
           },
           "baxis": {
            "gridcolor": "white",
            "linecolor": "white",
            "ticks": ""
           },
           "bgcolor": "#E5ECF6",
           "caxis": {
            "gridcolor": "white",
            "linecolor": "white",
            "ticks": ""
           }
          },
          "title": {
           "x": 0.05
          },
          "xaxis": {
           "automargin": true,
           "gridcolor": "white",
           "linecolor": "white",
           "ticks": "",
           "title": {
            "standoff": 15
           },
           "zerolinecolor": "white",
           "zerolinewidth": 2
          },
          "yaxis": {
           "automargin": true,
           "gridcolor": "white",
           "linecolor": "white",
           "ticks": "",
           "title": {
            "standoff": 15
           },
           "zerolinecolor": "white",
           "zerolinewidth": 2
          }
         }
        },
        "title": {
         "text": "Drone Designer"
        }
       }
      }
     },
     "metadata": {},
     "output_type": "display_data"
    },
    {
     "data": {
      "application/vnd.plotly.v1+json": {
       "config": {
        "plotlyServerURL": "https://plot.ly"
       },
       "data": [
        {
         "hovertemplate": "<b>%{text}</b><br><br>%{xaxis.title.text}: %{x}<br>%{yaxis.title.text}: %{y}<extra></extra>",
         "marker": {
          "color": "blue",
          "size": 10,
          "symbol": "square"
         },
         "mode": "markers",
         "text": [
          "ID: 0",
          "ID: 1",
          "ID: 2",
          "ID: 3",
          "ID: 4",
          "ID: 5",
          "ID: 6",
          "ID: 7",
          "ID: 8",
          "ID: 9",
          "ID: 10",
          "ID: 11",
          "ID: 12",
          "ID: 13",
          "ID: 14",
          "ID: 15",
          "ID: 16",
          "ID: 17",
          "ID: 18",
          "ID: 19",
          "ID: 20",
          "ID: 21",
          "ID: 22",
          "ID: 23",
          "ID: 24",
          "ID: 25",
          "ID: 26",
          "ID: 27",
          "ID: 28",
          "ID: 29",
          "ID: 30",
          "ID: 31",
          "ID: 32",
          "ID: 33",
          "ID: 34",
          "ID: 35",
          "ID: 36",
          "ID: 37",
          "ID: 38",
          "ID: 39",
          "ID: 40",
          "ID: 41",
          "ID: 42",
          "ID: 43",
          "ID: 44",
          "ID: 45",
          "ID: 46",
          "ID: 47",
          "ID: 48",
          "ID: 49",
          "ID: 50",
          "ID: 51",
          "ID: 52",
          "ID: 53",
          "ID: 54",
          "ID: 55",
          "ID: 56",
          "ID: 57",
          "ID: 58",
          "ID: 59"
         ],
         "type": "scatter",
         "x": [
          382.39,
          379.53000000000003,
          370.39,
          367.53,
          414.39,
          411.53,
          368.15,
          365.29,
          356.15,
          353.28999999999996,
          400.15,
          397.28999999999996,
          375.59000000000003,
          372.73,
          363.59000000000003,
          360.73,
          407.59000000000003,
          404.73,
          361.35,
          358.49,
          349.35,
          346.49,
          393.35,
          390.49,
          395.39,
          392.53000000000003,
          383.39,
          380.53,
          427.39,
          424.53,
          381.15,
          378.29,
          369.15,
          366.28999999999996,
          413.15,
          410.28999999999996,
          429.39,
          426.53000000000003,
          417.39,
          414.53,
          461.39,
          458.53,
          415.15,
          412.29,
          403.15,
          400.28999999999996,
          447.15,
          444.28999999999996,
          391.02,
          388.16,
          379.02,
          376.15999999999997,
          423.02,
          420.15999999999997,
          376.78,
          373.92,
          364.78,
          361.91999999999996,
          408.78,
          405.91999999999996
         ],
         "y": [
          0.09721949101570197,
          0.1089999857549307,
          0.09045255908967006,
          0.1019039811219168,
          0.10539633446598944,
          0.11744744063791782,
          0.07640422962506778,
          0.08657096561968922,
          0.07560580183999874,
          0.08560868243377352,
          0.07376721891395346,
          0.08383010604319172,
          0.12910222526283127,
          0.14012540189693584,
          0.12068495005172487,
          0.13141679055740577,
          0.13887567293707026,
          0.15016720336340394,
          0.10714457686975046,
          0.11698874719923269,
          0.10651726093532982,
          0.1161694733333241,
          0.10367876283930258,
          0.11351111096025529,
          0.22818426967252203,
          0.24570622278208284,
          0.2194154437428943,
          0.23646522987022922,
          0.23744577031265823,
          0.2554224010694392,
          0.1827542065844271,
          0.19797715706766336,
          0.18497708638178756,
          0.19999943898862843,
          0.1734200104879834,
          0.1884698095120237,
          0.3281169936060695,
          0.35169020762351305,
          0.31927924928743695,
          0.34222591880574516,
          0.33648043796151367,
          0.36066496125240877,
          0.25860563283168203,
          0.2787979393441885,
          0.26398730700893047,
          0.2839930926302845,
          0.24306439437646293,
          0.26290767601860476,
          0.19810307447810543,
          0.2057091428249073,
          0.18738361133384945,
          0.19480868791434786,
          0.20879537143308,
          0.21660417847728952,
          0.17197886713321445,
          0.17930975624846884,
          0.17331294410058673,
          0.18045616427950298,
          0.16511178837756454,
          0.1725733648824353
         ]
        }
       ],
       "layout": {
        "showlegend": false,
        "template": {
         "data": {
          "bar": [
           {
            "error_x": {
             "color": "#2a3f5f"
            },
            "error_y": {
             "color": "#2a3f5f"
            },
            "marker": {
             "line": {
              "color": "#E5ECF6",
              "width": 0.5
             },
             "pattern": {
              "fillmode": "overlay",
              "size": 10,
              "solidity": 0.2
             }
            },
            "type": "bar"
           }
          ],
          "barpolar": [
           {
            "marker": {
             "line": {
              "color": "#E5ECF6",
              "width": 0.5
             },
             "pattern": {
              "fillmode": "overlay",
              "size": 10,
              "solidity": 0.2
             }
            },
            "type": "barpolar"
           }
          ],
          "carpet": [
           {
            "aaxis": {
             "endlinecolor": "#2a3f5f",
             "gridcolor": "white",
             "linecolor": "white",
             "minorgridcolor": "white",
             "startlinecolor": "#2a3f5f"
            },
            "baxis": {
             "endlinecolor": "#2a3f5f",
             "gridcolor": "white",
             "linecolor": "white",
             "minorgridcolor": "white",
             "startlinecolor": "#2a3f5f"
            },
            "type": "carpet"
           }
          ],
          "choropleth": [
           {
            "colorbar": {
             "outlinewidth": 0,
             "ticks": ""
            },
            "type": "choropleth"
           }
          ],
          "contour": [
           {
            "colorbar": {
             "outlinewidth": 0,
             "ticks": ""
            },
            "colorscale": [
             [
              0,
              "#0d0887"
             ],
             [
              0.1111111111111111,
              "#46039f"
             ],
             [
              0.2222222222222222,
              "#7201a8"
             ],
             [
              0.3333333333333333,
              "#9c179e"
             ],
             [
              0.4444444444444444,
              "#bd3786"
             ],
             [
              0.5555555555555556,
              "#d8576b"
             ],
             [
              0.6666666666666666,
              "#ed7953"
             ],
             [
              0.7777777777777778,
              "#fb9f3a"
             ],
             [
              0.8888888888888888,
              "#fdca26"
             ],
             [
              1,
              "#f0f921"
             ]
            ],
            "type": "contour"
           }
          ],
          "contourcarpet": [
           {
            "colorbar": {
             "outlinewidth": 0,
             "ticks": ""
            },
            "type": "contourcarpet"
           }
          ],
          "heatmap": [
           {
            "colorbar": {
             "outlinewidth": 0,
             "ticks": ""
            },
            "colorscale": [
             [
              0,
              "#0d0887"
             ],
             [
              0.1111111111111111,
              "#46039f"
             ],
             [
              0.2222222222222222,
              "#7201a8"
             ],
             [
              0.3333333333333333,
              "#9c179e"
             ],
             [
              0.4444444444444444,
              "#bd3786"
             ],
             [
              0.5555555555555556,
              "#d8576b"
             ],
             [
              0.6666666666666666,
              "#ed7953"
             ],
             [
              0.7777777777777778,
              "#fb9f3a"
             ],
             [
              0.8888888888888888,
              "#fdca26"
             ],
             [
              1,
              "#f0f921"
             ]
            ],
            "type": "heatmap"
           }
          ],
          "heatmapgl": [
           {
            "colorbar": {
             "outlinewidth": 0,
             "ticks": ""
            },
            "colorscale": [
             [
              0,
              "#0d0887"
             ],
             [
              0.1111111111111111,
              "#46039f"
             ],
             [
              0.2222222222222222,
              "#7201a8"
             ],
             [
              0.3333333333333333,
              "#9c179e"
             ],
             [
              0.4444444444444444,
              "#bd3786"
             ],
             [
              0.5555555555555556,
              "#d8576b"
             ],
             [
              0.6666666666666666,
              "#ed7953"
             ],
             [
              0.7777777777777778,
              "#fb9f3a"
             ],
             [
              0.8888888888888888,
              "#fdca26"
             ],
             [
              1,
              "#f0f921"
             ]
            ],
            "type": "heatmapgl"
           }
          ],
          "histogram": [
           {
            "marker": {
             "pattern": {
              "fillmode": "overlay",
              "size": 10,
              "solidity": 0.2
             }
            },
            "type": "histogram"
           }
          ],
          "histogram2d": [
           {
            "colorbar": {
             "outlinewidth": 0,
             "ticks": ""
            },
            "colorscale": [
             [
              0,
              "#0d0887"
             ],
             [
              0.1111111111111111,
              "#46039f"
             ],
             [
              0.2222222222222222,
              "#7201a8"
             ],
             [
              0.3333333333333333,
              "#9c179e"
             ],
             [
              0.4444444444444444,
              "#bd3786"
             ],
             [
              0.5555555555555556,
              "#d8576b"
             ],
             [
              0.6666666666666666,
              "#ed7953"
             ],
             [
              0.7777777777777778,
              "#fb9f3a"
             ],
             [
              0.8888888888888888,
              "#fdca26"
             ],
             [
              1,
              "#f0f921"
             ]
            ],
            "type": "histogram2d"
           }
          ],
          "histogram2dcontour": [
           {
            "colorbar": {
             "outlinewidth": 0,
             "ticks": ""
            },
            "colorscale": [
             [
              0,
              "#0d0887"
             ],
             [
              0.1111111111111111,
              "#46039f"
             ],
             [
              0.2222222222222222,
              "#7201a8"
             ],
             [
              0.3333333333333333,
              "#9c179e"
             ],
             [
              0.4444444444444444,
              "#bd3786"
             ],
             [
              0.5555555555555556,
              "#d8576b"
             ],
             [
              0.6666666666666666,
              "#ed7953"
             ],
             [
              0.7777777777777778,
              "#fb9f3a"
             ],
             [
              0.8888888888888888,
              "#fdca26"
             ],
             [
              1,
              "#f0f921"
             ]
            ],
            "type": "histogram2dcontour"
           }
          ],
          "mesh3d": [
           {
            "colorbar": {
             "outlinewidth": 0,
             "ticks": ""
            },
            "type": "mesh3d"
           }
          ],
          "parcoords": [
           {
            "line": {
             "colorbar": {
              "outlinewidth": 0,
              "ticks": ""
             }
            },
            "type": "parcoords"
           }
          ],
          "pie": [
           {
            "automargin": true,
            "type": "pie"
           }
          ],
          "scatter": [
           {
            "fillpattern": {
             "fillmode": "overlay",
             "size": 10,
             "solidity": 0.2
            },
            "type": "scatter"
           }
          ],
          "scatter3d": [
           {
            "line": {
             "colorbar": {
              "outlinewidth": 0,
              "ticks": ""
             }
            },
            "marker": {
             "colorbar": {
              "outlinewidth": 0,
              "ticks": ""
             }
            },
            "type": "scatter3d"
           }
          ],
          "scattercarpet": [
           {
            "marker": {
             "colorbar": {
              "outlinewidth": 0,
              "ticks": ""
             }
            },
            "type": "scattercarpet"
           }
          ],
          "scattergeo": [
           {
            "marker": {
             "colorbar": {
              "outlinewidth": 0,
              "ticks": ""
             }
            },
            "type": "scattergeo"
           }
          ],
          "scattergl": [
           {
            "marker": {
             "colorbar": {
              "outlinewidth": 0,
              "ticks": ""
             }
            },
            "type": "scattergl"
           }
          ],
          "scattermapbox": [
           {
            "marker": {
             "colorbar": {
              "outlinewidth": 0,
              "ticks": ""
             }
            },
            "type": "scattermapbox"
           }
          ],
          "scatterpolar": [
           {
            "marker": {
             "colorbar": {
              "outlinewidth": 0,
              "ticks": ""
             }
            },
            "type": "scatterpolar"
           }
          ],
          "scatterpolargl": [
           {
            "marker": {
             "colorbar": {
              "outlinewidth": 0,
              "ticks": ""
             }
            },
            "type": "scatterpolargl"
           }
          ],
          "scatterternary": [
           {
            "marker": {
             "colorbar": {
              "outlinewidth": 0,
              "ticks": ""
             }
            },
            "type": "scatterternary"
           }
          ],
          "surface": [
           {
            "colorbar": {
             "outlinewidth": 0,
             "ticks": ""
            },
            "colorscale": [
             [
              0,
              "#0d0887"
             ],
             [
              0.1111111111111111,
              "#46039f"
             ],
             [
              0.2222222222222222,
              "#7201a8"
             ],
             [
              0.3333333333333333,
              "#9c179e"
             ],
             [
              0.4444444444444444,
              "#bd3786"
             ],
             [
              0.5555555555555556,
              "#d8576b"
             ],
             [
              0.6666666666666666,
              "#ed7953"
             ],
             [
              0.7777777777777778,
              "#fb9f3a"
             ],
             [
              0.8888888888888888,
              "#fdca26"
             ],
             [
              1,
              "#f0f921"
             ]
            ],
            "type": "surface"
           }
          ],
          "table": [
           {
            "cells": {
             "fill": {
              "color": "#EBF0F8"
             },
             "line": {
              "color": "white"
             }
            },
            "header": {
             "fill": {
              "color": "#C8D4E3"
             },
             "line": {
              "color": "white"
             }
            },
            "type": "table"
           }
          ]
         },
         "layout": {
          "annotationdefaults": {
           "arrowcolor": "#2a3f5f",
           "arrowhead": 0,
           "arrowwidth": 1
          },
          "autotypenumbers": "strict",
          "coloraxis": {
           "colorbar": {
            "outlinewidth": 0,
            "ticks": ""
           }
          },
          "colorscale": {
           "diverging": [
            [
             0,
             "#8e0152"
            ],
            [
             0.1,
             "#c51b7d"
            ],
            [
             0.2,
             "#de77ae"
            ],
            [
             0.3,
             "#f1b6da"
            ],
            [
             0.4,
             "#fde0ef"
            ],
            [
             0.5,
             "#f7f7f7"
            ],
            [
             0.6,
             "#e6f5d0"
            ],
            [
             0.7,
             "#b8e186"
            ],
            [
             0.8,
             "#7fbc41"
            ],
            [
             0.9,
             "#4d9221"
            ],
            [
             1,
             "#276419"
            ]
           ],
           "sequential": [
            [
             0,
             "#0d0887"
            ],
            [
             0.1111111111111111,
             "#46039f"
            ],
            [
             0.2222222222222222,
             "#7201a8"
            ],
            [
             0.3333333333333333,
             "#9c179e"
            ],
            [
             0.4444444444444444,
             "#bd3786"
            ],
            [
             0.5555555555555556,
             "#d8576b"
            ],
            [
             0.6666666666666666,
             "#ed7953"
            ],
            [
             0.7777777777777778,
             "#fb9f3a"
            ],
            [
             0.8888888888888888,
             "#fdca26"
            ],
            [
             1,
             "#f0f921"
            ]
           ],
           "sequentialminus": [
            [
             0,
             "#0d0887"
            ],
            [
             0.1111111111111111,
             "#46039f"
            ],
            [
             0.2222222222222222,
             "#7201a8"
            ],
            [
             0.3333333333333333,
             "#9c179e"
            ],
            [
             0.4444444444444444,
             "#bd3786"
            ],
            [
             0.5555555555555556,
             "#d8576b"
            ],
            [
             0.6666666666666666,
             "#ed7953"
            ],
            [
             0.7777777777777778,
             "#fb9f3a"
            ],
            [
             0.8888888888888888,
             "#fdca26"
            ],
            [
             1,
             "#f0f921"
            ]
           ]
          },
          "colorway": [
           "#636efa",
           "#EF553B",
           "#00cc96",
           "#ab63fa",
           "#FFA15A",
           "#19d3f3",
           "#FF6692",
           "#B6E880",
           "#FF97FF",
           "#FECB52"
          ],
          "font": {
           "color": "#2a3f5f"
          },
          "geo": {
           "bgcolor": "white",
           "lakecolor": "white",
           "landcolor": "#E5ECF6",
           "showlakes": true,
           "showland": true,
           "subunitcolor": "white"
          },
          "hoverlabel": {
           "align": "left"
          },
          "hovermode": "closest",
          "mapbox": {
           "style": "light"
          },
          "paper_bgcolor": "white",
          "plot_bgcolor": "#E5ECF6",
          "polar": {
           "angularaxis": {
            "gridcolor": "white",
            "linecolor": "white",
            "ticks": ""
           },
           "bgcolor": "#E5ECF6",
           "radialaxis": {
            "gridcolor": "white",
            "linecolor": "white",
            "ticks": ""
           }
          },
          "scene": {
           "xaxis": {
            "backgroundcolor": "#E5ECF6",
            "gridcolor": "white",
            "gridwidth": 2,
            "linecolor": "white",
            "showbackground": true,
            "ticks": "",
            "zerolinecolor": "white"
           },
           "yaxis": {
            "backgroundcolor": "#E5ECF6",
            "gridcolor": "white",
            "gridwidth": 2,
            "linecolor": "white",
            "showbackground": true,
            "ticks": "",
            "zerolinecolor": "white"
           },
           "zaxis": {
            "backgroundcolor": "#E5ECF6",
            "gridcolor": "white",
            "gridwidth": 2,
            "linecolor": "white",
            "showbackground": true,
            "ticks": "",
            "zerolinecolor": "white"
           }
          },
          "shapedefaults": {
           "line": {
            "color": "#2a3f5f"
           }
          },
          "ternary": {
           "aaxis": {
            "gridcolor": "white",
            "linecolor": "white",
            "ticks": ""
           },
           "baxis": {
            "gridcolor": "white",
            "linecolor": "white",
            "ticks": ""
           },
           "bgcolor": "#E5ECF6",
           "caxis": {
            "gridcolor": "white",
            "linecolor": "white",
            "ticks": ""
           }
          },
          "title": {
           "x": 0.05
          },
          "xaxis": {
           "automargin": true,
           "gridcolor": "white",
           "linecolor": "white",
           "ticks": "",
           "title": {
            "standoff": 15
           },
           "zerolinecolor": "white",
           "zerolinewidth": 2
          },
          "yaxis": {
           "automargin": true,
           "gridcolor": "white",
           "linecolor": "white",
           "ticks": "",
           "title": {
            "standoff": 15
           },
           "zerolinecolor": "white",
           "zerolinewidth": 2
          }
         }
        },
        "xaxis": {
         "title": {
          "text": "price"
         }
        },
        "yaxis": {
         "title": {
          "text": "MAU"
         }
        }
       }
      }
     },
     "metadata": {},
     "output_type": "display_data"
    }
   ],
   "source": [
    "# calculate the sau\n",
    "td.calculate_sau()\n",
    "\n",
    "# calculate the mau\n",
    "td.calculate_mau()\n",
    "\n",
    "# see the tradespace\n",
    "td.plot_tradespace_plotly('price', 'MAU')\n",
    "\n",
    "# save the tradespace to a csv file\n",
    "td.save_tradespace('tradespace.csv')\n"
   ]
  }
 ],
 "metadata": {
  "kernelspec": {
   "display_name": "Python 3",
   "language": "python",
   "name": "python3"
  },
  "language_info": {
   "codemirror_mode": {
    "name": "ipython",
    "version": 3
   },
   "file_extension": ".py",
   "mimetype": "text/x-python",
   "name": "python",
   "nbconvert_exporter": "python",
   "pygments_lexer": "ipython3",
   "version": "3.8.10"
  },
  "orig_nbformat": 4
 },
 "nbformat": 4,
 "nbformat_minor": 2
}
