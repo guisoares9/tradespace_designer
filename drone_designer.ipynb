{
 "cells": [
  {
   "attachments": {},
   "cell_type": "markdown",
   "metadata": {},
   "source": [
    "# Drone Designer Platform"
   ]
  },
  {
   "cell_type": "code",
   "execution_count": 88,
   "metadata": {},
   "outputs": [
    {
     "name": "stdout",
     "output_type": "stream",
     "text": [
      "The autoreload extension is already loaded. To reload it, use:\n",
      "  %reload_ext autoreload\n"
     ]
    }
   ],
   "source": [
    "from uav import UAVModel\n",
    "from tradespace import TradespaceDesigner\n",
    "\n",
    "%load_ext autoreload\n",
    "%autoreload 2\n",
    "\n",
    "# local imports\n"
   ]
  },
  {
   "attachments": {},
   "cell_type": "markdown",
   "metadata": {},
   "source": [
    "## Performance Variables or Attributes\n",
    "\n",
    "Performance variables or Attributes are used to evaluate the performance of a system. In this case, the system is a drone. The rules for selecting the performance variables are:\n",
    "\n",
    "1. The performance variables must represent how good the system is.\n",
    "2. They must be measurable.\n",
    "3. They will be used to compare different designs."
   ]
  },
  {
   "cell_type": "code",
   "execution_count": 89,
   "metadata": {},
   "outputs": [],
   "source": [
    "# Define your performance variables\n",
    "td = TradespaceDesigner()\n",
    "\n",
    "# Add performance variables\n",
    "# Add maximum flight distance\n",
    "td.add_performance_variable(\"max_flight_distance\", 1, 20000, \"m\", 0.1)\n",
    "\n",
    "# Add maximum speed\n",
    "td.add_performance_variable(\"max_speed\", 5, 50, \"m/s\", 0.1)\n",
    "\n",
    "# Add maximum payload\n",
    "td.add_performance_variable(\"max_payload\", 0.1, 10, \"kg\", 0.6)\n",
    "\n",
    "# Add maximum endurance\n",
    "td.add_performance_variable(\"max_flight_time\", 5, 60, \"min\", 0.2)\n"
   ]
  },
  {
   "attachments": {},
   "cell_type": "markdown",
   "metadata": {},
   "source": [
    "## Design Variables\n",
    "\n",
    "Design variables are the variables that can be changed to improve the performance of the system. In this case, the system is a drone. The rules for selecting the design variables are:\n",
    "\n",
    "1. The design variables are the components of the drone.\n",
    "2. Their characteristics must be measurable.\n",
    "3. The relationship between the design vars and the performance vars in this case is the mathematical model of the drone.\n",
    "4. The design variables are concatenated into components, each one has a name, category, and a list of attributes that can be changed."
   ]
  },
  {
   "cell_type": "code",
   "execution_count": 90,
   "metadata": {},
   "outputs": [],
   "source": [
    "def add_frame(name, Df, nr, mass, price):\n",
    "    # add frame to the tradespace designer\n",
    "    td.add_design_component({'name': name,\n",
    "                             'category': 'frame',\n",
    "                             'attributes': {'diagonal': {'value': Df, 'units': 'mm'},\n",
    "                                            'number_of_rotors': {'value': nr, 'units': 'int'},\n",
    "                                            'mass': {'value': mass, 'units': 'kg'},\n",
    "                                            'price': {'value': price, 'units': 'USD'}}})\n",
    "    return\n",
    "\n",
    "\n",
    "def add_propeller(name, Dp, Hp, Bp, mass, price):\n",
    "    # add propeller to the tradespace designer\n",
    "    td.add_design_component({'name': name,\n",
    "                             'category': 'propeller',\n",
    "                             'attributes': {'diameter': {'value': Dp, 'units': 'in'},\n",
    "                                            'pitch': {'value': Hp, 'units': 'in'},\n",
    "                                            'num_blades': {'value': Bp, 'units': 'int'},\n",
    "                                            'mass': {'value': mass, 'units': 'kg'},\n",
    "                                            'price': {'value': price, 'units': 'USD'}}})\n",
    "    return\n",
    "\n",
    "\n",
    "def add_motor(name, Kv0, Um0, Im0, Rm, mass, price):\n",
    "    # add motor to the tradespace designer\n",
    "    td.add_design_component({'name': name,\n",
    "                             'category': 'motor',\n",
    "                             'attributes': {'kv': {'value': Kv0, 'units': 'rpm/V'},\n",
    "                                            'no-load voltage': {'value': Um0, 'units': 'V'},\n",
    "                                            'no-load current': {'value': Im0, 'units': 'A'},\n",
    "                                            'resistance': {'value': Rm, 'units': 'ohm'},\n",
    "                                            'mass': {'value': mass, 'units': 'kg'},\n",
    "                                            'price': {'value': price, 'units': 'USD'}}})\n",
    "    return\n",
    "\n",
    "\n",
    "def add_esc(name, Re, mass, price):\n",
    "    # add ESC to the tradespace designer\n",
    "    td.add_design_component({'name': name,\n",
    "                             'category': 'esc',\n",
    "                             'attributes': {'resistance': {'value': Re, 'units': 'ohm'},\n",
    "                                            'mass': {'value': mass, 'units': 'kg'},\n",
    "                                            'price': {'value': price, 'units': 'USD'}}})\n",
    "    return\n",
    "\n",
    "\n",
    "def add_battery(name, Ub, Cb, Cmin, Rb, mass, price):\n",
    "    # add battery to the tradespace designer\n",
    "    td.add_design_component({'name': name,\n",
    "                             'category': 'battery',\n",
    "                             'attributes': {'voltage': {'value': Ub, 'units': 'V'},\n",
    "                                            'capacity': {'value': Cb, 'units': 'mAh'},\n",
    "                                            'min_capacity': {'value': Cmin, 'units': 'mAh'},\n",
    "                                            'resistance': {'value': Rb, 'units': 'ohm'},\n",
    "                                            'mass': {'value': mass, 'units': 'kg'},\n",
    "                                            'price': {'value': price, 'units': 'EUR'}}})\n",
    "    return\n",
    "\n",
    "\n",
    "def add_onboard_computer(name, Icontrol, mass, price):\n",
    "    # add onboard computer to the tradespace designer\n",
    "    td.add_design_component({'name': name,\n",
    "                             'category': 'onboard_computer',\n",
    "                             'attributes': {'control_current': {'value': Icontrol, 'units': 'A'},\n",
    "                                            'mass': {'value': mass, 'units': 'kg'},\n",
    "                                            'price': {'value': price, 'units': 'USD'}}})\n",
    "    return"
   ]
  },
  {
   "attachments": {},
   "cell_type": "markdown",
   "metadata": {},
   "source": [
    "### Add Batteries options\n",
    "\n",
    "> On the batteries side, it is possible to choose between different options on the market, varying in weight, capacity, voltage and price. The question that we want to solve is: how those characteristics of each battery affect the performance of the drone? To answer that question, lets add the batteries to the design space."
   ]
  },
  {
   "cell_type": "code",
   "execution_count": 91,
   "metadata": {},
   "outputs": [],
   "source": [
    "\n",
    "# Add lipo battery with its attributes\n",
    "# Add Zeee 2S LiPo Battery 7.4V 60C 1500mAh (Pack with 2 in parallel)\n",
    "# https://amzn.eu/d/0v9NqXT\n",
    "add_battery(name='zeee_1500_2_pack', Ub=7.4, Cb=3000,\n",
    "            Cmin=600, Rb=0.2, mass=0.176, price=32.99)\n",
    "# Add Tattu 2300mAh 11.1V 45C 3S1P\n",
    "# https://amzn.eu/d/3qAMa69\n",
    "add_battery(name='tatoo_2300', Ub=11.1, Cb=2300,\n",
    "            Cmin=460, Rb=0.2, mass=0.1822, price=26.19)\n",
    "# Add HRB 2 Pack 3S 11,1 V 5000 mAh LiPo-accu 50 C\n",
    "# https://amzn.eu/d/bihiQ4N\n",
    "add_battery(name='hrb_5000', Ub=11.1, Cb=5000,\n",
    "            Cmin=1000, Rb=0.2, mass=0.376, price=45.99)\n",
    "# Add Zeee 3S Lipo Battery 11.1V 100C 8000mAh\n",
    "# https://amzn.eu/d/8p7C5QJ\n",
    "add_battery(name='zeee_8000', Ub=11.1, Cb=8000,\n",
    "            Cmin=1600, Rb=0.2, mass=0.493, price=79.99)\n",
    "# Add Tattu Lipo 6S RC Battery 22.2V 1300mAh 120C\n",
    "# https://amzn.eu/d/fp4bDz7\n",
    "add_battery(name='tatoo_1300', Ub=22.2, Cb=1300,\n",
    "            Cmin=260, Rb=0.2, mass=0.212, price=41.62)\n"
   ]
  },
  {
   "attachments": {},
   "cell_type": "markdown",
   "metadata": {},
   "source": [
    "### Motors"
   ]
  },
  {
   "cell_type": "code",
   "execution_count": 92,
   "metadata": {},
   "outputs": [],
   "source": [
    "# Add motor with its attributes\n",
    "# Add TMOTOR Velox Victory V3008 1350kv\n",
    "# https://shop.tmotor.com/products/cinematic-fpv-drone-motor-v3008\n",
    "add_motor(name='motor_v3008', Kv0=1350, Um0=10,\n",
    "          Im0=1.18, Rm=0.1, mass=0.07, price=28.39)\n",
    "# Add TMOTOR VELOCE V2808 1950KV\n",
    "# https://shop.tmotor.com/products/fpv-brushless-motor-v2808?variant=41118111367377\n",
    "add_motor(name='motor_v2808', Kv0=1950, Um0=10,\n",
    "          Im0=2.45, Rm=0.1, mass=0.061, price=24.83)\n"
   ]
  },
  {
   "attachments": {},
   "cell_type": "markdown",
   "metadata": {},
   "source": [
    "### Propellers"
   ]
  },
  {
   "cell_type": "code",
   "execution_count": 93,
   "metadata": {},
   "outputs": [],
   "source": [
    "# Add propeller with its attributes\n",
    "# Add Tmotor MS1101\n",
    "# https://uav-en.tmotor.com/html/2019/Straight_0429/242.html\n",
    "# https://store.tmotor.com/goods.php?id=822\n",
    "add_propeller(name='propeller_ms1101', Dp=11, Hp=4.2, Bp=2, mass=0.010, price=13.99 / 2)\n",
    "# Add Tmotor T9545-A\n",
    "# https://uav-en.tmotor.com/html/2018/Straight_0416/150.html\n",
    "# https://store.tmotor.com/goods.php?id=479\n",
    "add_propeller(name='propeller_t9545', Dp=9.5, Hp=4.5, Bp=2, mass=0.008, price=7.99 / 2)\n",
    "# Add Tmotor MF1302 folding propeller\n",
    "# https://uav-en.tmotor.com/html/2019/Folding_0603/250.html\n",
    "# https://store.tmotor.com/goods.php?id=853\n",
    "add_propeller(name='propeller_mf1302', Dp=13, Hp=4.8, Bp=2, mass=0.017, price=29.99 / 2)\n"
   ]
  },
  {
   "attachments": {},
   "cell_type": "markdown",
   "metadata": {},
   "source": [
    "### ESCs"
   ]
  },
  {
   "cell_type": "code",
   "execution_count": 94,
   "metadata": {},
   "outputs": [],
   "source": [
    "\n",
    "# Add ESC with its attributes\n",
    "# Add 30A ESC\n",
    "add_esc(name='esc_30', Re=0.01, mass=0.01, price=10)\n",
    "# # Add 20A ESC\n",
    "# add_esc('esc_20', 0.01, 0.01, 10)\n"
   ]
  },
  {
   "attachments": {},
   "cell_type": "markdown",
   "metadata": {},
   "source": [
    "### Frames"
   ]
  },
  {
   "cell_type": "code",
   "execution_count": 95,
   "metadata": {},
   "outputs": [],
   "source": [
    "# # Add frame with its attributes\n",
    "# # Add 450mm frame\n",
    "# https://www.aliexpress.com/item/1826445939.html?spm=a2g0o.productlist.main.1.50754792nUZ6Lo&algo_pvid=4287122b-6c35-4298-8ae2-759823a1c0b5&algo_exp_id=4287122b-6c35-4298-8ae2-759823a1c0b5-0&pdp_npi=3%40dis%21USD%2132.27%2119.04%21%21%2132.27%21%21%40212249cb16899388764054185d076a%2110000013899219007%21sea%21NL%212631492666&curPageLogUid=LcEeOINnKP5O\n",
    "add_frame(name='frame_450', Df=450, nr=4, mass=0.282, price=17.86)\n",
    "# # Add custom 3D printed frame\n",
    "add_frame(name='cig_frame', Df=450, nr=6, mass=0.3, price=20)\n"
   ]
  },
  {
   "cell_type": "code",
   "execution_count": 96,
   "metadata": {},
   "outputs": [],
   "source": [
    "# add_onboard_computer(name='raspberry_pi_4', Icontrol=1, mass=0.046, price=100)\n",
    "add_onboard_computer(name='jetson_nano', Icontrol=3, mass=0.100, price=150)\n"
   ]
  },
  {
   "cell_type": "code",
   "execution_count": 97,
   "metadata": {},
   "outputs": [],
   "source": [
    "# save design components to json file\n",
    "td.save_components_to_json('design_components.json')\n",
    "\n",
    "# generate the tradespace\n",
    "td.generate_tradespace()"
   ]
  },
  {
   "cell_type": "code",
   "execution_count": 98,
   "metadata": {},
   "outputs": [],
   "source": [
    "uav_list = []\n",
    "# calculate performance\n",
    "for index, row in td.tradespace_df.iterrows():\n",
    "    uav = UAVModel()\n",
    "\n",
    "    temp = 25\n",
    "    h = 60\n",
    "    safe_duty_cycle = 0.7\n",
    "\n",
    "    Icontrol = td.get_attr_by_name(row['onboard_computer'], 'control_current')\n",
    "\n",
    "    mass = td.get_attr_by_name(row['frame'], 'mass') + \\\n",
    "            td.get_attr_by_name(row['propeller'], 'mass') * td.get_attr_by_name(row['frame'], 'number_of_rotors') + \\\n",
    "            td.get_attr_by_name(row['motor'], 'mass') * td.get_attr_by_name(row['frame'], 'number_of_rotors') + \\\n",
    "            td.get_attr_by_name(row['esc'], 'mass') * td.get_attr_by_name(row['frame'], 'number_of_rotors') + \\\n",
    "            td.get_attr_by_name(row['battery'], 'mass') + \\\n",
    "            td.get_attr_by_name(row['onboard_computer'], 'mass')\n",
    "\n",
    "    nr = td.get_attr_by_name(row['frame'], 'number_of_rotors')\n",
    "\n",
    "    Dp = td.get_attr_by_name(row['propeller'], 'diameter')\n",
    "    Hp = td.get_attr_by_name(row['propeller'], 'pitch')\n",
    "    Bp = td.get_attr_by_name(row['propeller'], 'num_blades')\n",
    "\n",
    "    Kv0 = td.get_attr_by_name(row['motor'], 'kv')\n",
    "    Um0 = td.get_attr_by_name(row['motor'], 'no-load voltage')\n",
    "    Im0 = td.get_attr_by_name(row['motor'], 'no-load current')\n",
    "    Rm = td.get_attr_by_name(row['motor'], 'resistance')\n",
    "\n",
    "    Re = td.get_attr_by_name(row['esc'], 'resistance')\n",
    "\n",
    "    Ub = td.get_attr_by_name(row['battery'], 'voltage')\n",
    "    Cb = td.get_attr_by_name(row['battery'], 'capacity')\n",
    "    Cmin = td.get_attr_by_name(row['battery'], 'min_capacity')\n",
    "    Rb = td.get_attr_by_name(row['battery'], 'resistance')\n",
    "\n",
    "    # price\n",
    "    price = td.get_attr_by_name(row['frame'], 'price') + \\\n",
    "            td.get_attr_by_name(row['propeller'], 'price') * td.get_attr_by_name(row['frame'], 'number_of_rotors') + \\\n",
    "            td.get_attr_by_name(row['motor'], 'price') * td.get_attr_by_name(row['frame'], 'number_of_rotors') + \\\n",
    "            td.get_attr_by_name(row['esc'], 'price') * td.get_attr_by_name(row['frame'], 'number_of_rotors') + \\\n",
    "            td.get_attr_by_name(row['battery'], 'price') + \\\n",
    "            td.get_attr_by_name(row['onboard_computer'], 'price')\n",
    "\n",
    "    uav.setAll(temp, h, mass, nr, Dp, Hp, Bp, Kv0, Um0, Im0, Rm,\n",
    "               Re, Ub, Cb, Cmin, Rb, Icontrol, safe_duty_cycle)\n",
    "\n",
    "    # calculate performance\n",
    "    uav.calculate_performance()\n",
    "\n",
    "    # add design variables to the tradespace\n",
    "    td.tradespace_df.loc[index, 'mass']=uav.G / uav.g\n",
    "    td.tradespace_df.loc[index, 'number_of_rotors']=uav.nr\n",
    "    td.tradespace_df.loc[index, 'kv']=uav.Kv0\n",
    "    td.tradespace_df.loc[index, 'voltage']=uav.Ub\n",
    "    td.tradespace_df.loc[index, 'capacity']=uav.Cb\n",
    "\n",
    "    # add price to the tradespace\n",
    "    td.tradespace_df.loc[index, 'price']=price\n",
    "\n",
    "    # add performance to the tradespace\n",
    "    td.tradespace_df.loc[index, 'max_flight_distance']=uav.max_distance\n",
    "\n",
    "    td.tradespace_df.loc[index, 'max_speed']=uav.max_speed\n",
    "\n",
    "    td.tradespace_df.loc[index, 'max_payload']=uav.max_payload / 9.81\n",
    "\n",
    "    td.tradespace_df.loc[index, 'max_flight_time']=uav.t_hover\n",
    "\n",
    "    # append uav to the list\n",
    "    uav_list.append(uav)\n"
   ]
  },
  {
   "cell_type": "code",
   "execution_count": 99,
   "metadata": {},
   "outputs": [
    {
     "data": {
      "application/vnd.plotly.v1+json": {
       "config": {
        "plotlyServerURL": "https://plot.ly"
       },
       "data": [
        {
         "hovertemplate": "<b>%{text}</b><br><br>%{xaxis.title.text}: %{x}<br>%{yaxis.title.text}: %{y}<extra></extra>",
         "marker": {
          "color": "blue",
          "size": 10,
          "symbol": "square"
         },
         "mode": "markers",
         "text": [
          "ID: 0",
          "ID: 1",
          "ID: 2",
          "ID: 3",
          "ID: 4",
          "ID: 5",
          "ID: 6",
          "ID: 7",
          "ID: 8",
          "ID: 9",
          "ID: 10",
          "ID: 11",
          "ID: 12",
          "ID: 13",
          "ID: 14",
          "ID: 15",
          "ID: 16",
          "ID: 17",
          "ID: 18",
          "ID: 19",
          "ID: 20",
          "ID: 21",
          "ID: 22",
          "ID: 23",
          "ID: 24",
          "ID: 25",
          "ID: 26",
          "ID: 27",
          "ID: 28",
          "ID: 29",
          "ID: 30",
          "ID: 31",
          "ID: 32",
          "ID: 33",
          "ID: 34",
          "ID: 35",
          "ID: 36",
          "ID: 37",
          "ID: 38",
          "ID: 39",
          "ID: 40",
          "ID: 41",
          "ID: 42",
          "ID: 43",
          "ID: 44",
          "ID: 45",
          "ID: 46",
          "ID: 47",
          "ID: 48",
          "ID: 49",
          "ID: 50",
          "ID: 51",
          "ID: 52",
          "ID: 53",
          "ID: 54",
          "ID: 55",
          "ID: 56",
          "ID: 57",
          "ID: 58",
          "ID: 59"
         ],
         "type": "scatter",
         "x": [
          382.39,
          475.3,
          370.39,
          457.3,
          414.39,
          523.3,
          368.15,
          453.94,
          356.15,
          435.94,
          400.15,
          501.94,
          375.59000000000003,
          468.5,
          363.59000000000003,
          450.5,
          407.59000000000003,
          516.5,
          361.35,
          447.14,
          349.35,
          429.14,
          393.35,
          495.14,
          395.39,
          488.3,
          383.39,
          470.3,
          427.39,
          536.3,
          381.15,
          466.94,
          369.15,
          448.94,
          413.15,
          514.94,
          429.39,
          522.3,
          417.39,
          504.3,
          461.39,
          570.3,
          415.15,
          500.94,
          403.15,
          482.94,
          447.15,
          548.94,
          391.02,
          483.93,
          379.02,
          465.93,
          423.02,
          531.9300000000001,
          376.78,
          462.57,
          364.78,
          444.57,
          408.78,
          510.57
         ],
         "y": [
          0.03534672250975679,
          0.042228153876483314,
          0.03064981566215188,
          0.03596544853743124,
          0.04134054558299101,
          0.050400168841624585,
          0.028984043720460557,
          0.03754868997176107,
          0.027644467476480507,
          0.03522989462244224,
          0.028930347543840697,
          0.03851211268855864,
          0.056850243407709736,
          0.07087559380858821,
          0.05111307623053614,
          0.06303525777313601,
          0.06376225737247007,
          0.08050800627893288,
          0.04950757062947368,
          0.06476219386124864,
          0.04835969899477738,
          0.06264130335615702,
          0.04879772672446673,
          0.06487447766813396,
          0.09338552670676978,
          0.10831594592307209,
          0.08747724365623977,
          0.10004741206652276,
          0.10012540353495988,
          0.11806704182636879,
          0.07732313495739931,
          0.0936321846855205,
          0.07722787484410876,
          0.09226938475478316,
          0.07440251281986429,
          0.09182067047843905,
          0.13024328541517494,
          0.1466719849038295,
          0.12428197468344988,
          0.1380672718181633,
          0.1366597611049396,
          0.15642995045121577,
          0.10528897608762992,
          0.12313726899530222,
          0.10635614448748257,
          0.12264833899481678,
          0.10004847922726931,
          0.11926960623902166,
          0.10932830752736679,
          0.14758476353249786,
          0.10216516150886647,
          0.1374393005852718,
          0.1165960858469741,
          0.157992745297015,
          0.09742362087444967,
          0.1338777944497651,
          0.09780393213339601,
          0.13395677749431897,
          0.09402014995256343,
          0.12996935271277194
         ]
        }
       ],
       "layout": {
        "showlegend": false,
        "template": {
         "data": {
          "bar": [
           {
            "error_x": {
             "color": "#2a3f5f"
            },
            "error_y": {
             "color": "#2a3f5f"
            },
            "marker": {
             "line": {
              "color": "#E5ECF6",
              "width": 0.5
             },
             "pattern": {
              "fillmode": "overlay",
              "size": 10,
              "solidity": 0.2
             }
            },
            "type": "bar"
           }
          ],
          "barpolar": [
           {
            "marker": {
             "line": {
              "color": "#E5ECF6",
              "width": 0.5
             },
             "pattern": {
              "fillmode": "overlay",
              "size": 10,
              "solidity": 0.2
             }
            },
            "type": "barpolar"
           }
          ],
          "carpet": [
           {
            "aaxis": {
             "endlinecolor": "#2a3f5f",
             "gridcolor": "white",
             "linecolor": "white",
             "minorgridcolor": "white",
             "startlinecolor": "#2a3f5f"
            },
            "baxis": {
             "endlinecolor": "#2a3f5f",
             "gridcolor": "white",
             "linecolor": "white",
             "minorgridcolor": "white",
             "startlinecolor": "#2a3f5f"
            },
            "type": "carpet"
           }
          ],
          "choropleth": [
           {
            "colorbar": {
             "outlinewidth": 0,
             "ticks": ""
            },
            "type": "choropleth"
           }
          ],
          "contour": [
           {
            "colorbar": {
             "outlinewidth": 0,
             "ticks": ""
            },
            "colorscale": [
             [
              0,
              "#0d0887"
             ],
             [
              0.1111111111111111,
              "#46039f"
             ],
             [
              0.2222222222222222,
              "#7201a8"
             ],
             [
              0.3333333333333333,
              "#9c179e"
             ],
             [
              0.4444444444444444,
              "#bd3786"
             ],
             [
              0.5555555555555556,
              "#d8576b"
             ],
             [
              0.6666666666666666,
              "#ed7953"
             ],
             [
              0.7777777777777778,
              "#fb9f3a"
             ],
             [
              0.8888888888888888,
              "#fdca26"
             ],
             [
              1,
              "#f0f921"
             ]
            ],
            "type": "contour"
           }
          ],
          "contourcarpet": [
           {
            "colorbar": {
             "outlinewidth": 0,
             "ticks": ""
            },
            "type": "contourcarpet"
           }
          ],
          "heatmap": [
           {
            "colorbar": {
             "outlinewidth": 0,
             "ticks": ""
            },
            "colorscale": [
             [
              0,
              "#0d0887"
             ],
             [
              0.1111111111111111,
              "#46039f"
             ],
             [
              0.2222222222222222,
              "#7201a8"
             ],
             [
              0.3333333333333333,
              "#9c179e"
             ],
             [
              0.4444444444444444,
              "#bd3786"
             ],
             [
              0.5555555555555556,
              "#d8576b"
             ],
             [
              0.6666666666666666,
              "#ed7953"
             ],
             [
              0.7777777777777778,
              "#fb9f3a"
             ],
             [
              0.8888888888888888,
              "#fdca26"
             ],
             [
              1,
              "#f0f921"
             ]
            ],
            "type": "heatmap"
           }
          ],
          "heatmapgl": [
           {
            "colorbar": {
             "outlinewidth": 0,
             "ticks": ""
            },
            "colorscale": [
             [
              0,
              "#0d0887"
             ],
             [
              0.1111111111111111,
              "#46039f"
             ],
             [
              0.2222222222222222,
              "#7201a8"
             ],
             [
              0.3333333333333333,
              "#9c179e"
             ],
             [
              0.4444444444444444,
              "#bd3786"
             ],
             [
              0.5555555555555556,
              "#d8576b"
             ],
             [
              0.6666666666666666,
              "#ed7953"
             ],
             [
              0.7777777777777778,
              "#fb9f3a"
             ],
             [
              0.8888888888888888,
              "#fdca26"
             ],
             [
              1,
              "#f0f921"
             ]
            ],
            "type": "heatmapgl"
           }
          ],
          "histogram": [
           {
            "marker": {
             "pattern": {
              "fillmode": "overlay",
              "size": 10,
              "solidity": 0.2
             }
            },
            "type": "histogram"
           }
          ],
          "histogram2d": [
           {
            "colorbar": {
             "outlinewidth": 0,
             "ticks": ""
            },
            "colorscale": [
             [
              0,
              "#0d0887"
             ],
             [
              0.1111111111111111,
              "#46039f"
             ],
             [
              0.2222222222222222,
              "#7201a8"
             ],
             [
              0.3333333333333333,
              "#9c179e"
             ],
             [
              0.4444444444444444,
              "#bd3786"
             ],
             [
              0.5555555555555556,
              "#d8576b"
             ],
             [
              0.6666666666666666,
              "#ed7953"
             ],
             [
              0.7777777777777778,
              "#fb9f3a"
             ],
             [
              0.8888888888888888,
              "#fdca26"
             ],
             [
              1,
              "#f0f921"
             ]
            ],
            "type": "histogram2d"
           }
          ],
          "histogram2dcontour": [
           {
            "colorbar": {
             "outlinewidth": 0,
             "ticks": ""
            },
            "colorscale": [
             [
              0,
              "#0d0887"
             ],
             [
              0.1111111111111111,
              "#46039f"
             ],
             [
              0.2222222222222222,
              "#7201a8"
             ],
             [
              0.3333333333333333,
              "#9c179e"
             ],
             [
              0.4444444444444444,
              "#bd3786"
             ],
             [
              0.5555555555555556,
              "#d8576b"
             ],
             [
              0.6666666666666666,
              "#ed7953"
             ],
             [
              0.7777777777777778,
              "#fb9f3a"
             ],
             [
              0.8888888888888888,
              "#fdca26"
             ],
             [
              1,
              "#f0f921"
             ]
            ],
            "type": "histogram2dcontour"
           }
          ],
          "mesh3d": [
           {
            "colorbar": {
             "outlinewidth": 0,
             "ticks": ""
            },
            "type": "mesh3d"
           }
          ],
          "parcoords": [
           {
            "line": {
             "colorbar": {
              "outlinewidth": 0,
              "ticks": ""
             }
            },
            "type": "parcoords"
           }
          ],
          "pie": [
           {
            "automargin": true,
            "type": "pie"
           }
          ],
          "scatter": [
           {
            "fillpattern": {
             "fillmode": "overlay",
             "size": 10,
             "solidity": 0.2
            },
            "type": "scatter"
           }
          ],
          "scatter3d": [
           {
            "line": {
             "colorbar": {
              "outlinewidth": 0,
              "ticks": ""
             }
            },
            "marker": {
             "colorbar": {
              "outlinewidth": 0,
              "ticks": ""
             }
            },
            "type": "scatter3d"
           }
          ],
          "scattercarpet": [
           {
            "marker": {
             "colorbar": {
              "outlinewidth": 0,
              "ticks": ""
             }
            },
            "type": "scattercarpet"
           }
          ],
          "scattergeo": [
           {
            "marker": {
             "colorbar": {
              "outlinewidth": 0,
              "ticks": ""
             }
            },
            "type": "scattergeo"
           }
          ],
          "scattergl": [
           {
            "marker": {
             "colorbar": {
              "outlinewidth": 0,
              "ticks": ""
             }
            },
            "type": "scattergl"
           }
          ],
          "scattermapbox": [
           {
            "marker": {
             "colorbar": {
              "outlinewidth": 0,
              "ticks": ""
             }
            },
            "type": "scattermapbox"
           }
          ],
          "scatterpolar": [
           {
            "marker": {
             "colorbar": {
              "outlinewidth": 0,
              "ticks": ""
             }
            },
            "type": "scatterpolar"
           }
          ],
          "scatterpolargl": [
           {
            "marker": {
             "colorbar": {
              "outlinewidth": 0,
              "ticks": ""
             }
            },
            "type": "scatterpolargl"
           }
          ],
          "scatterternary": [
           {
            "marker": {
             "colorbar": {
              "outlinewidth": 0,
              "ticks": ""
             }
            },
            "type": "scatterternary"
           }
          ],
          "surface": [
           {
            "colorbar": {
             "outlinewidth": 0,
             "ticks": ""
            },
            "colorscale": [
             [
              0,
              "#0d0887"
             ],
             [
              0.1111111111111111,
              "#46039f"
             ],
             [
              0.2222222222222222,
              "#7201a8"
             ],
             [
              0.3333333333333333,
              "#9c179e"
             ],
             [
              0.4444444444444444,
              "#bd3786"
             ],
             [
              0.5555555555555556,
              "#d8576b"
             ],
             [
              0.6666666666666666,
              "#ed7953"
             ],
             [
              0.7777777777777778,
              "#fb9f3a"
             ],
             [
              0.8888888888888888,
              "#fdca26"
             ],
             [
              1,
              "#f0f921"
             ]
            ],
            "type": "surface"
           }
          ],
          "table": [
           {
            "cells": {
             "fill": {
              "color": "#EBF0F8"
             },
             "line": {
              "color": "white"
             }
            },
            "header": {
             "fill": {
              "color": "#C8D4E3"
             },
             "line": {
              "color": "white"
             }
            },
            "type": "table"
           }
          ]
         },
         "layout": {
          "annotationdefaults": {
           "arrowcolor": "#2a3f5f",
           "arrowhead": 0,
           "arrowwidth": 1
          },
          "autotypenumbers": "strict",
          "coloraxis": {
           "colorbar": {
            "outlinewidth": 0,
            "ticks": ""
           }
          },
          "colorscale": {
           "diverging": [
            [
             0,
             "#8e0152"
            ],
            [
             0.1,
             "#c51b7d"
            ],
            [
             0.2,
             "#de77ae"
            ],
            [
             0.3,
             "#f1b6da"
            ],
            [
             0.4,
             "#fde0ef"
            ],
            [
             0.5,
             "#f7f7f7"
            ],
            [
             0.6,
             "#e6f5d0"
            ],
            [
             0.7,
             "#b8e186"
            ],
            [
             0.8,
             "#7fbc41"
            ],
            [
             0.9,
             "#4d9221"
            ],
            [
             1,
             "#276419"
            ]
           ],
           "sequential": [
            [
             0,
             "#0d0887"
            ],
            [
             0.1111111111111111,
             "#46039f"
            ],
            [
             0.2222222222222222,
             "#7201a8"
            ],
            [
             0.3333333333333333,
             "#9c179e"
            ],
            [
             0.4444444444444444,
             "#bd3786"
            ],
            [
             0.5555555555555556,
             "#d8576b"
            ],
            [
             0.6666666666666666,
             "#ed7953"
            ],
            [
             0.7777777777777778,
             "#fb9f3a"
            ],
            [
             0.8888888888888888,
             "#fdca26"
            ],
            [
             1,
             "#f0f921"
            ]
           ],
           "sequentialminus": [
            [
             0,
             "#0d0887"
            ],
            [
             0.1111111111111111,
             "#46039f"
            ],
            [
             0.2222222222222222,
             "#7201a8"
            ],
            [
             0.3333333333333333,
             "#9c179e"
            ],
            [
             0.4444444444444444,
             "#bd3786"
            ],
            [
             0.5555555555555556,
             "#d8576b"
            ],
            [
             0.6666666666666666,
             "#ed7953"
            ],
            [
             0.7777777777777778,
             "#fb9f3a"
            ],
            [
             0.8888888888888888,
             "#fdca26"
            ],
            [
             1,
             "#f0f921"
            ]
           ]
          },
          "colorway": [
           "#636efa",
           "#EF553B",
           "#00cc96",
           "#ab63fa",
           "#FFA15A",
           "#19d3f3",
           "#FF6692",
           "#B6E880",
           "#FF97FF",
           "#FECB52"
          ],
          "font": {
           "color": "#2a3f5f"
          },
          "geo": {
           "bgcolor": "white",
           "lakecolor": "white",
           "landcolor": "#E5ECF6",
           "showlakes": true,
           "showland": true,
           "subunitcolor": "white"
          },
          "hoverlabel": {
           "align": "left"
          },
          "hovermode": "closest",
          "mapbox": {
           "style": "light"
          },
          "paper_bgcolor": "white",
          "plot_bgcolor": "#E5ECF6",
          "polar": {
           "angularaxis": {
            "gridcolor": "white",
            "linecolor": "white",
            "ticks": ""
           },
           "bgcolor": "#E5ECF6",
           "radialaxis": {
            "gridcolor": "white",
            "linecolor": "white",
            "ticks": ""
           }
          },
          "scene": {
           "xaxis": {
            "backgroundcolor": "#E5ECF6",
            "gridcolor": "white",
            "gridwidth": 2,
            "linecolor": "white",
            "showbackground": true,
            "ticks": "",
            "zerolinecolor": "white"
           },
           "yaxis": {
            "backgroundcolor": "#E5ECF6",
            "gridcolor": "white",
            "gridwidth": 2,
            "linecolor": "white",
            "showbackground": true,
            "ticks": "",
            "zerolinecolor": "white"
           },
           "zaxis": {
            "backgroundcolor": "#E5ECF6",
            "gridcolor": "white",
            "gridwidth": 2,
            "linecolor": "white",
            "showbackground": true,
            "ticks": "",
            "zerolinecolor": "white"
           }
          },
          "shapedefaults": {
           "line": {
            "color": "#2a3f5f"
           }
          },
          "ternary": {
           "aaxis": {
            "gridcolor": "white",
            "linecolor": "white",
            "ticks": ""
           },
           "baxis": {
            "gridcolor": "white",
            "linecolor": "white",
            "ticks": ""
           },
           "bgcolor": "#E5ECF6",
           "caxis": {
            "gridcolor": "white",
            "linecolor": "white",
            "ticks": ""
           }
          },
          "title": {
           "x": 0.05
          },
          "xaxis": {
           "automargin": true,
           "gridcolor": "white",
           "linecolor": "white",
           "ticks": "",
           "title": {
            "standoff": 15
           },
           "zerolinecolor": "white",
           "zerolinewidth": 2
          },
          "yaxis": {
           "automargin": true,
           "gridcolor": "white",
           "linecolor": "white",
           "ticks": "",
           "title": {
            "standoff": 15
           },
           "zerolinecolor": "white",
           "zerolinewidth": 2
          }
         }
        },
        "xaxis": {
         "title": {
          "text": "price"
         }
        },
        "yaxis": {
         "title": {
          "text": "MAU"
         }
        }
       }
      }
     },
     "metadata": {},
     "output_type": "display_data"
    }
   ],
   "source": [
    "# calculate the sau\n",
    "td.calculate_sau()\n",
    "\n",
    "# calculate the mau\n",
    "td.calculate_mau()\n",
    "\n",
    "# see the tradespace\n",
    "td.plot_tradespace_plotly('price', 'MAU')\n",
    "\n",
    "# save the tradespace to a csv file\n",
    "td.save_tradespace('tradespace.csv')\n"
   ]
  },
  {
   "cell_type": "code",
   "execution_count": 100,
   "metadata": {},
   "outputs": [
    {
     "name": "stdout",
     "output_type": "stream",
     "text": [
      "----------------------------------------\n",
      "        UAV Model Configuration         \n",
      "----------------------------------------\n",
      "----------------------------------------\n",
      "            Input parameters            \n",
      "----------------------------------------\n",
      "              Environment               \n",
      "Temperature:                      25.000 °C\n",
      "Altitude:                         60.000 m\n",
      "\n",
      "                General                 \n",
      "Mass:                              1.235 Kg\n",
      "\n",
      "               Propeller                \n",
      "Diameter:                          0.279 m\n",
      "Pitch:                             0.107 m\n",
      "Blade number:                      2.000 units\n",
      "\n",
      "                 Motor                  \n",
      "Motor constant:                 1350.000 rpm/V\n",
      "Motor no-load voltage:            10.000 V\n",
      "Motor no-load current:             1.180 A\n",
      "Motor resistance:                  0.100 Ohm\n",
      "Number of rotors:                  4.000 units\n",
      "\n",
      "                  ESC                   \n",
      "Equivalent resistance:             0.010 Ohm\n",
      "\n",
      "                Battery                 \n",
      "Battery voltage:                  11.100 V\n",
      "Battery capacity:               8000.000 mAh\n",
      "Minimum battery capacity:       1600.000 mAh\n",
      "Battery internal resistance:       0.200 Ohm\n",
      "\n",
      "                 Others                 \n",
      "Control current:                   3.000 A\n",
      "Max duty for max payload:          0.700 %\n",
      "\n",
      "----------------------------------------\n",
      "         Calculated parameters          \n",
      "----------------------------------------\n",
      "              Environment               \n",
      "Air density:                       1.284 kg/m^3\n",
      "\n",
      "               Propeller                \n",
      "Thrust coefficient:                0.084\n",
      "Torque coefficient:                0.006\n",
      "----------------------------------------\n",
      "\n",
      "----------------------------------------\n",
      "            UAV Performance             \n",
      "----------------------------------------\n",
      "               Hover mode               \n",
      "----------------------------------------\n",
      "Thrust:                           12.111 N\n",
      "Thrust/motor:                      3.028 N\n",
      "Motor speed:                    4079.741 rpm\n",
      "Motor torque:                      0.057 Nm\n",
      "Motor voltage:                     3.926 V\n",
      "Motor current:                     9.392 A\n",
      "Duty cycle:                        0.362 %\n",
      "ESC voltage:                      10.420 V\n",
      "ESC current:                       3.401 A\n",
      "Battery current:                  16.603 A\n",
      "Flight time:                      23.128 min\n",
      "Efficiency:                        0.594\n",
      "\n",
      "          Maximum thrust mode           \n",
      "----------------------------------------\n",
      "Thrust:                           58.835 N\n",
      "Thrust/motor:                     14.709 N\n",
      "Motor speed:                    8992.044 rpm\n",
      "Motor torque:                      0.279 Nm\n",
      "Motor voltage:                    10.689 V\n",
      "Motor current:                    41.071 A\n",
      "Duty cycle:                        1.000 %\n",
      "ESC voltage:                     -22.357 V\n",
      "ESC current:                      41.071 A\n",
      "Battery current:                 167.285 A\n",
      "Flight time:                       2.295 min\n",
      "Efficiency:                        0.594\n",
      "\n",
      "          Maximum payload mode          \n",
      "----------------------------------------\n",
      "Thrust:                           34.682 N\n",
      "Thrust/motor:                      8.670 N\n",
      "Motor speed:                    6903.815 rpm\n",
      "Motor torque:                      0.164 Nm\n",
      "Motor voltage:                     7.523 V\n",
      "Motor current:                    24.695 A\n",
      "Duty cycle:                        0.700 %\n",
      "ESC voltage:                       7.643 V\n",
      "ESC current:                      17.286 A\n",
      "Battery current:                  72.145 A\n",
      "Flight time:                       5.323 min\n",
      "Efficiency:                        0.594\n",
      "Maximum payload:                   0.235 Kg\n",
      "Maximum pitch:                    69.561 deg\n",
      "\n",
      "              Reachability              \n",
      "----------------------------------------\n",
      "Maximum distance:               7846.158 m\n",
      "Maximum speed:                    12.621 m/s\n",
      "----------------------------------------\n",
      "\n"
     ]
    }
   ],
   "source": [
    "uav_39 = uav_list[36]\n",
    "uav_39.show_all()"
   ]
  },
  {
   "cell_type": "code",
   "execution_count": 101,
   "metadata": {},
   "outputs": [
    {
     "name": "stdout",
     "output_type": "stream",
     "text": [
      "----------------------------------------\n",
      "        UAV Model Configuration         \n",
      "----------------------------------------\n",
      "----------------------------------------\n",
      "            Input parameters            \n",
      "----------------------------------------\n",
      "              Environment               \n",
      "Temperature:                      25.000 °C\n",
      "Altitude:                         60.000 m\n",
      "\n",
      "                General                 \n",
      "Mass:                              1.433 Kg\n",
      "\n",
      "               Propeller                \n",
      "Diameter:                          0.279 m\n",
      "Pitch:                             0.107 m\n",
      "Blade number:                      2.000 units\n",
      "\n",
      "                 Motor                  \n",
      "Motor constant:                 1350.000 rpm/V\n",
      "Motor no-load voltage:            10.000 V\n",
      "Motor no-load current:             1.180 A\n",
      "Motor resistance:                  0.100 Ohm\n",
      "Number of rotors:                  6.000 units\n",
      "\n",
      "                  ESC                   \n",
      "Equivalent resistance:             0.010 Ohm\n",
      "\n",
      "                Battery                 \n",
      "Battery voltage:                  11.100 V\n",
      "Battery capacity:               8000.000 mAh\n",
      "Minimum battery capacity:       1600.000 mAh\n",
      "Battery internal resistance:       0.200 Ohm\n",
      "\n",
      "                 Others                 \n",
      "Control current:                   3.000 A\n",
      "Max duty for max payload:          0.700 %\n",
      "\n",
      "----------------------------------------\n",
      "         Calculated parameters          \n",
      "----------------------------------------\n",
      "              Environment               \n",
      "Air density:                       1.284 kg/m^3\n",
      "\n",
      "               Propeller                \n",
      "Thrust coefficient:                0.084\n",
      "Torque coefficient:                0.006\n",
      "----------------------------------------\n",
      "\n",
      "----------------------------------------\n",
      "            UAV Performance             \n",
      "----------------------------------------\n",
      "               Hover mode               \n",
      "----------------------------------------\n",
      "Thrust:                           14.053 N\n",
      "Thrust/motor:                      2.342 N\n",
      "Motor speed:                    3588.199 rpm\n",
      "Motor torque:                      0.044 Nm\n",
      "Motor voltage:                     3.380 V\n",
      "Motor current:                     7.532 A\n",
      "Duty cycle:                        0.311 %\n",
      "ESC voltage:                      10.631 V\n",
      "ESC current:                       2.344 A\n",
      "Battery current:                  17.067 A\n",
      "Flight time:                      22.500 min\n",
      "Efficiency:                        0.602\n",
      "\n",
      "          Maximum thrust mode           \n",
      "----------------------------------------\n",
      "Thrust:                           88.253 N\n",
      "Thrust/motor:                     14.709 N\n",
      "Motor speed:                    8992.044 rpm\n",
      "Motor torque:                      0.279 Nm\n",
      "Motor voltage:                    10.689 V\n",
      "Motor current:                    41.071 A\n",
      "Duty cycle:                        1.000 %\n",
      "ESC voltage:                     -38.785 V\n",
      "ESC current:                      41.071 A\n",
      "Battery current:                 249.427 A\n",
      "Flight time:                       1.540 min\n",
      "Efficiency:                        0.602\n",
      "\n",
      "          Maximum payload mode          \n",
      "----------------------------------------\n",
      "Thrust:                           52.023 N\n",
      "Thrust/motor:                      8.670 N\n",
      "Motor speed:                    6903.815 rpm\n",
      "Motor torque:                      0.164 Nm\n",
      "Motor voltage:                     7.523 V\n",
      "Motor current:                    24.695 A\n",
      "Duty cycle:                        0.700 %\n",
      "ESC voltage:                       7.643 V\n",
      "ESC current:                      17.286 A\n",
      "Battery current:                 106.717 A\n",
      "Flight time:                       3.598 min\n",
      "Efficiency:                        0.602\n",
      "Maximum payload:                   0.395 Kg\n",
      "Maximum pitch:                    74.328 deg\n",
      "\n",
      "              Reachability              \n",
      "----------------------------------------\n",
      "Maximum distance:               8253.781 m\n",
      "Maximum speed:                    15.760 m/s\n",
      "----------------------------------------\n",
      "\n"
     ]
    }
   ],
   "source": [
    "uav_37 = uav_list[37]\n",
    "uav_37.show_all()"
   ]
  }
 ],
 "metadata": {
  "kernelspec": {
   "display_name": "Python 3",
   "language": "python",
   "name": "python3"
  },
  "language_info": {
   "codemirror_mode": {
    "name": "ipython",
    "version": 3
   },
   "file_extension": ".py",
   "mimetype": "text/x-python",
   "name": "python",
   "nbconvert_exporter": "python",
   "pygments_lexer": "ipython3",
   "version": "3.8.10"
  },
  "orig_nbformat": 4
 },
 "nbformat": 4,
 "nbformat_minor": 2
}
