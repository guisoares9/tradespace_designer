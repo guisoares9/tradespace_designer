{
 "cells": [
  {
   "attachments": {},
   "cell_type": "markdown",
   "metadata": {},
   "source": [
    "# Drone Designer Platform"
   ]
  },
  {
   "cell_type": "code",
   "execution_count": 26,
   "metadata": {},
   "outputs": [
    {
     "name": "stdout",
     "output_type": "stream",
     "text": [
      "The autoreload extension is already loaded. To reload it, use:\n",
      "  %reload_ext autoreload\n"
     ]
    }
   ],
   "source": [
    "%load_ext autoreload\n",
    "%autoreload 2\n",
    "\n",
    "import pandas as pd\n",
    "import numpy as np\n",
    "import matplotlib.pyplot as plt\n",
    "\n",
    "# local imports\n",
    "from tradespace import TradespaceDesigner"
   ]
  },
  {
   "attachments": {},
   "cell_type": "markdown",
   "metadata": {},
   "source": [
    "## Performance Variables or Attributes\n",
    "\n",
    "Performance variables or Attributes are used to evaluate the performance of a system. In this case, the system is a drone. The rules for selecting the performance variables are:\n",
    "\n",
    "1. The performance variables must be measurable.\n",
    "2. The performance variables must be relevant to the system.\n",
    "3. The performance variables must be independent of each other.\n",
    "4. The performance variables must be independent of the design variables.\n",
    "5. The performance variables must be independent of the environment.\n",
    "6. The performance variables must be independent of the mission.\n",
    "7. The performance variables must be independent of the control system.\n",
    "8. The performance variables must be independent of the manufacturing process.\n",
    "9. The performance variables must be independent of the materials.\n",
    "10. The performance variables must be independent of the cost."
   ]
  },
  {
   "cell_type": "markdown",
   "metadata": {},
   "source": []
  },
  {
   "cell_type": "code",
   "execution_count": 27,
   "metadata": {},
   "outputs": [],
   "source": [
    "# Define your performance variables\n",
    "designer = TradespaceDesigner()\n",
    "\n",
    "# Add maximum flight distance\n",
    "designer.add_performance_variable(\"Maximum Flight Distance\", 1, 100, \"km\", 0.33)\n",
    "\n",
    "# Add maximum speed\n",
    "designer.add_performance_variable(\"Maximum Speed\", 10, 250, \"m/s\", 0.33)\n",
    "\n",
    "# Add maximum payload\n",
    "designer.add_performance_variable(\"Maximum Payload\", 0.4, 5, \"kg\", 0.33)\n",
    "\n"
   ]
  },
  {
   "attachments": {},
   "cell_type": "markdown",
   "metadata": {},
   "source": [
    "## Design Variables\n",
    "\n",
    "Design variables are the variables that can be changed to improve the performance of the system. In this case, the system is a drone. The rules for selecting the design variables are:\n",
    "\n",
    "1. The design variables must be measurable.\n",
    "2. The design variables must be relevant to the system.\n",
    "3. The design variables must be independent of each other.\n",
    "4. The design variables must be independent of the performance variables."
   ]
  },
  {
   "cell_type": "code",
   "execution_count": 28,
   "metadata": {},
   "outputs": [],
   "source": [
    "# Add design variables\n",
    "# Add battery capacity\n",
    "designer.add_design_variable(\"Battery Capacity\", \"mAh\", [1000, 2000, 3000, 4000, 5000])\n",
    "\n",
    "# Add battery voltage\n",
    "designer.add_design_variable(\"Battery Voltage\", \"V\", [3.7, 7.4, 11.1, 14.8, 18.5])\n",
    "\n",
    "# Add number of battery\n",
    "# designer.add_design_variable(\"Number of Batteries\", \"unit\", [1, 2, 3, 4, 5])\n",
    "\n",
    "# Add number of motors\n",
    "designer.add_design_variable(\"Number of Motors\", \"unit\", [4, 6, 8])\n",
    "\n",
    "# Add motor thrust\n",
    "designer.add_design_variable(\"Motor Thrust\", \"N\", [300, 500, 700])"
   ]
  },
  {
   "cell_type": "code",
   "execution_count": 29,
   "metadata": {},
   "outputs": [
    {
     "name": "stdout",
     "output_type": "stream",
     "text": [
      "{'Battery Capacity': [1000, 2000, 3000, 4000, 5000, 1000, 2000, 3000, 4000, 5000, 1000, 2000, 3000, 4000, 5000, 1000, 2000, 3000, 4000, 5000, 1000, 2000, 3000, 4000, 5000, 1000, 2000, 3000, 4000, 5000, 1000, 2000, 3000, 4000, 5000, 1000, 2000, 3000, 4000, 5000, 1000, 2000, 3000, 4000, 5000, 1000, 2000, 3000, 4000, 5000, 1000, 2000, 3000, 4000, 5000, 1000, 2000, 3000, 4000, 5000, 1000, 2000, 3000, 4000, 5000, 1000, 2000, 3000, 4000, 5000, 1000, 2000, 3000, 4000, 5000, 1000, 2000, 3000, 4000, 5000, 1000, 2000, 3000, 4000, 5000, 1000, 2000, 3000, 4000, 5000, 1000, 2000, 3000, 4000, 5000, 1000, 2000, 3000, 4000, 5000, 1000, 2000, 3000, 4000, 5000, 1000, 2000, 3000, 4000, 5000, 1000, 2000, 3000, 4000, 5000, 1000, 2000, 3000, 4000, 5000, 1000, 2000, 3000, 4000, 5000, 1000, 2000, 3000, 4000, 5000, 1000, 2000, 3000, 4000, 5000, 1000, 2000, 3000, 4000, 5000, 1000, 2000, 3000, 4000, 5000, 1000, 2000, 3000, 4000, 5000, 1000, 2000, 3000, 4000, 5000, 1000, 2000, 3000, 4000, 5000, 1000, 2000, 3000, 4000, 5000, 1000, 2000, 3000, 4000, 5000, 1000, 2000, 3000, 4000, 5000, 1000, 2000, 3000, 4000, 5000, 1000, 2000, 3000, 4000, 5000, 1000, 2000, 3000, 4000, 5000, 1000, 2000, 3000, 4000, 5000, 1000, 2000, 3000, 4000, 5000, 1000, 2000, 3000, 4000, 5000, 1000, 2000, 3000, 4000, 5000, 1000, 2000, 3000, 4000, 5000, 1000, 2000, 3000, 4000, 5000, 1000, 2000, 3000, 4000, 5000, 1000, 2000, 3000, 4000, 5000, 1000, 2000, 3000, 4000, 5000, 1000, 2000, 3000, 4000, 5000, 1000, 2000, 3000, 4000, 5000, 1000, 2000, 3000, 4000, 5000, 1000, 2000, 3000, 4000, 5000, 1000, 2000, 3000, 4000, 5000, 1000, 2000, 3000, 4000, 5000, 1000, 2000, 3000, 4000, 5000, 1000, 2000, 3000, 4000, 5000, 1000, 2000, 3000, 4000, 5000, 1000, 2000, 3000, 4000, 5000, 1000, 2000, 3000, 4000, 5000, 1000, 2000, 3000, 4000, 5000, 1000, 2000, 3000, 4000, 5000, 1000, 2000, 3000, 4000, 5000, 1000, 2000, 3000, 4000, 5000, 1000, 2000, 3000, 4000, 5000, 1000, 2000, 3000, 4000, 5000, 1000, 2000, 3000, 4000, 5000, 1000, 2000, 3000, 4000, 5000, 1000, 2000, 3000, 4000, 5000, 1000, 2000, 3000, 4000, 5000, 1000, 2000, 3000, 4000, 5000, 1000, 2000, 3000, 4000, 5000, 1000, 2000, 3000, 4000, 5000, 1000, 2000, 3000, 4000, 5000, 1000, 2000, 3000, 4000, 5000, 1000, 2000, 3000, 4000, 5000, 1000, 2000, 3000, 4000, 5000, 1000, 2000, 3000, 4000, 5000, 1000, 2000, 3000, 4000, 5000, 1000, 2000, 3000, 4000, 5000, 1000, 2000, 3000, 4000, 5000, 1000, 2000, 3000, 4000, 5000, 1000, 2000, 3000, 4000, 5000, 1000, 2000, 3000, 4000, 5000, 1000, 2000, 3000, 4000, 5000, 1000, 2000, 3000, 4000, 5000, 1000, 2000, 3000, 4000, 5000, 1000, 2000, 3000, 4000, 5000, 1000, 2000, 3000, 4000, 5000, 1000, 2000, 3000, 4000, 5000, 1000, 2000, 3000, 4000, 5000, 1000, 2000, 3000, 4000, 5000, 1000, 2000, 3000, 4000, 5000, 1000, 2000, 3000, 4000, 5000, 1000, 2000, 3000, 4000, 5000, 1000, 2000, 3000, 4000, 5000, 1000, 2000, 3000, 4000, 5000, 1000, 2000, 3000, 4000, 5000, 1000, 2000, 3000, 4000, 5000, 1000, 2000, 3000, 4000, 5000, 1000, 2000, 3000, 4000, 5000, 1000, 2000, 3000, 4000, 5000, 1000, 2000, 3000, 4000, 5000, 1000, 2000, 3000, 4000, 5000, 1000, 2000, 3000, 4000, 5000, 1000, 2000, 3000, 4000, 5000, 1000, 2000, 3000, 4000, 5000, 1000, 2000, 3000, 4000, 5000, 1000, 2000, 3000, 4000, 5000, 1000, 2000, 3000, 4000, 5000, 1000, 2000, 3000, 4000, 5000, 1000, 2000, 3000, 4000, 5000, 1000, 2000, 3000, 4000, 5000, 1000, 2000, 3000, 4000, 5000, 1000, 2000, 3000, 4000, 5000, 1000, 2000, 3000, 4000, 5000, 1000, 2000, 3000, 4000, 5000, 1000, 2000, 3000, 4000, 5000, 1000, 2000, 3000, 4000, 5000, 1000, 2000, 3000, 4000, 5000, 1000, 2000, 3000, 4000, 5000, 1000, 2000, 3000, 4000, 5000, 1000, 2000, 3000, 4000, 5000, 1000, 2000, 3000, 4000, 5000, 1000, 2000, 3000, 4000, 5000, 1000, 2000, 3000, 4000, 5000, 1000, 2000, 3000, 4000, 5000], 'Battery Voltage': [3.7, 7.4, 11.1, 14.8, 18.5, 3.7, 7.4, 11.1, 14.8, 18.5, 3.7, 7.4, 11.1, 14.8, 18.5, 3.7, 7.4, 11.1, 14.8, 18.5, 3.7, 7.4, 11.1, 14.8, 18.5, 3.7, 7.4, 11.1, 14.8, 18.5, 3.7, 7.4, 11.1, 14.8, 18.5, 3.7, 7.4, 11.1, 14.8, 18.5, 3.7, 7.4, 11.1, 14.8, 18.5, 3.7, 7.4, 11.1, 14.8, 18.5, 3.7, 7.4, 11.1, 14.8, 18.5, 3.7, 7.4, 11.1, 14.8, 18.5, 3.7, 7.4, 11.1, 14.8, 18.5, 3.7, 7.4, 11.1, 14.8, 18.5, 3.7, 7.4, 11.1, 14.8, 18.5, 3.7, 7.4, 11.1, 14.8, 18.5, 3.7, 7.4, 11.1, 14.8, 18.5, 3.7, 7.4, 11.1, 14.8, 18.5, 3.7, 7.4, 11.1, 14.8, 18.5, 3.7, 7.4, 11.1, 14.8, 18.5, 3.7, 7.4, 11.1, 14.8, 18.5, 3.7, 7.4, 11.1, 14.8, 18.5, 3.7, 7.4, 11.1, 14.8, 18.5, 3.7, 7.4, 11.1, 14.8, 18.5, 3.7, 7.4, 11.1, 14.8, 18.5, 3.7, 7.4, 11.1, 14.8, 18.5, 3.7, 7.4, 11.1, 14.8, 18.5, 3.7, 7.4, 11.1, 14.8, 18.5, 3.7, 7.4, 11.1, 14.8, 18.5, 3.7, 7.4, 11.1, 14.8, 18.5, 3.7, 7.4, 11.1, 14.8, 18.5, 3.7, 7.4, 11.1, 14.8, 18.5, 3.7, 7.4, 11.1, 14.8, 18.5, 3.7, 7.4, 11.1, 14.8, 18.5, 3.7, 7.4, 11.1, 14.8, 18.5, 3.7, 7.4, 11.1, 14.8, 18.5, 3.7, 7.4, 11.1, 14.8, 18.5, 3.7, 7.4, 11.1, 14.8, 18.5, 3.7, 7.4, 11.1, 14.8, 18.5, 3.7, 7.4, 11.1, 14.8, 18.5, 3.7, 7.4, 11.1, 14.8, 18.5, 3.7, 7.4, 11.1, 14.8, 18.5, 3.7, 7.4, 11.1, 14.8, 18.5, 3.7, 7.4, 11.1, 14.8, 18.5, 3.7, 7.4, 11.1, 14.8, 18.5, 3.7, 7.4, 11.1, 14.8, 18.5, 3.7, 7.4, 11.1, 14.8, 18.5, 3.7, 7.4, 11.1, 14.8, 18.5, 3.7, 7.4, 11.1, 14.8, 18.5, 3.7, 7.4, 11.1, 14.8, 18.5, 3.7, 7.4, 11.1, 14.8, 18.5, 3.7, 7.4, 11.1, 14.8, 18.5, 3.7, 7.4, 11.1, 14.8, 18.5, 3.7, 7.4, 11.1, 14.8, 18.5, 3.7, 7.4, 11.1, 14.8, 18.5, 3.7, 7.4, 11.1, 14.8, 18.5, 3.7, 7.4, 11.1, 14.8, 18.5, 3.7, 7.4, 11.1, 14.8, 18.5, 3.7, 7.4, 11.1, 14.8, 18.5, 3.7, 7.4, 11.1, 14.8, 18.5, 3.7, 7.4, 11.1, 14.8, 18.5, 3.7, 7.4, 11.1, 14.8, 18.5, 3.7, 7.4, 11.1, 14.8, 18.5, 3.7, 7.4, 11.1, 14.8, 18.5, 3.7, 7.4, 11.1, 14.8, 18.5, 3.7, 7.4, 11.1, 14.8, 18.5, 3.7, 7.4, 11.1, 14.8, 18.5, 3.7, 7.4, 11.1, 14.8, 18.5, 3.7, 7.4, 11.1, 14.8, 18.5, 3.7, 7.4, 11.1, 14.8, 18.5, 3.7, 7.4, 11.1, 14.8, 18.5, 3.7, 7.4, 11.1, 14.8, 18.5, 3.7, 7.4, 11.1, 14.8, 18.5, 3.7, 7.4, 11.1, 14.8, 18.5, 3.7, 7.4, 11.1, 14.8, 18.5, 3.7, 7.4, 11.1, 14.8, 18.5, 3.7, 7.4, 11.1, 14.8, 18.5, 3.7, 7.4, 11.1, 14.8, 18.5, 3.7, 7.4, 11.1, 14.8, 18.5, 3.7, 7.4, 11.1, 14.8, 18.5, 3.7, 7.4, 11.1, 14.8, 18.5, 3.7, 7.4, 11.1, 14.8, 18.5, 3.7, 7.4, 11.1, 14.8, 18.5, 3.7, 7.4, 11.1, 14.8, 18.5, 3.7, 7.4, 11.1, 14.8, 18.5, 3.7, 7.4, 11.1, 14.8, 18.5, 3.7, 7.4, 11.1, 14.8, 18.5, 3.7, 7.4, 11.1, 14.8, 18.5, 3.7, 7.4, 11.1, 14.8, 18.5, 3.7, 7.4, 11.1, 14.8, 18.5, 3.7, 7.4, 11.1, 14.8, 18.5, 3.7, 7.4, 11.1, 14.8, 18.5, 3.7, 7.4, 11.1, 14.8, 18.5, 3.7, 7.4, 11.1, 14.8, 18.5, 3.7, 7.4, 11.1, 14.8, 18.5, 3.7, 7.4, 11.1, 14.8, 18.5, 3.7, 7.4, 11.1, 14.8, 18.5, 3.7, 7.4, 11.1, 14.8, 18.5, 3.7, 7.4, 11.1, 14.8, 18.5, 3.7, 7.4, 11.1, 14.8, 18.5, 3.7, 7.4, 11.1, 14.8, 18.5, 3.7, 7.4, 11.1, 14.8, 18.5, 3.7, 7.4, 11.1, 14.8, 18.5, 3.7, 7.4, 11.1, 14.8, 18.5, 3.7, 7.4, 11.1, 14.8, 18.5, 3.7, 7.4, 11.1, 14.8, 18.5, 3.7, 7.4, 11.1, 14.8, 18.5, 3.7, 7.4, 11.1, 14.8, 18.5, 3.7, 7.4, 11.1, 14.8, 18.5, 3.7, 7.4, 11.1, 14.8, 18.5, 3.7, 7.4, 11.1, 14.8, 18.5, 3.7, 7.4, 11.1, 14.8, 18.5, 3.7, 7.4, 11.1, 14.8, 18.5, 3.7, 7.4, 11.1, 14.8, 18.5, 3.7, 7.4, 11.1, 14.8, 18.5, 3.7, 7.4, 11.1, 14.8, 18.5, 3.7, 7.4, 11.1, 14.8, 18.5, 3.7, 7.4, 11.1, 14.8, 18.5, 3.7, 7.4, 11.1, 14.8, 18.5, 3.7, 7.4, 11.1, 14.8, 18.5, 3.7, 7.4, 11.1, 14.8, 18.5, 3.7, 7.4, 11.1, 14.8, 18.5, 3.7, 7.4, 11.1, 14.8, 18.5, 3.7, 7.4, 11.1, 14.8, 18.5, 3.7, 7.4, 11.1, 14.8, 18.5], 'Number of Motors': [4, 6, 8, 4, 6, 8, 4, 6, 8, 4, 6, 8, 4, 6, 8, 4, 6, 8, 4, 6, 8, 4, 6, 8, 4, 6, 8, 4, 6, 8, 4, 6, 8, 4, 6, 8, 4, 6, 8, 4, 6, 8, 4, 6, 8, 4, 6, 8, 4, 6, 8, 4, 6, 8, 4, 6, 8, 4, 6, 8, 4, 6, 8, 4, 6, 8, 4, 6, 8, 4, 6, 8, 4, 6, 8, 4, 6, 8, 4, 6, 8], 'Motor Thrust': [300, 500, 700, 300, 500, 700, 300, 500, 700, 300, 500, 700, 300, 500, 700, 300, 500, 700, 300, 500, 700, 300, 500, 700, 300, 500, 700, 300, 500, 700, 300, 500, 700, 300, 500, 700, 300, 500, 700, 300, 500, 700, 300, 500, 700, 300, 500, 700, 300, 500, 700, 300, 500, 700, 300, 500, 700, 300, 500, 700, 300, 500, 700, 300, 500, 700, 300, 500, 700, 300, 500, 700, 300, 500, 700, 300, 500, 700, 300, 500, 700]}\n"
     ]
    },
    {
     "ename": "ValueError",
     "evalue": "All arrays must be of the same length",
     "output_type": "error",
     "traceback": [
      "\u001b[0;31m---------------------------------------------------------------------------\u001b[0m",
      "\u001b[0;31mValueError\u001b[0m                                Traceback (most recent call last)",
      "\u001b[0;32m/tmp/ipykernel_27294/2429416548.py\u001b[0m in \u001b[0;36m<module>\u001b[0;34m\u001b[0m\n\u001b[0;32m----> 1\u001b[0;31m \u001b[0mdesigner\u001b[0m\u001b[0;34m.\u001b[0m\u001b[0mgenerate_tradespace\u001b[0m\u001b[0;34m(\u001b[0m\u001b[0;34m)\u001b[0m\u001b[0;34m\u001b[0m\u001b[0;34m\u001b[0m\u001b[0m\n\u001b[0m",
      "\u001b[0;32m~/soares_repo/drone_designer/tradespace.py\u001b[0m in \u001b[0;36mgenerate_tradespace\u001b[0;34m(self)\u001b[0m\n\u001b[1;32m     63\u001b[0m \u001b[0;34m\u001b[0m\u001b[0m\n\u001b[1;32m     64\u001b[0m         \u001b[0;31m# Convert the tradespace data dictionary to a pandas DataFrame\u001b[0m\u001b[0;34m\u001b[0m\u001b[0;34m\u001b[0m\u001b[0;34m\u001b[0m\u001b[0m\n\u001b[0;32m---> 65\u001b[0;31m         \u001b[0mtradespace_df\u001b[0m \u001b[0;34m=\u001b[0m \u001b[0mpd\u001b[0m\u001b[0;34m.\u001b[0m\u001b[0mDataFrame\u001b[0m\u001b[0;34m(\u001b[0m\u001b[0mtradespace_data\u001b[0m\u001b[0;34m)\u001b[0m\u001b[0;34m\u001b[0m\u001b[0;34m\u001b[0m\u001b[0m\n\u001b[0m\u001b[1;32m     66\u001b[0m \u001b[0;34m\u001b[0m\u001b[0m\n\u001b[1;32m     67\u001b[0m         \u001b[0mprint\u001b[0m\u001b[0;34m(\u001b[0m\u001b[0mtradespace_df\u001b[0m\u001b[0;34m)\u001b[0m\u001b[0;34m\u001b[0m\u001b[0;34m\u001b[0m\u001b[0m\n",
      "\u001b[0;32m~/.local/lib/python3.8/site-packages/pandas/core/frame.py\u001b[0m in \u001b[0;36m__init__\u001b[0;34m(self, data, index, columns, dtype, copy)\u001b[0m\n\u001b[1;32m    612\u001b[0m         \u001b[0;32melif\u001b[0m \u001b[0misinstance\u001b[0m\u001b[0;34m(\u001b[0m\u001b[0mdata\u001b[0m\u001b[0;34m,\u001b[0m \u001b[0mdict\u001b[0m\u001b[0;34m)\u001b[0m\u001b[0;34m:\u001b[0m\u001b[0;34m\u001b[0m\u001b[0;34m\u001b[0m\u001b[0m\n\u001b[1;32m    613\u001b[0m             \u001b[0;31m# GH#38939 de facto copy defaults to False only in non-dict cases\u001b[0m\u001b[0;34m\u001b[0m\u001b[0;34m\u001b[0m\u001b[0;34m\u001b[0m\u001b[0m\n\u001b[0;32m--> 614\u001b[0;31m             \u001b[0mmgr\u001b[0m \u001b[0;34m=\u001b[0m \u001b[0mdict_to_mgr\u001b[0m\u001b[0;34m(\u001b[0m\u001b[0mdata\u001b[0m\u001b[0;34m,\u001b[0m \u001b[0mindex\u001b[0m\u001b[0;34m,\u001b[0m \u001b[0mcolumns\u001b[0m\u001b[0;34m,\u001b[0m \u001b[0mdtype\u001b[0m\u001b[0;34m=\u001b[0m\u001b[0mdtype\u001b[0m\u001b[0;34m,\u001b[0m \u001b[0mcopy\u001b[0m\u001b[0;34m=\u001b[0m\u001b[0mcopy\u001b[0m\u001b[0;34m,\u001b[0m \u001b[0mtyp\u001b[0m\u001b[0;34m=\u001b[0m\u001b[0mmanager\u001b[0m\u001b[0;34m)\u001b[0m\u001b[0;34m\u001b[0m\u001b[0;34m\u001b[0m\u001b[0m\n\u001b[0m\u001b[1;32m    615\u001b[0m         \u001b[0;32melif\u001b[0m \u001b[0misinstance\u001b[0m\u001b[0;34m(\u001b[0m\u001b[0mdata\u001b[0m\u001b[0;34m,\u001b[0m \u001b[0mma\u001b[0m\u001b[0;34m.\u001b[0m\u001b[0mMaskedArray\u001b[0m\u001b[0;34m)\u001b[0m\u001b[0;34m:\u001b[0m\u001b[0;34m\u001b[0m\u001b[0;34m\u001b[0m\u001b[0m\n\u001b[1;32m    616\u001b[0m             \u001b[0;32mimport\u001b[0m \u001b[0mnumpy\u001b[0m\u001b[0;34m.\u001b[0m\u001b[0mma\u001b[0m\u001b[0;34m.\u001b[0m\u001b[0mmrecords\u001b[0m \u001b[0;32mas\u001b[0m \u001b[0mmrecords\u001b[0m\u001b[0;34m\u001b[0m\u001b[0;34m\u001b[0m\u001b[0m\n",
      "\u001b[0;32m~/.local/lib/python3.8/site-packages/pandas/core/internals/construction.py\u001b[0m in \u001b[0;36mdict_to_mgr\u001b[0;34m(data, index, columns, dtype, typ, copy)\u001b[0m\n\u001b[1;32m    462\u001b[0m         \u001b[0;31m# TODO: can we get rid of the dt64tz special case above?\u001b[0m\u001b[0;34m\u001b[0m\u001b[0;34m\u001b[0m\u001b[0;34m\u001b[0m\u001b[0m\n\u001b[1;32m    463\u001b[0m \u001b[0;34m\u001b[0m\u001b[0m\n\u001b[0;32m--> 464\u001b[0;31m     return arrays_to_mgr(\n\u001b[0m\u001b[1;32m    465\u001b[0m         \u001b[0marrays\u001b[0m\u001b[0;34m,\u001b[0m \u001b[0mdata_names\u001b[0m\u001b[0;34m,\u001b[0m \u001b[0mindex\u001b[0m\u001b[0;34m,\u001b[0m \u001b[0mcolumns\u001b[0m\u001b[0;34m,\u001b[0m \u001b[0mdtype\u001b[0m\u001b[0;34m=\u001b[0m\u001b[0mdtype\u001b[0m\u001b[0;34m,\u001b[0m \u001b[0mtyp\u001b[0m\u001b[0;34m=\u001b[0m\u001b[0mtyp\u001b[0m\u001b[0;34m,\u001b[0m \u001b[0mconsolidate\u001b[0m\u001b[0;34m=\u001b[0m\u001b[0mcopy\u001b[0m\u001b[0;34m\u001b[0m\u001b[0;34m\u001b[0m\u001b[0m\n\u001b[1;32m    466\u001b[0m     )\n",
      "\u001b[0;32m~/.local/lib/python3.8/site-packages/pandas/core/internals/construction.py\u001b[0m in \u001b[0;36marrays_to_mgr\u001b[0;34m(arrays, arr_names, index, columns, dtype, verify_integrity, typ, consolidate)\u001b[0m\n\u001b[1;32m    117\u001b[0m         \u001b[0;31m# figure out the index, if necessary\u001b[0m\u001b[0;34m\u001b[0m\u001b[0;34m\u001b[0m\u001b[0;34m\u001b[0m\u001b[0m\n\u001b[1;32m    118\u001b[0m         \u001b[0;32mif\u001b[0m \u001b[0mindex\u001b[0m \u001b[0;32mis\u001b[0m \u001b[0;32mNone\u001b[0m\u001b[0;34m:\u001b[0m\u001b[0;34m\u001b[0m\u001b[0;34m\u001b[0m\u001b[0m\n\u001b[0;32m--> 119\u001b[0;31m             \u001b[0mindex\u001b[0m \u001b[0;34m=\u001b[0m \u001b[0m_extract_index\u001b[0m\u001b[0;34m(\u001b[0m\u001b[0marrays\u001b[0m\u001b[0;34m)\u001b[0m\u001b[0;34m\u001b[0m\u001b[0;34m\u001b[0m\u001b[0m\n\u001b[0m\u001b[1;32m    120\u001b[0m         \u001b[0;32melse\u001b[0m\u001b[0;34m:\u001b[0m\u001b[0;34m\u001b[0m\u001b[0;34m\u001b[0m\u001b[0m\n\u001b[1;32m    121\u001b[0m             \u001b[0mindex\u001b[0m \u001b[0;34m=\u001b[0m \u001b[0mensure_index\u001b[0m\u001b[0;34m(\u001b[0m\u001b[0mindex\u001b[0m\u001b[0;34m)\u001b[0m\u001b[0;34m\u001b[0m\u001b[0;34m\u001b[0m\u001b[0m\n",
      "\u001b[0;32m~/.local/lib/python3.8/site-packages/pandas/core/internals/construction.py\u001b[0m in \u001b[0;36m_extract_index\u001b[0;34m(data)\u001b[0m\n\u001b[1;32m    633\u001b[0m             \u001b[0mlengths\u001b[0m \u001b[0;34m=\u001b[0m \u001b[0mlist\u001b[0m\u001b[0;34m(\u001b[0m\u001b[0mset\u001b[0m\u001b[0;34m(\u001b[0m\u001b[0mraw_lengths\u001b[0m\u001b[0;34m)\u001b[0m\u001b[0;34m)\u001b[0m\u001b[0;34m\u001b[0m\u001b[0;34m\u001b[0m\u001b[0m\n\u001b[1;32m    634\u001b[0m             \u001b[0;32mif\u001b[0m \u001b[0mlen\u001b[0m\u001b[0;34m(\u001b[0m\u001b[0mlengths\u001b[0m\u001b[0;34m)\u001b[0m \u001b[0;34m>\u001b[0m \u001b[0;36m1\u001b[0m\u001b[0;34m:\u001b[0m\u001b[0;34m\u001b[0m\u001b[0;34m\u001b[0m\u001b[0m\n\u001b[0;32m--> 635\u001b[0;31m                 \u001b[0;32mraise\u001b[0m \u001b[0mValueError\u001b[0m\u001b[0;34m(\u001b[0m\u001b[0;34m\"All arrays must be of the same length\"\u001b[0m\u001b[0;34m)\u001b[0m\u001b[0;34m\u001b[0m\u001b[0;34m\u001b[0m\u001b[0m\n\u001b[0m\u001b[1;32m    636\u001b[0m \u001b[0;34m\u001b[0m\u001b[0m\n\u001b[1;32m    637\u001b[0m             \u001b[0;32mif\u001b[0m \u001b[0mhave_dicts\u001b[0m\u001b[0;34m:\u001b[0m\u001b[0;34m\u001b[0m\u001b[0;34m\u001b[0m\u001b[0m\n",
      "\u001b[0;31mValueError\u001b[0m: All arrays must be of the same length"
     ]
    }
   ],
   "source": [
    "designer.generate_tradespace()"
   ]
  },
  {
   "cell_type": "code",
   "execution_count": 1,
   "metadata": {},
   "outputs": [
    {
     "name": "stdout",
     "output_type": "stream",
     "text": [
      "[['Option1', 'Option2'], ['OptionA', 'OptionB'], ['OptionX', 'OptionY']]\n",
      "  Category1 Category2 Category3\n",
      "0   Option1   OptionA   OptionX\n",
      "1   Option1   OptionA   OptionY\n",
      "2   Option1   OptionB   OptionX\n",
      "3   Option1   OptionB   OptionY\n",
      "4   Option2   OptionA   OptionX\n",
      "5   Option2   OptionA   OptionY\n",
      "6   Option2   OptionB   OptionX\n",
      "7   Option2   OptionB   OptionY\n"
     ]
    }
   ],
   "source": [
    "import itertools\n",
    "import pandas as pd\n",
    "\n",
    "# Assuming you have a single dictionary with all categories\n",
    "all_categories = {\n",
    "    'Category1': [{'name': 'Option1', 'attribute1': 'Value1'}, {'name': 'Option2', 'attribute1': 'Value2'}],\n",
    "    'Category2': [{'name': 'OptionA', 'attribute2': 'ValueA'}, {'name': 'OptionB', 'attribute2': 'ValueB'}],\n",
    "    'Category3': [{'name': 'OptionX', 'attribute3': 'ValueX'}, {'name': 'OptionY', 'attribute3': 'ValueY'}]\n",
    "}\n",
    "\n",
    "# Get the names and options of the design variables\n",
    "categories = list(all_categories.keys())\n",
    "design_components_options = [[option['name'] for option in all_categories[category]] for category in categories]\n",
    "print(design_components_options)\n",
    "\n",
    "# Generate the unique combinations of the design variable options\n",
    "tradespace_data = list(itertools.product(*design_components_options))\n",
    "\n",
    "# Create a pandas DataFrame from the tradespace data\n",
    "tradespace_df = pd.DataFrame(tradespace_data, columns=categories)\n",
    "\n",
    "print(tradespace_df)"
   ]
  },
  {
   "cell_type": "code",
   "execution_count": 18,
   "metadata": {},
   "outputs": [
    {
     "name": "stdout",
     "output_type": "stream",
     "text": [
      "['CategoryX', 'Category1', 'Category2', 'Category3']\n",
      "[['Option1'], ['Option2'], ['OptionA', 'OptionB'], ['OptionX', 'OptionY']]\n",
      "  CategoryX Category1 Category2 Category3\n",
      "0   Option1   Option2   OptionA   OptionX\n",
      "1   Option1   Option2   OptionA   OptionY\n",
      "2   Option1   Option2   OptionB   OptionX\n",
      "3   Option1   Option2   OptionB   OptionY\n",
      "0    Option2\n",
      "1    Option2\n",
      "2    Option2\n",
      "3    Option2\n",
      "Name: Category1, dtype: object\n"
     ]
    }
   ],
   "source": [
    "import itertools\n",
    "import pandas as pd\n",
    "\n",
    "# Assuming you have a single dictionary with all categories\n",
    "components = {\n",
    "    'Option1': {'category': 'CategoryX', 'attribute1': 'Value1'},\n",
    "    'Option2': {'category': 'Category1', 'attribute1': 'Value2'},\n",
    "    'OptionA': {'category': 'Category2', 'attribute2': 'ValueA'},\n",
    "    'OptionB': {'category': 'Category2', 'attribute2': 'ValueB'},\n",
    "    'OptionX': {'category': 'Category3', 'attribute3': 'ValueX'},\n",
    "    'OptionY': {'category': 'Category3', 'attribute3': 'ValueY'}\n",
    "}\n",
    "\n",
    "# Get the unique categories with the same order as the design variables\n",
    "categories = list(dict.fromkeys([components[option]['category'] for option in components]))\n",
    "print(categories)\n",
    "\n",
    "# Generate the unique combinations of the design variable options\n",
    "components_by_category = [[option for option in components if components[option]['category'] == category] for category in categories]\n",
    "print(components_by_category)\n",
    "tradespace_data = list(itertools.product(*components_by_category))\n",
    "\n",
    "# Create a pandas DataFrame from the tradespace data\n",
    "tradespace_df = pd.DataFrame(tradespace_data, columns=categories)\n",
    "print(tradespace_df)\n",
    "\n",
    "# get attributes for each component\n",
    "print(tradespace_df['Category1'])\n",
    "# print(tradespace_df)"
   ]
  },
  {
   "cell_type": "code",
   "execution_count": 1,
   "metadata": {},
   "outputs": [
    {
     "ename": "ValueError",
     "evalue": "Trace type 'table' is not compatible with subplot type 'xy'\nat grid position (1, 1)\n\nSee the docstring for the specs argument to plotly.subplots.make_subplots\nfor more information on subplot types",
     "output_type": "error",
     "traceback": [
      "\u001b[0;31m---------------------------------------------------------------------------\u001b[0m",
      "\u001b[0;31mValueError\u001b[0m                                Traceback (most recent call last)",
      "\u001b[0;32m/tmp/ipykernel_30563/4256848360.py\u001b[0m in \u001b[0;36m<module>\u001b[0;34m\u001b[0m\n\u001b[1;32m     27\u001b[0m \u001b[0;31m# Create subplots and add figures to the subplots\u001b[0m\u001b[0;34m\u001b[0m\u001b[0;34m\u001b[0m\u001b[0;34m\u001b[0m\u001b[0m\n\u001b[1;32m     28\u001b[0m \u001b[0mfig\u001b[0m \u001b[0;34m=\u001b[0m \u001b[0mmake_subplots\u001b[0m\u001b[0;34m(\u001b[0m\u001b[0mrows\u001b[0m\u001b[0;34m=\u001b[0m\u001b[0;36m1\u001b[0m\u001b[0;34m,\u001b[0m \u001b[0mcols\u001b[0m\u001b[0;34m=\u001b[0m\u001b[0;36m2\u001b[0m\u001b[0;34m,\u001b[0m \u001b[0msubplot_titles\u001b[0m\u001b[0;34m=\u001b[0m\u001b[0;34m(\u001b[0m\u001b[0;34m'Figure 1'\u001b[0m\u001b[0;34m,\u001b[0m \u001b[0;34m'Figure 2'\u001b[0m\u001b[0;34m)\u001b[0m\u001b[0;34m)\u001b[0m\u001b[0;34m\u001b[0m\u001b[0;34m\u001b[0m\u001b[0m\n\u001b[0;32m---> 29\u001b[0;31m \u001b[0mfig\u001b[0m\u001b[0;34m.\u001b[0m\u001b[0madd_trace\u001b[0m\u001b[0;34m(\u001b[0m\u001b[0mfig1\u001b[0m\u001b[0;34m.\u001b[0m\u001b[0mdata\u001b[0m\u001b[0;34m[\u001b[0m\u001b[0;36m0\u001b[0m\u001b[0;34m]\u001b[0m\u001b[0;34m,\u001b[0m \u001b[0mrow\u001b[0m\u001b[0;34m=\u001b[0m\u001b[0;36m1\u001b[0m\u001b[0;34m,\u001b[0m \u001b[0mcol\u001b[0m\u001b[0;34m=\u001b[0m\u001b[0;36m1\u001b[0m\u001b[0;34m)\u001b[0m\u001b[0;34m\u001b[0m\u001b[0;34m\u001b[0m\u001b[0m\n\u001b[0m\u001b[1;32m     30\u001b[0m \u001b[0mfig\u001b[0m\u001b[0;34m.\u001b[0m\u001b[0madd_trace\u001b[0m\u001b[0;34m(\u001b[0m\u001b[0mfig2\u001b[0m\u001b[0;34m.\u001b[0m\u001b[0mdata\u001b[0m\u001b[0;34m[\u001b[0m\u001b[0;36m0\u001b[0m\u001b[0;34m]\u001b[0m\u001b[0;34m,\u001b[0m \u001b[0mrow\u001b[0m\u001b[0;34m=\u001b[0m\u001b[0;36m1\u001b[0m\u001b[0;34m,\u001b[0m \u001b[0mcol\u001b[0m\u001b[0;34m=\u001b[0m\u001b[0;36m2\u001b[0m\u001b[0;34m)\u001b[0m\u001b[0;34m\u001b[0m\u001b[0;34m\u001b[0m\u001b[0m\n\u001b[1;32m     31\u001b[0m \u001b[0;34m\u001b[0m\u001b[0m\n",
      "\u001b[0;32m~/.local/lib/python3.8/site-packages/plotly/graph_objs/_figure.py\u001b[0m in \u001b[0;36madd_trace\u001b[0;34m(self, trace, row, col, secondary_y, exclude_empty_subplots)\u001b[0m\n\u001b[1;32m    898\u001b[0m \u001b[0;34m\u001b[0m\u001b[0m\n\u001b[1;32m    899\u001b[0m         \"\"\"\n\u001b[0;32m--> 900\u001b[0;31m         return super(Figure, self).add_trace(\n\u001b[0m\u001b[1;32m    901\u001b[0m             \u001b[0mtrace\u001b[0m\u001b[0;34m,\u001b[0m \u001b[0mrow\u001b[0m\u001b[0;34m,\u001b[0m \u001b[0mcol\u001b[0m\u001b[0;34m,\u001b[0m \u001b[0msecondary_y\u001b[0m\u001b[0;34m,\u001b[0m \u001b[0mexclude_empty_subplots\u001b[0m\u001b[0;34m\u001b[0m\u001b[0;34m\u001b[0m\u001b[0m\n\u001b[1;32m    902\u001b[0m         )\n",
      "\u001b[0;32m~/.local/lib/python3.8/site-packages/plotly/basedatatypes.py\u001b[0m in \u001b[0;36madd_trace\u001b[0;34m(self, trace, row, col, secondary_y, exclude_empty_subplots)\u001b[0m\n\u001b[1;32m   2106\u001b[0m             \u001b[0;32mreturn\u001b[0m \u001b[0mself\u001b[0m\u001b[0;34m\u001b[0m\u001b[0;34m\u001b[0m\u001b[0m\n\u001b[1;32m   2107\u001b[0m \u001b[0;34m\u001b[0m\u001b[0m\n\u001b[0;32m-> 2108\u001b[0;31m         return self.add_traces(\n\u001b[0m\u001b[1;32m   2109\u001b[0m             \u001b[0mdata\u001b[0m\u001b[0;34m=\u001b[0m\u001b[0;34m[\u001b[0m\u001b[0mtrace\u001b[0m\u001b[0;34m]\u001b[0m\u001b[0;34m,\u001b[0m\u001b[0;34m\u001b[0m\u001b[0;34m\u001b[0m\u001b[0m\n\u001b[1;32m   2110\u001b[0m             \u001b[0mrows\u001b[0m\u001b[0;34m=\u001b[0m\u001b[0;34m[\u001b[0m\u001b[0mrow\u001b[0m\u001b[0;34m]\u001b[0m \u001b[0;32mif\u001b[0m \u001b[0mrow\u001b[0m \u001b[0;32mis\u001b[0m \u001b[0;32mnot\u001b[0m \u001b[0;32mNone\u001b[0m \u001b[0;32melse\u001b[0m \u001b[0;32mNone\u001b[0m\u001b[0;34m,\u001b[0m\u001b[0;34m\u001b[0m\u001b[0;34m\u001b[0m\u001b[0m\n",
      "\u001b[0;32m~/.local/lib/python3.8/site-packages/plotly/graph_objs/_figure.py\u001b[0m in \u001b[0;36madd_traces\u001b[0;34m(self, data, rows, cols, secondary_ys, exclude_empty_subplots)\u001b[0m\n\u001b[1;32m    978\u001b[0m \u001b[0;34m\u001b[0m\u001b[0m\n\u001b[1;32m    979\u001b[0m         \"\"\"\n\u001b[0;32m--> 980\u001b[0;31m         return super(Figure, self).add_traces(\n\u001b[0m\u001b[1;32m    981\u001b[0m             \u001b[0mdata\u001b[0m\u001b[0;34m,\u001b[0m \u001b[0mrows\u001b[0m\u001b[0;34m,\u001b[0m \u001b[0mcols\u001b[0m\u001b[0;34m,\u001b[0m \u001b[0msecondary_ys\u001b[0m\u001b[0;34m,\u001b[0m \u001b[0mexclude_empty_subplots\u001b[0m\u001b[0;34m\u001b[0m\u001b[0;34m\u001b[0m\u001b[0m\n\u001b[1;32m    982\u001b[0m         )\n",
      "\u001b[0;32m~/.local/lib/python3.8/site-packages/plotly/basedatatypes.py\u001b[0m in \u001b[0;36madd_traces\u001b[0;34m(self, data, rows, cols, secondary_ys, exclude_empty_subplots)\u001b[0m\n\u001b[1;32m   2236\u001b[0m         \u001b[0;32mif\u001b[0m \u001b[0mrows\u001b[0m \u001b[0;32mis\u001b[0m \u001b[0;32mnot\u001b[0m \u001b[0;32mNone\u001b[0m\u001b[0;34m:\u001b[0m\u001b[0;34m\u001b[0m\u001b[0;34m\u001b[0m\u001b[0m\n\u001b[1;32m   2237\u001b[0m             \u001b[0;32mfor\u001b[0m \u001b[0mtrace\u001b[0m\u001b[0;34m,\u001b[0m \u001b[0mrow\u001b[0m\u001b[0;34m,\u001b[0m \u001b[0mcol\u001b[0m\u001b[0;34m,\u001b[0m \u001b[0msecondary_y\u001b[0m \u001b[0;32min\u001b[0m \u001b[0mzip\u001b[0m\u001b[0;34m(\u001b[0m\u001b[0mdata\u001b[0m\u001b[0;34m,\u001b[0m \u001b[0mrows\u001b[0m\u001b[0;34m,\u001b[0m \u001b[0mcols\u001b[0m\u001b[0;34m,\u001b[0m \u001b[0msecondary_ys\u001b[0m\u001b[0;34m)\u001b[0m\u001b[0;34m:\u001b[0m\u001b[0;34m\u001b[0m\u001b[0;34m\u001b[0m\u001b[0m\n\u001b[0;32m-> 2238\u001b[0;31m                 \u001b[0mself\u001b[0m\u001b[0;34m.\u001b[0m\u001b[0m_set_trace_grid_position\u001b[0m\u001b[0;34m(\u001b[0m\u001b[0mtrace\u001b[0m\u001b[0;34m,\u001b[0m \u001b[0mrow\u001b[0m\u001b[0;34m,\u001b[0m \u001b[0mcol\u001b[0m\u001b[0;34m,\u001b[0m \u001b[0msecondary_y\u001b[0m\u001b[0;34m)\u001b[0m\u001b[0;34m\u001b[0m\u001b[0;34m\u001b[0m\u001b[0m\n\u001b[0m\u001b[1;32m   2239\u001b[0m \u001b[0;34m\u001b[0m\u001b[0m\n\u001b[1;32m   2240\u001b[0m         \u001b[0;32mif\u001b[0m \u001b[0mexclude_empty_subplots\u001b[0m\u001b[0;34m:\u001b[0m\u001b[0;34m\u001b[0m\u001b[0;34m\u001b[0m\u001b[0m\n",
      "\u001b[0;32m~/.local/lib/python3.8/site-packages/plotly/basedatatypes.py\u001b[0m in \u001b[0;36m_set_trace_grid_position\u001b[0;34m(self, trace, row, col, secondary_y)\u001b[0m\n\u001b[1;32m   2328\u001b[0m \u001b[0;34m\u001b[0m\u001b[0m\n\u001b[1;32m   2329\u001b[0m         \u001b[0mgrid_ref\u001b[0m \u001b[0;34m=\u001b[0m \u001b[0mself\u001b[0m\u001b[0;34m.\u001b[0m\u001b[0m_validate_get_grid_ref\u001b[0m\u001b[0;34m(\u001b[0m\u001b[0;34m)\u001b[0m\u001b[0;34m\u001b[0m\u001b[0;34m\u001b[0m\u001b[0m\n\u001b[0;32m-> 2330\u001b[0;31m         return _set_trace_grid_reference(\n\u001b[0m\u001b[1;32m   2331\u001b[0m             \u001b[0mtrace\u001b[0m\u001b[0;34m,\u001b[0m \u001b[0mself\u001b[0m\u001b[0;34m.\u001b[0m\u001b[0mlayout\u001b[0m\u001b[0;34m,\u001b[0m \u001b[0mgrid_ref\u001b[0m\u001b[0;34m,\u001b[0m \u001b[0mrow\u001b[0m\u001b[0;34m,\u001b[0m \u001b[0mcol\u001b[0m\u001b[0;34m,\u001b[0m \u001b[0msecondary_y\u001b[0m\u001b[0;34m\u001b[0m\u001b[0;34m\u001b[0m\u001b[0m\n\u001b[1;32m   2332\u001b[0m         )\n",
      "\u001b[0;32m~/.local/lib/python3.8/site-packages/plotly/_subplots.py\u001b[0m in \u001b[0;36m_set_trace_grid_reference\u001b[0;34m(trace, layout, grid_ref, row, col, secondary_y)\u001b[0m\n\u001b[1;32m   1415\u001b[0m     \u001b[0;32mfor\u001b[0m \u001b[0mk\u001b[0m \u001b[0;32min\u001b[0m \u001b[0mtrace_kwargs\u001b[0m\u001b[0;34m:\u001b[0m\u001b[0;34m\u001b[0m\u001b[0;34m\u001b[0m\u001b[0m\n\u001b[1;32m   1416\u001b[0m         \u001b[0;32mif\u001b[0m \u001b[0mk\u001b[0m \u001b[0;32mnot\u001b[0m \u001b[0;32min\u001b[0m \u001b[0mtrace\u001b[0m\u001b[0;34m:\u001b[0m\u001b[0;34m\u001b[0m\u001b[0;34m\u001b[0m\u001b[0m\n\u001b[0;32m-> 1417\u001b[0;31m             raise ValueError(\n\u001b[0m\u001b[1;32m   1418\u001b[0m                 \"\"\"\\\n\u001b[1;32m   1419\u001b[0m \u001b[0mTrace\u001b[0m \u001b[0mtype\u001b[0m \u001b[0;34m'{typ}'\u001b[0m \u001b[0;32mis\u001b[0m \u001b[0;32mnot\u001b[0m \u001b[0mcompatible\u001b[0m \u001b[0;32mwith\u001b[0m \u001b[0msubplot\u001b[0m \u001b[0mtype\u001b[0m \u001b[0;34m'{subplot_type}'\u001b[0m\u001b[0;34m\u001b[0m\u001b[0;34m\u001b[0m\u001b[0m\n",
      "\u001b[0;31mValueError\u001b[0m: Trace type 'table' is not compatible with subplot type 'xy'\nat grid position (1, 1)\n\nSee the docstring for the specs argument to plotly.subplots.make_subplots\nfor more information on subplot types"
     ]
    }
   ],
   "source": [
    "\n"
   ]
  }
 ],
 "metadata": {
  "kernelspec": {
   "display_name": "Python 3",
   "language": "python",
   "name": "python3"
  },
  "language_info": {
   "codemirror_mode": {
    "name": "ipython",
    "version": 3
   },
   "file_extension": ".py",
   "mimetype": "text/x-python",
   "name": "python",
   "nbconvert_exporter": "python",
   "pygments_lexer": "ipython3",
   "version": "3.8.10"
  },
  "orig_nbformat": 4
 },
 "nbformat": 4,
 "nbformat_minor": 2
}
