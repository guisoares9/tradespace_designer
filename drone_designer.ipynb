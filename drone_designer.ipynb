{
 "cells": [
  {
   "attachments": {},
   "cell_type": "markdown",
   "metadata": {},
   "source": [
    "# Drone Designer Platform"
   ]
  },
  {
   "cell_type": "code",
   "execution_count": 34,
   "metadata": {},
   "outputs": [
    {
     "name": "stdout",
     "output_type": "stream",
     "text": [
      "The autoreload extension is already loaded. To reload it, use:\n",
      "  %reload_ext autoreload\n"
     ]
    }
   ],
   "source": [
    "from uav_tradespace import UAVTradespacer\n",
    "\n",
    "%load_ext autoreload\n",
    "%autoreload 2\n",
    "\n",
    "# local imports\n"
   ]
  },
  {
   "attachments": {},
   "cell_type": "markdown",
   "metadata": {},
   "source": [
    "## Performance Variables or Attributes\n",
    "\n",
    "Performance variables or Attributes are used to evaluate the performance of a system. In this case, the system is a drone. The rules for selecting the performance variables are:\n",
    "\n",
    "1. The performance variables must represent how good the system is.\n",
    "2. They must be measurable.\n",
    "3. They will be used to compare different designs."
   ]
  },
  {
   "cell_type": "code",
   "execution_count": 35,
   "metadata": {},
   "outputs": [],
   "source": [
    "# Define your performance variables\n",
    "uav_td = UAVTradespacer()\n",
    "\n",
    "# Add performance variables\n",
    "# Add maximum flight distance\n",
    "uav_td.add_performance_variable(\"max_flight_distance\", 1, 20000, \"m\", 0.1)\n",
    "\n",
    "# Add maximum speed\n",
    "uav_td.add_performance_variable(\"max_speed\", 5, 50, \"m/s\", 0.1)\n",
    "\n",
    "# Add maximum payload\n",
    "uav_td.add_performance_variable(\"max_payload\", 0.1, 10, \"kg\", 0.6)\n",
    "\n",
    "# Add maximum endurance\n",
    "uav_td.add_performance_variable(\"max_flight_time\", 5, 60, \"min\", 0.2)\n"
   ]
  },
  {
   "attachments": {},
   "cell_type": "markdown",
   "metadata": {},
   "source": [
    "## Design Variables\n",
    "\n",
    "Design variables are the variables that can be changed to improve the performance of the system. In this case, the system is a drone. The rules for selecting the design variables are:\n",
    "\n",
    "1. The design variables are the components of the drone.\n",
    "2. Their characteristics must be measurable.\n",
    "3. The relationship between the design vars and the performance vars in this case is the mathematical model of the drone.\n",
    "4. The design variables are concatenated into components, each one has a name, category, and a list of attributes that can be changed."
   ]
  },
  {
   "attachments": {},
   "cell_type": "markdown",
   "metadata": {},
   "source": [
    "### Add Batteries options\n",
    "\n",
    "> On the batteries side, it is possible to choose between different options on the market, varying in weight, capacity, voltage and price. The question that we want to solve is: how those characteristics of each battery affect the performance of the drone? To answer that question, lets add the batteries to the design space."
   ]
  },
  {
   "cell_type": "code",
   "execution_count": 36,
   "metadata": {},
   "outputs": [],
   "source": [
    "\n",
    "# Add lipo battery with its attributes\n",
    "# Add Zeee 2S LiPo Battery 7.4V 60C 1500mAh (Pack with 2 in parallel)\n",
    "# https://amzn.eu/d/0v9NqXT\n",
    "uav_td.add_battery(name='zeee_1500_2_pack', Ub=7.4, Cb=3000,\n",
    "            Cmin=600, Rb=0.2, mass=0.176, price=32.99)\n",
    "# Add Tattu 2300mAh 11.1V 45C 3S1P\n",
    "# https://amzn.eu/d/3qAMa69\n",
    "uav_td.add_battery(name='tatoo_2300', Ub=11.1, Cb=2300,\n",
    "            Cmin=460, Rb=0.2, mass=0.1822, price=26.19)\n",
    "# Add HRB 2 Pack 3S 11,1 V 5000 mAh LiPo-accu 50 C\n",
    "# https://amzn.eu/d/bihiQ4N\n",
    "uav_td.add_battery(name='hrb_5000', Ub=11.1, Cb=5000,\n",
    "            Cmin=1000, Rb=0.2, mass=0.376, price=45.99)\n",
    "# Add Zeee 3S Lipo Battery 11.1V 100C 8000mAh\n",
    "# https://amzn.eu/d/8p7C5QJ\n",
    "uav_td.add_battery(name='zeee_8000', Ub=11.1, Cb=8000,\n",
    "            Cmin=1600, Rb=0.2, mass=0.493, price=79.99)\n",
    "# Add Tattu Lipo 6S RC Battery 22.2V 1300mAh 120C\n",
    "# https://amzn.eu/d/fp4bDz7\n",
    "uav_td.add_battery(name='tatoo_1300', Ub=22.2, Cb=1300,\n",
    "            Cmin=260, Rb=0.2, mass=0.212, price=41.62)\n"
   ]
  },
  {
   "attachments": {},
   "cell_type": "markdown",
   "metadata": {},
   "source": [
    "### Motors"
   ]
  },
  {
   "cell_type": "code",
   "execution_count": 37,
   "metadata": {},
   "outputs": [],
   "source": [
    "# Add motor with its attributes\n",
    "# Add TMOTOR Velox Victory V3008 1350kv\n",
    "# https://shop.tmotor.com/products/cinematic-fpv-drone-motor-v3008\n",
    "uav_td.add_motor(name='motor_v3008', Kv0=1350, Um0=10,\n",
    "          Im0=1.18, Rm=0.1, mass=0.07, price=28.39)\n",
    "# Add TMOTOR VELOCE V2808 1950KV\n",
    "# https://shop.tmotor.com/products/fpv-brushless-motor-v2808?variant=41118111367377\n",
    "uav_td.add_motor(name='motor_v2808', Kv0=1950, Um0=10,\n",
    "          Im0=2.45, Rm=0.1, mass=0.061, price=24.83)\n"
   ]
  },
  {
   "attachments": {},
   "cell_type": "markdown",
   "metadata": {},
   "source": [
    "### Propellers"
   ]
  },
  {
   "cell_type": "code",
   "execution_count": 38,
   "metadata": {},
   "outputs": [],
   "source": [
    "# Add propeller with its attributes\n",
    "# Add Tmotor MS1101\n",
    "# https://uav-en.tmotor.com/html/2019/Straight_0429/242.html\n",
    "# https://store.tmotor.com/goods.php?id=822\n",
    "uav_td.add_propeller(name='propeller_ms1101', Dp=11, Hp=4.2, Bp=2, mass=0.010, price=13.99 / 2)\n",
    "# Add Tmotor T9545-A\n",
    "# https://uav-en.tmotor.com/html/2018/Straight_0416/150.html\n",
    "# https://store.tmotor.com/goods.php?id=479\n",
    "uav_td.add_propeller(name='propeller_t9545', Dp=9.5, Hp=4.5, Bp=2, mass=0.008, price=7.99 / 2)\n",
    "# Add Tmotor MF1302 folding propeller\n",
    "# https://uav-en.tmotor.com/html/2019/Folding_0603/250.html\n",
    "# https://store.tmotor.com/goods.php?id=853\n",
    "uav_td.add_propeller(name='propeller_mf1302', Dp=13, Hp=4.8, Bp=2, mass=0.017, price=29.99 / 2)\n"
   ]
  },
  {
   "attachments": {},
   "cell_type": "markdown",
   "metadata": {},
   "source": [
    "### ESCs"
   ]
  },
  {
   "cell_type": "code",
   "execution_count": 39,
   "metadata": {},
   "outputs": [],
   "source": [
    "\n",
    "# Add ESC with its attributes\n",
    "# Add 30A ESC\n",
    "uav_td.add_esc(name='esc_30', Re=0.01, mass=0.01, price=10)\n",
    "# # Add 20A ESC\n",
    "# add_esc('esc_20', 0.01, 0.01, 10)\n"
   ]
  },
  {
   "attachments": {},
   "cell_type": "markdown",
   "metadata": {},
   "source": [
    "### Frames"
   ]
  },
  {
   "cell_type": "code",
   "execution_count": 40,
   "metadata": {},
   "outputs": [],
   "source": [
    "# # Add frame with its attributes\n",
    "# # Add 450mm frame\n",
    "# https://www.aliexpress.com/item/1826445939.html?spm=a2g0o.productlist.main.1.50754792nUZ6Lo&algo_pvid=4287122b-6c35-4298-8ae2-759823a1c0b5&algo_exp_id=4287122b-6c35-4298-8ae2-759823a1c0b5-0&pdp_npi=3%40dis%21USD%2132.27%2119.04%21%21%2132.27%21%21%40212249cb16899388764054185d076a%2110000013899219007%21sea%21NL%212631492666&curPageLogUid=LcEeOINnKP5O\n",
    "uav_td.add_frame(name='frame_450', Df=450, nr=4, mass=0.282, price=17.86)\n",
    "# # Add custom 3D printed frame\n",
    "uav_td.add_frame(name='cig_frame', Df=450, nr=6, mass=0.3, price=20)\n"
   ]
  },
  {
   "cell_type": "code",
   "execution_count": 41,
   "metadata": {},
   "outputs": [],
   "source": [
    "# add_onboard_computer(name='raspberry_pi_4', Icontrol=1, mass=0.046, price=100)\n",
    "uav_td.add_onboard_computer(name='jetson_nano', Icontrol=3, mass=0.100, price=150)\n"
   ]
  },
  {
   "cell_type": "code",
   "execution_count": 42,
   "metadata": {},
   "outputs": [],
   "source": [
    "# save design components to json file\n",
    "uav_td.save_components_to_json('design_components.json')\n",
    "\n",
    "# generate the tradespace\n",
    "uav_td.generate_tradespace()"
   ]
  },
  {
   "cell_type": "code",
   "execution_count": 44,
   "metadata": {},
   "outputs": [
    {
     "data": {
      "application/vnd.plotly.v1+json": {
       "config": {
        "plotlyServerURL": "https://plot.ly"
       },
       "data": [
        {
         "hovertemplate": "<b>%{text}</b><br><br>%{xaxis.title.text}: %{x}<br>%{yaxis.title.text}: %{y}<extra></extra>",
         "marker": {
          "color": "blue",
          "size": 10,
          "symbol": "square"
         },
         "mode": "markers",
         "text": [
          "ID: 0",
          "ID: 1",
          "ID: 2",
          "ID: 3",
          "ID: 4",
          "ID: 5",
          "ID: 6",
          "ID: 7",
          "ID: 8",
          "ID: 9",
          "ID: 10",
          "ID: 11",
          "ID: 12",
          "ID: 13",
          "ID: 14",
          "ID: 15",
          "ID: 16",
          "ID: 17",
          "ID: 18",
          "ID: 19",
          "ID: 20",
          "ID: 21",
          "ID: 22",
          "ID: 23",
          "ID: 24",
          "ID: 25",
          "ID: 26",
          "ID: 27",
          "ID: 28",
          "ID: 29",
          "ID: 30",
          "ID: 31",
          "ID: 32",
          "ID: 33",
          "ID: 34",
          "ID: 35",
          "ID: 36",
          "ID: 37",
          "ID: 38",
          "ID: 39",
          "ID: 40",
          "ID: 41",
          "ID: 42",
          "ID: 43",
          "ID: 44",
          "ID: 45",
          "ID: 46",
          "ID: 47",
          "ID: 48",
          "ID: 49",
          "ID: 50",
          "ID: 51",
          "ID: 52",
          "ID: 53",
          "ID: 54",
          "ID: 55",
          "ID: 56",
          "ID: 57",
          "ID: 58",
          "ID: 59"
         ],
         "type": "scatter",
         "x": [
          382.39,
          475.3,
          370.39,
          457.3,
          414.39,
          523.3,
          368.15,
          453.94,
          356.15,
          435.94,
          400.15,
          501.94,
          375.59000000000003,
          468.5,
          363.59000000000003,
          450.5,
          407.59000000000003,
          516.5,
          361.35,
          447.14,
          349.35,
          429.14,
          393.35,
          495.14,
          395.39,
          488.3,
          383.39,
          470.3,
          427.39,
          536.3,
          381.15,
          466.94,
          369.15,
          448.94,
          413.15,
          514.94,
          429.39,
          522.3,
          417.39,
          504.3,
          461.39,
          570.3,
          415.15,
          500.94,
          403.15,
          482.94,
          447.15,
          548.94,
          391.02,
          483.93,
          379.02,
          465.93,
          423.02,
          531.9300000000001,
          376.78,
          462.57,
          364.78,
          444.57,
          408.78,
          510.57
         ],
         "y": [
          0.03534672250975679,
          0.042228153876483314,
          0.03064981566215188,
          0.03596544853743124,
          0.04134054558299101,
          0.050400168841624585,
          0.028984043720460557,
          0.03754868997176107,
          0.027644467476480507,
          0.03522989462244224,
          0.028930347543840697,
          0.03851211268855864,
          0.056850243407709736,
          0.07087559380858821,
          0.05111307623053614,
          0.06303525777313601,
          0.06376225737247007,
          0.08050800627893288,
          0.04950757062947368,
          0.06476219386124864,
          0.04835969899477738,
          0.06264130335615702,
          0.04879772672446673,
          0.06487447766813396,
          0.09338552670676978,
          0.10831594592307209,
          0.08747724365623977,
          0.10004741206652276,
          0.10012540353495988,
          0.11806704182636879,
          0.07732313495739931,
          0.0936321846855205,
          0.07722787484410876,
          0.09226938475478316,
          0.07440251281986429,
          0.09182067047843905,
          0.13024328541517494,
          0.1466719849038295,
          0.12428197468344988,
          0.1380672718181633,
          0.1366597611049396,
          0.15642995045121577,
          0.10528897608762992,
          0.12313726899530222,
          0.10635614448748257,
          0.12264833899481678,
          0.10004847922726931,
          0.11926960623902166,
          0.10932830752736679,
          0.14758476353249786,
          0.10216516150886647,
          0.1374393005852718,
          0.1165960858469741,
          0.157992745297015,
          0.09742362087444967,
          0.1338777944497651,
          0.09780393213339601,
          0.13395677749431897,
          0.09402014995256343,
          0.12996935271277194
         ]
        }
       ],
       "layout": {
        "showlegend": false,
        "template": {
         "data": {
          "bar": [
           {
            "error_x": {
             "color": "#2a3f5f"
            },
            "error_y": {
             "color": "#2a3f5f"
            },
            "marker": {
             "line": {
              "color": "#E5ECF6",
              "width": 0.5
             },
             "pattern": {
              "fillmode": "overlay",
              "size": 10,
              "solidity": 0.2
             }
            },
            "type": "bar"
           }
          ],
          "barpolar": [
           {
            "marker": {
             "line": {
              "color": "#E5ECF6",
              "width": 0.5
             },
             "pattern": {
              "fillmode": "overlay",
              "size": 10,
              "solidity": 0.2
             }
            },
            "type": "barpolar"
           }
          ],
          "carpet": [
           {
            "aaxis": {
             "endlinecolor": "#2a3f5f",
             "gridcolor": "white",
             "linecolor": "white",
             "minorgridcolor": "white",
             "startlinecolor": "#2a3f5f"
            },
            "baxis": {
             "endlinecolor": "#2a3f5f",
             "gridcolor": "white",
             "linecolor": "white",
             "minorgridcolor": "white",
             "startlinecolor": "#2a3f5f"
            },
            "type": "carpet"
           }
          ],
          "choropleth": [
           {
            "colorbar": {
             "outlinewidth": 0,
             "ticks": ""
            },
            "type": "choropleth"
           }
          ],
          "contour": [
           {
            "colorbar": {
             "outlinewidth": 0,
             "ticks": ""
            },
            "colorscale": [
             [
              0,
              "#0d0887"
             ],
             [
              0.1111111111111111,
              "#46039f"
             ],
             [
              0.2222222222222222,
              "#7201a8"
             ],
             [
              0.3333333333333333,
              "#9c179e"
             ],
             [
              0.4444444444444444,
              "#bd3786"
             ],
             [
              0.5555555555555556,
              "#d8576b"
             ],
             [
              0.6666666666666666,
              "#ed7953"
             ],
             [
              0.7777777777777778,
              "#fb9f3a"
             ],
             [
              0.8888888888888888,
              "#fdca26"
             ],
             [
              1,
              "#f0f921"
             ]
            ],
            "type": "contour"
           }
          ],
          "contourcarpet": [
           {
            "colorbar": {
             "outlinewidth": 0,
             "ticks": ""
            },
            "type": "contourcarpet"
           }
          ],
          "heatmap": [
           {
            "colorbar": {
             "outlinewidth": 0,
             "ticks": ""
            },
            "colorscale": [
             [
              0,
              "#0d0887"
             ],
             [
              0.1111111111111111,
              "#46039f"
             ],
             [
              0.2222222222222222,
              "#7201a8"
             ],
             [
              0.3333333333333333,
              "#9c179e"
             ],
             [
              0.4444444444444444,
              "#bd3786"
             ],
             [
              0.5555555555555556,
              "#d8576b"
             ],
             [
              0.6666666666666666,
              "#ed7953"
             ],
             [
              0.7777777777777778,
              "#fb9f3a"
             ],
             [
              0.8888888888888888,
              "#fdca26"
             ],
             [
              1,
              "#f0f921"
             ]
            ],
            "type": "heatmap"
           }
          ],
          "heatmapgl": [
           {
            "colorbar": {
             "outlinewidth": 0,
             "ticks": ""
            },
            "colorscale": [
             [
              0,
              "#0d0887"
             ],
             [
              0.1111111111111111,
              "#46039f"
             ],
             [
              0.2222222222222222,
              "#7201a8"
             ],
             [
              0.3333333333333333,
              "#9c179e"
             ],
             [
              0.4444444444444444,
              "#bd3786"
             ],
             [
              0.5555555555555556,
              "#d8576b"
             ],
             [
              0.6666666666666666,
              "#ed7953"
             ],
             [
              0.7777777777777778,
              "#fb9f3a"
             ],
             [
              0.8888888888888888,
              "#fdca26"
             ],
             [
              1,
              "#f0f921"
             ]
            ],
            "type": "heatmapgl"
           }
          ],
          "histogram": [
           {
            "marker": {
             "pattern": {
              "fillmode": "overlay",
              "size": 10,
              "solidity": 0.2
             }
            },
            "type": "histogram"
           }
          ],
          "histogram2d": [
           {
            "colorbar": {
             "outlinewidth": 0,
             "ticks": ""
            },
            "colorscale": [
             [
              0,
              "#0d0887"
             ],
             [
              0.1111111111111111,
              "#46039f"
             ],
             [
              0.2222222222222222,
              "#7201a8"
             ],
             [
              0.3333333333333333,
              "#9c179e"
             ],
             [
              0.4444444444444444,
              "#bd3786"
             ],
             [
              0.5555555555555556,
              "#d8576b"
             ],
             [
              0.6666666666666666,
              "#ed7953"
             ],
             [
              0.7777777777777778,
              "#fb9f3a"
             ],
             [
              0.8888888888888888,
              "#fdca26"
             ],
             [
              1,
              "#f0f921"
             ]
            ],
            "type": "histogram2d"
           }
          ],
          "histogram2dcontour": [
           {
            "colorbar": {
             "outlinewidth": 0,
             "ticks": ""
            },
            "colorscale": [
             [
              0,
              "#0d0887"
             ],
             [
              0.1111111111111111,
              "#46039f"
             ],
             [
              0.2222222222222222,
              "#7201a8"
             ],
             [
              0.3333333333333333,
              "#9c179e"
             ],
             [
              0.4444444444444444,
              "#bd3786"
             ],
             [
              0.5555555555555556,
              "#d8576b"
             ],
             [
              0.6666666666666666,
              "#ed7953"
             ],
             [
              0.7777777777777778,
              "#fb9f3a"
             ],
             [
              0.8888888888888888,
              "#fdca26"
             ],
             [
              1,
              "#f0f921"
             ]
            ],
            "type": "histogram2dcontour"
           }
          ],
          "mesh3d": [
           {
            "colorbar": {
             "outlinewidth": 0,
             "ticks": ""
            },
            "type": "mesh3d"
           }
          ],
          "parcoords": [
           {
            "line": {
             "colorbar": {
              "outlinewidth": 0,
              "ticks": ""
             }
            },
            "type": "parcoords"
           }
          ],
          "pie": [
           {
            "automargin": true,
            "type": "pie"
           }
          ],
          "scatter": [
           {
            "fillpattern": {
             "fillmode": "overlay",
             "size": 10,
             "solidity": 0.2
            },
            "type": "scatter"
           }
          ],
          "scatter3d": [
           {
            "line": {
             "colorbar": {
              "outlinewidth": 0,
              "ticks": ""
             }
            },
            "marker": {
             "colorbar": {
              "outlinewidth": 0,
              "ticks": ""
             }
            },
            "type": "scatter3d"
           }
          ],
          "scattercarpet": [
           {
            "marker": {
             "colorbar": {
              "outlinewidth": 0,
              "ticks": ""
             }
            },
            "type": "scattercarpet"
           }
          ],
          "scattergeo": [
           {
            "marker": {
             "colorbar": {
              "outlinewidth": 0,
              "ticks": ""
             }
            },
            "type": "scattergeo"
           }
          ],
          "scattergl": [
           {
            "marker": {
             "colorbar": {
              "outlinewidth": 0,
              "ticks": ""
             }
            },
            "type": "scattergl"
           }
          ],
          "scattermapbox": [
           {
            "marker": {
             "colorbar": {
              "outlinewidth": 0,
              "ticks": ""
             }
            },
            "type": "scattermapbox"
           }
          ],
          "scatterpolar": [
           {
            "marker": {
             "colorbar": {
              "outlinewidth": 0,
              "ticks": ""
             }
            },
            "type": "scatterpolar"
           }
          ],
          "scatterpolargl": [
           {
            "marker": {
             "colorbar": {
              "outlinewidth": 0,
              "ticks": ""
             }
            },
            "type": "scatterpolargl"
           }
          ],
          "scatterternary": [
           {
            "marker": {
             "colorbar": {
              "outlinewidth": 0,
              "ticks": ""
             }
            },
            "type": "scatterternary"
           }
          ],
          "surface": [
           {
            "colorbar": {
             "outlinewidth": 0,
             "ticks": ""
            },
            "colorscale": [
             [
              0,
              "#0d0887"
             ],
             [
              0.1111111111111111,
              "#46039f"
             ],
             [
              0.2222222222222222,
              "#7201a8"
             ],
             [
              0.3333333333333333,
              "#9c179e"
             ],
             [
              0.4444444444444444,
              "#bd3786"
             ],
             [
              0.5555555555555556,
              "#d8576b"
             ],
             [
              0.6666666666666666,
              "#ed7953"
             ],
             [
              0.7777777777777778,
              "#fb9f3a"
             ],
             [
              0.8888888888888888,
              "#fdca26"
             ],
             [
              1,
              "#f0f921"
             ]
            ],
            "type": "surface"
           }
          ],
          "table": [
           {
            "cells": {
             "fill": {
              "color": "#EBF0F8"
             },
             "line": {
              "color": "white"
             }
            },
            "header": {
             "fill": {
              "color": "#C8D4E3"
             },
             "line": {
              "color": "white"
             }
            },
            "type": "table"
           }
          ]
         },
         "layout": {
          "annotationdefaults": {
           "arrowcolor": "#2a3f5f",
           "arrowhead": 0,
           "arrowwidth": 1
          },
          "autotypenumbers": "strict",
          "coloraxis": {
           "colorbar": {
            "outlinewidth": 0,
            "ticks": ""
           }
          },
          "colorscale": {
           "diverging": [
            [
             0,
             "#8e0152"
            ],
            [
             0.1,
             "#c51b7d"
            ],
            [
             0.2,
             "#de77ae"
            ],
            [
             0.3,
             "#f1b6da"
            ],
            [
             0.4,
             "#fde0ef"
            ],
            [
             0.5,
             "#f7f7f7"
            ],
            [
             0.6,
             "#e6f5d0"
            ],
            [
             0.7,
             "#b8e186"
            ],
            [
             0.8,
             "#7fbc41"
            ],
            [
             0.9,
             "#4d9221"
            ],
            [
             1,
             "#276419"
            ]
           ],
           "sequential": [
            [
             0,
             "#0d0887"
            ],
            [
             0.1111111111111111,
             "#46039f"
            ],
            [
             0.2222222222222222,
             "#7201a8"
            ],
            [
             0.3333333333333333,
             "#9c179e"
            ],
            [
             0.4444444444444444,
             "#bd3786"
            ],
            [
             0.5555555555555556,
             "#d8576b"
            ],
            [
             0.6666666666666666,
             "#ed7953"
            ],
            [
             0.7777777777777778,
             "#fb9f3a"
            ],
            [
             0.8888888888888888,
             "#fdca26"
            ],
            [
             1,
             "#f0f921"
            ]
           ],
           "sequentialminus": [
            [
             0,
             "#0d0887"
            ],
            [
             0.1111111111111111,
             "#46039f"
            ],
            [
             0.2222222222222222,
             "#7201a8"
            ],
            [
             0.3333333333333333,
             "#9c179e"
            ],
            [
             0.4444444444444444,
             "#bd3786"
            ],
            [
             0.5555555555555556,
             "#d8576b"
            ],
            [
             0.6666666666666666,
             "#ed7953"
            ],
            [
             0.7777777777777778,
             "#fb9f3a"
            ],
            [
             0.8888888888888888,
             "#fdca26"
            ],
            [
             1,
             "#f0f921"
            ]
           ]
          },
          "colorway": [
           "#636efa",
           "#EF553B",
           "#00cc96",
           "#ab63fa",
           "#FFA15A",
           "#19d3f3",
           "#FF6692",
           "#B6E880",
           "#FF97FF",
           "#FECB52"
          ],
          "font": {
           "color": "#2a3f5f"
          },
          "geo": {
           "bgcolor": "white",
           "lakecolor": "white",
           "landcolor": "#E5ECF6",
           "showlakes": true,
           "showland": true,
           "subunitcolor": "white"
          },
          "hoverlabel": {
           "align": "left"
          },
          "hovermode": "closest",
          "mapbox": {
           "style": "light"
          },
          "paper_bgcolor": "white",
          "plot_bgcolor": "#E5ECF6",
          "polar": {
           "angularaxis": {
            "gridcolor": "white",
            "linecolor": "white",
            "ticks": ""
           },
           "bgcolor": "#E5ECF6",
           "radialaxis": {
            "gridcolor": "white",
            "linecolor": "white",
            "ticks": ""
           }
          },
          "scene": {
           "xaxis": {
            "backgroundcolor": "#E5ECF6",
            "gridcolor": "white",
            "gridwidth": 2,
            "linecolor": "white",
            "showbackground": true,
            "ticks": "",
            "zerolinecolor": "white"
           },
           "yaxis": {
            "backgroundcolor": "#E5ECF6",
            "gridcolor": "white",
            "gridwidth": 2,
            "linecolor": "white",
            "showbackground": true,
            "ticks": "",
            "zerolinecolor": "white"
           },
           "zaxis": {
            "backgroundcolor": "#E5ECF6",
            "gridcolor": "white",
            "gridwidth": 2,
            "linecolor": "white",
            "showbackground": true,
            "ticks": "",
            "zerolinecolor": "white"
           }
          },
          "shapedefaults": {
           "line": {
            "color": "#2a3f5f"
           }
          },
          "ternary": {
           "aaxis": {
            "gridcolor": "white",
            "linecolor": "white",
            "ticks": ""
           },
           "baxis": {
            "gridcolor": "white",
            "linecolor": "white",
            "ticks": ""
           },
           "bgcolor": "#E5ECF6",
           "caxis": {
            "gridcolor": "white",
            "linecolor": "white",
            "ticks": ""
           }
          },
          "title": {
           "x": 0.05
          },
          "xaxis": {
           "automargin": true,
           "gridcolor": "white",
           "linecolor": "white",
           "ticks": "",
           "title": {
            "standoff": 15
           },
           "zerolinecolor": "white",
           "zerolinewidth": 2
          },
          "yaxis": {
           "automargin": true,
           "gridcolor": "white",
           "linecolor": "white",
           "ticks": "",
           "title": {
            "standoff": 15
           },
           "zerolinecolor": "white",
           "zerolinewidth": 2
          }
         }
        },
        "xaxis": {
         "title": {
          "text": "price"
         }
        },
        "yaxis": {
         "title": {
          "text": "MAU"
         }
        }
       }
      }
     },
     "metadata": {},
     "output_type": "display_data"
    },
    {
     "data": {
      "application/vnd.plotly.v1+json": {
       "config": {
        "plotlyServerURL": "https://plot.ly"
       },
       "data": [
        {
         "cells": {
          "align": "left",
          "fill": {
           "color": "lavender"
          },
          "values": [
           [
            "zeee_1500_2_pack",
            "zeee_1500_2_pack",
            "zeee_1500_2_pack",
            "zeee_1500_2_pack",
            "zeee_1500_2_pack",
            "zeee_1500_2_pack",
            "zeee_1500_2_pack",
            "zeee_1500_2_pack",
            "zeee_1500_2_pack",
            "zeee_1500_2_pack",
            "zeee_1500_2_pack",
            "zeee_1500_2_pack",
            "tatoo_2300",
            "tatoo_2300",
            "tatoo_2300",
            "tatoo_2300",
            "tatoo_2300",
            "tatoo_2300",
            "tatoo_2300",
            "tatoo_2300",
            "tatoo_2300",
            "tatoo_2300",
            "tatoo_2300",
            "tatoo_2300",
            "hrb_5000",
            "hrb_5000",
            "hrb_5000",
            "hrb_5000",
            "hrb_5000",
            "hrb_5000",
            "hrb_5000",
            "hrb_5000",
            "hrb_5000",
            "hrb_5000",
            "hrb_5000",
            "hrb_5000",
            "zeee_8000",
            "zeee_8000",
            "zeee_8000",
            "zeee_8000",
            "zeee_8000",
            "zeee_8000",
            "zeee_8000",
            "zeee_8000",
            "zeee_8000",
            "zeee_8000",
            "zeee_8000",
            "zeee_8000",
            "tatoo_1300",
            "tatoo_1300",
            "tatoo_1300",
            "tatoo_1300",
            "tatoo_1300",
            "tatoo_1300",
            "tatoo_1300",
            "tatoo_1300",
            "tatoo_1300",
            "tatoo_1300",
            "tatoo_1300",
            "tatoo_1300"
           ],
           [
            "motor_v3008",
            "motor_v3008",
            "motor_v3008",
            "motor_v3008",
            "motor_v3008",
            "motor_v3008",
            "motor_v2808",
            "motor_v2808",
            "motor_v2808",
            "motor_v2808",
            "motor_v2808",
            "motor_v2808",
            "motor_v3008",
            "motor_v3008",
            "motor_v3008",
            "motor_v3008",
            "motor_v3008",
            "motor_v3008",
            "motor_v2808",
            "motor_v2808",
            "motor_v2808",
            "motor_v2808",
            "motor_v2808",
            "motor_v2808",
            "motor_v3008",
            "motor_v3008",
            "motor_v3008",
            "motor_v3008",
            "motor_v3008",
            "motor_v3008",
            "motor_v2808",
            "motor_v2808",
            "motor_v2808",
            "motor_v2808",
            "motor_v2808",
            "motor_v2808",
            "motor_v3008",
            "motor_v3008",
            "motor_v3008",
            "motor_v3008",
            "motor_v3008",
            "motor_v3008",
            "motor_v2808",
            "motor_v2808",
            "motor_v2808",
            "motor_v2808",
            "motor_v2808",
            "motor_v2808",
            "motor_v3008",
            "motor_v3008",
            "motor_v3008",
            "motor_v3008",
            "motor_v3008",
            "motor_v3008",
            "motor_v2808",
            "motor_v2808",
            "motor_v2808",
            "motor_v2808",
            "motor_v2808",
            "motor_v2808"
           ],
           [
            "propeller_ms1101",
            "propeller_ms1101",
            "propeller_t9545",
            "propeller_t9545",
            "propeller_mf1302",
            "propeller_mf1302",
            "propeller_ms1101",
            "propeller_ms1101",
            "propeller_t9545",
            "propeller_t9545",
            "propeller_mf1302",
            "propeller_mf1302",
            "propeller_ms1101",
            "propeller_ms1101",
            "propeller_t9545",
            "propeller_t9545",
            "propeller_mf1302",
            "propeller_mf1302",
            "propeller_ms1101",
            "propeller_ms1101",
            "propeller_t9545",
            "propeller_t9545",
            "propeller_mf1302",
            "propeller_mf1302",
            "propeller_ms1101",
            "propeller_ms1101",
            "propeller_t9545",
            "propeller_t9545",
            "propeller_mf1302",
            "propeller_mf1302",
            "propeller_ms1101",
            "propeller_ms1101",
            "propeller_t9545",
            "propeller_t9545",
            "propeller_mf1302",
            "propeller_mf1302",
            "propeller_ms1101",
            "propeller_ms1101",
            "propeller_t9545",
            "propeller_t9545",
            "propeller_mf1302",
            "propeller_mf1302",
            "propeller_ms1101",
            "propeller_ms1101",
            "propeller_t9545",
            "propeller_t9545",
            "propeller_mf1302",
            "propeller_mf1302",
            "propeller_ms1101",
            "propeller_ms1101",
            "propeller_t9545",
            "propeller_t9545",
            "propeller_mf1302",
            "propeller_mf1302",
            "propeller_ms1101",
            "propeller_ms1101",
            "propeller_t9545",
            "propeller_t9545",
            "propeller_mf1302",
            "propeller_mf1302"
           ],
           [
            "esc_30",
            "esc_30",
            "esc_30",
            "esc_30",
            "esc_30",
            "esc_30",
            "esc_30",
            "esc_30",
            "esc_30",
            "esc_30",
            "esc_30",
            "esc_30",
            "esc_30",
            "esc_30",
            "esc_30",
            "esc_30",
            "esc_30",
            "esc_30",
            "esc_30",
            "esc_30",
            "esc_30",
            "esc_30",
            "esc_30",
            "esc_30",
            "esc_30",
            "esc_30",
            "esc_30",
            "esc_30",
            "esc_30",
            "esc_30",
            "esc_30",
            "esc_30",
            "esc_30",
            "esc_30",
            "esc_30",
            "esc_30",
            "esc_30",
            "esc_30",
            "esc_30",
            "esc_30",
            "esc_30",
            "esc_30",
            "esc_30",
            "esc_30",
            "esc_30",
            "esc_30",
            "esc_30",
            "esc_30",
            "esc_30",
            "esc_30",
            "esc_30",
            "esc_30",
            "esc_30",
            "esc_30",
            "esc_30",
            "esc_30",
            "esc_30",
            "esc_30",
            "esc_30",
            "esc_30"
           ],
           [
            "frame_450",
            "cig_frame",
            "frame_450",
            "cig_frame",
            "frame_450",
            "cig_frame",
            "frame_450",
            "cig_frame",
            "frame_450",
            "cig_frame",
            "frame_450",
            "cig_frame",
            "frame_450",
            "cig_frame",
            "frame_450",
            "cig_frame",
            "frame_450",
            "cig_frame",
            "frame_450",
            "cig_frame",
            "frame_450",
            "cig_frame",
            "frame_450",
            "cig_frame",
            "frame_450",
            "cig_frame",
            "frame_450",
            "cig_frame",
            "frame_450",
            "cig_frame",
            "frame_450",
            "cig_frame",
            "frame_450",
            "cig_frame",
            "frame_450",
            "cig_frame",
            "frame_450",
            "cig_frame",
            "frame_450",
            "cig_frame",
            "frame_450",
            "cig_frame",
            "frame_450",
            "cig_frame",
            "frame_450",
            "cig_frame",
            "frame_450",
            "cig_frame",
            "frame_450",
            "cig_frame",
            "frame_450",
            "cig_frame",
            "frame_450",
            "cig_frame",
            "frame_450",
            "cig_frame",
            "frame_450",
            "cig_frame",
            "frame_450",
            "cig_frame"
           ],
           [
            "jetson_nano",
            "jetson_nano",
            "jetson_nano",
            "jetson_nano",
            "jetson_nano",
            "jetson_nano",
            "jetson_nano",
            "jetson_nano",
            "jetson_nano",
            "jetson_nano",
            "jetson_nano",
            "jetson_nano",
            "jetson_nano",
            "jetson_nano",
            "jetson_nano",
            "jetson_nano",
            "jetson_nano",
            "jetson_nano",
            "jetson_nano",
            "jetson_nano",
            "jetson_nano",
            "jetson_nano",
            "jetson_nano",
            "jetson_nano",
            "jetson_nano",
            "jetson_nano",
            "jetson_nano",
            "jetson_nano",
            "jetson_nano",
            "jetson_nano",
            "jetson_nano",
            "jetson_nano",
            "jetson_nano",
            "jetson_nano",
            "jetson_nano",
            "jetson_nano",
            "jetson_nano",
            "jetson_nano",
            "jetson_nano",
            "jetson_nano",
            "jetson_nano",
            "jetson_nano",
            "jetson_nano",
            "jetson_nano",
            "jetson_nano",
            "jetson_nano",
            "jetson_nano",
            "jetson_nano",
            "jetson_nano",
            "jetson_nano",
            "jetson_nano",
            "jetson_nano",
            "jetson_nano",
            "jetson_nano",
            "jetson_nano",
            "jetson_nano",
            "jetson_nano",
            "jetson_nano",
            "jetson_nano",
            "jetson_nano"
           ],
           [
            0.918,
            1.116,
            0.9099999999999999,
            1.104,
            0.946,
            1.1580000000000001,
            0.882,
            1.062,
            0.874,
            1.05,
            0.9099999999999999,
            1.104,
            0.9242000000000001,
            1.1222,
            0.9162,
            1.1102,
            0.9522,
            1.1642000000000001,
            0.8882000000000001,
            1.0682,
            0.8802000000000001,
            1.0562,
            0.9162,
            1.1102,
            1.118,
            1.3160000000000003,
            1.11,
            1.3040000000000003,
            1.1460000000000001,
            1.358,
            1.082,
            1.262,
            1.074,
            1.25,
            1.11,
            1.3040000000000003,
            1.235,
            1.4330000000000003,
            1.227,
            1.4210000000000003,
            1.2630000000000001,
            1.475,
            1.199,
            1.379,
            1.191,
            1.367,
            1.227,
            1.4210000000000003,
            0.954,
            1.1520000000000001,
            0.946,
            1.1400000000000001,
            0.982,
            1.1940000000000002,
            0.918,
            1.098,
            0.9099999999999999,
            1.086,
            0.946,
            1.1400000000000001
           ],
           [
            4,
            6,
            4,
            6,
            4,
            6,
            4,
            6,
            4,
            6,
            4,
            6,
            4,
            6,
            4,
            6,
            4,
            6,
            4,
            6,
            4,
            6,
            4,
            6,
            4,
            6,
            4,
            6,
            4,
            6,
            4,
            6,
            4,
            6,
            4,
            6,
            4,
            6,
            4,
            6,
            4,
            6,
            4,
            6,
            4,
            6,
            4,
            6,
            4,
            6,
            4,
            6,
            4,
            6,
            4,
            6,
            4,
            6,
            4,
            6
           ],
           [
            1350,
            1350,
            1350,
            1350,
            1350,
            1350,
            1950,
            1950,
            1950,
            1950,
            1950,
            1950,
            1350,
            1350,
            1350,
            1350,
            1350,
            1350,
            1950,
            1950,
            1950,
            1950,
            1950,
            1950,
            1350,
            1350,
            1350,
            1350,
            1350,
            1350,
            1950,
            1950,
            1950,
            1950,
            1950,
            1950,
            1350,
            1350,
            1350,
            1350,
            1350,
            1350,
            1950,
            1950,
            1950,
            1950,
            1950,
            1950,
            1350,
            1350,
            1350,
            1350,
            1350,
            1350,
            1950,
            1950,
            1950,
            1950,
            1950,
            1950
           ],
           [
            7.4,
            7.4,
            7.4,
            7.4,
            7.4,
            7.4,
            7.4,
            7.4,
            7.4,
            7.4,
            7.4,
            7.4,
            11.1,
            11.1,
            11.1,
            11.1,
            11.1,
            11.1,
            11.1,
            11.1,
            11.1,
            11.1,
            11.1,
            11.1,
            11.1,
            11.1,
            11.1,
            11.1,
            11.1,
            11.1,
            11.1,
            11.1,
            11.1,
            11.1,
            11.1,
            11.1,
            11.1,
            11.1,
            11.1,
            11.1,
            11.1,
            11.1,
            11.1,
            11.1,
            11.1,
            11.1,
            11.1,
            11.1,
            22.2,
            22.2,
            22.2,
            22.2,
            22.2,
            22.2,
            22.2,
            22.2,
            22.2,
            22.2,
            22.2,
            22.2
           ],
           [
            3000,
            3000,
            3000,
            3000,
            3000,
            3000,
            3000,
            3000,
            3000,
            3000,
            3000,
            3000,
            2300,
            2300,
            2300,
            2300,
            2300,
            2300,
            2300,
            2300,
            2300,
            2300,
            2300,
            2300,
            5000,
            5000,
            5000,
            5000,
            5000,
            5000,
            5000,
            5000,
            5000,
            5000,
            5000,
            5000,
            8000,
            8000,
            8000,
            8000,
            8000,
            8000,
            8000,
            8000,
            8000,
            8000,
            8000,
            8000,
            1300,
            1300,
            1300,
            1300,
            1300,
            1300,
            1300,
            1300,
            1300,
            1300,
            1300,
            1300
           ],
           [
            382.39,
            475.3,
            370.39,
            457.3,
            414.39,
            523.3,
            368.15,
            453.94,
            356.15,
            435.94,
            400.15,
            501.94,
            375.59000000000003,
            468.5,
            363.59000000000003,
            450.5,
            407.59000000000003,
            516.5,
            361.35,
            447.14,
            349.35,
            429.14,
            393.35,
            495.14,
            395.39,
            488.3,
            383.39,
            470.3,
            427.39,
            536.3,
            381.15,
            466.94,
            369.15,
            448.94,
            413.15,
            514.94,
            429.39,
            522.3,
            417.39,
            504.3,
            461.39,
            570.3,
            415.15,
            500.94,
            403.15,
            482.94,
            447.15,
            548.94,
            391.02,
            483.93,
            379.02,
            465.93,
            423.02,
            531.9300000000001,
            376.78,
            462.57,
            364.78,
            444.57,
            408.78,
            510.57
           ],
           [
            2601.0722028767823,
            2620.0711628414188,
            2568.5334824220536,
            2573.056164238864,
            2625.9828343358163,
            2662.062292611997,
            2015.705977482829,
            2028.3736039179091,
            2058.5657186708263,
            2055.9010754837354,
            1906.6049709765164,
            1935.489124576219,
            2762.1986953847127,
            2802.426723270058,
            2730.4904635137127,
            2755.5738809572235,
            2787.6366722473317,
            2845.8626308236553,
            2171.77820064965,
            2198.7634198189517,
            2216.0789940710574,
            2227.6197235085733,
            2060.490586588394,
            2103.460171602057,
            5278.4324481123185,
            5481.897996125984,
            5239.3278168359975,
            5407.92253812869,
            5295.132337295772,
            5542.0011276756095,
            4090.9496115433976,
            4260.168225063926,
            4206.713183986206,
            4342.865244263534,
            3837.9959876408816,
            4039.868858883225,
            7846.158173266466,
            8253.780679711721,
            7806.489732981285,
            8157.874536003011,
            7843.625222795333,
            8322.462870079378,
            6034.18479573792,
            6380.282953485294,
            6230.955073840197,
            6526.464730210628,
            5627.187416867969,
            6021.325346315035,
            2541.075438727552,
            2620.4843086783476,
            2518.393487857908,
            2584.4990331746294,
            2560.9413505689586,
            2656.7595649756154,
            2059.9020069264006,
            2117.1980315630494,
            2099.1654125724267,
            2143.8397091357683,
            1966.0879615408908,
            2035.9928967735568
           ],
           [
            8.84193938935936,
            11.11272400908281,
            7.837878129307979,
            9.913302762203427,
            10.179584124202588,
            12.710395208532942,
            9.546206098032078,
            11.952070344110147,
            9.06986160937536,
            11.384186400218756,
            10.014361573006793,
            12.511516421182712,
            12.893754478111465,
            15.958300589381427,
            11.87108133606381,
            14.732108502367682,
            14.158289854535393,
            17.480944970318834,
            13.260263272199085,
            16.394807200355334,
            12.901612249143504,
            15.963409050048257,
            13.532337799516776,
            16.724509232804554,
            12.727704403837556,
            15.837861295905512,
            11.682069718636194,
            14.592355038355674,
            14.016515124040668,
            17.37949221335683,
            13.104312472052545,
            16.283537488642526,
            12.738331512728584,
            15.846425570384016,
            13.380347584404653,
            16.61571945921069,
            12.62148538105707,
            15.760118631220655,
            11.56293593368121,
            14.50297667327181,
            13.924736510119638,
            17.313607040933288,
            13.00354916179524,
            16.211084530924303,
            12.633223387853961,
            15.770392178526073,
            13.282193481599972,
            16.545031185466176,
            21.909024149411135,
            26.884357089058057,
            20.989108045082038,
            25.763463730148874,
            22.859158059278748,
            28.043746691237267,
            21.259186525942212,
            26.090815381814824,
            21.22365043542166,
            26.047093464057898,
            21.041081492808544,
            25.82674499284005
           ],
           [
            0.09750312436193717,
            0.17286019113006168,
            0.06585334985569832,
            0.1253855293707034,
            0.14450905947786633,
            0.24336909380395547,
            0.12426156909524846,
            0.21299785823002865,
            0.10778470818189001,
            0.18828256685999092,
            0.1401691227785011,
            0.23685918875490766,
            0.2662948949008596,
            0.42636385101591734,
            0.21777336437295552,
            0.3535815552240612,
            0.33118053268735853,
            0.5236923076956657,
            0.2871621445368996,
            0.4576647254699774,
            0.2693899557385041,
            0.43100644227238405,
            0.2996193699303823,
            0.47635056356020133,
            0.24653954321890242,
            0.40660849933396015,
            0.19801801269099834,
            0.333826203542104,
            0.31142518100540134,
            0.5039369560137086,
            0.2674067928549424,
            0.43790937378802014,
            0.24963460405654692,
            0.4112510905904269,
            0.27986401824842505,
            0.45659521187824414,
            0.23461293771431527,
            0.394681893829373,
            0.1860914071864112,
            0.32189959803751683,
            0.29949857550081416,
            0.4920103505091214,
            0.25548018735035527,
            0.425982768283433,
            0.23770799855195976,
            0.3993244850858397,
            0.2679374127438379,
            0.44466860637365696,
            0.886830474847402,
            1.35868607924358,
            0.8083178064177254,
            1.2409170765990651,
            0.9699818177020215,
            1.4834130935255092,
            0.8334210583069416,
            1.2785719544328893,
            0.8310314503630146,
            1.2749875425169992,
            0.8126961046962976,
            1.2474845240169234
           ],
           [
            8.838833392240169,
            8.061449317039486,
            8.73301622094723,
            7.928078217848158,
            8.851999094317737,
            8.099509742199846,
            7.0176562412966135,
            6.406326578263555,
            7.156051441604693,
            6.489767401957154,
            6.601690270536156,
            6.059417814757085,
            9.241436237425795,
            8.502497179149435,
            9.140975358180926,
            8.373208520802425,
            9.253062195233046,
            8.53903740511584,
            7.462304906789397,
            6.862955458863022,
            7.601102342302196,
            6.947968091344843,
            7.046237763733891,
            6.51196681425795,
            16.259375641701922,
            15.516994439417905,
            16.136060509143732,
            15.319049945824888,
            16.220844425975283,
            15.551651147097465,
            12.897151585480236,
            12.364883618182933,
            13.231630360410808,
            12.587828220133101,
            12.06550057451539,
            11.65521325811068,
            23.128148257898093,
            22.499662057338572,
            22.998918143824444,
            22.24653518220104,
            23.01830351165035,
            22.51716487615738,
            18.176030250827427,
            17.806531852521942,
            18.721442241589482,
            18.18468282198358,
            16.91663992953798,
            16.721006838027378,
            8.125372419649173,
            7.631963851080112,
            8.057411932942946,
            7.5392508652639245,
            8.13020135930232,
            7.656978425501127,
            6.800510075612005,
            6.37477815496176,
            6.912649088392864,
            6.446323502183179,
            6.472258637184463,
            6.091119509840379
           ],
           [
            0.1300101106493716,
            0.1309601061473783,
            0.12838309327576647,
            0.12860923867387689,
            0.1312557045020159,
            0.13305976761898078,
            0.10074033589093599,
            0.10137374888333962,
            0.10288343010504657,
            0.10275019128375096,
            0.09528501279946579,
            0.09672929269344561,
            0.13806683811114118,
            0.14007834008050693,
            0.13648134724304778,
            0.13773558082690252,
            0.1393388005523942,
            0.14225024405338543,
            0.10854433724934497,
            0.1098936656742313,
            0.11075948767793677,
            0.11133655300307882,
            0.10297967831333536,
            0.10512826499335252,
            0.26388481664644825,
            0.274058602736436,
            0.26192948731616567,
            0.2703596448886789,
            0.2647198528574315,
            0.2770639095792594,
            0.204507705962468,
            0.2129690597061816,
            0.2102961740080107,
            0.21710411741904764,
            0.19185939235166166,
            0.2019535406211923,
            0.3922775225394503,
            0.41265966696893447,
            0.39029400134913167,
            0.40786412000615085,
            0.3921508686832008,
            0.41609394820137896,
            0.3016743235030711,
            0.31898009667909866,
            0.31151332935847775,
            0.32628955098808077,
            0.2813234370152492,
            0.3010313188816958,
            0.12701012244249973,
            0.130980764472141,
            0.12587596819130498,
            0.12918141072926792,
            0.12800346770183302,
            0.13279461797967976,
            0.10295024785871297,
            0.10581519233776936,
            0.10491351630443656,
            0.10714734282392961,
            0.09825931104259666,
            0.10175473257530661
           ],
           [
            0.08537643087465246,
            0.13583831131295132,
            0.0630639584290662,
            0.10918450582674283,
            0.11510186942672418,
            0.1713421157451765,
            0.10102680217849062,
            0.1544904520913366,
            0.09044136909723023,
            0.14187080889375012,
            0.11143025717792873,
            0.1669225871373936,
            0.17541676618025476,
            0.2435177908751428,
            0.15269069635697355,
            0.21626907783039293,
            0.20351755232300875,
            0.27735433267375187,
            0.18356140604886856,
            0.2532179377856741,
            0.1755913833143001,
            0.24363131222329462,
            0.18960750665592838,
            0.260544649617879,
            0.17172676452972346,
            0.24084136213123358,
            0.14849043819191543,
            0.21316344529679274,
            0.20036700275645927,
            0.2750998269634851,
            0.18009583271227877,
            0.2507452775253895,
            0.17196292250507964,
            0.241031679341867,
            0.1862299463201034,
            0.2581270990935709,
            0.16936634180126822,
            0.23911374736045898,
            0.14584302074847133,
            0.21117725940604024,
            0.19832747800265862,
            0.2736357120207397,
            0.17785664803989423,
            0.24913521179831785,
            0.1696271863967547,
            0.23934204841169052,
            0.18404874403555493,
            0.256556248565915,
            0.3757560922091363,
            0.48631904642351237,
            0.35531351211293416,
            0.46141030511441944,
            0.39687017909508326,
            0.5120832598052726,
            0.3613152561320492,
            0.46868478626255167,
            0.36052556523159246,
            0.46771318809017554,
            0.3564684776179676,
            0.4628165553964456
           ],
           [
            -0.0002522096604103873,
            0.0073596152656627955,
            -0.0034491565802324932,
            0.0025641948859296366,
            0.004495864593723871,
            0.014481726646864188,
            0.0024506635449745916,
            0.011413925073740266,
            0.0007863341597868691,
            0.008917430995958679,
            0.004057487149343545,
            0.013824160480293703,
            0.01679746413139996,
            0.03296604555716337,
            0.011896299431611667,
            0.025614298507480933,
            0.023351568958319042,
            0.04279720279754198,
            0.01890526712493935,
            0.036127750047472464,
            0.017110096539242836,
            0.03343499416892768,
            0.020163572720240636,
            0.03801520844042438,
            0.014801974062515395,
            0.030970555488278803,
            0.009900809362727104,
            0.023618808438596362,
            0.021356078889434478,
            0.04080171272865743,
            0.016909777056054787,
            0.03413225997858789,
            0.015114606470358274,
            0.03143950410004312,
            0.018168082651356065,
            0.03601971837153981,
            0.01359726643578942,
            0.02976584786155283,
            0.008696101736001131,
            0.022414100811870386,
            0.0201513712627085,
            0.03959700510193145,
            0.015705069429328814,
            0.03292755235186191,
            0.013909898843632298,
            0.030234796473317133,
            0.016963375024630092,
            0.03481501074481383,
            0.07947782574216182,
            0.127140008004402,
            0.07154725317350762,
            0.11524414915142071,
            0.08787695128303248,
            0.13973869631570798,
            0.07408293518251935,
            0.11904767216493829,
            0.07384156064272875,
            0.11868561035525244,
            0.07198950552487855,
            0.1159075276784771
           ],
           [
            0.06979697076800306,
            0.055662714855263376,
            0.06787302219904054,
            0.053237785779057425,
            0.0700363471694134,
            0.056354722585451746,
            0.0366846589326657,
            0.02556957415024646,
            0.03920093530190351,
            0.027086680035584624,
            0.02912164128247556,
            0.01926214208649245,
            0.07711702249865081,
            0.06368176689362609,
            0.07529046105783502,
            0.06133106401458955,
            0.07732840354969174,
            0.06434613463846982,
            0.04476918012344358,
            0.03387191743387312,
            0.047292769860039933,
            0.03541760166081533,
            0.037204322976979835,
            0.027490305713780912,
            0.20471592075821676,
            0.1912180807166892,
            0.20247382743897696,
            0.18761908992408888,
            0.2040153531995506,
            0.19184820267449937,
            0.14358457428145882,
            0.13390697487605333,
            0.14966600655292378,
            0.1379605130933291,
            0.12846364680937072,
            0.12100387742019417,
            0.32960269559814714,
            0.3181756737697922,
            0.32725305716044445,
            0.3135733669491098,
            0.3276055183936427,
            0.3184939068392251,
            0.2395641863786805,
            0.23284603368221712,
            0.24948076802889968,
            0.23972150585424687,
            0.21666618053705416,
            0.2131092152368614,
            0.056824953084530415,
            0.047853888201456585,
            0.055589307871689926,
            0.04616819755025317,
            0.05691275198731492,
            0.04830869864547504,
            0.032736546829309175,
            0.02499596645385018,
            0.03477543797077934,
            0.026296790948785075,
            0.02676833885789932,
            0.01983853654255234
           ],
           [
            0.03534672250975679,
            0.042228153876483314,
            0.03064981566215188,
            0.03596544853743124,
            0.04134054558299101,
            0.050400168841624585,
            0.028984043720460557,
            0.03754868997176107,
            0.027644467476480507,
            0.03522989462244224,
            0.028930347543840697,
            0.03851211268855864,
            0.056850243407709736,
            0.07087559380858821,
            0.05111307623053614,
            0.06303525777313601,
            0.06376225737247007,
            0.08050800627893288,
            0.04950757062947368,
            0.06476219386124864,
            0.04835969899477738,
            0.06264130335615702,
            0.04879772672446673,
            0.06487447766813396,
            0.09338552670676978,
            0.10831594592307209,
            0.08747724365623977,
            0.10004741206652276,
            0.10012540353495988,
            0.11806704182636879,
            0.07732313495739931,
            0.0936321846855205,
            0.07722787484410876,
            0.09226938475478316,
            0.07440251281986429,
            0.09182067047843905,
            0.13024328541517494,
            0.1466719849038295,
            0.12428197468344988,
            0.1380672718181633,
            0.1366597611049396,
            0.15642995045121577,
            0.10528897608762992,
            0.12313726899530222,
            0.10635614448748257,
            0.12264833899481678,
            0.10004847922726931,
            0.11926960623902166,
            0.10932830752736679,
            0.14758476353249786,
            0.10216516150886647,
            0.1374393005852718,
            0.1165960858469741,
            0.157992745297015,
            0.09742362087444967,
            0.1338777944497651,
            0.09780393213339601,
            0.13395677749431897,
            0.09402014995256343,
            0.12996935271277194
           ]
          ]
         },
         "header": {
          "align": "left",
          "fill": {
           "color": "paleturquoise"
          },
          "values": [
           "battery",
           "motor",
           "propeller",
           "esc",
           "frame",
           "onboard_computer",
           "mass",
           "number_of_rotors",
           "kv",
           "voltage",
           "capacity",
           "price",
           "max_flight_distance",
           "max_speed",
           "max_payload",
           "max_flight_time",
           "SAU_max_flight_distance",
           "SAU_max_speed",
           "SAU_max_payload",
           "SAU_max_flight_time",
           "MAU"
          ]
         },
         "type": "table"
        }
       ],
       "layout": {
        "template": {
         "data": {
          "bar": [
           {
            "error_x": {
             "color": "#2a3f5f"
            },
            "error_y": {
             "color": "#2a3f5f"
            },
            "marker": {
             "line": {
              "color": "#E5ECF6",
              "width": 0.5
             },
             "pattern": {
              "fillmode": "overlay",
              "size": 10,
              "solidity": 0.2
             }
            },
            "type": "bar"
           }
          ],
          "barpolar": [
           {
            "marker": {
             "line": {
              "color": "#E5ECF6",
              "width": 0.5
             },
             "pattern": {
              "fillmode": "overlay",
              "size": 10,
              "solidity": 0.2
             }
            },
            "type": "barpolar"
           }
          ],
          "carpet": [
           {
            "aaxis": {
             "endlinecolor": "#2a3f5f",
             "gridcolor": "white",
             "linecolor": "white",
             "minorgridcolor": "white",
             "startlinecolor": "#2a3f5f"
            },
            "baxis": {
             "endlinecolor": "#2a3f5f",
             "gridcolor": "white",
             "linecolor": "white",
             "minorgridcolor": "white",
             "startlinecolor": "#2a3f5f"
            },
            "type": "carpet"
           }
          ],
          "choropleth": [
           {
            "colorbar": {
             "outlinewidth": 0,
             "ticks": ""
            },
            "type": "choropleth"
           }
          ],
          "contour": [
           {
            "colorbar": {
             "outlinewidth": 0,
             "ticks": ""
            },
            "colorscale": [
             [
              0,
              "#0d0887"
             ],
             [
              0.1111111111111111,
              "#46039f"
             ],
             [
              0.2222222222222222,
              "#7201a8"
             ],
             [
              0.3333333333333333,
              "#9c179e"
             ],
             [
              0.4444444444444444,
              "#bd3786"
             ],
             [
              0.5555555555555556,
              "#d8576b"
             ],
             [
              0.6666666666666666,
              "#ed7953"
             ],
             [
              0.7777777777777778,
              "#fb9f3a"
             ],
             [
              0.8888888888888888,
              "#fdca26"
             ],
             [
              1,
              "#f0f921"
             ]
            ],
            "type": "contour"
           }
          ],
          "contourcarpet": [
           {
            "colorbar": {
             "outlinewidth": 0,
             "ticks": ""
            },
            "type": "contourcarpet"
           }
          ],
          "heatmap": [
           {
            "colorbar": {
             "outlinewidth": 0,
             "ticks": ""
            },
            "colorscale": [
             [
              0,
              "#0d0887"
             ],
             [
              0.1111111111111111,
              "#46039f"
             ],
             [
              0.2222222222222222,
              "#7201a8"
             ],
             [
              0.3333333333333333,
              "#9c179e"
             ],
             [
              0.4444444444444444,
              "#bd3786"
             ],
             [
              0.5555555555555556,
              "#d8576b"
             ],
             [
              0.6666666666666666,
              "#ed7953"
             ],
             [
              0.7777777777777778,
              "#fb9f3a"
             ],
             [
              0.8888888888888888,
              "#fdca26"
             ],
             [
              1,
              "#f0f921"
             ]
            ],
            "type": "heatmap"
           }
          ],
          "heatmapgl": [
           {
            "colorbar": {
             "outlinewidth": 0,
             "ticks": ""
            },
            "colorscale": [
             [
              0,
              "#0d0887"
             ],
             [
              0.1111111111111111,
              "#46039f"
             ],
             [
              0.2222222222222222,
              "#7201a8"
             ],
             [
              0.3333333333333333,
              "#9c179e"
             ],
             [
              0.4444444444444444,
              "#bd3786"
             ],
             [
              0.5555555555555556,
              "#d8576b"
             ],
             [
              0.6666666666666666,
              "#ed7953"
             ],
             [
              0.7777777777777778,
              "#fb9f3a"
             ],
             [
              0.8888888888888888,
              "#fdca26"
             ],
             [
              1,
              "#f0f921"
             ]
            ],
            "type": "heatmapgl"
           }
          ],
          "histogram": [
           {
            "marker": {
             "pattern": {
              "fillmode": "overlay",
              "size": 10,
              "solidity": 0.2
             }
            },
            "type": "histogram"
           }
          ],
          "histogram2d": [
           {
            "colorbar": {
             "outlinewidth": 0,
             "ticks": ""
            },
            "colorscale": [
             [
              0,
              "#0d0887"
             ],
             [
              0.1111111111111111,
              "#46039f"
             ],
             [
              0.2222222222222222,
              "#7201a8"
             ],
             [
              0.3333333333333333,
              "#9c179e"
             ],
             [
              0.4444444444444444,
              "#bd3786"
             ],
             [
              0.5555555555555556,
              "#d8576b"
             ],
             [
              0.6666666666666666,
              "#ed7953"
             ],
             [
              0.7777777777777778,
              "#fb9f3a"
             ],
             [
              0.8888888888888888,
              "#fdca26"
             ],
             [
              1,
              "#f0f921"
             ]
            ],
            "type": "histogram2d"
           }
          ],
          "histogram2dcontour": [
           {
            "colorbar": {
             "outlinewidth": 0,
             "ticks": ""
            },
            "colorscale": [
             [
              0,
              "#0d0887"
             ],
             [
              0.1111111111111111,
              "#46039f"
             ],
             [
              0.2222222222222222,
              "#7201a8"
             ],
             [
              0.3333333333333333,
              "#9c179e"
             ],
             [
              0.4444444444444444,
              "#bd3786"
             ],
             [
              0.5555555555555556,
              "#d8576b"
             ],
             [
              0.6666666666666666,
              "#ed7953"
             ],
             [
              0.7777777777777778,
              "#fb9f3a"
             ],
             [
              0.8888888888888888,
              "#fdca26"
             ],
             [
              1,
              "#f0f921"
             ]
            ],
            "type": "histogram2dcontour"
           }
          ],
          "mesh3d": [
           {
            "colorbar": {
             "outlinewidth": 0,
             "ticks": ""
            },
            "type": "mesh3d"
           }
          ],
          "parcoords": [
           {
            "line": {
             "colorbar": {
              "outlinewidth": 0,
              "ticks": ""
             }
            },
            "type": "parcoords"
           }
          ],
          "pie": [
           {
            "automargin": true,
            "type": "pie"
           }
          ],
          "scatter": [
           {
            "fillpattern": {
             "fillmode": "overlay",
             "size": 10,
             "solidity": 0.2
            },
            "type": "scatter"
           }
          ],
          "scatter3d": [
           {
            "line": {
             "colorbar": {
              "outlinewidth": 0,
              "ticks": ""
             }
            },
            "marker": {
             "colorbar": {
              "outlinewidth": 0,
              "ticks": ""
             }
            },
            "type": "scatter3d"
           }
          ],
          "scattercarpet": [
           {
            "marker": {
             "colorbar": {
              "outlinewidth": 0,
              "ticks": ""
             }
            },
            "type": "scattercarpet"
           }
          ],
          "scattergeo": [
           {
            "marker": {
             "colorbar": {
              "outlinewidth": 0,
              "ticks": ""
             }
            },
            "type": "scattergeo"
           }
          ],
          "scattergl": [
           {
            "marker": {
             "colorbar": {
              "outlinewidth": 0,
              "ticks": ""
             }
            },
            "type": "scattergl"
           }
          ],
          "scattermapbox": [
           {
            "marker": {
             "colorbar": {
              "outlinewidth": 0,
              "ticks": ""
             }
            },
            "type": "scattermapbox"
           }
          ],
          "scatterpolar": [
           {
            "marker": {
             "colorbar": {
              "outlinewidth": 0,
              "ticks": ""
             }
            },
            "type": "scatterpolar"
           }
          ],
          "scatterpolargl": [
           {
            "marker": {
             "colorbar": {
              "outlinewidth": 0,
              "ticks": ""
             }
            },
            "type": "scatterpolargl"
           }
          ],
          "scatterternary": [
           {
            "marker": {
             "colorbar": {
              "outlinewidth": 0,
              "ticks": ""
             }
            },
            "type": "scatterternary"
           }
          ],
          "surface": [
           {
            "colorbar": {
             "outlinewidth": 0,
             "ticks": ""
            },
            "colorscale": [
             [
              0,
              "#0d0887"
             ],
             [
              0.1111111111111111,
              "#46039f"
             ],
             [
              0.2222222222222222,
              "#7201a8"
             ],
             [
              0.3333333333333333,
              "#9c179e"
             ],
             [
              0.4444444444444444,
              "#bd3786"
             ],
             [
              0.5555555555555556,
              "#d8576b"
             ],
             [
              0.6666666666666666,
              "#ed7953"
             ],
             [
              0.7777777777777778,
              "#fb9f3a"
             ],
             [
              0.8888888888888888,
              "#fdca26"
             ],
             [
              1,
              "#f0f921"
             ]
            ],
            "type": "surface"
           }
          ],
          "table": [
           {
            "cells": {
             "fill": {
              "color": "#EBF0F8"
             },
             "line": {
              "color": "white"
             }
            },
            "header": {
             "fill": {
              "color": "#C8D4E3"
             },
             "line": {
              "color": "white"
             }
            },
            "type": "table"
           }
          ]
         },
         "layout": {
          "annotationdefaults": {
           "arrowcolor": "#2a3f5f",
           "arrowhead": 0,
           "arrowwidth": 1
          },
          "autotypenumbers": "strict",
          "coloraxis": {
           "colorbar": {
            "outlinewidth": 0,
            "ticks": ""
           }
          },
          "colorscale": {
           "diverging": [
            [
             0,
             "#8e0152"
            ],
            [
             0.1,
             "#c51b7d"
            ],
            [
             0.2,
             "#de77ae"
            ],
            [
             0.3,
             "#f1b6da"
            ],
            [
             0.4,
             "#fde0ef"
            ],
            [
             0.5,
             "#f7f7f7"
            ],
            [
             0.6,
             "#e6f5d0"
            ],
            [
             0.7,
             "#b8e186"
            ],
            [
             0.8,
             "#7fbc41"
            ],
            [
             0.9,
             "#4d9221"
            ],
            [
             1,
             "#276419"
            ]
           ],
           "sequential": [
            [
             0,
             "#0d0887"
            ],
            [
             0.1111111111111111,
             "#46039f"
            ],
            [
             0.2222222222222222,
             "#7201a8"
            ],
            [
             0.3333333333333333,
             "#9c179e"
            ],
            [
             0.4444444444444444,
             "#bd3786"
            ],
            [
             0.5555555555555556,
             "#d8576b"
            ],
            [
             0.6666666666666666,
             "#ed7953"
            ],
            [
             0.7777777777777778,
             "#fb9f3a"
            ],
            [
             0.8888888888888888,
             "#fdca26"
            ],
            [
             1,
             "#f0f921"
            ]
           ],
           "sequentialminus": [
            [
             0,
             "#0d0887"
            ],
            [
             0.1111111111111111,
             "#46039f"
            ],
            [
             0.2222222222222222,
             "#7201a8"
            ],
            [
             0.3333333333333333,
             "#9c179e"
            ],
            [
             0.4444444444444444,
             "#bd3786"
            ],
            [
             0.5555555555555556,
             "#d8576b"
            ],
            [
             0.6666666666666666,
             "#ed7953"
            ],
            [
             0.7777777777777778,
             "#fb9f3a"
            ],
            [
             0.8888888888888888,
             "#fdca26"
            ],
            [
             1,
             "#f0f921"
            ]
           ]
          },
          "colorway": [
           "#636efa",
           "#EF553B",
           "#00cc96",
           "#ab63fa",
           "#FFA15A",
           "#19d3f3",
           "#FF6692",
           "#B6E880",
           "#FF97FF",
           "#FECB52"
          ],
          "font": {
           "color": "#2a3f5f"
          },
          "geo": {
           "bgcolor": "white",
           "lakecolor": "white",
           "landcolor": "#E5ECF6",
           "showlakes": true,
           "showland": true,
           "subunitcolor": "white"
          },
          "hoverlabel": {
           "align": "left"
          },
          "hovermode": "closest",
          "mapbox": {
           "style": "light"
          },
          "paper_bgcolor": "white",
          "plot_bgcolor": "#E5ECF6",
          "polar": {
           "angularaxis": {
            "gridcolor": "white",
            "linecolor": "white",
            "ticks": ""
           },
           "bgcolor": "#E5ECF6",
           "radialaxis": {
            "gridcolor": "white",
            "linecolor": "white",
            "ticks": ""
           }
          },
          "scene": {
           "xaxis": {
            "backgroundcolor": "#E5ECF6",
            "gridcolor": "white",
            "gridwidth": 2,
            "linecolor": "white",
            "showbackground": true,
            "ticks": "",
            "zerolinecolor": "white"
           },
           "yaxis": {
            "backgroundcolor": "#E5ECF6",
            "gridcolor": "white",
            "gridwidth": 2,
            "linecolor": "white",
            "showbackground": true,
            "ticks": "",
            "zerolinecolor": "white"
           },
           "zaxis": {
            "backgroundcolor": "#E5ECF6",
            "gridcolor": "white",
            "gridwidth": 2,
            "linecolor": "white",
            "showbackground": true,
            "ticks": "",
            "zerolinecolor": "white"
           }
          },
          "shapedefaults": {
           "line": {
            "color": "#2a3f5f"
           }
          },
          "ternary": {
           "aaxis": {
            "gridcolor": "white",
            "linecolor": "white",
            "ticks": ""
           },
           "baxis": {
            "gridcolor": "white",
            "linecolor": "white",
            "ticks": ""
           },
           "bgcolor": "#E5ECF6",
           "caxis": {
            "gridcolor": "white",
            "linecolor": "white",
            "ticks": ""
           }
          },
          "title": {
           "x": 0.05
          },
          "xaxis": {
           "automargin": true,
           "gridcolor": "white",
           "linecolor": "white",
           "ticks": "",
           "title": {
            "standoff": 15
           },
           "zerolinecolor": "white",
           "zerolinewidth": 2
          },
          "yaxis": {
           "automargin": true,
           "gridcolor": "white",
           "linecolor": "white",
           "ticks": "",
           "title": {
            "standoff": 15
           },
           "zerolinecolor": "white",
           "zerolinewidth": 2
          }
         }
        },
        "title": {
         "text": "Drone Designer"
        }
       }
      }
     },
     "metadata": {},
     "output_type": "display_data"
    }
   ],
   "source": [
    "# calculate the sau\n",
    "uav_td.td.calculate_sau()\n",
    "\n",
    "# calculate the mau\n",
    "uav_td.td.calculate_mau()\n",
    "\n",
    "# see the tradespace\n",
    "uav_td.td.plot_tradespace_plotly('price', 'MAU')\n",
    "\n",
    "# save the tradespace to a csv file\n",
    "uav_td.td.save_tradespace('tradespace.csv')\n"
   ]
  },
  {
   "cell_type": "code",
   "execution_count": 50,
   "metadata": {},
   "outputs": [
    {
     "data": {
      "application/vnd.plotly.v1+json": {
       "config": {
        "plotlyServerURL": "https://plot.ly"
       },
       "data": [
        {
         "hovertemplate": "<b>%{text}</b><br><br>%{xaxis.title.text}: %{x}<br>%{yaxis.title.text}: %{y}<extra></extra>",
         "marker": {
          "color": [
           0.918,
           1.116,
           0.9099999999999999,
           1.104,
           0.946,
           1.1580000000000001,
           0.882,
           1.062,
           0.874,
           1.05,
           0.9099999999999999,
           1.104,
           0.9242000000000001,
           1.1222,
           0.9162,
           1.1102,
           0.9522,
           1.1642000000000001,
           0.8882000000000001,
           1.0682,
           0.8802000000000001,
           1.0562,
           0.9162,
           1.1102,
           1.118,
           1.3160000000000003,
           1.11,
           1.3040000000000003,
           1.1460000000000001,
           1.358,
           1.082,
           1.262,
           1.074,
           1.25,
           1.11,
           1.3040000000000003,
           1.235,
           1.4330000000000003,
           1.227,
           1.4210000000000003,
           1.2630000000000001,
           1.475,
           1.199,
           1.379,
           1.191,
           1.367,
           1.227,
           1.4210000000000003,
           0.954,
           1.1520000000000001,
           0.946,
           1.1400000000000001,
           0.982,
           1.1940000000000002,
           0.918,
           1.098,
           0.9099999999999999,
           1.086,
           0.946,
           1.1400000000000001
          ],
          "colorbar": {
           "len": 1.05,
           "x": 0.35,
           "y": 0.49
          },
          "colorscale": [
           [
            0,
            "#440154"
           ],
           [
            0.1111111111111111,
            "#482878"
           ],
           [
            0.2222222222222222,
            "#3e4989"
           ],
           [
            0.3333333333333333,
            "#31688e"
           ],
           [
            0.4444444444444444,
            "#26828e"
           ],
           [
            0.5555555555555556,
            "#1f9e89"
           ],
           [
            0.6666666666666666,
            "#35b779"
           ],
           [
            0.7777777777777778,
            "#6ece58"
           ],
           [
            0.8888888888888888,
            "#b5de2b"
           ],
           [
            1,
            "#fde725"
           ]
          ],
          "showscale": true,
          "size": 10
         },
         "mode": "markers",
         "text": [
          "ID: 0",
          "ID: 1",
          "ID: 2",
          "ID: 3",
          "ID: 4",
          "ID: 5",
          "ID: 6",
          "ID: 7",
          "ID: 8",
          "ID: 9",
          "ID: 10",
          "ID: 11",
          "ID: 12",
          "ID: 13",
          "ID: 14",
          "ID: 15",
          "ID: 16",
          "ID: 17",
          "ID: 18",
          "ID: 19",
          "ID: 20",
          "ID: 21",
          "ID: 22",
          "ID: 23",
          "ID: 24",
          "ID: 25",
          "ID: 26",
          "ID: 27",
          "ID: 28",
          "ID: 29",
          "ID: 30",
          "ID: 31",
          "ID: 32",
          "ID: 33",
          "ID: 34",
          "ID: 35",
          "ID: 36",
          "ID: 37",
          "ID: 38",
          "ID: 39",
          "ID: 40",
          "ID: 41",
          "ID: 42",
          "ID: 43",
          "ID: 44",
          "ID: 45",
          "ID: 46",
          "ID: 47",
          "ID: 48",
          "ID: 49",
          "ID: 50",
          "ID: 51",
          "ID: 52",
          "ID: 53",
          "ID: 54",
          "ID: 55",
          "ID: 56",
          "ID: 57",
          "ID: 58",
          "ID: 59"
         ],
         "type": "scatter",
         "x": [
          382.39,
          475.3,
          370.39,
          457.3,
          414.39,
          523.3,
          368.15,
          453.94,
          356.15,
          435.94,
          400.15,
          501.94,
          375.59000000000003,
          468.5,
          363.59000000000003,
          450.5,
          407.59000000000003,
          516.5,
          361.35,
          447.14,
          349.35,
          429.14,
          393.35,
          495.14,
          395.39,
          488.3,
          383.39,
          470.3,
          427.39,
          536.3,
          381.15,
          466.94,
          369.15,
          448.94,
          413.15,
          514.94,
          429.39,
          522.3,
          417.39,
          504.3,
          461.39,
          570.3,
          415.15,
          500.94,
          403.15,
          482.94,
          447.15,
          548.94,
          391.02,
          483.93,
          379.02,
          465.93,
          423.02,
          531.9300000000001,
          376.78,
          462.57,
          364.78,
          444.57,
          408.78,
          510.57
         ],
         "xaxis": "x",
         "y": [
          0.03534672250975679,
          0.042228153876483314,
          0.03064981566215188,
          0.03596544853743124,
          0.04134054558299101,
          0.050400168841624585,
          0.028984043720460557,
          0.03754868997176107,
          0.027644467476480507,
          0.03522989462244224,
          0.028930347543840697,
          0.03851211268855864,
          0.056850243407709736,
          0.07087559380858821,
          0.05111307623053614,
          0.06303525777313601,
          0.06376225737247007,
          0.08050800627893288,
          0.04950757062947368,
          0.06476219386124864,
          0.04835969899477738,
          0.06264130335615702,
          0.04879772672446673,
          0.06487447766813396,
          0.09338552670676978,
          0.10831594592307209,
          0.08747724365623977,
          0.10004741206652276,
          0.10012540353495988,
          0.11806704182636879,
          0.07732313495739931,
          0.0936321846855205,
          0.07722787484410876,
          0.09226938475478316,
          0.07440251281986429,
          0.09182067047843905,
          0.13024328541517494,
          0.1466719849038295,
          0.12428197468344988,
          0.1380672718181633,
          0.1366597611049396,
          0.15642995045121577,
          0.10528897608762992,
          0.12313726899530222,
          0.10635614448748257,
          0.12264833899481678,
          0.10004847922726931,
          0.11926960623902166,
          0.10932830752736679,
          0.14758476353249786,
          0.10216516150886647,
          0.1374393005852718,
          0.1165960858469741,
          0.157992745297015,
          0.09742362087444967,
          0.1338777944497651,
          0.09780393213339601,
          0.13395677749431897,
          0.09402014995256343,
          0.12996935271277194
         ],
         "yaxis": "y"
        },
        {
         "hovertemplate": "<b>%{text}</b><br><br>%{xaxis.title.text}: %{x}<br>%{yaxis.title.text}: %{y}<extra></extra>",
         "marker": {
          "color": [
           1350,
           1350,
           1350,
           1350,
           1350,
           1350,
           1950,
           1950,
           1950,
           1950,
           1950,
           1950,
           1350,
           1350,
           1350,
           1350,
           1350,
           1350,
           1950,
           1950,
           1950,
           1950,
           1950,
           1950,
           1350,
           1350,
           1350,
           1350,
           1350,
           1350,
           1950,
           1950,
           1950,
           1950,
           1950,
           1950,
           1350,
           1350,
           1350,
           1350,
           1350,
           1350,
           1950,
           1950,
           1950,
           1950,
           1950,
           1950,
           1350,
           1350,
           1350,
           1350,
           1350,
           1350,
           1950,
           1950,
           1950,
           1950,
           1950,
           1950
          ],
          "colorbar": {
           "len": 1.05,
           "x": 0.35,
           "y": 0.49
          },
          "colorscale": [
           [
            0,
            "#440154"
           ],
           [
            0.1111111111111111,
            "#482878"
           ],
           [
            0.2222222222222222,
            "#3e4989"
           ],
           [
            0.3333333333333333,
            "#31688e"
           ],
           [
            0.4444444444444444,
            "#26828e"
           ],
           [
            0.5555555555555556,
            "#1f9e89"
           ],
           [
            0.6666666666666666,
            "#35b779"
           ],
           [
            0.7777777777777778,
            "#6ece58"
           ],
           [
            0.8888888888888888,
            "#b5de2b"
           ],
           [
            1,
            "#fde725"
           ]
          ],
          "showscale": true,
          "size": 10
         },
         "mode": "markers",
         "text": [
          "ID: 0",
          "ID: 1",
          "ID: 2",
          "ID: 3",
          "ID: 4",
          "ID: 5",
          "ID: 6",
          "ID: 7",
          "ID: 8",
          "ID: 9",
          "ID: 10",
          "ID: 11",
          "ID: 12",
          "ID: 13",
          "ID: 14",
          "ID: 15",
          "ID: 16",
          "ID: 17",
          "ID: 18",
          "ID: 19",
          "ID: 20",
          "ID: 21",
          "ID: 22",
          "ID: 23",
          "ID: 24",
          "ID: 25",
          "ID: 26",
          "ID: 27",
          "ID: 28",
          "ID: 29",
          "ID: 30",
          "ID: 31",
          "ID: 32",
          "ID: 33",
          "ID: 34",
          "ID: 35",
          "ID: 36",
          "ID: 37",
          "ID: 38",
          "ID: 39",
          "ID: 40",
          "ID: 41",
          "ID: 42",
          "ID: 43",
          "ID: 44",
          "ID: 45",
          "ID: 46",
          "ID: 47",
          "ID: 48",
          "ID: 49",
          "ID: 50",
          "ID: 51",
          "ID: 52",
          "ID: 53",
          "ID: 54",
          "ID: 55",
          "ID: 56",
          "ID: 57",
          "ID: 58",
          "ID: 59"
         ],
         "type": "scatter",
         "x": [
          382.39,
          475.3,
          370.39,
          457.3,
          414.39,
          523.3,
          368.15,
          453.94,
          356.15,
          435.94,
          400.15,
          501.94,
          375.59000000000003,
          468.5,
          363.59000000000003,
          450.5,
          407.59000000000003,
          516.5,
          361.35,
          447.14,
          349.35,
          429.14,
          393.35,
          495.14,
          395.39,
          488.3,
          383.39,
          470.3,
          427.39,
          536.3,
          381.15,
          466.94,
          369.15,
          448.94,
          413.15,
          514.94,
          429.39,
          522.3,
          417.39,
          504.3,
          461.39,
          570.3,
          415.15,
          500.94,
          403.15,
          482.94,
          447.15,
          548.94,
          391.02,
          483.93,
          379.02,
          465.93,
          423.02,
          531.9300000000001,
          376.78,
          462.57,
          364.78,
          444.57,
          408.78,
          510.57
         ],
         "xaxis": "x2",
         "y": [
          0.03534672250975679,
          0.042228153876483314,
          0.03064981566215188,
          0.03596544853743124,
          0.04134054558299101,
          0.050400168841624585,
          0.028984043720460557,
          0.03754868997176107,
          0.027644467476480507,
          0.03522989462244224,
          0.028930347543840697,
          0.03851211268855864,
          0.056850243407709736,
          0.07087559380858821,
          0.05111307623053614,
          0.06303525777313601,
          0.06376225737247007,
          0.08050800627893288,
          0.04950757062947368,
          0.06476219386124864,
          0.04835969899477738,
          0.06264130335615702,
          0.04879772672446673,
          0.06487447766813396,
          0.09338552670676978,
          0.10831594592307209,
          0.08747724365623977,
          0.10004741206652276,
          0.10012540353495988,
          0.11806704182636879,
          0.07732313495739931,
          0.0936321846855205,
          0.07722787484410876,
          0.09226938475478316,
          0.07440251281986429,
          0.09182067047843905,
          0.13024328541517494,
          0.1466719849038295,
          0.12428197468344988,
          0.1380672718181633,
          0.1366597611049396,
          0.15642995045121577,
          0.10528897608762992,
          0.12313726899530222,
          0.10635614448748257,
          0.12264833899481678,
          0.10004847922726931,
          0.11926960623902166,
          0.10932830752736679,
          0.14758476353249786,
          0.10216516150886647,
          0.1374393005852718,
          0.1165960858469741,
          0.157992745297015,
          0.09742362087444967,
          0.1338777944497651,
          0.09780393213339601,
          0.13395677749431897,
          0.09402014995256343,
          0.12996935271277194
         ],
         "yaxis": "y2"
        },
        {
         "hovertemplate": "<b>%{text}</b><br><br>%{xaxis.title.text}: %{x}<br>%{yaxis.title.text}: %{y}<extra></extra>",
         "marker": {
          "color": [
           7.4,
           7.4,
           7.4,
           7.4,
           7.4,
           7.4,
           7.4,
           7.4,
           7.4,
           7.4,
           7.4,
           7.4,
           11.1,
           11.1,
           11.1,
           11.1,
           11.1,
           11.1,
           11.1,
           11.1,
           11.1,
           11.1,
           11.1,
           11.1,
           11.1,
           11.1,
           11.1,
           11.1,
           11.1,
           11.1,
           11.1,
           11.1,
           11.1,
           11.1,
           11.1,
           11.1,
           11.1,
           11.1,
           11.1,
           11.1,
           11.1,
           11.1,
           11.1,
           11.1,
           11.1,
           11.1,
           11.1,
           11.1,
           22.2,
           22.2,
           22.2,
           22.2,
           22.2,
           22.2,
           22.2,
           22.2,
           22.2,
           22.2,
           22.2,
           22.2
          ],
          "colorbar": {
           "len": 1.05,
           "x": 0.35,
           "y": 0.49
          },
          "colorscale": [
           [
            0,
            "#440154"
           ],
           [
            0.1111111111111111,
            "#482878"
           ],
           [
            0.2222222222222222,
            "#3e4989"
           ],
           [
            0.3333333333333333,
            "#31688e"
           ],
           [
            0.4444444444444444,
            "#26828e"
           ],
           [
            0.5555555555555556,
            "#1f9e89"
           ],
           [
            0.6666666666666666,
            "#35b779"
           ],
           [
            0.7777777777777778,
            "#6ece58"
           ],
           [
            0.8888888888888888,
            "#b5de2b"
           ],
           [
            1,
            "#fde725"
           ]
          ],
          "showscale": true,
          "size": 10
         },
         "mode": "markers",
         "text": [
          "ID: 0",
          "ID: 1",
          "ID: 2",
          "ID: 3",
          "ID: 4",
          "ID: 5",
          "ID: 6",
          "ID: 7",
          "ID: 8",
          "ID: 9",
          "ID: 10",
          "ID: 11",
          "ID: 12",
          "ID: 13",
          "ID: 14",
          "ID: 15",
          "ID: 16",
          "ID: 17",
          "ID: 18",
          "ID: 19",
          "ID: 20",
          "ID: 21",
          "ID: 22",
          "ID: 23",
          "ID: 24",
          "ID: 25",
          "ID: 26",
          "ID: 27",
          "ID: 28",
          "ID: 29",
          "ID: 30",
          "ID: 31",
          "ID: 32",
          "ID: 33",
          "ID: 34",
          "ID: 35",
          "ID: 36",
          "ID: 37",
          "ID: 38",
          "ID: 39",
          "ID: 40",
          "ID: 41",
          "ID: 42",
          "ID: 43",
          "ID: 44",
          "ID: 45",
          "ID: 46",
          "ID: 47",
          "ID: 48",
          "ID: 49",
          "ID: 50",
          "ID: 51",
          "ID: 52",
          "ID: 53",
          "ID: 54",
          "ID: 55",
          "ID: 56",
          "ID: 57",
          "ID: 58",
          "ID: 59"
         ],
         "type": "scatter",
         "x": [
          382.39,
          475.3,
          370.39,
          457.3,
          414.39,
          523.3,
          368.15,
          453.94,
          356.15,
          435.94,
          400.15,
          501.94,
          375.59000000000003,
          468.5,
          363.59000000000003,
          450.5,
          407.59000000000003,
          516.5,
          361.35,
          447.14,
          349.35,
          429.14,
          393.35,
          495.14,
          395.39,
          488.3,
          383.39,
          470.3,
          427.39,
          536.3,
          381.15,
          466.94,
          369.15,
          448.94,
          413.15,
          514.94,
          429.39,
          522.3,
          417.39,
          504.3,
          461.39,
          570.3,
          415.15,
          500.94,
          403.15,
          482.94,
          447.15,
          548.94,
          391.02,
          483.93,
          379.02,
          465.93,
          423.02,
          531.9300000000001,
          376.78,
          462.57,
          364.78,
          444.57,
          408.78,
          510.57
         ],
         "xaxis": "x3",
         "y": [
          0.03534672250975679,
          0.042228153876483314,
          0.03064981566215188,
          0.03596544853743124,
          0.04134054558299101,
          0.050400168841624585,
          0.028984043720460557,
          0.03754868997176107,
          0.027644467476480507,
          0.03522989462244224,
          0.028930347543840697,
          0.03851211268855864,
          0.056850243407709736,
          0.07087559380858821,
          0.05111307623053614,
          0.06303525777313601,
          0.06376225737247007,
          0.08050800627893288,
          0.04950757062947368,
          0.06476219386124864,
          0.04835969899477738,
          0.06264130335615702,
          0.04879772672446673,
          0.06487447766813396,
          0.09338552670676978,
          0.10831594592307209,
          0.08747724365623977,
          0.10004741206652276,
          0.10012540353495988,
          0.11806704182636879,
          0.07732313495739931,
          0.0936321846855205,
          0.07722787484410876,
          0.09226938475478316,
          0.07440251281986429,
          0.09182067047843905,
          0.13024328541517494,
          0.1466719849038295,
          0.12428197468344988,
          0.1380672718181633,
          0.1366597611049396,
          0.15642995045121577,
          0.10528897608762992,
          0.12313726899530222,
          0.10635614448748257,
          0.12264833899481678,
          0.10004847922726931,
          0.11926960623902166,
          0.10932830752736679,
          0.14758476353249786,
          0.10216516150886647,
          0.1374393005852718,
          0.1165960858469741,
          0.157992745297015,
          0.09742362087444967,
          0.1338777944497651,
          0.09780393213339601,
          0.13395677749431897,
          0.09402014995256343,
          0.12996935271277194
         ],
         "yaxis": "y3"
        },
        {
         "hovertemplate": "<b>%{text}</b><br><br>%{xaxis.title.text}: %{x}<br>%{yaxis.title.text}: %{y}<extra></extra>",
         "marker": {
          "color": [
           3000,
           3000,
           3000,
           3000,
           3000,
           3000,
           3000,
           3000,
           3000,
           3000,
           3000,
           3000,
           2300,
           2300,
           2300,
           2300,
           2300,
           2300,
           2300,
           2300,
           2300,
           2300,
           2300,
           2300,
           5000,
           5000,
           5000,
           5000,
           5000,
           5000,
           5000,
           5000,
           5000,
           5000,
           5000,
           5000,
           8000,
           8000,
           8000,
           8000,
           8000,
           8000,
           8000,
           8000,
           8000,
           8000,
           8000,
           8000,
           1300,
           1300,
           1300,
           1300,
           1300,
           1300,
           1300,
           1300,
           1300,
           1300,
           1300,
           1300
          ],
          "colorbar": {
           "len": 1.05,
           "x": 0.35,
           "y": 0.49
          },
          "colorscale": [
           [
            0,
            "#440154"
           ],
           [
            0.1111111111111111,
            "#482878"
           ],
           [
            0.2222222222222222,
            "#3e4989"
           ],
           [
            0.3333333333333333,
            "#31688e"
           ],
           [
            0.4444444444444444,
            "#26828e"
           ],
           [
            0.5555555555555556,
            "#1f9e89"
           ],
           [
            0.6666666666666666,
            "#35b779"
           ],
           [
            0.7777777777777778,
            "#6ece58"
           ],
           [
            0.8888888888888888,
            "#b5de2b"
           ],
           [
            1,
            "#fde725"
           ]
          ],
          "showscale": true,
          "size": 10
         },
         "mode": "markers",
         "text": [
          "ID: 0",
          "ID: 1",
          "ID: 2",
          "ID: 3",
          "ID: 4",
          "ID: 5",
          "ID: 6",
          "ID: 7",
          "ID: 8",
          "ID: 9",
          "ID: 10",
          "ID: 11",
          "ID: 12",
          "ID: 13",
          "ID: 14",
          "ID: 15",
          "ID: 16",
          "ID: 17",
          "ID: 18",
          "ID: 19",
          "ID: 20",
          "ID: 21",
          "ID: 22",
          "ID: 23",
          "ID: 24",
          "ID: 25",
          "ID: 26",
          "ID: 27",
          "ID: 28",
          "ID: 29",
          "ID: 30",
          "ID: 31",
          "ID: 32",
          "ID: 33",
          "ID: 34",
          "ID: 35",
          "ID: 36",
          "ID: 37",
          "ID: 38",
          "ID: 39",
          "ID: 40",
          "ID: 41",
          "ID: 42",
          "ID: 43",
          "ID: 44",
          "ID: 45",
          "ID: 46",
          "ID: 47",
          "ID: 48",
          "ID: 49",
          "ID: 50",
          "ID: 51",
          "ID: 52",
          "ID: 53",
          "ID: 54",
          "ID: 55",
          "ID: 56",
          "ID: 57",
          "ID: 58",
          "ID: 59"
         ],
         "type": "scatter",
         "x": [
          382.39,
          475.3,
          370.39,
          457.3,
          414.39,
          523.3,
          368.15,
          453.94,
          356.15,
          435.94,
          400.15,
          501.94,
          375.59000000000003,
          468.5,
          363.59000000000003,
          450.5,
          407.59000000000003,
          516.5,
          361.35,
          447.14,
          349.35,
          429.14,
          393.35,
          495.14,
          395.39,
          488.3,
          383.39,
          470.3,
          427.39,
          536.3,
          381.15,
          466.94,
          369.15,
          448.94,
          413.15,
          514.94,
          429.39,
          522.3,
          417.39,
          504.3,
          461.39,
          570.3,
          415.15,
          500.94,
          403.15,
          482.94,
          447.15,
          548.94,
          391.02,
          483.93,
          379.02,
          465.93,
          423.02,
          531.9300000000001,
          376.78,
          462.57,
          364.78,
          444.57,
          408.78,
          510.57
         ],
         "xaxis": "x4",
         "y": [
          0.03534672250975679,
          0.042228153876483314,
          0.03064981566215188,
          0.03596544853743124,
          0.04134054558299101,
          0.050400168841624585,
          0.028984043720460557,
          0.03754868997176107,
          0.027644467476480507,
          0.03522989462244224,
          0.028930347543840697,
          0.03851211268855864,
          0.056850243407709736,
          0.07087559380858821,
          0.05111307623053614,
          0.06303525777313601,
          0.06376225737247007,
          0.08050800627893288,
          0.04950757062947368,
          0.06476219386124864,
          0.04835969899477738,
          0.06264130335615702,
          0.04879772672446673,
          0.06487447766813396,
          0.09338552670676978,
          0.10831594592307209,
          0.08747724365623977,
          0.10004741206652276,
          0.10012540353495988,
          0.11806704182636879,
          0.07732313495739931,
          0.0936321846855205,
          0.07722787484410876,
          0.09226938475478316,
          0.07440251281986429,
          0.09182067047843905,
          0.13024328541517494,
          0.1466719849038295,
          0.12428197468344988,
          0.1380672718181633,
          0.1366597611049396,
          0.15642995045121577,
          0.10528897608762992,
          0.12313726899530222,
          0.10635614448748257,
          0.12264833899481678,
          0.10004847922726931,
          0.11926960623902166,
          0.10932830752736679,
          0.14758476353249786,
          0.10216516150886647,
          0.1374393005852718,
          0.1165960858469741,
          0.157992745297015,
          0.09742362087444967,
          0.1338777944497651,
          0.09780393213339601,
          0.13395677749431897,
          0.09402014995256343,
          0.12996935271277194
         ],
         "yaxis": "y4"
        },
        {
         "hovertemplate": "<b>%{text}</b><br><br>%{xaxis.title.text}: %{x}<br>%{yaxis.title.text}: %{y}<extra></extra>",
         "marker": {
          "color": [
           382.39,
           475.3,
           370.39,
           457.3,
           414.39,
           523.3,
           368.15,
           453.94,
           356.15,
           435.94,
           400.15,
           501.94,
           375.59000000000003,
           468.5,
           363.59000000000003,
           450.5,
           407.59000000000003,
           516.5,
           361.35,
           447.14,
           349.35,
           429.14,
           393.35,
           495.14,
           395.39,
           488.3,
           383.39,
           470.3,
           427.39,
           536.3,
           381.15,
           466.94,
           369.15,
           448.94,
           413.15,
           514.94,
           429.39,
           522.3,
           417.39,
           504.3,
           461.39,
           570.3,
           415.15,
           500.94,
           403.15,
           482.94,
           447.15,
           548.94,
           391.02,
           483.93,
           379.02,
           465.93,
           423.02,
           531.9300000000001,
           376.78,
           462.57,
           364.78,
           444.57,
           408.78,
           510.57
          ],
          "colorbar": {
           "len": 1.05,
           "x": 0.35,
           "y": 0.49
          },
          "colorscale": [
           [
            0,
            "#440154"
           ],
           [
            0.1111111111111111,
            "#482878"
           ],
           [
            0.2222222222222222,
            "#3e4989"
           ],
           [
            0.3333333333333333,
            "#31688e"
           ],
           [
            0.4444444444444444,
            "#26828e"
           ],
           [
            0.5555555555555556,
            "#1f9e89"
           ],
           [
            0.6666666666666666,
            "#35b779"
           ],
           [
            0.7777777777777778,
            "#6ece58"
           ],
           [
            0.8888888888888888,
            "#b5de2b"
           ],
           [
            1,
            "#fde725"
           ]
          ],
          "showscale": true,
          "size": 10
         },
         "mode": "markers",
         "text": [
          "ID: 0",
          "ID: 1",
          "ID: 2",
          "ID: 3",
          "ID: 4",
          "ID: 5",
          "ID: 6",
          "ID: 7",
          "ID: 8",
          "ID: 9",
          "ID: 10",
          "ID: 11",
          "ID: 12",
          "ID: 13",
          "ID: 14",
          "ID: 15",
          "ID: 16",
          "ID: 17",
          "ID: 18",
          "ID: 19",
          "ID: 20",
          "ID: 21",
          "ID: 22",
          "ID: 23",
          "ID: 24",
          "ID: 25",
          "ID: 26",
          "ID: 27",
          "ID: 28",
          "ID: 29",
          "ID: 30",
          "ID: 31",
          "ID: 32",
          "ID: 33",
          "ID: 34",
          "ID: 35",
          "ID: 36",
          "ID: 37",
          "ID: 38",
          "ID: 39",
          "ID: 40",
          "ID: 41",
          "ID: 42",
          "ID: 43",
          "ID: 44",
          "ID: 45",
          "ID: 46",
          "ID: 47",
          "ID: 48",
          "ID: 49",
          "ID: 50",
          "ID: 51",
          "ID: 52",
          "ID: 53",
          "ID: 54",
          "ID: 55",
          "ID: 56",
          "ID: 57",
          "ID: 58",
          "ID: 59"
         ],
         "type": "scatter",
         "x": [
          382.39,
          475.3,
          370.39,
          457.3,
          414.39,
          523.3,
          368.15,
          453.94,
          356.15,
          435.94,
          400.15,
          501.94,
          375.59000000000003,
          468.5,
          363.59000000000003,
          450.5,
          407.59000000000003,
          516.5,
          361.35,
          447.14,
          349.35,
          429.14,
          393.35,
          495.14,
          395.39,
          488.3,
          383.39,
          470.3,
          427.39,
          536.3,
          381.15,
          466.94,
          369.15,
          448.94,
          413.15,
          514.94,
          429.39,
          522.3,
          417.39,
          504.3,
          461.39,
          570.3,
          415.15,
          500.94,
          403.15,
          482.94,
          447.15,
          548.94,
          391.02,
          483.93,
          379.02,
          465.93,
          423.02,
          531.9300000000001,
          376.78,
          462.57,
          364.78,
          444.57,
          408.78,
          510.57
         ],
         "xaxis": "x5",
         "y": [
          0.03534672250975679,
          0.042228153876483314,
          0.03064981566215188,
          0.03596544853743124,
          0.04134054558299101,
          0.050400168841624585,
          0.028984043720460557,
          0.03754868997176107,
          0.027644467476480507,
          0.03522989462244224,
          0.028930347543840697,
          0.03851211268855864,
          0.056850243407709736,
          0.07087559380858821,
          0.05111307623053614,
          0.06303525777313601,
          0.06376225737247007,
          0.08050800627893288,
          0.04950757062947368,
          0.06476219386124864,
          0.04835969899477738,
          0.06264130335615702,
          0.04879772672446673,
          0.06487447766813396,
          0.09338552670676978,
          0.10831594592307209,
          0.08747724365623977,
          0.10004741206652276,
          0.10012540353495988,
          0.11806704182636879,
          0.07732313495739931,
          0.0936321846855205,
          0.07722787484410876,
          0.09226938475478316,
          0.07440251281986429,
          0.09182067047843905,
          0.13024328541517494,
          0.1466719849038295,
          0.12428197468344988,
          0.1380672718181633,
          0.1366597611049396,
          0.15642995045121577,
          0.10528897608762992,
          0.12313726899530222,
          0.10635614448748257,
          0.12264833899481678,
          0.10004847922726931,
          0.11926960623902166,
          0.10932830752736679,
          0.14758476353249786,
          0.10216516150886647,
          0.1374393005852718,
          0.1165960858469741,
          0.157992745297015,
          0.09742362087444967,
          0.1338777944497651,
          0.09780393213339601,
          0.13395677749431897,
          0.09402014995256343,
          0.12996935271277194
         ],
         "yaxis": "y5"
        },
        {
         "hovertemplate": "<b>%{text}</b><br><br>%{xaxis.title.text}: %{x}<br>%{yaxis.title.text}: %{y}<extra></extra>",
         "marker": {
          "color": [
           2601.0722028767823,
           2620.0711628414188,
           2568.5334824220536,
           2573.056164238864,
           2625.9828343358163,
           2662.062292611997,
           2015.705977482829,
           2028.3736039179091,
           2058.5657186708263,
           2055.9010754837354,
           1906.6049709765164,
           1935.489124576219,
           2762.1986953847127,
           2802.426723270058,
           2730.4904635137127,
           2755.5738809572235,
           2787.6366722473317,
           2845.8626308236553,
           2171.77820064965,
           2198.7634198189517,
           2216.0789940710574,
           2227.6197235085733,
           2060.490586588394,
           2103.460171602057,
           5278.4324481123185,
           5481.897996125984,
           5239.3278168359975,
           5407.92253812869,
           5295.132337295772,
           5542.0011276756095,
           4090.9496115433976,
           4260.168225063926,
           4206.713183986206,
           4342.865244263534,
           3837.9959876408816,
           4039.868858883225,
           7846.158173266466,
           8253.780679711721,
           7806.489732981285,
           8157.874536003011,
           7843.625222795333,
           8322.462870079378,
           6034.18479573792,
           6380.282953485294,
           6230.955073840197,
           6526.464730210628,
           5627.187416867969,
           6021.325346315035,
           2541.075438727552,
           2620.4843086783476,
           2518.393487857908,
           2584.4990331746294,
           2560.9413505689586,
           2656.7595649756154,
           2059.9020069264006,
           2117.1980315630494,
           2099.1654125724267,
           2143.8397091357683,
           1966.0879615408908,
           2035.9928967735568
          ],
          "colorbar": {
           "len": 1.05,
           "x": 0.35,
           "y": 0.49
          },
          "colorscale": [
           [
            0,
            "#440154"
           ],
           [
            0.1111111111111111,
            "#482878"
           ],
           [
            0.2222222222222222,
            "#3e4989"
           ],
           [
            0.3333333333333333,
            "#31688e"
           ],
           [
            0.4444444444444444,
            "#26828e"
           ],
           [
            0.5555555555555556,
            "#1f9e89"
           ],
           [
            0.6666666666666666,
            "#35b779"
           ],
           [
            0.7777777777777778,
            "#6ece58"
           ],
           [
            0.8888888888888888,
            "#b5de2b"
           ],
           [
            1,
            "#fde725"
           ]
          ],
          "showscale": true,
          "size": 10
         },
         "mode": "markers",
         "text": [
          "ID: 0",
          "ID: 1",
          "ID: 2",
          "ID: 3",
          "ID: 4",
          "ID: 5",
          "ID: 6",
          "ID: 7",
          "ID: 8",
          "ID: 9",
          "ID: 10",
          "ID: 11",
          "ID: 12",
          "ID: 13",
          "ID: 14",
          "ID: 15",
          "ID: 16",
          "ID: 17",
          "ID: 18",
          "ID: 19",
          "ID: 20",
          "ID: 21",
          "ID: 22",
          "ID: 23",
          "ID: 24",
          "ID: 25",
          "ID: 26",
          "ID: 27",
          "ID: 28",
          "ID: 29",
          "ID: 30",
          "ID: 31",
          "ID: 32",
          "ID: 33",
          "ID: 34",
          "ID: 35",
          "ID: 36",
          "ID: 37",
          "ID: 38",
          "ID: 39",
          "ID: 40",
          "ID: 41",
          "ID: 42",
          "ID: 43",
          "ID: 44",
          "ID: 45",
          "ID: 46",
          "ID: 47",
          "ID: 48",
          "ID: 49",
          "ID: 50",
          "ID: 51",
          "ID: 52",
          "ID: 53",
          "ID: 54",
          "ID: 55",
          "ID: 56",
          "ID: 57",
          "ID: 58",
          "ID: 59"
         ],
         "type": "scatter",
         "x": [
          382.39,
          475.3,
          370.39,
          457.3,
          414.39,
          523.3,
          368.15,
          453.94,
          356.15,
          435.94,
          400.15,
          501.94,
          375.59000000000003,
          468.5,
          363.59000000000003,
          450.5,
          407.59000000000003,
          516.5,
          361.35,
          447.14,
          349.35,
          429.14,
          393.35,
          495.14,
          395.39,
          488.3,
          383.39,
          470.3,
          427.39,
          536.3,
          381.15,
          466.94,
          369.15,
          448.94,
          413.15,
          514.94,
          429.39,
          522.3,
          417.39,
          504.3,
          461.39,
          570.3,
          415.15,
          500.94,
          403.15,
          482.94,
          447.15,
          548.94,
          391.02,
          483.93,
          379.02,
          465.93,
          423.02,
          531.9300000000001,
          376.78,
          462.57,
          364.78,
          444.57,
          408.78,
          510.57
         ],
         "xaxis": "x6",
         "y": [
          0.03534672250975679,
          0.042228153876483314,
          0.03064981566215188,
          0.03596544853743124,
          0.04134054558299101,
          0.050400168841624585,
          0.028984043720460557,
          0.03754868997176107,
          0.027644467476480507,
          0.03522989462244224,
          0.028930347543840697,
          0.03851211268855864,
          0.056850243407709736,
          0.07087559380858821,
          0.05111307623053614,
          0.06303525777313601,
          0.06376225737247007,
          0.08050800627893288,
          0.04950757062947368,
          0.06476219386124864,
          0.04835969899477738,
          0.06264130335615702,
          0.04879772672446673,
          0.06487447766813396,
          0.09338552670676978,
          0.10831594592307209,
          0.08747724365623977,
          0.10004741206652276,
          0.10012540353495988,
          0.11806704182636879,
          0.07732313495739931,
          0.0936321846855205,
          0.07722787484410876,
          0.09226938475478316,
          0.07440251281986429,
          0.09182067047843905,
          0.13024328541517494,
          0.1466719849038295,
          0.12428197468344988,
          0.1380672718181633,
          0.1366597611049396,
          0.15642995045121577,
          0.10528897608762992,
          0.12313726899530222,
          0.10635614448748257,
          0.12264833899481678,
          0.10004847922726931,
          0.11926960623902166,
          0.10932830752736679,
          0.14758476353249786,
          0.10216516150886647,
          0.1374393005852718,
          0.1165960858469741,
          0.157992745297015,
          0.09742362087444967,
          0.1338777944497651,
          0.09780393213339601,
          0.13395677749431897,
          0.09402014995256343,
          0.12996935271277194
         ],
         "yaxis": "y6"
        },
        {
         "hovertemplate": "<b>%{text}</b><br><br>%{xaxis.title.text}: %{x}<br>%{yaxis.title.text}: %{y}<extra></extra>",
         "marker": {
          "color": [
           8.84193938935936,
           11.11272400908281,
           7.837878129307979,
           9.913302762203427,
           10.179584124202588,
           12.710395208532942,
           9.546206098032078,
           11.952070344110147,
           9.06986160937536,
           11.384186400218756,
           10.014361573006793,
           12.511516421182712,
           12.893754478111465,
           15.958300589381427,
           11.87108133606381,
           14.732108502367682,
           14.158289854535393,
           17.480944970318834,
           13.260263272199085,
           16.394807200355334,
           12.901612249143504,
           15.963409050048257,
           13.532337799516776,
           16.724509232804554,
           12.727704403837556,
           15.837861295905512,
           11.682069718636194,
           14.592355038355674,
           14.016515124040668,
           17.37949221335683,
           13.104312472052545,
           16.283537488642526,
           12.738331512728584,
           15.846425570384016,
           13.380347584404653,
           16.61571945921069,
           12.62148538105707,
           15.760118631220655,
           11.56293593368121,
           14.50297667327181,
           13.924736510119638,
           17.313607040933288,
           13.00354916179524,
           16.211084530924303,
           12.633223387853961,
           15.770392178526073,
           13.282193481599972,
           16.545031185466176,
           21.909024149411135,
           26.884357089058057,
           20.989108045082038,
           25.763463730148874,
           22.859158059278748,
           28.043746691237267,
           21.259186525942212,
           26.090815381814824,
           21.22365043542166,
           26.047093464057898,
           21.041081492808544,
           25.82674499284005
          ],
          "colorbar": {
           "len": 1.05,
           "x": 0.35,
           "y": 0.49
          },
          "colorscale": [
           [
            0,
            "#440154"
           ],
           [
            0.1111111111111111,
            "#482878"
           ],
           [
            0.2222222222222222,
            "#3e4989"
           ],
           [
            0.3333333333333333,
            "#31688e"
           ],
           [
            0.4444444444444444,
            "#26828e"
           ],
           [
            0.5555555555555556,
            "#1f9e89"
           ],
           [
            0.6666666666666666,
            "#35b779"
           ],
           [
            0.7777777777777778,
            "#6ece58"
           ],
           [
            0.8888888888888888,
            "#b5de2b"
           ],
           [
            1,
            "#fde725"
           ]
          ],
          "showscale": true,
          "size": 10
         },
         "mode": "markers",
         "text": [
          "ID: 0",
          "ID: 1",
          "ID: 2",
          "ID: 3",
          "ID: 4",
          "ID: 5",
          "ID: 6",
          "ID: 7",
          "ID: 8",
          "ID: 9",
          "ID: 10",
          "ID: 11",
          "ID: 12",
          "ID: 13",
          "ID: 14",
          "ID: 15",
          "ID: 16",
          "ID: 17",
          "ID: 18",
          "ID: 19",
          "ID: 20",
          "ID: 21",
          "ID: 22",
          "ID: 23",
          "ID: 24",
          "ID: 25",
          "ID: 26",
          "ID: 27",
          "ID: 28",
          "ID: 29",
          "ID: 30",
          "ID: 31",
          "ID: 32",
          "ID: 33",
          "ID: 34",
          "ID: 35",
          "ID: 36",
          "ID: 37",
          "ID: 38",
          "ID: 39",
          "ID: 40",
          "ID: 41",
          "ID: 42",
          "ID: 43",
          "ID: 44",
          "ID: 45",
          "ID: 46",
          "ID: 47",
          "ID: 48",
          "ID: 49",
          "ID: 50",
          "ID: 51",
          "ID: 52",
          "ID: 53",
          "ID: 54",
          "ID: 55",
          "ID: 56",
          "ID: 57",
          "ID: 58",
          "ID: 59"
         ],
         "type": "scatter",
         "x": [
          382.39,
          475.3,
          370.39,
          457.3,
          414.39,
          523.3,
          368.15,
          453.94,
          356.15,
          435.94,
          400.15,
          501.94,
          375.59000000000003,
          468.5,
          363.59000000000003,
          450.5,
          407.59000000000003,
          516.5,
          361.35,
          447.14,
          349.35,
          429.14,
          393.35,
          495.14,
          395.39,
          488.3,
          383.39,
          470.3,
          427.39,
          536.3,
          381.15,
          466.94,
          369.15,
          448.94,
          413.15,
          514.94,
          429.39,
          522.3,
          417.39,
          504.3,
          461.39,
          570.3,
          415.15,
          500.94,
          403.15,
          482.94,
          447.15,
          548.94,
          391.02,
          483.93,
          379.02,
          465.93,
          423.02,
          531.9300000000001,
          376.78,
          462.57,
          364.78,
          444.57,
          408.78,
          510.57
         ],
         "xaxis": "x7",
         "y": [
          0.03534672250975679,
          0.042228153876483314,
          0.03064981566215188,
          0.03596544853743124,
          0.04134054558299101,
          0.050400168841624585,
          0.028984043720460557,
          0.03754868997176107,
          0.027644467476480507,
          0.03522989462244224,
          0.028930347543840697,
          0.03851211268855864,
          0.056850243407709736,
          0.07087559380858821,
          0.05111307623053614,
          0.06303525777313601,
          0.06376225737247007,
          0.08050800627893288,
          0.04950757062947368,
          0.06476219386124864,
          0.04835969899477738,
          0.06264130335615702,
          0.04879772672446673,
          0.06487447766813396,
          0.09338552670676978,
          0.10831594592307209,
          0.08747724365623977,
          0.10004741206652276,
          0.10012540353495988,
          0.11806704182636879,
          0.07732313495739931,
          0.0936321846855205,
          0.07722787484410876,
          0.09226938475478316,
          0.07440251281986429,
          0.09182067047843905,
          0.13024328541517494,
          0.1466719849038295,
          0.12428197468344988,
          0.1380672718181633,
          0.1366597611049396,
          0.15642995045121577,
          0.10528897608762992,
          0.12313726899530222,
          0.10635614448748257,
          0.12264833899481678,
          0.10004847922726931,
          0.11926960623902166,
          0.10932830752736679,
          0.14758476353249786,
          0.10216516150886647,
          0.1374393005852718,
          0.1165960858469741,
          0.157992745297015,
          0.09742362087444967,
          0.1338777944497651,
          0.09780393213339601,
          0.13395677749431897,
          0.09402014995256343,
          0.12996935271277194
         ],
         "yaxis": "y7"
        },
        {
         "hovertemplate": "<b>%{text}</b><br><br>%{xaxis.title.text}: %{x}<br>%{yaxis.title.text}: %{y}<extra></extra>",
         "marker": {
          "color": [
           0.09750312436193717,
           0.17286019113006168,
           0.06585334985569832,
           0.1253855293707034,
           0.14450905947786633,
           0.24336909380395547,
           0.12426156909524846,
           0.21299785823002865,
           0.10778470818189001,
           0.18828256685999092,
           0.1401691227785011,
           0.23685918875490766,
           0.2662948949008596,
           0.42636385101591734,
           0.21777336437295552,
           0.3535815552240612,
           0.33118053268735853,
           0.5236923076956657,
           0.2871621445368996,
           0.4576647254699774,
           0.2693899557385041,
           0.43100644227238405,
           0.2996193699303823,
           0.47635056356020133,
           0.24653954321890242,
           0.40660849933396015,
           0.19801801269099834,
           0.333826203542104,
           0.31142518100540134,
           0.5039369560137086,
           0.2674067928549424,
           0.43790937378802014,
           0.24963460405654692,
           0.4112510905904269,
           0.27986401824842505,
           0.45659521187824414,
           0.23461293771431527,
           0.394681893829373,
           0.1860914071864112,
           0.32189959803751683,
           0.29949857550081416,
           0.4920103505091214,
           0.25548018735035527,
           0.425982768283433,
           0.23770799855195976,
           0.3993244850858397,
           0.2679374127438379,
           0.44466860637365696,
           0.886830474847402,
           1.35868607924358,
           0.8083178064177254,
           1.2409170765990651,
           0.9699818177020215,
           1.4834130935255092,
           0.8334210583069416,
           1.2785719544328893,
           0.8310314503630146,
           1.2749875425169992,
           0.8126961046962976,
           1.2474845240169234
          ],
          "colorbar": {
           "len": 1.05,
           "x": 0.35,
           "y": 0.49
          },
          "colorscale": [
           [
            0,
            "#440154"
           ],
           [
            0.1111111111111111,
            "#482878"
           ],
           [
            0.2222222222222222,
            "#3e4989"
           ],
           [
            0.3333333333333333,
            "#31688e"
           ],
           [
            0.4444444444444444,
            "#26828e"
           ],
           [
            0.5555555555555556,
            "#1f9e89"
           ],
           [
            0.6666666666666666,
            "#35b779"
           ],
           [
            0.7777777777777778,
            "#6ece58"
           ],
           [
            0.8888888888888888,
            "#b5de2b"
           ],
           [
            1,
            "#fde725"
           ]
          ],
          "showscale": true,
          "size": 10
         },
         "mode": "markers",
         "text": [
          "ID: 0",
          "ID: 1",
          "ID: 2",
          "ID: 3",
          "ID: 4",
          "ID: 5",
          "ID: 6",
          "ID: 7",
          "ID: 8",
          "ID: 9",
          "ID: 10",
          "ID: 11",
          "ID: 12",
          "ID: 13",
          "ID: 14",
          "ID: 15",
          "ID: 16",
          "ID: 17",
          "ID: 18",
          "ID: 19",
          "ID: 20",
          "ID: 21",
          "ID: 22",
          "ID: 23",
          "ID: 24",
          "ID: 25",
          "ID: 26",
          "ID: 27",
          "ID: 28",
          "ID: 29",
          "ID: 30",
          "ID: 31",
          "ID: 32",
          "ID: 33",
          "ID: 34",
          "ID: 35",
          "ID: 36",
          "ID: 37",
          "ID: 38",
          "ID: 39",
          "ID: 40",
          "ID: 41",
          "ID: 42",
          "ID: 43",
          "ID: 44",
          "ID: 45",
          "ID: 46",
          "ID: 47",
          "ID: 48",
          "ID: 49",
          "ID: 50",
          "ID: 51",
          "ID: 52",
          "ID: 53",
          "ID: 54",
          "ID: 55",
          "ID: 56",
          "ID: 57",
          "ID: 58",
          "ID: 59"
         ],
         "type": "scatter",
         "x": [
          382.39,
          475.3,
          370.39,
          457.3,
          414.39,
          523.3,
          368.15,
          453.94,
          356.15,
          435.94,
          400.15,
          501.94,
          375.59000000000003,
          468.5,
          363.59000000000003,
          450.5,
          407.59000000000003,
          516.5,
          361.35,
          447.14,
          349.35,
          429.14,
          393.35,
          495.14,
          395.39,
          488.3,
          383.39,
          470.3,
          427.39,
          536.3,
          381.15,
          466.94,
          369.15,
          448.94,
          413.15,
          514.94,
          429.39,
          522.3,
          417.39,
          504.3,
          461.39,
          570.3,
          415.15,
          500.94,
          403.15,
          482.94,
          447.15,
          548.94,
          391.02,
          483.93,
          379.02,
          465.93,
          423.02,
          531.9300000000001,
          376.78,
          462.57,
          364.78,
          444.57,
          408.78,
          510.57
         ],
         "xaxis": "x8",
         "y": [
          0.03534672250975679,
          0.042228153876483314,
          0.03064981566215188,
          0.03596544853743124,
          0.04134054558299101,
          0.050400168841624585,
          0.028984043720460557,
          0.03754868997176107,
          0.027644467476480507,
          0.03522989462244224,
          0.028930347543840697,
          0.03851211268855864,
          0.056850243407709736,
          0.07087559380858821,
          0.05111307623053614,
          0.06303525777313601,
          0.06376225737247007,
          0.08050800627893288,
          0.04950757062947368,
          0.06476219386124864,
          0.04835969899477738,
          0.06264130335615702,
          0.04879772672446673,
          0.06487447766813396,
          0.09338552670676978,
          0.10831594592307209,
          0.08747724365623977,
          0.10004741206652276,
          0.10012540353495988,
          0.11806704182636879,
          0.07732313495739931,
          0.0936321846855205,
          0.07722787484410876,
          0.09226938475478316,
          0.07440251281986429,
          0.09182067047843905,
          0.13024328541517494,
          0.1466719849038295,
          0.12428197468344988,
          0.1380672718181633,
          0.1366597611049396,
          0.15642995045121577,
          0.10528897608762992,
          0.12313726899530222,
          0.10635614448748257,
          0.12264833899481678,
          0.10004847922726931,
          0.11926960623902166,
          0.10932830752736679,
          0.14758476353249786,
          0.10216516150886647,
          0.1374393005852718,
          0.1165960858469741,
          0.157992745297015,
          0.09742362087444967,
          0.1338777944497651,
          0.09780393213339601,
          0.13395677749431897,
          0.09402014995256343,
          0.12996935271277194
         ],
         "yaxis": "y8"
        },
        {
         "hovertemplate": "<b>%{text}</b><br><br>%{xaxis.title.text}: %{x}<br>%{yaxis.title.text}: %{y}<extra></extra>",
         "marker": {
          "color": [
           8.838833392240169,
           8.061449317039486,
           8.73301622094723,
           7.928078217848158,
           8.851999094317737,
           8.099509742199846,
           7.0176562412966135,
           6.406326578263555,
           7.156051441604693,
           6.489767401957154,
           6.601690270536156,
           6.059417814757085,
           9.241436237425795,
           8.502497179149435,
           9.140975358180926,
           8.373208520802425,
           9.253062195233046,
           8.53903740511584,
           7.462304906789397,
           6.862955458863022,
           7.601102342302196,
           6.947968091344843,
           7.046237763733891,
           6.51196681425795,
           16.259375641701922,
           15.516994439417905,
           16.136060509143732,
           15.319049945824888,
           16.220844425975283,
           15.551651147097465,
           12.897151585480236,
           12.364883618182933,
           13.231630360410808,
           12.587828220133101,
           12.06550057451539,
           11.65521325811068,
           23.128148257898093,
           22.499662057338572,
           22.998918143824444,
           22.24653518220104,
           23.01830351165035,
           22.51716487615738,
           18.176030250827427,
           17.806531852521942,
           18.721442241589482,
           18.18468282198358,
           16.91663992953798,
           16.721006838027378,
           8.125372419649173,
           7.631963851080112,
           8.057411932942946,
           7.5392508652639245,
           8.13020135930232,
           7.656978425501127,
           6.800510075612005,
           6.37477815496176,
           6.912649088392864,
           6.446323502183179,
           6.472258637184463,
           6.091119509840379
          ],
          "colorbar": {
           "len": 1.05,
           "x": 0.35,
           "y": 0.49
          },
          "colorscale": [
           [
            0,
            "#440154"
           ],
           [
            0.1111111111111111,
            "#482878"
           ],
           [
            0.2222222222222222,
            "#3e4989"
           ],
           [
            0.3333333333333333,
            "#31688e"
           ],
           [
            0.4444444444444444,
            "#26828e"
           ],
           [
            0.5555555555555556,
            "#1f9e89"
           ],
           [
            0.6666666666666666,
            "#35b779"
           ],
           [
            0.7777777777777778,
            "#6ece58"
           ],
           [
            0.8888888888888888,
            "#b5de2b"
           ],
           [
            1,
            "#fde725"
           ]
          ],
          "showscale": true,
          "size": 10
         },
         "mode": "markers",
         "text": [
          "ID: 0",
          "ID: 1",
          "ID: 2",
          "ID: 3",
          "ID: 4",
          "ID: 5",
          "ID: 6",
          "ID: 7",
          "ID: 8",
          "ID: 9",
          "ID: 10",
          "ID: 11",
          "ID: 12",
          "ID: 13",
          "ID: 14",
          "ID: 15",
          "ID: 16",
          "ID: 17",
          "ID: 18",
          "ID: 19",
          "ID: 20",
          "ID: 21",
          "ID: 22",
          "ID: 23",
          "ID: 24",
          "ID: 25",
          "ID: 26",
          "ID: 27",
          "ID: 28",
          "ID: 29",
          "ID: 30",
          "ID: 31",
          "ID: 32",
          "ID: 33",
          "ID: 34",
          "ID: 35",
          "ID: 36",
          "ID: 37",
          "ID: 38",
          "ID: 39",
          "ID: 40",
          "ID: 41",
          "ID: 42",
          "ID: 43",
          "ID: 44",
          "ID: 45",
          "ID: 46",
          "ID: 47",
          "ID: 48",
          "ID: 49",
          "ID: 50",
          "ID: 51",
          "ID: 52",
          "ID: 53",
          "ID: 54",
          "ID: 55",
          "ID: 56",
          "ID: 57",
          "ID: 58",
          "ID: 59"
         ],
         "type": "scatter",
         "x": [
          382.39,
          475.3,
          370.39,
          457.3,
          414.39,
          523.3,
          368.15,
          453.94,
          356.15,
          435.94,
          400.15,
          501.94,
          375.59000000000003,
          468.5,
          363.59000000000003,
          450.5,
          407.59000000000003,
          516.5,
          361.35,
          447.14,
          349.35,
          429.14,
          393.35,
          495.14,
          395.39,
          488.3,
          383.39,
          470.3,
          427.39,
          536.3,
          381.15,
          466.94,
          369.15,
          448.94,
          413.15,
          514.94,
          429.39,
          522.3,
          417.39,
          504.3,
          461.39,
          570.3,
          415.15,
          500.94,
          403.15,
          482.94,
          447.15,
          548.94,
          391.02,
          483.93,
          379.02,
          465.93,
          423.02,
          531.9300000000001,
          376.78,
          462.57,
          364.78,
          444.57,
          408.78,
          510.57
         ],
         "xaxis": "x9",
         "y": [
          0.03534672250975679,
          0.042228153876483314,
          0.03064981566215188,
          0.03596544853743124,
          0.04134054558299101,
          0.050400168841624585,
          0.028984043720460557,
          0.03754868997176107,
          0.027644467476480507,
          0.03522989462244224,
          0.028930347543840697,
          0.03851211268855864,
          0.056850243407709736,
          0.07087559380858821,
          0.05111307623053614,
          0.06303525777313601,
          0.06376225737247007,
          0.08050800627893288,
          0.04950757062947368,
          0.06476219386124864,
          0.04835969899477738,
          0.06264130335615702,
          0.04879772672446673,
          0.06487447766813396,
          0.09338552670676978,
          0.10831594592307209,
          0.08747724365623977,
          0.10004741206652276,
          0.10012540353495988,
          0.11806704182636879,
          0.07732313495739931,
          0.0936321846855205,
          0.07722787484410876,
          0.09226938475478316,
          0.07440251281986429,
          0.09182067047843905,
          0.13024328541517494,
          0.1466719849038295,
          0.12428197468344988,
          0.1380672718181633,
          0.1366597611049396,
          0.15642995045121577,
          0.10528897608762992,
          0.12313726899530222,
          0.10635614448748257,
          0.12264833899481678,
          0.10004847922726931,
          0.11926960623902166,
          0.10932830752736679,
          0.14758476353249786,
          0.10216516150886647,
          0.1374393005852718,
          0.1165960858469741,
          0.157992745297015,
          0.09742362087444967,
          0.1338777944497651,
          0.09780393213339601,
          0.13395677749431897,
          0.09402014995256343,
          0.12996935271277194
         ],
         "yaxis": "y9"
        }
       ],
       "layout": {
        "annotations": [
         {
          "font": {
           "size": 16
          },
          "showarrow": false,
          "text": "mass",
          "x": 0.5,
          "xanchor": "center",
          "xref": "paper",
          "y": 1,
          "yanchor": "bottom",
          "yref": "paper"
         },
         {
          "font": {
           "size": 16
          },
          "showarrow": false,
          "text": "kv",
          "x": 0.5,
          "xanchor": "center",
          "xref": "paper",
          "y": 0.8827160493827161,
          "yanchor": "bottom",
          "yref": "paper"
         },
         {
          "font": {
           "size": 16
          },
          "showarrow": false,
          "text": "voltage",
          "x": 0.5,
          "xanchor": "center",
          "xref": "paper",
          "y": 0.7654320987654322,
          "yanchor": "bottom",
          "yref": "paper"
         },
         {
          "font": {
           "size": 16
          },
          "showarrow": false,
          "text": "capacity",
          "x": 0.5,
          "xanchor": "center",
          "xref": "paper",
          "y": 0.6481481481481483,
          "yanchor": "bottom",
          "yref": "paper"
         },
         {
          "font": {
           "size": 16
          },
          "showarrow": false,
          "text": "price",
          "x": 0.5,
          "xanchor": "center",
          "xref": "paper",
          "y": 0.5308641975308642,
          "yanchor": "bottom",
          "yref": "paper"
         },
         {
          "font": {
           "size": 16
          },
          "showarrow": false,
          "text": "max_flight_distance",
          "x": 0.5,
          "xanchor": "center",
          "xref": "paper",
          "y": 0.41358024691358025,
          "yanchor": "bottom",
          "yref": "paper"
         },
         {
          "font": {
           "size": 16
          },
          "showarrow": false,
          "text": "max_speed",
          "x": 0.5,
          "xanchor": "center",
          "xref": "paper",
          "y": 0.2962962962962963,
          "yanchor": "bottom",
          "yref": "paper"
         },
         {
          "font": {
           "size": 16
          },
          "showarrow": false,
          "text": "max_payload",
          "x": 0.5,
          "xanchor": "center",
          "xref": "paper",
          "y": 0.17901234567901234,
          "yanchor": "bottom",
          "yref": "paper"
         },
         {
          "font": {
           "size": 16
          },
          "showarrow": false,
          "text": "max_flight_time",
          "x": 0.5,
          "xanchor": "center",
          "xref": "paper",
          "y": 0.0617283950617284,
          "yanchor": "bottom",
          "yref": "paper"
         }
        ],
        "height": 3000,
        "template": {
         "data": {
          "bar": [
           {
            "error_x": {
             "color": "#2a3f5f"
            },
            "error_y": {
             "color": "#2a3f5f"
            },
            "marker": {
             "line": {
              "color": "#E5ECF6",
              "width": 0.5
             },
             "pattern": {
              "fillmode": "overlay",
              "size": 10,
              "solidity": 0.2
             }
            },
            "type": "bar"
           }
          ],
          "barpolar": [
           {
            "marker": {
             "line": {
              "color": "#E5ECF6",
              "width": 0.5
             },
             "pattern": {
              "fillmode": "overlay",
              "size": 10,
              "solidity": 0.2
             }
            },
            "type": "barpolar"
           }
          ],
          "carpet": [
           {
            "aaxis": {
             "endlinecolor": "#2a3f5f",
             "gridcolor": "white",
             "linecolor": "white",
             "minorgridcolor": "white",
             "startlinecolor": "#2a3f5f"
            },
            "baxis": {
             "endlinecolor": "#2a3f5f",
             "gridcolor": "white",
             "linecolor": "white",
             "minorgridcolor": "white",
             "startlinecolor": "#2a3f5f"
            },
            "type": "carpet"
           }
          ],
          "choropleth": [
           {
            "colorbar": {
             "outlinewidth": 0,
             "ticks": ""
            },
            "type": "choropleth"
           }
          ],
          "contour": [
           {
            "colorbar": {
             "outlinewidth": 0,
             "ticks": ""
            },
            "colorscale": [
             [
              0,
              "#0d0887"
             ],
             [
              0.1111111111111111,
              "#46039f"
             ],
             [
              0.2222222222222222,
              "#7201a8"
             ],
             [
              0.3333333333333333,
              "#9c179e"
             ],
             [
              0.4444444444444444,
              "#bd3786"
             ],
             [
              0.5555555555555556,
              "#d8576b"
             ],
             [
              0.6666666666666666,
              "#ed7953"
             ],
             [
              0.7777777777777778,
              "#fb9f3a"
             ],
             [
              0.8888888888888888,
              "#fdca26"
             ],
             [
              1,
              "#f0f921"
             ]
            ],
            "type": "contour"
           }
          ],
          "contourcarpet": [
           {
            "colorbar": {
             "outlinewidth": 0,
             "ticks": ""
            },
            "type": "contourcarpet"
           }
          ],
          "heatmap": [
           {
            "colorbar": {
             "outlinewidth": 0,
             "ticks": ""
            },
            "colorscale": [
             [
              0,
              "#0d0887"
             ],
             [
              0.1111111111111111,
              "#46039f"
             ],
             [
              0.2222222222222222,
              "#7201a8"
             ],
             [
              0.3333333333333333,
              "#9c179e"
             ],
             [
              0.4444444444444444,
              "#bd3786"
             ],
             [
              0.5555555555555556,
              "#d8576b"
             ],
             [
              0.6666666666666666,
              "#ed7953"
             ],
             [
              0.7777777777777778,
              "#fb9f3a"
             ],
             [
              0.8888888888888888,
              "#fdca26"
             ],
             [
              1,
              "#f0f921"
             ]
            ],
            "type": "heatmap"
           }
          ],
          "heatmapgl": [
           {
            "colorbar": {
             "outlinewidth": 0,
             "ticks": ""
            },
            "colorscale": [
             [
              0,
              "#0d0887"
             ],
             [
              0.1111111111111111,
              "#46039f"
             ],
             [
              0.2222222222222222,
              "#7201a8"
             ],
             [
              0.3333333333333333,
              "#9c179e"
             ],
             [
              0.4444444444444444,
              "#bd3786"
             ],
             [
              0.5555555555555556,
              "#d8576b"
             ],
             [
              0.6666666666666666,
              "#ed7953"
             ],
             [
              0.7777777777777778,
              "#fb9f3a"
             ],
             [
              0.8888888888888888,
              "#fdca26"
             ],
             [
              1,
              "#f0f921"
             ]
            ],
            "type": "heatmapgl"
           }
          ],
          "histogram": [
           {
            "marker": {
             "pattern": {
              "fillmode": "overlay",
              "size": 10,
              "solidity": 0.2
             }
            },
            "type": "histogram"
           }
          ],
          "histogram2d": [
           {
            "colorbar": {
             "outlinewidth": 0,
             "ticks": ""
            },
            "colorscale": [
             [
              0,
              "#0d0887"
             ],
             [
              0.1111111111111111,
              "#46039f"
             ],
             [
              0.2222222222222222,
              "#7201a8"
             ],
             [
              0.3333333333333333,
              "#9c179e"
             ],
             [
              0.4444444444444444,
              "#bd3786"
             ],
             [
              0.5555555555555556,
              "#d8576b"
             ],
             [
              0.6666666666666666,
              "#ed7953"
             ],
             [
              0.7777777777777778,
              "#fb9f3a"
             ],
             [
              0.8888888888888888,
              "#fdca26"
             ],
             [
              1,
              "#f0f921"
             ]
            ],
            "type": "histogram2d"
           }
          ],
          "histogram2dcontour": [
           {
            "colorbar": {
             "outlinewidth": 0,
             "ticks": ""
            },
            "colorscale": [
             [
              0,
              "#0d0887"
             ],
             [
              0.1111111111111111,
              "#46039f"
             ],
             [
              0.2222222222222222,
              "#7201a8"
             ],
             [
              0.3333333333333333,
              "#9c179e"
             ],
             [
              0.4444444444444444,
              "#bd3786"
             ],
             [
              0.5555555555555556,
              "#d8576b"
             ],
             [
              0.6666666666666666,
              "#ed7953"
             ],
             [
              0.7777777777777778,
              "#fb9f3a"
             ],
             [
              0.8888888888888888,
              "#fdca26"
             ],
             [
              1,
              "#f0f921"
             ]
            ],
            "type": "histogram2dcontour"
           }
          ],
          "mesh3d": [
           {
            "colorbar": {
             "outlinewidth": 0,
             "ticks": ""
            },
            "type": "mesh3d"
           }
          ],
          "parcoords": [
           {
            "line": {
             "colorbar": {
              "outlinewidth": 0,
              "ticks": ""
             }
            },
            "type": "parcoords"
           }
          ],
          "pie": [
           {
            "automargin": true,
            "type": "pie"
           }
          ],
          "scatter": [
           {
            "fillpattern": {
             "fillmode": "overlay",
             "size": 10,
             "solidity": 0.2
            },
            "type": "scatter"
           }
          ],
          "scatter3d": [
           {
            "line": {
             "colorbar": {
              "outlinewidth": 0,
              "ticks": ""
             }
            },
            "marker": {
             "colorbar": {
              "outlinewidth": 0,
              "ticks": ""
             }
            },
            "type": "scatter3d"
           }
          ],
          "scattercarpet": [
           {
            "marker": {
             "colorbar": {
              "outlinewidth": 0,
              "ticks": ""
             }
            },
            "type": "scattercarpet"
           }
          ],
          "scattergeo": [
           {
            "marker": {
             "colorbar": {
              "outlinewidth": 0,
              "ticks": ""
             }
            },
            "type": "scattergeo"
           }
          ],
          "scattergl": [
           {
            "marker": {
             "colorbar": {
              "outlinewidth": 0,
              "ticks": ""
             }
            },
            "type": "scattergl"
           }
          ],
          "scattermapbox": [
           {
            "marker": {
             "colorbar": {
              "outlinewidth": 0,
              "ticks": ""
             }
            },
            "type": "scattermapbox"
           }
          ],
          "scatterpolar": [
           {
            "marker": {
             "colorbar": {
              "outlinewidth": 0,
              "ticks": ""
             }
            },
            "type": "scatterpolar"
           }
          ],
          "scatterpolargl": [
           {
            "marker": {
             "colorbar": {
              "outlinewidth": 0,
              "ticks": ""
             }
            },
            "type": "scatterpolargl"
           }
          ],
          "scatterternary": [
           {
            "marker": {
             "colorbar": {
              "outlinewidth": 0,
              "ticks": ""
             }
            },
            "type": "scatterternary"
           }
          ],
          "surface": [
           {
            "colorbar": {
             "outlinewidth": 0,
             "ticks": ""
            },
            "colorscale": [
             [
              0,
              "#0d0887"
             ],
             [
              0.1111111111111111,
              "#46039f"
             ],
             [
              0.2222222222222222,
              "#7201a8"
             ],
             [
              0.3333333333333333,
              "#9c179e"
             ],
             [
              0.4444444444444444,
              "#bd3786"
             ],
             [
              0.5555555555555556,
              "#d8576b"
             ],
             [
              0.6666666666666666,
              "#ed7953"
             ],
             [
              0.7777777777777778,
              "#fb9f3a"
             ],
             [
              0.8888888888888888,
              "#fdca26"
             ],
             [
              1,
              "#f0f921"
             ]
            ],
            "type": "surface"
           }
          ],
          "table": [
           {
            "cells": {
             "fill": {
              "color": "#EBF0F8"
             },
             "line": {
              "color": "white"
             }
            },
            "header": {
             "fill": {
              "color": "#C8D4E3"
             },
             "line": {
              "color": "white"
             }
            },
            "type": "table"
           }
          ]
         },
         "layout": {
          "annotationdefaults": {
           "arrowcolor": "#2a3f5f",
           "arrowhead": 0,
           "arrowwidth": 1
          },
          "autotypenumbers": "strict",
          "coloraxis": {
           "colorbar": {
            "outlinewidth": 0,
            "ticks": ""
           }
          },
          "colorscale": {
           "diverging": [
            [
             0,
             "#8e0152"
            ],
            [
             0.1,
             "#c51b7d"
            ],
            [
             0.2,
             "#de77ae"
            ],
            [
             0.3,
             "#f1b6da"
            ],
            [
             0.4,
             "#fde0ef"
            ],
            [
             0.5,
             "#f7f7f7"
            ],
            [
             0.6,
             "#e6f5d0"
            ],
            [
             0.7,
             "#b8e186"
            ],
            [
             0.8,
             "#7fbc41"
            ],
            [
             0.9,
             "#4d9221"
            ],
            [
             1,
             "#276419"
            ]
           ],
           "sequential": [
            [
             0,
             "#0d0887"
            ],
            [
             0.1111111111111111,
             "#46039f"
            ],
            [
             0.2222222222222222,
             "#7201a8"
            ],
            [
             0.3333333333333333,
             "#9c179e"
            ],
            [
             0.4444444444444444,
             "#bd3786"
            ],
            [
             0.5555555555555556,
             "#d8576b"
            ],
            [
             0.6666666666666666,
             "#ed7953"
            ],
            [
             0.7777777777777778,
             "#fb9f3a"
            ],
            [
             0.8888888888888888,
             "#fdca26"
            ],
            [
             1,
             "#f0f921"
            ]
           ],
           "sequentialminus": [
            [
             0,
             "#0d0887"
            ],
            [
             0.1111111111111111,
             "#46039f"
            ],
            [
             0.2222222222222222,
             "#7201a8"
            ],
            [
             0.3333333333333333,
             "#9c179e"
            ],
            [
             0.4444444444444444,
             "#bd3786"
            ],
            [
             0.5555555555555556,
             "#d8576b"
            ],
            [
             0.6666666666666666,
             "#ed7953"
            ],
            [
             0.7777777777777778,
             "#fb9f3a"
            ],
            [
             0.8888888888888888,
             "#fdca26"
            ],
            [
             1,
             "#f0f921"
            ]
           ]
          },
          "colorway": [
           "#636efa",
           "#EF553B",
           "#00cc96",
           "#ab63fa",
           "#FFA15A",
           "#19d3f3",
           "#FF6692",
           "#B6E880",
           "#FF97FF",
           "#FECB52"
          ],
          "font": {
           "color": "#2a3f5f"
          },
          "geo": {
           "bgcolor": "white",
           "lakecolor": "white",
           "landcolor": "#E5ECF6",
           "showlakes": true,
           "showland": true,
           "subunitcolor": "white"
          },
          "hoverlabel": {
           "align": "left"
          },
          "hovermode": "closest",
          "mapbox": {
           "style": "light"
          },
          "paper_bgcolor": "white",
          "plot_bgcolor": "#E5ECF6",
          "polar": {
           "angularaxis": {
            "gridcolor": "white",
            "linecolor": "white",
            "ticks": ""
           },
           "bgcolor": "#E5ECF6",
           "radialaxis": {
            "gridcolor": "white",
            "linecolor": "white",
            "ticks": ""
           }
          },
          "scene": {
           "xaxis": {
            "backgroundcolor": "#E5ECF6",
            "gridcolor": "white",
            "gridwidth": 2,
            "linecolor": "white",
            "showbackground": true,
            "ticks": "",
            "zerolinecolor": "white"
           },
           "yaxis": {
            "backgroundcolor": "#E5ECF6",
            "gridcolor": "white",
            "gridwidth": 2,
            "linecolor": "white",
            "showbackground": true,
            "ticks": "",
            "zerolinecolor": "white"
           },
           "zaxis": {
            "backgroundcolor": "#E5ECF6",
            "gridcolor": "white",
            "gridwidth": 2,
            "linecolor": "white",
            "showbackground": true,
            "ticks": "",
            "zerolinecolor": "white"
           }
          },
          "shapedefaults": {
           "line": {
            "color": "#2a3f5f"
           }
          },
          "ternary": {
           "aaxis": {
            "gridcolor": "white",
            "linecolor": "white",
            "ticks": ""
           },
           "baxis": {
            "gridcolor": "white",
            "linecolor": "white",
            "ticks": ""
           },
           "bgcolor": "#E5ECF6",
           "caxis": {
            "gridcolor": "white",
            "linecolor": "white",
            "ticks": ""
           }
          },
          "title": {
           "x": 0.05
          },
          "xaxis": {
           "automargin": true,
           "gridcolor": "white",
           "linecolor": "white",
           "ticks": "",
           "title": {
            "standoff": 15
           },
           "zerolinecolor": "white",
           "zerolinewidth": 2
          },
          "yaxis": {
           "automargin": true,
           "gridcolor": "white",
           "linecolor": "white",
           "ticks": "",
           "title": {
            "standoff": 15
           },
           "zerolinecolor": "white",
           "zerolinewidth": 2
          }
         }
        },
        "title": {
         "text": "Stacked Subplots"
        },
        "width": 1080,
        "xaxis": {
         "anchor": "y",
         "domain": [
          0,
          1
         ]
        },
        "xaxis2": {
         "anchor": "y2",
         "domain": [
          0,
          1
         ]
        },
        "xaxis3": {
         "anchor": "y3",
         "domain": [
          0,
          1
         ]
        },
        "xaxis4": {
         "anchor": "y4",
         "domain": [
          0,
          1
         ]
        },
        "xaxis5": {
         "anchor": "y5",
         "domain": [
          0,
          1
         ]
        },
        "xaxis6": {
         "anchor": "y6",
         "domain": [
          0,
          1
         ]
        },
        "xaxis7": {
         "anchor": "y7",
         "domain": [
          0,
          1
         ]
        },
        "xaxis8": {
         "anchor": "y8",
         "domain": [
          0,
          1
         ]
        },
        "xaxis9": {
         "anchor": "y9",
         "domain": [
          0,
          1
         ]
        },
        "yaxis": {
         "anchor": "x",
         "domain": [
          0.9382716049382716,
          1
         ]
        },
        "yaxis2": {
         "anchor": "x2",
         "domain": [
          0.8209876543209876,
          0.8827160493827161
         ]
        },
        "yaxis3": {
         "anchor": "x3",
         "domain": [
          0.7037037037037037,
          0.7654320987654322
         ]
        },
        "yaxis4": {
         "anchor": "x4",
         "domain": [
          0.5864197530864198,
          0.6481481481481483
         ]
        },
        "yaxis5": {
         "anchor": "x5",
         "domain": [
          0.4691358024691358,
          0.5308641975308642
         ]
        },
        "yaxis6": {
         "anchor": "x6",
         "domain": [
          0.35185185185185186,
          0.41358024691358025
         ]
        },
        "yaxis7": {
         "anchor": "x7",
         "domain": [
          0.2345679012345679,
          0.2962962962962963
         ]
        },
        "yaxis8": {
         "anchor": "x8",
         "domain": [
          0.11728395061728394,
          0.17901234567901234
         ]
        },
        "yaxis9": {
         "anchor": "x9",
         "domain": [
          0,
          0.0617283950617284
         ]
        }
       }
      }
     },
     "metadata": {},
     "output_type": "display_data"
    }
   ],
   "source": [
    "uav_td.plot_all_attributes('price', 'MAU')"
   ]
  },
  {
   "cell_type": "code",
   "execution_count": null,
   "metadata": {},
   "outputs": [
    {
     "name": "stdout",
     "output_type": "stream",
     "text": [
      "----------------------------------------\n",
      "        UAV Model Configuration         \n",
      "----------------------------------------\n",
      "----------------------------------------\n",
      "            Input parameters            \n",
      "----------------------------------------\n",
      "              Environment               \n",
      "Temperature:                      25.000 °C\n",
      "Altitude:                         60.000 m\n",
      "\n",
      "                General                 \n",
      "Mass:                              1.235 Kg\n",
      "\n",
      "               Propeller                \n",
      "Diameter:                          0.279 m\n",
      "Pitch:                             0.107 m\n",
      "Blade number:                      2.000 units\n",
      "\n",
      "                 Motor                  \n",
      "Motor constant:                 1350.000 rpm/V\n",
      "Motor no-load voltage:            10.000 V\n",
      "Motor no-load current:             1.180 A\n",
      "Motor resistance:                  0.100 Ohm\n",
      "Number of rotors:                  4.000 units\n",
      "\n",
      "                  ESC                   \n",
      "Equivalent resistance:             0.010 Ohm\n",
      "\n",
      "                Battery                 \n",
      "Battery voltage:                  11.100 V\n",
      "Battery capacity:               8000.000 mAh\n",
      "Minimum battery capacity:       1600.000 mAh\n",
      "Battery internal resistance:       0.200 Ohm\n",
      "\n",
      "                 Others                 \n",
      "Control current:                   3.000 A\n",
      "Max duty for max payload:          0.700 %\n",
      "\n",
      "----------------------------------------\n",
      "         Calculated parameters          \n",
      "----------------------------------------\n",
      "              Environment               \n",
      "Air density:                       1.284 kg/m^3\n",
      "\n",
      "               Propeller                \n",
      "Thrust coefficient:                0.084\n",
      "Torque coefficient:                0.006\n",
      "----------------------------------------\n",
      "\n",
      "----------------------------------------\n",
      "            UAV Performance             \n",
      "----------------------------------------\n",
      "               Hover mode               \n",
      "----------------------------------------\n",
      "Thrust:                           12.111 N\n",
      "Thrust/motor:                      3.028 N\n",
      "Motor speed:                    4079.741 rpm\n",
      "Motor torque:                      0.057 Nm\n",
      "Motor voltage:                     3.926 V\n",
      "Motor current:                     9.392 A\n",
      "Duty cycle:                        0.362 %\n",
      "ESC voltage:                      10.420 V\n",
      "ESC current:                       3.401 A\n",
      "Battery current:                  16.603 A\n",
      "Flight time:                      23.128 min\n",
      "Efficiency:                        0.594\n",
      "\n",
      "          Maximum thrust mode           \n",
      "----------------------------------------\n",
      "Thrust:                           58.835 N\n",
      "Thrust/motor:                     14.709 N\n",
      "Motor speed:                    8992.044 rpm\n",
      "Motor torque:                      0.279 Nm\n",
      "Motor voltage:                    10.689 V\n",
      "Motor current:                    41.071 A\n",
      "Duty cycle:                        1.000 %\n",
      "ESC voltage:                     -22.357 V\n",
      "ESC current:                      41.071 A\n",
      "Battery current:                 167.285 A\n",
      "Flight time:                       2.295 min\n",
      "Efficiency:                        0.594\n",
      "\n",
      "          Maximum payload mode          \n",
      "----------------------------------------\n",
      "Thrust:                           34.682 N\n",
      "Thrust/motor:                      8.670 N\n",
      "Motor speed:                    6903.815 rpm\n",
      "Motor torque:                      0.164 Nm\n",
      "Motor voltage:                     7.523 V\n",
      "Motor current:                    24.695 A\n",
      "Duty cycle:                        0.700 %\n",
      "ESC voltage:                       7.643 V\n",
      "ESC current:                      17.286 A\n",
      "Battery current:                  72.145 A\n",
      "Flight time:                       5.323 min\n",
      "Efficiency:                        0.594\n",
      "Maximum payload:                   0.235 Kg\n",
      "Maximum pitch:                    69.561 deg\n",
      "\n",
      "              Reachability              \n",
      "----------------------------------------\n",
      "Maximum distance:               7846.158 m\n",
      "Maximum speed:                    12.621 m/s\n",
      "----------------------------------------\n",
      "\n"
     ]
    }
   ],
   "source": [
    "uav_39 = uav_td.uav_list[36]\n",
    "uav_39.show_all()"
   ]
  },
  {
   "cell_type": "code",
   "execution_count": null,
   "metadata": {},
   "outputs": [
    {
     "name": "stdout",
     "output_type": "stream",
     "text": [
      "----------------------------------------\n",
      "        UAV Model Configuration         \n",
      "----------------------------------------\n",
      "----------------------------------------\n",
      "            Input parameters            \n",
      "----------------------------------------\n",
      "              Environment               \n",
      "Temperature:                      25.000 °C\n",
      "Altitude:                         60.000 m\n",
      "\n",
      "                General                 \n",
      "Mass:                              1.433 Kg\n",
      "\n",
      "               Propeller                \n",
      "Diameter:                          0.279 m\n",
      "Pitch:                             0.107 m\n",
      "Blade number:                      2.000 units\n",
      "\n",
      "                 Motor                  \n",
      "Motor constant:                 1350.000 rpm/V\n",
      "Motor no-load voltage:            10.000 V\n",
      "Motor no-load current:             1.180 A\n",
      "Motor resistance:                  0.100 Ohm\n",
      "Number of rotors:                  6.000 units\n",
      "\n",
      "                  ESC                   \n",
      "Equivalent resistance:             0.010 Ohm\n",
      "\n",
      "                Battery                 \n",
      "Battery voltage:                  11.100 V\n",
      "Battery capacity:               8000.000 mAh\n",
      "Minimum battery capacity:       1600.000 mAh\n",
      "Battery internal resistance:       0.200 Ohm\n",
      "\n",
      "                 Others                 \n",
      "Control current:                   3.000 A\n",
      "Max duty for max payload:          0.700 %\n",
      "\n",
      "----------------------------------------\n",
      "         Calculated parameters          \n",
      "----------------------------------------\n",
      "              Environment               \n",
      "Air density:                       1.284 kg/m^3\n",
      "\n",
      "               Propeller                \n",
      "Thrust coefficient:                0.084\n",
      "Torque coefficient:                0.006\n",
      "----------------------------------------\n",
      "\n",
      "----------------------------------------\n",
      "            UAV Performance             \n",
      "----------------------------------------\n",
      "               Hover mode               \n",
      "----------------------------------------\n",
      "Thrust:                           14.053 N\n",
      "Thrust/motor:                      2.342 N\n",
      "Motor speed:                    3588.199 rpm\n",
      "Motor torque:                      0.044 Nm\n",
      "Motor voltage:                     3.380 V\n",
      "Motor current:                     7.532 A\n",
      "Duty cycle:                        0.311 %\n",
      "ESC voltage:                      10.631 V\n",
      "ESC current:                       2.344 A\n",
      "Battery current:                  17.067 A\n",
      "Flight time:                      22.500 min\n",
      "Efficiency:                        0.602\n",
      "\n",
      "          Maximum thrust mode           \n",
      "----------------------------------------\n",
      "Thrust:                           88.253 N\n",
      "Thrust/motor:                     14.709 N\n",
      "Motor speed:                    8992.044 rpm\n",
      "Motor torque:                      0.279 Nm\n",
      "Motor voltage:                    10.689 V\n",
      "Motor current:                    41.071 A\n",
      "Duty cycle:                        1.000 %\n",
      "ESC voltage:                     -38.785 V\n",
      "ESC current:                      41.071 A\n",
      "Battery current:                 249.427 A\n",
      "Flight time:                       1.540 min\n",
      "Efficiency:                        0.602\n",
      "\n",
      "          Maximum payload mode          \n",
      "----------------------------------------\n",
      "Thrust:                           52.023 N\n",
      "Thrust/motor:                      8.670 N\n",
      "Motor speed:                    6903.815 rpm\n",
      "Motor torque:                      0.164 Nm\n",
      "Motor voltage:                     7.523 V\n",
      "Motor current:                    24.695 A\n",
      "Duty cycle:                        0.700 %\n",
      "ESC voltage:                       7.643 V\n",
      "ESC current:                      17.286 A\n",
      "Battery current:                 106.717 A\n",
      "Flight time:                       3.598 min\n",
      "Efficiency:                        0.602\n",
      "Maximum payload:                   0.395 Kg\n",
      "Maximum pitch:                    74.328 deg\n",
      "\n",
      "              Reachability              \n",
      "----------------------------------------\n",
      "Maximum distance:               8253.781 m\n",
      "Maximum speed:                    15.760 m/s\n",
      "----------------------------------------\n",
      "\n"
     ]
    }
   ],
   "source": [
    "uav_37 = uav_td.uav_list[37]\n",
    "uav_37.show_all()"
   ]
  }
 ],
 "metadata": {
  "kernelspec": {
   "display_name": "Python 3",
   "language": "python",
   "name": "python3"
  },
  "language_info": {
   "codemirror_mode": {
    "name": "ipython",
    "version": 3
   },
   "file_extension": ".py",
   "mimetype": "text/x-python",
   "name": "python",
   "nbconvert_exporter": "python",
   "pygments_lexer": "ipython3",
   "version": "3.8.10"
  },
  "orig_nbformat": 4
 },
 "nbformat": 4,
 "nbformat_minor": 2
}
