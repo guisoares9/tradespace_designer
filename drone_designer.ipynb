{
 "cells": [
  {
   "cell_type": "markdown",
   "metadata": {},
   "source": [
    "# UAV Tradespace Exploration Tutorial\n",
    "\n",
    "In this tutorial, we will be using the `UAVTradespacer` module to perform tradespace analysis for Unmanned Aerial Vehicles (UAVs). Tradespace analysis is a method used in the early stages of design to explore a wide range of design alternatives and understand the trade-offs between different design decisions.\n",
    "\n",
    "Let's get started!"
   ]
  },
  {
   "cell_type": "code",
   "execution_count": 72,
   "metadata": {},
   "outputs": [
    {
     "name": "stdout",
     "output_type": "stream",
     "text": [
      "The autoreload extension is already loaded. To reload it, use:\n",
      "  %reload_ext autoreload\n"
     ]
    }
   ],
   "source": [
    "from uav_tradespace import UAVTradespacer\n",
    "\n",
    "%load_ext autoreload\n",
    "%autoreload 2"
   ]
  },
  {
   "attachments": {},
   "cell_type": "markdown",
   "metadata": {},
   "source": [
    "## Performance Variables or Attributes\n",
    "\n",
    "Performance variables or Attributes are used to evaluate the performance of a system. In this case, the system is a drone. The rules for selecting the performance variables are:\n",
    "\n",
    "1. The performance variables must represent how good the system is.\n",
    "2. They must be measurable.\n",
    "3. They will be used to compare different designs."
   ]
  },
  {
   "cell_type": "code",
   "execution_count": 73,
   "metadata": {},
   "outputs": [],
   "source": [
    "# Define your performance variables\n",
    "uav_td = UAVTradespacer()\n",
    "\n",
    "# Add performance variables\n",
    "# Add maximum flight distance\n",
    "uav_td.add_performance_variable(\"max_flight_distance\", 4000, 10000, \"m\", 0.25)\n",
    "\n",
    "# Add maximum speed\n",
    "uav_td.add_performance_variable(\"max_speed\", 7, 40, \"m/s\", 0.10)\n",
    "\n",
    "# Add maximum payload\n",
    "uav_td.add_performance_variable(\"max_payload\", 0.2, 3, \"kg\", 0.25)\n",
    "\n",
    "# Add maximum endurance\n",
    "uav_td.add_performance_variable(\"max_flight_time\", 10, 40, \"min\", 0.35)\n",
    "\n",
    "# set the desired price range\n",
    "uav_td.set_desired_price_range(None, 600)\n"
   ]
  },
  {
   "attachments": {},
   "cell_type": "markdown",
   "metadata": {},
   "source": [
    "## Design Variables\n",
    "\n",
    "Design variables are the variables that can be changed to improve the performance of the system. In this case, the system is a drone. The rules for selecting the design variables are:\n",
    "\n",
    "1. The design variables are the components of the drone.\n",
    "2. Their characteristics must be measurable.\n",
    "3. The relationship between the design vars and the performance vars in this case is the mathematical model of the drone."
   ]
  },
  {
   "attachments": {},
   "cell_type": "markdown",
   "metadata": {},
   "source": [
    "### Add Batteries options\n",
    "\n",
    "> On the batteries side, it is possible to choose between different options on the market, varying in weight, capacity, voltage and price. The question that we want to solve is: how those characteristics of each battery affect the performance of the drone? To answer that question, lets add the batteries to the design space."
   ]
  },
  {
   "cell_type": "code",
   "execution_count": 74,
   "metadata": {},
   "outputs": [],
   "source": [
    "\n",
    "# Add lipo battery with its attributes\n",
    "# Add Zeee 2S LiPo Battery 7.4V 60C 1500mAh (Pack with 2 in parallel x 2 in series)\n",
    "# https://amzn.eu/d/0v9NqXT\n",
    "uav_td.add_battery(name='zeee_1500_2x', Ub=2 * 7.4, Cb=2 * 3000,\n",
    "            Cmin=2 * 300, Rb=2 * 0.2, mass=4 * 0.176, price=4 * 32.99)\n",
    "# Add Tattu 2300mAh 11.1V 45C 3S1P (2 batteries in parallel x 2 in series)\n",
    "# https://amzn.eu/d/3qAMa69\n",
    "uav_td.add_battery(name='tatoo_2300_2x', Ub=2 * 11.1, Cb=2 * 2300,\n",
    "            Cmin=2 * 230, Rb=2 * 0.2, mass=4 * 0.1822, price=4 * 26.19)\n",
    "# Add HRB 2 Pack 3S 11,1 V 5000 mAh LiPo-accu 50 C (2 batteries in series)\n",
    "# https://amzn.eu/d/bihiQ4N\n",
    "uav_td.add_battery(name='hrb_5000', Ub=2 * 11.1, Cb=5000,\n",
    "            Cmin=500, Rb=2 * 0.2, mass=2 * 0.376, price=2 * 45.99)\n",
    "# Add Zeee 3S Lipo Battery 11.1V 100C 8000mAh\n",
    "# https://amzn.eu/d/8p7C5QJ\n",
    "uav_td.add_battery(name='zeee_8000', Ub=11.1, Cb=8000,\n",
    "            Cmin=800, Rb=0.2, mass=0.493, price=79.99)\n",
    "# Add Tattu Lipo 6S RC Battery 22.2V 1300mAh 120C (2 batteries in parallel x 2 in series)\n",
    "# https://amzn.eu/d/fp4bDz7\n",
    "uav_td.add_battery(name='tatoo_1300_2x', Ub=2 * 22.2, Cb=2 * 1300,\n",
    "            Cmin= 2 * 130, Rb=2 * 0.2, mass=4 * 0.212, price=4 * 41.62)\n",
    "\n",
    "# two 5000 in series\n",
    "uav_td.add_battery(name='4s_5000', Ub=2 * 14.8, Cb=5000,\n",
    "            Cmin=500, Rb=2 * 0.2, mass=2 * 0.376, price=2 * 45.99)\n"
   ]
  },
  {
   "attachments": {},
   "cell_type": "markdown",
   "metadata": {},
   "source": [
    "### Motors"
   ]
  },
  {
   "cell_type": "code",
   "execution_count": 75,
   "metadata": {},
   "outputs": [],
   "source": [
    "# Add motor with its attributes\n",
    "# Add TMOTOR Velox Victory V3008 1350kv\n",
    "# https://shop.tmotor.com/products/cinematic-fpv-drone-motor-v3008\n",
    "uav_td.add_motor(name='motor_v3008', Kv0=1350, Um0=10,\n",
    "          Im0=1.18, Rm=0.1, mass=0.07, price=28.39)\n",
    "# Add TMOTOR VELOCE V2808 1950KV\n",
    "# https://shop.tmotor.com/products/fpv-brushless-motor-v2808?variant=41118111367377\n",
    "uav_td.add_motor(name='motor_v2808', Kv0=1950, Um0=10,\n",
    "          Im0=2.45, Rm=0.1, mass=0.061, price=24.83)\n",
    "\n",
    "# try 2400kv\n",
    "uav_td.add_motor(name='motor_kv2400', Kv0=2400, Um0=10,\n",
    "            Im0=2.45, Rm=0.1, mass=0.061, price=24.83)\n"
   ]
  },
  {
   "attachments": {},
   "cell_type": "markdown",
   "metadata": {},
   "source": [
    "### Propellers"
   ]
  },
  {
   "cell_type": "code",
   "execution_count": 76,
   "metadata": {},
   "outputs": [],
   "source": [
    "# Add propeller with its attributes\n",
    "# Add Tmotor MS1101\n",
    "# https://uav-en.tmotor.com/html/2019/Straight_0429/242.html\n",
    "# https://store.tmotor.com/goods.php?id=822\n",
    "uav_td.add_propeller(name='propeller_ms1101', Dp=11, Hp=4.2, Bp=2, mass=0.010, price=13.99 / 2)\n",
    "# Add Tmotor T9545-A\n",
    "# https://uav-en.tmotor.com/html/2018/Straight_0416/150.html\n",
    "# https://store.tmotor.com/goods.php?id=479\n",
    "uav_td.add_propeller(name='propeller_t9545', Dp=9.5, Hp=4.5, Bp=2, mass=0.008, price=7.99 / 2)\n",
    "# Add Tmotor MF1302 folding propeller\n",
    "# https://uav-en.tmotor.com/html/2019/Folding_0603/250.html\n",
    "# https://store.tmotor.com/goods.php?id=853\n",
    "uav_td.add_propeller(name='propeller_mf1302', Dp=13, Hp=4.8, Bp=2, mass=0.017, price=29.99 / 2)\n"
   ]
  },
  {
   "attachments": {},
   "cell_type": "markdown",
   "metadata": {},
   "source": [
    "### ESCs"
   ]
  },
  {
   "cell_type": "code",
   "execution_count": 77,
   "metadata": {},
   "outputs": [],
   "source": [
    "\n",
    "# Add ESC with its attributes\n",
    "# Add 30A ESC\n",
    "uav_td.add_esc(name='esc_30', Re=0.01, mass=0.01, price=10)\n",
    "# # Add 20A ESC\n",
    "# add_esc('esc_20', 0.01, 0.01, 10)\n"
   ]
  },
  {
   "attachments": {},
   "cell_type": "markdown",
   "metadata": {},
   "source": [
    "### Frames"
   ]
  },
  {
   "cell_type": "code",
   "execution_count": 78,
   "metadata": {},
   "outputs": [],
   "source": [
    "# # Add frame with its attributes\n",
    "# # Add 450mm frame\n",
    "# https://www.aliexpress.com/item/1826445939.html?spm=a2g0o.productlist.main.1.50754792nUZ6Lo&algo_pvid=4287122b-6c35-4298-8ae2-759823a1c0b5&algo_exp_id=4287122b-6c35-4298-8ae2-759823a1c0b5-0&pdp_npi=3%40dis%21USD%2132.27%2119.04%21%21%2132.27%21%21%40212249cb16899388764054185d076a%2110000013899219007%21sea%21NL%212631492666&curPageLogUid=LcEeOINnKP5O\n",
    "uav_td.add_frame(name='frame_450', Df=450, nr=4, mass=0.282, price=17.86)\n",
    "# # Add custom 3D printed frame\n",
    "uav_td.add_frame(name='cig_frame', Df=450, nr=6, mass=0.3, price=20)\n"
   ]
  },
  {
   "cell_type": "markdown",
   "metadata": {},
   "source": [
    "### Onboard Computer"
   ]
  },
  {
   "cell_type": "code",
   "execution_count": 79,
   "metadata": {},
   "outputs": [],
   "source": [
    "# add_onboard_computer(name='raspberry_pi_4', Icontrol=1, mass=0.046, price=100)\n",
    "uav_td.add_onboard_computer(name='jetson_nano', Icontrol=3, mass=0.100, price=150)\n"
   ]
  },
  {
   "cell_type": "markdown",
   "metadata": {},
   "source": [
    "## Generate the Design Space\n",
    "\n",
    "The design space is the set of all possible designs. In this case, the design space is the set of all possible drones. The system will generate all the possible combinations of the design variables and will evaluate the performance of each design.\n"
   ]
  },
  {
   "cell_type": "code",
   "execution_count": 80,
   "metadata": {},
   "outputs": [],
   "source": [
    "# save design components to json file\n",
    "uav_td.save_components_to_json('design_components.json')\n",
    "\n",
    "# generate the tradespace\n",
    "uav_td.generate_tradespace()"
   ]
  },
  {
   "cell_type": "markdown",
   "metadata": {},
   "source": [
    "## Visualize the Design Space\n",
    "\n",
    "### The MAU and the SAU\n",
    "\n",
    "For visualization, we want to have the best design score at the lowest cost. The design score in the tradespace exploration theory is called Multi Attribute Utility MAU. The MAU is a weighted mean of the scores for each performance variable, called Single Attribute Utility SAU. The SAU is calculated based on the Mission requirements that were defined in the beginning of the design process. The MAU is calculated as follows:\n",
    "\n",
    "$$MAU = \\sum_{i=1}^{n} w_i SAU_i$$\n",
    "\n",
    "Where $w_i$ is the weight of the performance variable $i$ and $n$ is the number of performance variables.\n",
    "\n",
    "### The Pareto Front\n",
    "\n",
    "The Pareto Front is the set of designs that are not dominated by any other design. A design dominates another design if it has a better MAU and a lower cost. The Pareto Front is the set of designs that are the best in the tradespace. The Pareto Front is calculated by the system and is shown in the visualization."
   ]
  },
  {
   "cell_type": "code",
   "execution_count": 81,
   "metadata": {},
   "outputs": [
    {
     "data": {
      "application/vnd.plotly.v1+json": {
       "config": {
        "plotlyServerURL": "https://plot.ly"
       },
       "data": [
        {
         "hovertemplate": "<b>%{text}</b><br>%{yaxis.title.text}: %{y}<br>%{xaxis.title.text}: %{x}<extra></extra>",
         "marker": {
          "color": "gray",
          "size": 10
         },
         "mode": "markers",
         "name": "All Designs",
         "text": [
          "ID: 0",
          "ID: 1",
          "ID: 2",
          "ID: 3",
          "ID: 4",
          "ID: 5",
          "ID: 6",
          "ID: 7",
          "ID: 8",
          "ID: 9",
          "ID: 10",
          "ID: 11",
          "ID: 12",
          "ID: 13",
          "ID: 14",
          "ID: 15",
          "ID: 16",
          "ID: 17",
          "ID: 18",
          "ID: 19",
          "ID: 20",
          "ID: 21",
          "ID: 22",
          "ID: 23",
          "ID: 24",
          "ID: 25",
          "ID: 26",
          "ID: 27",
          "ID: 28",
          "ID: 29",
          "ID: 30",
          "ID: 31",
          "ID: 32",
          "ID: 33",
          "ID: 34",
          "ID: 35",
          "ID: 36",
          "ID: 37",
          "ID: 38",
          "ID: 39",
          "ID: 40",
          "ID: 41",
          "ID: 42",
          "ID: 43",
          "ID: 44",
          "ID: 45",
          "ID: 46",
          "ID: 47",
          "ID: 48",
          "ID: 49",
          "ID: 50",
          "ID: 51",
          "ID: 52",
          "ID: 53",
          "ID: 54",
          "ID: 55",
          "ID: 56",
          "ID: 57",
          "ID: 58",
          "ID: 59",
          "ID: 60",
          "ID: 61",
          "ID: 62",
          "ID: 63",
          "ID: 64",
          "ID: 65",
          "ID: 66",
          "ID: 67",
          "ID: 68",
          "ID: 69",
          "ID: 70",
          "ID: 71",
          "ID: 72",
          "ID: 73",
          "ID: 74",
          "ID: 75",
          "ID: 76",
          "ID: 77",
          "ID: 78",
          "ID: 79",
          "ID: 80",
          "ID: 81",
          "ID: 82",
          "ID: 83",
          "ID: 84",
          "ID: 85",
          "ID: 86",
          "ID: 87",
          "ID: 88",
          "ID: 89",
          "ID: 90",
          "ID: 91",
          "ID: 92",
          "ID: 93",
          "ID: 94",
          "ID: 95",
          "ID: 96",
          "ID: 97",
          "ID: 98",
          "ID: 99",
          "ID: 100",
          "ID: 101",
          "ID: 102",
          "ID: 103",
          "ID: 104",
          "ID: 105",
          "ID: 106",
          "ID: 107"
         ],
         "type": "scatter",
         "x": [
          481.36,
          574.27,
          469.36,
          556.27,
          513.36,
          622.27,
          467.12,
          552.91,
          455.12,
          534.91,
          499.12,
          600.91,
          467.12,
          552.91,
          455.12,
          534.91,
          499.12,
          600.91,
          454.16,
          547.0699999999999,
          442.16,
          529.0699999999999,
          486.16,
          595.0699999999999,
          439.92,
          525.71,
          427.92,
          507.71,
          471.92,
          573.71,
          439.92,
          525.71,
          427.92,
          507.71,
          471.92,
          573.71,
          441.38,
          534.29,
          429.38,
          516.29,
          473.38,
          582.29,
          427.14,
          512.9300000000001,
          415.14,
          494.93,
          459.14,
          560.9300000000001,
          427.14,
          512.9300000000001,
          415.14,
          494.93,
          459.14,
          560.9300000000001,
          429.39,
          522.3,
          417.39,
          504.3,
          461.39,
          570.3,
          415.15,
          500.94,
          403.15,
          482.94,
          447.15,
          548.94,
          415.15,
          500.94,
          403.15,
          482.94,
          447.15,
          548.94,
          515.88,
          608.79,
          503.88,
          590.79,
          547.88,
          656.79,
          501.64,
          587.43,
          489.64,
          569.43,
          533.64,
          635.43,
          501.64,
          587.43,
          489.64,
          569.43,
          533.64,
          635.43,
          441.38,
          534.29,
          429.38,
          516.29,
          473.38,
          582.29,
          427.14,
          512.9300000000001,
          415.14,
          494.93,
          459.14,
          560.9300000000001,
          427.14,
          512.9300000000001,
          415.14,
          494.93,
          459.14,
          560.9300000000001
         ],
         "y": [
          0.3279246096335133,
          0.38911665765449194,
          0.31799087943469634,
          0.37156919494722646,
          0.33478184697474184,
          0.40527897456563255,
          0.1974428603512297,
          0.25734726706681926,
          0.21178409855595287,
          0.266899338283787,
          0.16491759522400853,
          0.22871466818269626,
          0.13151952557584556,
          0.1937848996084126,
          0.15835688392660846,
          0.21820218713678718,
          0.08342338833646662,
          0.14577529061084213,
          0.41157434283359795,
          0.4993634219105951,
          0.400710469837773,
          0.4801918075442479,
          0.4182190561486845,
          0.5155291084415282,
          0.27513785071007596,
          0.358374390459507,
          0.29164129461738403,
          0.3708293822342459,
          0.2388682705124817,
          0.3246881071648056,
          0.20279539960298787,
          0.2859790566165804,
          0.23276472587478436,
          0.3145721999382846,
          0.1497672539495724,
          0.23149985526665193,
          0.4548520819193793,
          0.5461171468731731,
          0.4441802223842408,
          0.5267936669946434,
          0.46085342766870874,
          0.5620816006025537,
          0.30821133650811683,
          0.39466520041873365,
          0.32625745401056705,
          0.40837219985859663,
          0.2691121488965319,
          0.3583939151872023,
          0.23083988715461598,
          0.31743296436453283,
          0.2630194970288945,
          0.3480778743512176,
          0.17419827673828897,
          0.2593411202287978,
          0.4296184441850692,
          0.46610402790923744,
          0.19494119365371493,
          0.44702420572571167,
          0.43823124630555316,
          0.48383748431023854,
          0.27497435513982604,
          0.3132027062363442,
          0.2893671312224969,
          0.32172888205776773,
          0.23955238555298736,
          0.283315005508748,
          0.20229861319808573,
          0.24635625986851217,
          0.23140900565321554,
          0.2715257015509601,
          0.147785459277935,
          0.19395828937454657,
          0.5139685583100868,
          0.6240957770673811,
          0.5058448020758677,
          0.6215552812381703,
          0.5137550968793179,
          0.6239358106371234,
          0.3741097981170547,
          0.5209573254186783,
          0.3965891520469698,
          0.5332381681896431,
          0.33069835685291377,
          0.4760759634201318,
          0.2933860717469463,
          0.432871715090091,
          0.32858000519486735,
          0.47143496372454174,
          0.23469671535043996,
          0.3667104315033621,
          0.6459793842731799,
          0.7341606427318893,
          0.635083356859033,
          0.716883744790409,
          0.6526310436574926,
          0.7469251611768997,
          0.4889791944687769,
          0.6035801730045518,
          0.5129612562739567,
          0.6234833391241303,
          0.4389707437202779,
          0.5555631317786038,
          0.39235434406585845,
          0.5053992269369938,
          0.43328820307935045,
          0.545422712706788,
          0.32106497991816896,
          0.43133151572396433
         ]
        },
        {
         "error_y": {
          "array": [
           0.11225735443988805,
           0.15947451881989905,
           0.1605523049292611,
           0.1980201710710605,
           0.0892848577940778
          ],
          "arrayminus": [
           0.1099123116843852,
           0.15302071829860298,
           0.15316215192574956,
           0.1526092687614023,
           0.07751264001751901
          ],
          "symmetric": false,
          "type": "data",
          "visible": true
         },
         "hovertemplate": "<b>%{text}</b><br><br>%{xaxis.title.text}: %{x}<br>%{yaxis.title.text}: %{y}<extra></extra>",
         "marker": {
          "color": "blue",
          "size": 14
         },
         "mode": "markers",
         "name": "Near Pareto Front",
         "text": [
          "ID: 72",
          "ID: 73",
          "ID: 75",
          "ID: 81",
          "ID: 99"
         ],
         "type": "scatter",
         "x": [
          515.88,
          608.79,
          590.79,
          569.43,
          494.93
         ],
         "y": [
          0.5139685583100868,
          0.6240957770673811,
          0.6215552812381703,
          0.5332381681896431,
          0.6234833391241303
         ]
        },
        {
         "error_y": {
          "array": [
           0.0752012432002695,
           0.1220760743885585,
           0.09166874388555535,
           0.12583332522102286,
           0.09762629489985897,
           0.11978239873879548,
           0.08726718580106896,
           0.08670541656066333
          ],
          "arrayminus": [
           0.09798949871550272,
           0.08697260224226844,
           0.06594510375248597,
           0.09364075883901246,
           0.06878688223822316,
           0.07990636912488547,
           0.06560593967104222,
           0.06286545705122959
          ],
          "symmetric": false,
          "type": "data",
          "visible": true
         },
         "hovertemplate": "<b>%{text}</b><br><br>%{xaxis.title.text}: %{x}<br>%{yaxis.title.text}: %{y}<extra></extra>",
         "marker": {
          "color": "darkblue",
          "size": 14
         },
         "mode": "markers",
         "name": "Pareto Front",
         "text": [
          "ID: 62",
          "ID: 90",
          "ID: 91",
          "ID: 92",
          "ID: 93",
          "ID: 94",
          "ID: 95",
          "ID: 98"
         ],
         "type": "scatter",
         "x": [
          403.15,
          441.38,
          534.29,
          429.38,
          516.29,
          473.38,
          582.29,
          415.14
         ],
         "y": [
          0.2893671312224969,
          0.6459793842731799,
          0.7341606427318893,
          0.635083356859033,
          0.716883744790409,
          0.6526310436574926,
          0.7469251611768997,
          0.5129612562739567
         ]
        }
       ],
       "layout": {
        "annotations": [
         {
          "font": {
           "size": 14
          },
          "showarrow": false,
          "text": "Desired Price Range",
          "x": 403.15,
          "xanchor": "left",
          "xref": "x",
          "y": 1,
          "yanchor": "top",
          "yref": "y domain"
         }
        ],
        "shapes": [
         {
          "fillcolor": "blue",
          "line": {
           "width": 0
          },
          "opacity": 0.1,
          "type": "rect",
          "x0": 403.15,
          "x1": 600,
          "xref": "x",
          "y0": 0,
          "y1": 1,
          "yref": "y domain"
         }
        ],
        "showlegend": true,
        "template": {
         "data": {
          "bar": [
           {
            "error_x": {
             "color": "#2a3f5f"
            },
            "error_y": {
             "color": "#2a3f5f"
            },
            "marker": {
             "line": {
              "color": "#E5ECF6",
              "width": 0.5
             },
             "pattern": {
              "fillmode": "overlay",
              "size": 10,
              "solidity": 0.2
             }
            },
            "type": "bar"
           }
          ],
          "barpolar": [
           {
            "marker": {
             "line": {
              "color": "#E5ECF6",
              "width": 0.5
             },
             "pattern": {
              "fillmode": "overlay",
              "size": 10,
              "solidity": 0.2
             }
            },
            "type": "barpolar"
           }
          ],
          "carpet": [
           {
            "aaxis": {
             "endlinecolor": "#2a3f5f",
             "gridcolor": "white",
             "linecolor": "white",
             "minorgridcolor": "white",
             "startlinecolor": "#2a3f5f"
            },
            "baxis": {
             "endlinecolor": "#2a3f5f",
             "gridcolor": "white",
             "linecolor": "white",
             "minorgridcolor": "white",
             "startlinecolor": "#2a3f5f"
            },
            "type": "carpet"
           }
          ],
          "choropleth": [
           {
            "colorbar": {
             "outlinewidth": 0,
             "ticks": ""
            },
            "type": "choropleth"
           }
          ],
          "contour": [
           {
            "colorbar": {
             "outlinewidth": 0,
             "ticks": ""
            },
            "colorscale": [
             [
              0,
              "#0d0887"
             ],
             [
              0.1111111111111111,
              "#46039f"
             ],
             [
              0.2222222222222222,
              "#7201a8"
             ],
             [
              0.3333333333333333,
              "#9c179e"
             ],
             [
              0.4444444444444444,
              "#bd3786"
             ],
             [
              0.5555555555555556,
              "#d8576b"
             ],
             [
              0.6666666666666666,
              "#ed7953"
             ],
             [
              0.7777777777777778,
              "#fb9f3a"
             ],
             [
              0.8888888888888888,
              "#fdca26"
             ],
             [
              1,
              "#f0f921"
             ]
            ],
            "type": "contour"
           }
          ],
          "contourcarpet": [
           {
            "colorbar": {
             "outlinewidth": 0,
             "ticks": ""
            },
            "type": "contourcarpet"
           }
          ],
          "heatmap": [
           {
            "colorbar": {
             "outlinewidth": 0,
             "ticks": ""
            },
            "colorscale": [
             [
              0,
              "#0d0887"
             ],
             [
              0.1111111111111111,
              "#46039f"
             ],
             [
              0.2222222222222222,
              "#7201a8"
             ],
             [
              0.3333333333333333,
              "#9c179e"
             ],
             [
              0.4444444444444444,
              "#bd3786"
             ],
             [
              0.5555555555555556,
              "#d8576b"
             ],
             [
              0.6666666666666666,
              "#ed7953"
             ],
             [
              0.7777777777777778,
              "#fb9f3a"
             ],
             [
              0.8888888888888888,
              "#fdca26"
             ],
             [
              1,
              "#f0f921"
             ]
            ],
            "type": "heatmap"
           }
          ],
          "heatmapgl": [
           {
            "colorbar": {
             "outlinewidth": 0,
             "ticks": ""
            },
            "colorscale": [
             [
              0,
              "#0d0887"
             ],
             [
              0.1111111111111111,
              "#46039f"
             ],
             [
              0.2222222222222222,
              "#7201a8"
             ],
             [
              0.3333333333333333,
              "#9c179e"
             ],
             [
              0.4444444444444444,
              "#bd3786"
             ],
             [
              0.5555555555555556,
              "#d8576b"
             ],
             [
              0.6666666666666666,
              "#ed7953"
             ],
             [
              0.7777777777777778,
              "#fb9f3a"
             ],
             [
              0.8888888888888888,
              "#fdca26"
             ],
             [
              1,
              "#f0f921"
             ]
            ],
            "type": "heatmapgl"
           }
          ],
          "histogram": [
           {
            "marker": {
             "pattern": {
              "fillmode": "overlay",
              "size": 10,
              "solidity": 0.2
             }
            },
            "type": "histogram"
           }
          ],
          "histogram2d": [
           {
            "colorbar": {
             "outlinewidth": 0,
             "ticks": ""
            },
            "colorscale": [
             [
              0,
              "#0d0887"
             ],
             [
              0.1111111111111111,
              "#46039f"
             ],
             [
              0.2222222222222222,
              "#7201a8"
             ],
             [
              0.3333333333333333,
              "#9c179e"
             ],
             [
              0.4444444444444444,
              "#bd3786"
             ],
             [
              0.5555555555555556,
              "#d8576b"
             ],
             [
              0.6666666666666666,
              "#ed7953"
             ],
             [
              0.7777777777777778,
              "#fb9f3a"
             ],
             [
              0.8888888888888888,
              "#fdca26"
             ],
             [
              1,
              "#f0f921"
             ]
            ],
            "type": "histogram2d"
           }
          ],
          "histogram2dcontour": [
           {
            "colorbar": {
             "outlinewidth": 0,
             "ticks": ""
            },
            "colorscale": [
             [
              0,
              "#0d0887"
             ],
             [
              0.1111111111111111,
              "#46039f"
             ],
             [
              0.2222222222222222,
              "#7201a8"
             ],
             [
              0.3333333333333333,
              "#9c179e"
             ],
             [
              0.4444444444444444,
              "#bd3786"
             ],
             [
              0.5555555555555556,
              "#d8576b"
             ],
             [
              0.6666666666666666,
              "#ed7953"
             ],
             [
              0.7777777777777778,
              "#fb9f3a"
             ],
             [
              0.8888888888888888,
              "#fdca26"
             ],
             [
              1,
              "#f0f921"
             ]
            ],
            "type": "histogram2dcontour"
           }
          ],
          "mesh3d": [
           {
            "colorbar": {
             "outlinewidth": 0,
             "ticks": ""
            },
            "type": "mesh3d"
           }
          ],
          "parcoords": [
           {
            "line": {
             "colorbar": {
              "outlinewidth": 0,
              "ticks": ""
             }
            },
            "type": "parcoords"
           }
          ],
          "pie": [
           {
            "automargin": true,
            "type": "pie"
           }
          ],
          "scatter": [
           {
            "fillpattern": {
             "fillmode": "overlay",
             "size": 10,
             "solidity": 0.2
            },
            "type": "scatter"
           }
          ],
          "scatter3d": [
           {
            "line": {
             "colorbar": {
              "outlinewidth": 0,
              "ticks": ""
             }
            },
            "marker": {
             "colorbar": {
              "outlinewidth": 0,
              "ticks": ""
             }
            },
            "type": "scatter3d"
           }
          ],
          "scattercarpet": [
           {
            "marker": {
             "colorbar": {
              "outlinewidth": 0,
              "ticks": ""
             }
            },
            "type": "scattercarpet"
           }
          ],
          "scattergeo": [
           {
            "marker": {
             "colorbar": {
              "outlinewidth": 0,
              "ticks": ""
             }
            },
            "type": "scattergeo"
           }
          ],
          "scattergl": [
           {
            "marker": {
             "colorbar": {
              "outlinewidth": 0,
              "ticks": ""
             }
            },
            "type": "scattergl"
           }
          ],
          "scattermapbox": [
           {
            "marker": {
             "colorbar": {
              "outlinewidth": 0,
              "ticks": ""
             }
            },
            "type": "scattermapbox"
           }
          ],
          "scatterpolar": [
           {
            "marker": {
             "colorbar": {
              "outlinewidth": 0,
              "ticks": ""
             }
            },
            "type": "scatterpolar"
           }
          ],
          "scatterpolargl": [
           {
            "marker": {
             "colorbar": {
              "outlinewidth": 0,
              "ticks": ""
             }
            },
            "type": "scatterpolargl"
           }
          ],
          "scatterternary": [
           {
            "marker": {
             "colorbar": {
              "outlinewidth": 0,
              "ticks": ""
             }
            },
            "type": "scatterternary"
           }
          ],
          "surface": [
           {
            "colorbar": {
             "outlinewidth": 0,
             "ticks": ""
            },
            "colorscale": [
             [
              0,
              "#0d0887"
             ],
             [
              0.1111111111111111,
              "#46039f"
             ],
             [
              0.2222222222222222,
              "#7201a8"
             ],
             [
              0.3333333333333333,
              "#9c179e"
             ],
             [
              0.4444444444444444,
              "#bd3786"
             ],
             [
              0.5555555555555556,
              "#d8576b"
             ],
             [
              0.6666666666666666,
              "#ed7953"
             ],
             [
              0.7777777777777778,
              "#fb9f3a"
             ],
             [
              0.8888888888888888,
              "#fdca26"
             ],
             [
              1,
              "#f0f921"
             ]
            ],
            "type": "surface"
           }
          ],
          "table": [
           {
            "cells": {
             "fill": {
              "color": "#EBF0F8"
             },
             "line": {
              "color": "white"
             }
            },
            "header": {
             "fill": {
              "color": "#C8D4E3"
             },
             "line": {
              "color": "white"
             }
            },
            "type": "table"
           }
          ]
         },
         "layout": {
          "annotationdefaults": {
           "arrowcolor": "#2a3f5f",
           "arrowhead": 0,
           "arrowwidth": 1
          },
          "autotypenumbers": "strict",
          "coloraxis": {
           "colorbar": {
            "outlinewidth": 0,
            "ticks": ""
           }
          },
          "colorscale": {
           "diverging": [
            [
             0,
             "#8e0152"
            ],
            [
             0.1,
             "#c51b7d"
            ],
            [
             0.2,
             "#de77ae"
            ],
            [
             0.3,
             "#f1b6da"
            ],
            [
             0.4,
             "#fde0ef"
            ],
            [
             0.5,
             "#f7f7f7"
            ],
            [
             0.6,
             "#e6f5d0"
            ],
            [
             0.7,
             "#b8e186"
            ],
            [
             0.8,
             "#7fbc41"
            ],
            [
             0.9,
             "#4d9221"
            ],
            [
             1,
             "#276419"
            ]
           ],
           "sequential": [
            [
             0,
             "#0d0887"
            ],
            [
             0.1111111111111111,
             "#46039f"
            ],
            [
             0.2222222222222222,
             "#7201a8"
            ],
            [
             0.3333333333333333,
             "#9c179e"
            ],
            [
             0.4444444444444444,
             "#bd3786"
            ],
            [
             0.5555555555555556,
             "#d8576b"
            ],
            [
             0.6666666666666666,
             "#ed7953"
            ],
            [
             0.7777777777777778,
             "#fb9f3a"
            ],
            [
             0.8888888888888888,
             "#fdca26"
            ],
            [
             1,
             "#f0f921"
            ]
           ],
           "sequentialminus": [
            [
             0,
             "#0d0887"
            ],
            [
             0.1111111111111111,
             "#46039f"
            ],
            [
             0.2222222222222222,
             "#7201a8"
            ],
            [
             0.3333333333333333,
             "#9c179e"
            ],
            [
             0.4444444444444444,
             "#bd3786"
            ],
            [
             0.5555555555555556,
             "#d8576b"
            ],
            [
             0.6666666666666666,
             "#ed7953"
            ],
            [
             0.7777777777777778,
             "#fb9f3a"
            ],
            [
             0.8888888888888888,
             "#fdca26"
            ],
            [
             1,
             "#f0f921"
            ]
           ]
          },
          "colorway": [
           "#636efa",
           "#EF553B",
           "#00cc96",
           "#ab63fa",
           "#FFA15A",
           "#19d3f3",
           "#FF6692",
           "#B6E880",
           "#FF97FF",
           "#FECB52"
          ],
          "font": {
           "color": "#2a3f5f"
          },
          "geo": {
           "bgcolor": "white",
           "lakecolor": "white",
           "landcolor": "#E5ECF6",
           "showlakes": true,
           "showland": true,
           "subunitcolor": "white"
          },
          "hoverlabel": {
           "align": "left"
          },
          "hovermode": "closest",
          "mapbox": {
           "style": "light"
          },
          "paper_bgcolor": "white",
          "plot_bgcolor": "#E5ECF6",
          "polar": {
           "angularaxis": {
            "gridcolor": "white",
            "linecolor": "white",
            "ticks": ""
           },
           "bgcolor": "#E5ECF6",
           "radialaxis": {
            "gridcolor": "white",
            "linecolor": "white",
            "ticks": ""
           }
          },
          "scene": {
           "xaxis": {
            "backgroundcolor": "#E5ECF6",
            "gridcolor": "white",
            "gridwidth": 2,
            "linecolor": "white",
            "showbackground": true,
            "ticks": "",
            "zerolinecolor": "white"
           },
           "yaxis": {
            "backgroundcolor": "#E5ECF6",
            "gridcolor": "white",
            "gridwidth": 2,
            "linecolor": "white",
            "showbackground": true,
            "ticks": "",
            "zerolinecolor": "white"
           },
           "zaxis": {
            "backgroundcolor": "#E5ECF6",
            "gridcolor": "white",
            "gridwidth": 2,
            "linecolor": "white",
            "showbackground": true,
            "ticks": "",
            "zerolinecolor": "white"
           }
          },
          "shapedefaults": {
           "line": {
            "color": "#2a3f5f"
           }
          },
          "ternary": {
           "aaxis": {
            "gridcolor": "white",
            "linecolor": "white",
            "ticks": ""
           },
           "baxis": {
            "gridcolor": "white",
            "linecolor": "white",
            "ticks": ""
           },
           "bgcolor": "#E5ECF6",
           "caxis": {
            "gridcolor": "white",
            "linecolor": "white",
            "ticks": ""
           }
          },
          "title": {
           "x": 0.05
          },
          "xaxis": {
           "automargin": true,
           "gridcolor": "white",
           "linecolor": "white",
           "ticks": "",
           "title": {
            "standoff": 15
           },
           "zerolinecolor": "white",
           "zerolinewidth": 2
          },
          "yaxis": {
           "automargin": true,
           "gridcolor": "white",
           "linecolor": "white",
           "ticks": "",
           "title": {
            "standoff": 15
           },
           "zerolinecolor": "white",
           "zerolinewidth": 2
          }
         }
        },
        "xaxis": {
         "title": {
          "text": "Price (USD)"
         }
        },
        "yaxis": {
         "range": [
          -0.05,
          1
         ],
         "title": {
          "text": "MAU"
         }
        }
       }
      }
     },
     "metadata": {},
     "output_type": "display_data"
    }
   ],
   "source": [
    "# see the tradespace\n",
    "# uav_td.td.plot_tradespace_plotly('price', 'MAU')\n",
    "uav_td.plot_price_vs_mau()\n"
   ]
  },
  {
   "cell_type": "code",
   "execution_count": 82,
   "metadata": {},
   "outputs": [
    {
     "name": "stdout",
     "output_type": "stream",
     "text": [
      "Warning: min and max values not found for max_flight_distance\n",
      "Warning: min and max values not found for max_flight_distance\n",
      "Warning: min and max values not found for max_speed\n",
      "Warning: min and max values not found for max_speed\n",
      "Warning: min and max values not found for max_payload\n",
      "Warning: min and max values not found for max_payload\n",
      "Warning: min and max values not found for max_flight_time\n",
      "Warning: min and max values not found for max_flight_time\n"
     ]
    },
    {
     "data": {
      "application/vnd.plotly.v1+json": {
       "config": {
        "plotlyServerURL": "https://plot.ly"
       },
       "data": [
        {
         "hovertemplate": "<b>%{text}</b><br>%{yaxis.title.text}: %{y}<br>%{xaxis.title.text}: %{x}<extra></extra>",
         "marker": {
          "color": "gray",
          "size": 10
         },
         "mode": "markers",
         "name": "All Designs",
         "text": [
          "ID: 0",
          "ID: 1",
          "ID: 2",
          "ID: 3",
          "ID: 4",
          "ID: 5",
          "ID: 6",
          "ID: 7",
          "ID: 8",
          "ID: 9",
          "ID: 10",
          "ID: 11",
          "ID: 12",
          "ID: 13",
          "ID: 14",
          "ID: 15",
          "ID: 16",
          "ID: 17",
          "ID: 18",
          "ID: 19",
          "ID: 20",
          "ID: 21",
          "ID: 22",
          "ID: 23",
          "ID: 24",
          "ID: 25",
          "ID: 26",
          "ID: 27",
          "ID: 28",
          "ID: 29",
          "ID: 30",
          "ID: 31",
          "ID: 32",
          "ID: 33",
          "ID: 34",
          "ID: 35",
          "ID: 36",
          "ID: 37",
          "ID: 38",
          "ID: 39",
          "ID: 40",
          "ID: 41",
          "ID: 42",
          "ID: 43",
          "ID: 44",
          "ID: 45",
          "ID: 46",
          "ID: 47",
          "ID: 48",
          "ID: 49",
          "ID: 50",
          "ID: 51",
          "ID: 52",
          "ID: 53",
          "ID: 54",
          "ID: 55",
          "ID: 56",
          "ID: 57",
          "ID: 58",
          "ID: 59",
          "ID: 60",
          "ID: 61",
          "ID: 62",
          "ID: 63",
          "ID: 64",
          "ID: 65",
          "ID: 66",
          "ID: 67",
          "ID: 68",
          "ID: 69",
          "ID: 70",
          "ID: 71",
          "ID: 72",
          "ID: 73",
          "ID: 74",
          "ID: 75",
          "ID: 76",
          "ID: 77",
          "ID: 78",
          "ID: 79",
          "ID: 80",
          "ID: 81",
          "ID: 82",
          "ID: 83",
          "ID: 84",
          "ID: 85",
          "ID: 86",
          "ID: 87",
          "ID: 88",
          "ID: 89",
          "ID: 90",
          "ID: 91",
          "ID: 92",
          "ID: 93",
          "ID: 94",
          "ID: 95",
          "ID: 96",
          "ID: 97",
          "ID: 98",
          "ID: 99",
          "ID: 100",
          "ID: 101",
          "ID: 102",
          "ID: 103",
          "ID: 104",
          "ID: 105",
          "ID: 106",
          "ID: 107"
         ],
         "type": "scatter",
         "x": [
          481.36,
          574.27,
          469.36,
          556.27,
          513.36,
          622.27,
          467.12,
          552.91,
          455.12,
          534.91,
          499.12,
          600.91,
          467.12,
          552.91,
          455.12,
          534.91,
          499.12,
          600.91,
          454.16,
          547.0699999999999,
          442.16,
          529.0699999999999,
          486.16,
          595.0699999999999,
          439.92,
          525.71,
          427.92,
          507.71,
          471.92,
          573.71,
          439.92,
          525.71,
          427.92,
          507.71,
          471.92,
          573.71,
          441.38,
          534.29,
          429.38,
          516.29,
          473.38,
          582.29,
          427.14,
          512.9300000000001,
          415.14,
          494.93,
          459.14,
          560.9300000000001,
          427.14,
          512.9300000000001,
          415.14,
          494.93,
          459.14,
          560.9300000000001,
          429.39,
          522.3,
          417.39,
          504.3,
          461.39,
          570.3,
          415.15,
          500.94,
          403.15,
          482.94,
          447.15,
          548.94,
          415.15,
          500.94,
          403.15,
          482.94,
          447.15,
          548.94,
          515.88,
          608.79,
          503.88,
          590.79,
          547.88,
          656.79,
          501.64,
          587.43,
          489.64,
          569.43,
          533.64,
          635.43,
          501.64,
          587.43,
          489.64,
          569.43,
          533.64,
          635.43,
          441.38,
          534.29,
          429.38,
          516.29,
          473.38,
          582.29,
          427.14,
          512.9300000000001,
          415.14,
          494.93,
          459.14,
          560.9300000000001,
          427.14,
          512.9300000000001,
          415.14,
          494.93,
          459.14,
          560.9300000000001
         ],
         "xaxis": "x",
         "y": [
          7475.599555937627,
          8027.750691931928,
          7468.581382980759,
          7963.301171803134,
          7431.262163925041,
          8058.291080515461,
          5730.1472304675135,
          6205.509015034349,
          5950.389763997984,
          6378.382303630754,
          5305.321889887239,
          5822.8239437401035,
          4925.764846324326,
          5432.527084777837,
          5266.713015337659,
          5746.403563467425,
          4349.744203787916,
          4860.870069951336,
          7865.712904453087,
          8461.46947225642,
          7862.890409376679,
          8401.611409953288,
          7818.810581168064,
          8490.347718971827,
          6117.065577177975,
          6635.0943801599315,
          6343.780775155054,
          6813.908210421196,
          5682.218559585618,
          6244.2002832966555,
          5291.024500856689,
          5840.737069069327,
          5643.034405454478,
          6164.741119227762,
          4695.084232676722,
          5250.912561322508,
          8457.634482312536,
          9114.210000293771,
          8457.77703192303,
          9052.416877563928,
          8402.228133716435,
          9141.197303170495,
          6567.075882495031,
          7138.54280121716,
          6815.137347358108,
          7335.082224282433,
          6093.984947743397,
          6712.328195419908,
          5671.949778837681,
          6276.001789259247,
          6054.146839052299,
          6628.635174694439,
          5027.414449075568,
          5636.839387002808,
          8826.927944924775,
          9285.503264675686,
          8782.300949603945,
          9177.608853003387,
          8824.078375644747,
          9362.7707288393,
          6788.45789520516,
          7177.818322670956,
          7009.824458070221,
          7342.272821486958,
          6330.585843976465,
          6773.991014604414,
          5890.890496201025,
          6334.605633424671,
          6262.506413793413,
          6668.248080566883,
          5237.797180402131,
          5698.350662112658,
          7037.379503301563,
          7616.789412082625,
          7049.035647904277,
          7583.006657959491,
          6985.16860079179,
          7627.897257673417,
          5621.163640818019,
          6139.213063327687,
          5821.451031439783,
          6300.293143406622,
          5246.905476084875,
          5803.440356651031,
          4912.685314369608,
          5455.388779554432,
          5219.688049942917,
          5738.75005248598,
          4395.542611189824,
          4945.838130994427,
          10531.173350026083,
          11343.615011952686,
          10532.584848670469,
          11272.47266069352,
          10467.70596234915,
          11378.159410544657,
          8288.745205034249,
          9001.63402113549,
          8586.441785799285,
          9237.416261442535,
          7720.877934396937,
          8492.247051050581,
          7207.293856656695,
          7961.281567834373,
          7670.302345765525,
          8387.29665057099,
          6422.31727470267,
          7186.482105961616
         ],
         "yaxis": "y"
        },
        {
         "error_y": {
          "array": [
           -7037.379503301563,
           -7616.789412082625,
           -7583.006657959491,
           -6300.293143406622,
           -9237.416261442535
          ],
          "arrayminus": [
           7037.379503301563,
           7616.789412082625,
           7583.006657959491,
           6300.293143406622,
           9237.416261442535
          ],
          "symmetric": false,
          "type": "data",
          "visible": true
         },
         "hovertemplate": "<b>%{text}</b><br><br>%{xaxis.title.text}: %{x}<br>%{yaxis.title.text}: %{y}<extra></extra>",
         "marker": {
          "color": "blue",
          "size": 14
         },
         "mode": "markers",
         "name": "Near Pareto Front",
         "text": [
          "ID: 72",
          "ID: 73",
          "ID: 75",
          "ID: 81",
          "ID: 99"
         ],
         "type": "scatter",
         "x": [
          515.88,
          608.79,
          590.79,
          569.43,
          494.93
         ],
         "xaxis": "x",
         "y": [
          7037.379503301563,
          7616.789412082625,
          7583.006657959491,
          6300.293143406622,
          9237.416261442535
         ],
         "yaxis": "y"
        },
        {
         "error_y": {
          "array": [
           -7009.824458070221,
           -10531.173350026083,
           -11343.615011952686,
           -10532.584848670469,
           -11272.47266069352,
           -10467.70596234915,
           -11378.159410544657,
           -8586.441785799285
          ],
          "arrayminus": [
           7009.824458070221,
           10531.173350026083,
           11343.615011952686,
           10532.584848670469,
           11272.47266069352,
           10467.70596234915,
           11378.159410544657,
           8586.441785799285
          ],
          "symmetric": false,
          "type": "data",
          "visible": true
         },
         "hovertemplate": "<b>%{text}</b><br><br>%{xaxis.title.text}: %{x}<br>%{yaxis.title.text}: %{y}<extra></extra>",
         "marker": {
          "color": "darkblue",
          "size": 14
         },
         "mode": "markers",
         "name": "Pareto Front",
         "text": [
          "ID: 62",
          "ID: 90",
          "ID: 91",
          "ID: 92",
          "ID: 93",
          "ID: 94",
          "ID: 95",
          "ID: 98"
         ],
         "type": "scatter",
         "x": [
          403.15,
          441.38,
          534.29,
          429.38,
          516.29,
          473.38,
          582.29,
          415.14
         ],
         "xaxis": "x",
         "y": [
          7009.824458070221,
          10531.173350026083,
          11343.615011952686,
          10532.584848670469,
          11272.47266069352,
          10467.70596234915,
          11378.159410544657,
          8586.441785799285
         ],
         "yaxis": "y"
        },
        {
         "hovertemplate": "<b>%{text}</b><br>%{yaxis.title.text}: %{y}<br>%{xaxis.title.text}: %{x}<extra></extra>",
         "marker": {
          "color": "gray",
          "size": 10
         },
         "mode": "markers",
         "name": "All Designs",
         "text": [
          "ID: 0",
          "ID: 1",
          "ID: 2",
          "ID: 3",
          "ID: 4",
          "ID: 5",
          "ID: 6",
          "ID: 7",
          "ID: 8",
          "ID: 9",
          "ID: 10",
          "ID: 11",
          "ID: 12",
          "ID: 13",
          "ID: 14",
          "ID: 15",
          "ID: 16",
          "ID: 17",
          "ID: 18",
          "ID: 19",
          "ID: 20",
          "ID: 21",
          "ID: 22",
          "ID: 23",
          "ID: 24",
          "ID: 25",
          "ID: 26",
          "ID: 27",
          "ID: 28",
          "ID: 29",
          "ID: 30",
          "ID: 31",
          "ID: 32",
          "ID: 33",
          "ID: 34",
          "ID: 35",
          "ID: 36",
          "ID: 37",
          "ID: 38",
          "ID: 39",
          "ID: 40",
          "ID: 41",
          "ID: 42",
          "ID: 43",
          "ID: 44",
          "ID: 45",
          "ID: 46",
          "ID: 47",
          "ID: 48",
          "ID: 49",
          "ID: 50",
          "ID: 51",
          "ID: 52",
          "ID: 53",
          "ID: 54",
          "ID: 55",
          "ID: 56",
          "ID: 57",
          "ID: 58",
          "ID: 59",
          "ID: 60",
          "ID: 61",
          "ID: 62",
          "ID: 63",
          "ID: 64",
          "ID: 65",
          "ID: 66",
          "ID: 67",
          "ID: 68",
          "ID: 69",
          "ID: 70",
          "ID: 71",
          "ID: 72",
          "ID: 73",
          "ID: 74",
          "ID: 75",
          "ID: 76",
          "ID: 77",
          "ID: 78",
          "ID: 79",
          "ID: 80",
          "ID: 81",
          "ID: 82",
          "ID: 83",
          "ID: 84",
          "ID: 85",
          "ID: 86",
          "ID: 87",
          "ID: 88",
          "ID: 89",
          "ID: 90",
          "ID: 91",
          "ID: 92",
          "ID: 93",
          "ID: 94",
          "ID: 95",
          "ID: 96",
          "ID: 97",
          "ID: 98",
          "ID: 99",
          "ID: 100",
          "ID: 101",
          "ID: 102",
          "ID: 103",
          "ID: 104",
          "ID: 105",
          "ID: 106",
          "ID: 107"
         ],
         "type": "scatter",
         "x": [
          481.36,
          574.27,
          469.36,
          556.27,
          513.36,
          622.27,
          467.12,
          552.91,
          455.12,
          534.91,
          499.12,
          600.91,
          467.12,
          552.91,
          455.12,
          534.91,
          499.12,
          600.91,
          454.16,
          547.0699999999999,
          442.16,
          529.0699999999999,
          486.16,
          595.0699999999999,
          439.92,
          525.71,
          427.92,
          507.71,
          471.92,
          573.71,
          439.92,
          525.71,
          427.92,
          507.71,
          471.92,
          573.71,
          441.38,
          534.29,
          429.38,
          516.29,
          473.38,
          582.29,
          427.14,
          512.9300000000001,
          415.14,
          494.93,
          459.14,
          560.9300000000001,
          427.14,
          512.9300000000001,
          415.14,
          494.93,
          459.14,
          560.9300000000001,
          429.39,
          522.3,
          417.39,
          504.3,
          461.39,
          570.3,
          415.15,
          500.94,
          403.15,
          482.94,
          447.15,
          548.94,
          415.15,
          500.94,
          403.15,
          482.94,
          447.15,
          548.94,
          515.88,
          608.79,
          503.88,
          590.79,
          547.88,
          656.79,
          501.64,
          587.43,
          489.64,
          569.43,
          533.64,
          635.43,
          501.64,
          587.43,
          489.64,
          569.43,
          533.64,
          635.43,
          441.38,
          534.29,
          429.38,
          516.29,
          473.38,
          582.29,
          427.14,
          512.9300000000001,
          415.14,
          494.93,
          459.14,
          560.9300000000001,
          427.14,
          512.9300000000001,
          415.14,
          494.93,
          459.14,
          560.9300000000001
         ],
         "xaxis": "x2",
         "y": [
          15.954833754330496,
          19.80642765117283,
          14.911787492248305,
          18.563363950303145,
          17.161510005888484,
          21.251074053459078,
          15.982464230978849,
          19.83571070096315,
          15.727507428551066,
          19.530863338716895,
          16.07912006670147,
          19.95390356644955,
          15.433567286842804,
          19.181499597275415,
          15.509237126319045,
          19.270790746399193,
          15.12247682347951,
          18.813991758169305,
          21.754110090845803,
          26.781777744534107,
          20.817373243898345,
          25.649435697753262,
          22.717704366209237,
          27.949850152336964,
          21.095803158089875,
          25.983262219865512,
          21.060426101505204,
          25.939852109726278,
          20.870404414717722,
          25.71345146884245,
          20.135609367810787,
          24.824558060938287,
          20.439879810630195,
          25.190777358197668,
          19.512390056098237,
          24.076363553701757,
          21.74595688953743,
          26.776436203218836,
          20.80836413132683,
          25.64350624675295,
          22.71026167642383,
          27.944971911734257,
          21.087180570481994,
          25.97763549332605,
          21.051801815591173,
          25.93423370284575,
          20.861448333230747,
          25.707559207840188,
          20.12600380582335,
          24.81824416684897,
          20.430632324167412,
          25.184725238805957,
          19.50195915086616,
          24.06942478828537,
          12.62148538105707,
          15.760118631220655,
          11.56293593368121,
          14.50297667327181,
          13.924736510119638,
          17.313607040933288,
          13.00354916179524,
          16.211084530924303,
          12.633223387853961,
          15.770392178526073,
          13.282193481599972,
          16.545031185466176,
          12.69870862291763,
          15.848868333767307,
          12.641982314748464,
          15.780793076787328,
          12.575779874949854,
          15.705186139752247,
          34.81680372296326,
          42.68845671211627,
          34.280258450950924,
          42.03315553050297,
          35.07258154650778,
          43.00160387149568,
          32.341908200861866,
          39.666708182321926,
          32.86260214032,
          40.30169812987667,
          31.335147295708122,
          38.43994484709137,
          30.38854244628904,
          37.284879115138395,
          31.242584329624812,
          38.32564021712206,
          29.025890033792578,
          35.62621602279161,
          26.621288885073813,
          32.689579791727574,
          25.809540636160804,
          31.70221899730189,
          27.344085244816426,
          33.570358242308664,
          25.321664259455503,
          31.1077259096469,
          25.48497143382552,
          31.305654608439887,
          24.81282484646828,
          30.49150497972962,
          23.99993096817186,
          29.50319202987955,
          24.504219649103522,
          30.114561052426275,
          23.10635914904463,
          28.421979584636905
         ],
         "yaxis": "y2"
        },
        {
         "error_y": {
          "array": [
           -34.81680372296326,
           -42.68845671211627,
           -42.03315553050297,
           -40.30169812987667,
           -31.305654608439887
          ],
          "arrayminus": [
           34.81680372296326,
           42.68845671211627,
           42.03315553050297,
           40.30169812987667,
           31.305654608439887
          ],
          "symmetric": false,
          "type": "data",
          "visible": true
         },
         "hovertemplate": "<b>%{text}</b><br><br>%{xaxis.title.text}: %{x}<br>%{yaxis.title.text}: %{y}<extra></extra>",
         "marker": {
          "color": "blue",
          "size": 14
         },
         "mode": "markers",
         "name": "Near Pareto Front",
         "text": [
          "ID: 72",
          "ID: 73",
          "ID: 75",
          "ID: 81",
          "ID: 99"
         ],
         "type": "scatter",
         "x": [
          515.88,
          608.79,
          590.79,
          569.43,
          494.93
         ],
         "xaxis": "x2",
         "y": [
          34.81680372296326,
          42.68845671211627,
          42.03315553050297,
          40.30169812987667,
          31.305654608439887
         ],
         "yaxis": "y2"
        },
        {
         "error_y": {
          "array": [
           -12.633223387853961,
           -26.621288885073813,
           -32.689579791727574,
           -25.809540636160804,
           -31.70221899730189,
           -27.344085244816426,
           -33.570358242308664,
           -25.48497143382552
          ],
          "arrayminus": [
           12.633223387853961,
           26.621288885073813,
           32.689579791727574,
           25.809540636160804,
           31.70221899730189,
           27.344085244816426,
           33.570358242308664,
           25.48497143382552
          ],
          "symmetric": false,
          "type": "data",
          "visible": true
         },
         "hovertemplate": "<b>%{text}</b><br><br>%{xaxis.title.text}: %{x}<br>%{yaxis.title.text}: %{y}<extra></extra>",
         "marker": {
          "color": "darkblue",
          "size": 14
         },
         "mode": "markers",
         "name": "Pareto Front",
         "text": [
          "ID: 62",
          "ID: 90",
          "ID: 91",
          "ID: 92",
          "ID: 93",
          "ID: 94",
          "ID: 95",
          "ID: 98"
         ],
         "type": "scatter",
         "x": [
          403.15,
          441.38,
          534.29,
          429.38,
          516.29,
          473.38,
          582.29,
          415.14
         ],
         "xaxis": "x2",
         "y": [
          12.633223387853961,
          26.621288885073813,
          32.689579791727574,
          25.809540636160804,
          31.70221899730189,
          27.344085244816426,
          33.570358242308664,
          25.48497143382552
         ],
         "yaxis": "y2"
        },
        {
         "hovertemplate": "<b>%{text}</b><br>%{yaxis.title.text}: %{y}<br>%{xaxis.title.text}: %{x}<extra></extra>",
         "marker": {
          "color": "gray",
          "size": 10
         },
         "mode": "markers",
         "name": "All Designs",
         "text": [
          "ID: 0",
          "ID: 1",
          "ID: 2",
          "ID: 3",
          "ID: 4",
          "ID: 5",
          "ID: 6",
          "ID: 7",
          "ID: 8",
          "ID: 9",
          "ID: 10",
          "ID: 11",
          "ID: 12",
          "ID: 13",
          "ID: 14",
          "ID: 15",
          "ID: 16",
          "ID: 17",
          "ID: 18",
          "ID: 19",
          "ID: 20",
          "ID: 21",
          "ID: 22",
          "ID: 23",
          "ID: 24",
          "ID: 25",
          "ID: 26",
          "ID: 27",
          "ID: 28",
          "ID: 29",
          "ID: 30",
          "ID: 31",
          "ID: 32",
          "ID: 33",
          "ID: 34",
          "ID: 35",
          "ID: 36",
          "ID: 37",
          "ID: 38",
          "ID: 39",
          "ID: 40",
          "ID: 41",
          "ID: 42",
          "ID: 43",
          "ID: 44",
          "ID: 45",
          "ID: 46",
          "ID: 47",
          "ID: 48",
          "ID: 49",
          "ID: 50",
          "ID: 51",
          "ID: 52",
          "ID: 53",
          "ID: 54",
          "ID: 55",
          "ID: 56",
          "ID: 57",
          "ID: 58",
          "ID: 59",
          "ID: 60",
          "ID: 61",
          "ID: 62",
          "ID: 63",
          "ID: 64",
          "ID: 65",
          "ID: 66",
          "ID: 67",
          "ID: 68",
          "ID: 69",
          "ID: 70",
          "ID: 71",
          "ID: 72",
          "ID: 73",
          "ID: 74",
          "ID: 75",
          "ID: 76",
          "ID: 77",
          "ID: 78",
          "ID: 79",
          "ID: 80",
          "ID: 81",
          "ID: 82",
          "ID: 83",
          "ID: 84",
          "ID: 85",
          "ID: 86",
          "ID: 87",
          "ID: 88",
          "ID: 89",
          "ID: 90",
          "ID: 91",
          "ID: 92",
          "ID: 93",
          "ID: 94",
          "ID: 95",
          "ID: 96",
          "ID: 97",
          "ID: 98",
          "ID: 99",
          "ID: 100",
          "ID: 101",
          "ID: 102",
          "ID: 103",
          "ID: 104",
          "ID: 105",
          "ID: 106",
          "ID: 107"
         ],
         "type": "scatter",
         "x": [
          481.36,
          574.27,
          469.36,
          556.27,
          513.36,
          622.27,
          467.12,
          552.91,
          455.12,
          534.91,
          499.12,
          600.91,
          467.12,
          552.91,
          455.12,
          534.91,
          499.12,
          600.91,
          454.16,
          547.0699999999999,
          442.16,
          529.0699999999999,
          486.16,
          595.0699999999999,
          439.92,
          525.71,
          427.92,
          507.71,
          471.92,
          573.71,
          439.92,
          525.71,
          427.92,
          507.71,
          471.92,
          573.71,
          441.38,
          534.29,
          429.38,
          516.29,
          473.38,
          582.29,
          427.14,
          512.9300000000001,
          415.14,
          494.93,
          459.14,
          560.9300000000001,
          427.14,
          512.9300000000001,
          415.14,
          494.93,
          459.14,
          560.9300000000001,
          429.39,
          522.3,
          417.39,
          504.3,
          461.39,
          570.3,
          415.15,
          500.94,
          403.15,
          482.94,
          447.15,
          548.94,
          415.15,
          500.94,
          403.15,
          482.94,
          447.15,
          548.94,
          515.88,
          608.79,
          503.88,
          590.79,
          547.88,
          656.79,
          501.64,
          587.43,
          489.64,
          569.43,
          533.64,
          635.43,
          501.64,
          587.43,
          489.64,
          569.43,
          533.64,
          635.43,
          441.38,
          534.29,
          429.38,
          516.29,
          473.38,
          582.29,
          427.14,
          512.9300000000001,
          415.14,
          494.93,
          459.14,
          560.9300000000001,
          427.14,
          512.9300000000001,
          415.14,
          494.93,
          459.14,
          560.9300000000001
         ],
         "xaxis": "x3",
         "y": [
          0.4058655373020503,
          0.662315125524941,
          0.3440763098904673,
          0.5696312844075664,
          0.48184574051327544,
          0.7762854303417787,
          0.40977037635551905,
          0.668172384105144,
          0.39456976835264196,
          0.6453714721008286,
          0.41407641222461,
          0.6746314379087804,
          0.3763391149384948,
          0.6180254919796077,
          0.38135491870371213,
          0.6255491976274337,
          0.3562887631943742,
          0.587949964363427,
          0.8341495370288494,
          1.3060051414250275,
          0.7556368685991729,
          1.1882361387805125,
          0.9173008798834692,
          1.4307321557069568,
          0.780740120488389,
          1.2258910166143369,
          0.7783505125444623,
          1.2223066046984468,
          0.7600151668777452,
          1.1948035861983708,
          0.7023411304542685,
          1.108292531563156,
          0.7273208456428402,
          1.1457621043460136,
          0.6516486710334942,
          1.0322538424319947,
          0.8317846032877688,
          1.3036402076839468,
          0.7532719348580923,
          1.185871205039432,
          0.9149359461423886,
          1.4283672219658765,
          0.7783751867473084,
          1.2235260828732561,
          0.7759855788033817,
          1.2199416709573663,
          0.7576502331366646,
          1.1924386524572903,
          0.6999761967131879,
          1.1059275978220753,
          0.7249559119017596,
          1.143397170604933,
          0.6492837372924136,
          1.029888908690914,
          0.23461293771431527,
          0.394681893829373,
          0.1860914071864112,
          0.32189959803751683,
          0.29949857550081416,
          0.4920103505091214,
          0.25548018735035527,
          0.425982768283433,
          0.23770799855195976,
          0.3993244850858397,
          0.2679374127438379,
          0.44466860637365696,
          0.2404309170876067,
          0.40340886288931016,
          0.23813284898925538,
          0.39996176074178325,
          0.232863662146405,
          0.3920579804775077,
          2.307929243911656,
          3.522750134980634,
          2.233829288020936,
          3.4116002011445543,
          2.3415690680668426,
          3.573209871213414,
          1.9758604863775175,
          3.0246469986794264,
          2.0449739392793784,
          3.128317178032217,
          1.844370330946374,
          2.827411765532711,
          1.7291057981836344,
          2.654514966388602,
          1.8357261068834083,
          2.8144454294382624,
          1.5640241537001087,
          2.406892499663313,
          1.3025247457576847,
          2.0097504213888207,
          1.2178704374325116,
          1.8827689589010614,
          1.3785272049469104,
          2.123754110172659,
          1.1701062104691673,
          1.8111226184560443,
          1.1873431696932437,
          1.8369780572921592,
          1.116906665757514,
          1.7313233013885645,
          1.0397557674053222,
          1.615596953860277,
          1.0892404809961131,
          1.6898240242464635,
          0.9536996572342303,
          1.4865127886036391
         ],
         "yaxis": "y3"
        },
        {
         "error_y": {
          "array": [
           -2.307929243911656,
           -3.522750134980634,
           -3.4116002011445543,
           -3.128317178032217,
           -1.8369780572921592
          ],
          "arrayminus": [
           2.307929243911656,
           3.522750134980634,
           3.4116002011445543,
           3.128317178032217,
           1.8369780572921592
          ],
          "symmetric": false,
          "type": "data",
          "visible": true
         },
         "hovertemplate": "<b>%{text}</b><br><br>%{xaxis.title.text}: %{x}<br>%{yaxis.title.text}: %{y}<extra></extra>",
         "marker": {
          "color": "blue",
          "size": 14
         },
         "mode": "markers",
         "name": "Near Pareto Front",
         "text": [
          "ID: 72",
          "ID: 73",
          "ID: 75",
          "ID: 81",
          "ID: 99"
         ],
         "type": "scatter",
         "x": [
          515.88,
          608.79,
          590.79,
          569.43,
          494.93
         ],
         "xaxis": "x3",
         "y": [
          2.307929243911656,
          3.522750134980634,
          3.4116002011445543,
          3.128317178032217,
          1.8369780572921592
         ],
         "yaxis": "y3"
        },
        {
         "error_y": {
          "array": [
           -0.23770799855195976,
           -1.3025247457576847,
           -2.0097504213888207,
           -1.2178704374325116,
           -1.8827689589010614,
           -1.3785272049469104,
           -2.123754110172659,
           -1.1873431696932437
          ],
          "arrayminus": [
           0.23770799855195976,
           1.3025247457576847,
           2.0097504213888207,
           1.2178704374325116,
           1.8827689589010614,
           1.3785272049469104,
           2.123754110172659,
           1.1873431696932437
          ],
          "symmetric": false,
          "type": "data",
          "visible": true
         },
         "hovertemplate": "<b>%{text}</b><br><br>%{xaxis.title.text}: %{x}<br>%{yaxis.title.text}: %{y}<extra></extra>",
         "marker": {
          "color": "darkblue",
          "size": 14
         },
         "mode": "markers",
         "name": "Pareto Front",
         "text": [
          "ID: 62",
          "ID: 90",
          "ID: 91",
          "ID: 92",
          "ID: 93",
          "ID: 94",
          "ID: 95",
          "ID: 98"
         ],
         "type": "scatter",
         "x": [
          403.15,
          441.38,
          534.29,
          429.38,
          516.29,
          473.38,
          582.29,
          415.14
         ],
         "xaxis": "x3",
         "y": [
          0.23770799855195976,
          1.3025247457576847,
          2.0097504213888207,
          1.2178704374325116,
          1.8827689589010614,
          1.3785272049469104,
          2.123754110172659,
          1.1873431696932437
         ],
         "yaxis": "y3"
        },
        {
         "hovertemplate": "<b>%{text}</b><br>%{yaxis.title.text}: %{y}<br>%{xaxis.title.text}: %{x}<extra></extra>",
         "marker": {
          "color": "gray",
          "size": 10
         },
         "mode": "markers",
         "name": "All Designs",
         "text": [
          "ID: 0",
          "ID: 1",
          "ID: 2",
          "ID: 3",
          "ID: 4",
          "ID: 5",
          "ID: 6",
          "ID: 7",
          "ID: 8",
          "ID: 9",
          "ID: 10",
          "ID: 11",
          "ID: 12",
          "ID: 13",
          "ID: 14",
          "ID: 15",
          "ID: 16",
          "ID: 17",
          "ID: 18",
          "ID: 19",
          "ID: 20",
          "ID: 21",
          "ID: 22",
          "ID: 23",
          "ID: 24",
          "ID: 25",
          "ID: 26",
          "ID: 27",
          "ID: 28",
          "ID: 29",
          "ID: 30",
          "ID: 31",
          "ID: 32",
          "ID: 33",
          "ID: 34",
          "ID: 35",
          "ID: 36",
          "ID: 37",
          "ID: 38",
          "ID: 39",
          "ID: 40",
          "ID: 41",
          "ID: 42",
          "ID: 43",
          "ID: 44",
          "ID: 45",
          "ID: 46",
          "ID: 47",
          "ID: 48",
          "ID: 49",
          "ID: 50",
          "ID: 51",
          "ID: 52",
          "ID: 53",
          "ID: 54",
          "ID: 55",
          "ID: 56",
          "ID: 57",
          "ID: 58",
          "ID: 59",
          "ID: 60",
          "ID: 61",
          "ID: 62",
          "ID: 63",
          "ID: 64",
          "ID: 65",
          "ID: 66",
          "ID: 67",
          "ID: 68",
          "ID: 69",
          "ID: 70",
          "ID: 71",
          "ID: 72",
          "ID: 73",
          "ID: 74",
          "ID: 75",
          "ID: 76",
          "ID: 77",
          "ID: 78",
          "ID: 79",
          "ID: 80",
          "ID: 81",
          "ID: 82",
          "ID: 83",
          "ID: 84",
          "ID: 85",
          "ID: 86",
          "ID: 87",
          "ID: 88",
          "ID: 89",
          "ID: 90",
          "ID: 91",
          "ID: 92",
          "ID: 93",
          "ID: 94",
          "ID: 95",
          "ID: 96",
          "ID: 97",
          "ID: 98",
          "ID: 99",
          "ID: 100",
          "ID: 101",
          "ID: 102",
          "ID: 103",
          "ID: 104",
          "ID: 105",
          "ID: 106",
          "ID: 107"
         ],
         "type": "scatter",
         "x": [
          481.36,
          574.27,
          469.36,
          556.27,
          513.36,
          622.27,
          467.12,
          552.91,
          455.12,
          534.91,
          499.12,
          600.91,
          467.12,
          552.91,
          455.12,
          534.91,
          499.12,
          600.91,
          454.16,
          547.0699999999999,
          442.16,
          529.0699999999999,
          486.16,
          595.0699999999999,
          439.92,
          525.71,
          427.92,
          507.71,
          471.92,
          573.71,
          439.92,
          525.71,
          427.92,
          507.71,
          471.92,
          573.71,
          441.38,
          534.29,
          429.38,
          516.29,
          473.38,
          582.29,
          427.14,
          512.9300000000001,
          415.14,
          494.93,
          459.14,
          560.9300000000001,
          427.14,
          512.9300000000001,
          415.14,
          494.93,
          459.14,
          560.9300000000001,
          429.39,
          522.3,
          417.39,
          504.3,
          461.39,
          570.3,
          415.15,
          500.94,
          403.15,
          482.94,
          447.15,
          548.94,
          415.15,
          500.94,
          403.15,
          482.94,
          447.15,
          548.94,
          515.88,
          608.79,
          503.88,
          590.79,
          547.88,
          656.79,
          501.64,
          587.43,
          489.64,
          569.43,
          533.64,
          635.43,
          501.64,
          587.43,
          489.64,
          569.43,
          533.64,
          635.43,
          441.38,
          534.29,
          429.38,
          516.29,
          473.38,
          582.29,
          427.14,
          512.9300000000001,
          415.14,
          494.93,
          459.14,
          560.9300000000001,
          427.14,
          512.9300000000001,
          415.14,
          494.93,
          459.14,
          560.9300000000001
         ],
         "xaxis": "x4",
         "y": [
          20.388144535543113,
          20.43591884699835,
          20.348117827343078,
          20.26941968328216,
          20.20996385477563,
          20.39546585537893,
          15.959899679706776,
          16.161699656870155,
          16.523659472120322,
          16.575784476716006,
          14.770587396259883,
          15.116789451135773,
          13.863073059499536,
          14.300258826681729,
          14.77268802166303,
          15.086764358162794,
          12.238139180578582,
          12.758163582765677,
          21.02237163809277,
          21.1261813746742,
          20.991992849744697,
          20.974251203714076,
          20.84430290320711,
          21.08145463239245,
          16.737446368182642,
          16.988939074479738,
          17.29907775533742,
          17.403217516618692,
          15.554245796213962,
          15.949958217831231,
          14.646243877195998,
          15.131831383513692,
          15.559222497921098,
          15.921094044903317,
          13.006423473241417,
          13.578448923111873,
          22.452627168631977,
          22.621540631820295,
          22.427516631386098,
          22.464307903063567,
          22.252356902483854,
          22.567060822988573,
          17.843732022890883,
          18.165578280366148,
          18.454744890747154,
          18.61849806855766,
          16.566792601710016,
          17.04231805361602,
          15.590012947488662,
          16.158300254657473,
          16.575067527725988,
          17.01231972506486,
          13.829721436216262,
          14.487114523472275,
          26.019166790135355,
          25.312119814505895,
          25.8737829118025,
          25.02735207997617,
          25.89559145060664,
          25.331810485677053,
          20.448034032180857,
          20.032348334087185,
          21.06162252178817,
          20.457768174731523,
          19.031219920730226,
          18.8111326927808,
          17.93010238939177,
          17.867453200632056,
          19.005641716923645,
          18.76944748083545,
          15.913492479754293,
          15.997289549252221,
          17.64668613733537,
          17.902122518048795,
          17.65000509216068,
          17.81590626525282,
          17.491888354772268,
          17.84942580304642,
          14.500273425519334,
          14.867333432643635,
          14.951248327732248,
          15.205489611847277,
          13.569776631276568,
          14.051364631801713,
          12.853131908764412,
          13.399552620017525,
          13.584684480187526,
          14.03341313544472,
          11.5383953088061,
          12.15784903936233,
          27.638478952855433,
          27.830332004511828,
          27.609939311820657,
          27.65175314241541,
          27.410723286543675,
          27.76847767285472,
          22.316774046446383,
          22.693925554735078,
          23.032064052838837,
          23.2232492010565,
          20.812060191861942,
          21.373972105937987,
          19.6519640276352,
          20.327867779826924,
          20.82185432758923,
          21.33857914841452,
          17.541149996008066,
          18.332504223208726
         ],
         "yaxis": "y4"
        },
        {
         "error_y": {
          "array": [
           -17.64668613733537,
           -17.902122518048795,
           -17.81590626525282,
           -15.205489611847277,
           -23.2232492010565
          ],
          "arrayminus": [
           17.64668613733537,
           17.902122518048795,
           17.81590626525282,
           15.205489611847277,
           23.2232492010565
          ],
          "symmetric": false,
          "type": "data",
          "visible": true
         },
         "hovertemplate": "<b>%{text}</b><br><br>%{xaxis.title.text}: %{x}<br>%{yaxis.title.text}: %{y}<extra></extra>",
         "marker": {
          "color": "blue",
          "size": 14
         },
         "mode": "markers",
         "name": "Near Pareto Front",
         "text": [
          "ID: 72",
          "ID: 73",
          "ID: 75",
          "ID: 81",
          "ID: 99"
         ],
         "type": "scatter",
         "x": [
          515.88,
          608.79,
          590.79,
          569.43,
          494.93
         ],
         "xaxis": "x4",
         "y": [
          17.64668613733537,
          17.902122518048795,
          17.81590626525282,
          15.205489611847277,
          23.2232492010565
         ],
         "yaxis": "y4"
        },
        {
         "error_y": {
          "array": [
           -21.06162252178817,
           -27.638478952855433,
           -27.830332004511828,
           -27.609939311820657,
           -27.65175314241541,
           -27.410723286543675,
           -27.76847767285472,
           -23.032064052838837
          ],
          "arrayminus": [
           21.06162252178817,
           27.638478952855433,
           27.830332004511828,
           27.609939311820657,
           27.65175314241541,
           27.410723286543675,
           27.76847767285472,
           23.032064052838837
          ],
          "symmetric": false,
          "type": "data",
          "visible": true
         },
         "hovertemplate": "<b>%{text}</b><br><br>%{xaxis.title.text}: %{x}<br>%{yaxis.title.text}: %{y}<extra></extra>",
         "marker": {
          "color": "darkblue",
          "size": 14
         },
         "mode": "markers",
         "name": "Pareto Front",
         "text": [
          "ID: 62",
          "ID: 90",
          "ID: 91",
          "ID: 92",
          "ID: 93",
          "ID: 94",
          "ID: 95",
          "ID: 98"
         ],
         "type": "scatter",
         "x": [
          403.15,
          441.38,
          534.29,
          429.38,
          516.29,
          473.38,
          582.29,
          415.14
         ],
         "xaxis": "x4",
         "y": [
          21.06162252178817,
          27.638478952855433,
          27.830332004511828,
          27.609939311820657,
          27.65175314241541,
          27.410723286543675,
          27.76847767285472,
          23.032064052838837
         ],
         "yaxis": "y4"
        }
       ],
       "layout": {
        "annotations": [
         {
          "font": {
           "size": 16
          },
          "showarrow": false,
          "text": "Max flight distance [m]",
          "x": 0.5,
          "xanchor": "center",
          "xref": "paper",
          "y": 1,
          "yanchor": "bottom",
          "yref": "paper"
         },
         {
          "font": {
           "size": 16
          },
          "showarrow": false,
          "text": "Max speed [m/s]",
          "x": 0.5,
          "xanchor": "center",
          "xref": "paper",
          "y": 0.71875,
          "yanchor": "bottom",
          "yref": "paper"
         },
         {
          "font": {
           "size": 16
          },
          "showarrow": false,
          "text": "Max payload [kg]",
          "x": 0.5,
          "xanchor": "center",
          "xref": "paper",
          "y": 0.4375,
          "yanchor": "bottom",
          "yref": "paper"
         },
         {
          "font": {
           "size": 16
          },
          "showarrow": false,
          "text": "Max flight time [min]",
          "x": 0.5,
          "xanchor": "center",
          "xref": "paper",
          "y": 0.15625,
          "yanchor": "bottom",
          "yref": "paper"
         },
         {
          "showarrow": false,
          "text": "min",
          "x": 1,
          "xanchor": "right",
          "xref": "x domain",
          "y": 4000,
          "yanchor": "top",
          "yref": "y"
         },
         {
          "showarrow": false,
          "text": "max",
          "x": 1,
          "xanchor": "right",
          "xref": "x domain",
          "y": 10000,
          "yanchor": "bottom",
          "yref": "y"
         },
         {
          "showarrow": false,
          "text": "min",
          "x": 1,
          "xanchor": "right",
          "xref": "x2 domain",
          "y": 7,
          "yanchor": "top",
          "yref": "y2"
         },
         {
          "showarrow": false,
          "text": "max",
          "x": 1,
          "xanchor": "right",
          "xref": "x2 domain",
          "y": 40,
          "yanchor": "bottom",
          "yref": "y2"
         },
         {
          "showarrow": false,
          "text": "min",
          "x": 1,
          "xanchor": "right",
          "xref": "x3 domain",
          "y": 0.2,
          "yanchor": "top",
          "yref": "y3"
         },
         {
          "showarrow": false,
          "text": "max",
          "x": 1,
          "xanchor": "right",
          "xref": "x3 domain",
          "y": 3,
          "yanchor": "bottom",
          "yref": "y3"
         },
         {
          "showarrow": false,
          "text": "min",
          "x": 1,
          "xanchor": "right",
          "xref": "x4 domain",
          "y": 10,
          "yanchor": "top",
          "yref": "y4"
         },
         {
          "showarrow": false,
          "text": "max",
          "x": 1,
          "xanchor": "right",
          "xref": "x4 domain",
          "y": 40,
          "yanchor": "bottom",
          "yref": "y4"
         },
         {
          "font": {
           "size": 14
          },
          "showarrow": false,
          "text": "Desired Price Range",
          "x": 403.15,
          "xanchor": "left",
          "xref": "x",
          "y": 1,
          "yanchor": "top",
          "yref": "y domain"
         },
         {
          "font": {
           "size": 14
          },
          "showarrow": false,
          "text": "Desired Price Range",
          "x": 403.15,
          "xanchor": "left",
          "xref": "x2",
          "y": 1,
          "yanchor": "top",
          "yref": "y2 domain"
         },
         {
          "font": {
           "size": 14
          },
          "showarrow": false,
          "text": "Desired Price Range",
          "x": 403.15,
          "xanchor": "left",
          "xref": "x3",
          "y": 1,
          "yanchor": "top",
          "yref": "y3 domain"
         },
         {
          "font": {
           "size": 14
          },
          "showarrow": false,
          "text": "Desired Price Range",
          "x": 403.15,
          "xanchor": "left",
          "xref": "x4",
          "y": 1,
          "yanchor": "top",
          "yref": "y4 domain"
         }
        ],
        "height": 1600,
        "shapes": [
         {
          "line": {
           "dash": "dash"
          },
          "type": "line",
          "x0": 0,
          "x1": 1,
          "xref": "x domain",
          "y0": 4000,
          "y1": 4000,
          "yref": "y"
         },
         {
          "line": {
           "dash": "dash"
          },
          "type": "line",
          "x0": 0,
          "x1": 1,
          "xref": "x domain",
          "y0": 10000,
          "y1": 10000,
          "yref": "y"
         },
         {
          "line": {
           "dash": "dash"
          },
          "type": "line",
          "x0": 0,
          "x1": 1,
          "xref": "x2 domain",
          "y0": 7,
          "y1": 7,
          "yref": "y2"
         },
         {
          "line": {
           "dash": "dash"
          },
          "type": "line",
          "x0": 0,
          "x1": 1,
          "xref": "x2 domain",
          "y0": 40,
          "y1": 40,
          "yref": "y2"
         },
         {
          "line": {
           "dash": "dash"
          },
          "type": "line",
          "x0": 0,
          "x1": 1,
          "xref": "x3 domain",
          "y0": 0.2,
          "y1": 0.2,
          "yref": "y3"
         },
         {
          "line": {
           "dash": "dash"
          },
          "type": "line",
          "x0": 0,
          "x1": 1,
          "xref": "x3 domain",
          "y0": 3,
          "y1": 3,
          "yref": "y3"
         },
         {
          "line": {
           "dash": "dash"
          },
          "type": "line",
          "x0": 0,
          "x1": 1,
          "xref": "x4 domain",
          "y0": 10,
          "y1": 10,
          "yref": "y4"
         },
         {
          "line": {
           "dash": "dash"
          },
          "type": "line",
          "x0": 0,
          "x1": 1,
          "xref": "x4 domain",
          "y0": 40,
          "y1": 40,
          "yref": "y4"
         },
         {
          "fillcolor": "blue",
          "line": {
           "width": 0
          },
          "opacity": 0.1,
          "type": "rect",
          "x0": 403.15,
          "x1": 600,
          "xref": "x",
          "y0": 0,
          "y1": 1,
          "yref": "y domain"
         },
         {
          "fillcolor": "blue",
          "line": {
           "width": 0
          },
          "opacity": 0.1,
          "type": "rect",
          "x0": 403.15,
          "x1": 600,
          "xref": "x2",
          "y0": 0,
          "y1": 1,
          "yref": "y2 domain"
         },
         {
          "fillcolor": "blue",
          "line": {
           "width": 0
          },
          "opacity": 0.1,
          "type": "rect",
          "x0": 403.15,
          "x1": 600,
          "xref": "x3",
          "y0": 0,
          "y1": 1,
          "yref": "y3 domain"
         },
         {
          "fillcolor": "blue",
          "line": {
           "width": 0
          },
          "opacity": 0.1,
          "type": "rect",
          "x0": 403.15,
          "x1": 600,
          "xref": "x4",
          "y0": 0,
          "y1": 1,
          "yref": "y4 domain"
         }
        ],
        "showlegend": false,
        "template": {
         "data": {
          "bar": [
           {
            "error_x": {
             "color": "#2a3f5f"
            },
            "error_y": {
             "color": "#2a3f5f"
            },
            "marker": {
             "line": {
              "color": "#E5ECF6",
              "width": 0.5
             },
             "pattern": {
              "fillmode": "overlay",
              "size": 10,
              "solidity": 0.2
             }
            },
            "type": "bar"
           }
          ],
          "barpolar": [
           {
            "marker": {
             "line": {
              "color": "#E5ECF6",
              "width": 0.5
             },
             "pattern": {
              "fillmode": "overlay",
              "size": 10,
              "solidity": 0.2
             }
            },
            "type": "barpolar"
           }
          ],
          "carpet": [
           {
            "aaxis": {
             "endlinecolor": "#2a3f5f",
             "gridcolor": "white",
             "linecolor": "white",
             "minorgridcolor": "white",
             "startlinecolor": "#2a3f5f"
            },
            "baxis": {
             "endlinecolor": "#2a3f5f",
             "gridcolor": "white",
             "linecolor": "white",
             "minorgridcolor": "white",
             "startlinecolor": "#2a3f5f"
            },
            "type": "carpet"
           }
          ],
          "choropleth": [
           {
            "colorbar": {
             "outlinewidth": 0,
             "ticks": ""
            },
            "type": "choropleth"
           }
          ],
          "contour": [
           {
            "colorbar": {
             "outlinewidth": 0,
             "ticks": ""
            },
            "colorscale": [
             [
              0,
              "#0d0887"
             ],
             [
              0.1111111111111111,
              "#46039f"
             ],
             [
              0.2222222222222222,
              "#7201a8"
             ],
             [
              0.3333333333333333,
              "#9c179e"
             ],
             [
              0.4444444444444444,
              "#bd3786"
             ],
             [
              0.5555555555555556,
              "#d8576b"
             ],
             [
              0.6666666666666666,
              "#ed7953"
             ],
             [
              0.7777777777777778,
              "#fb9f3a"
             ],
             [
              0.8888888888888888,
              "#fdca26"
             ],
             [
              1,
              "#f0f921"
             ]
            ],
            "type": "contour"
           }
          ],
          "contourcarpet": [
           {
            "colorbar": {
             "outlinewidth": 0,
             "ticks": ""
            },
            "type": "contourcarpet"
           }
          ],
          "heatmap": [
           {
            "colorbar": {
             "outlinewidth": 0,
             "ticks": ""
            },
            "colorscale": [
             [
              0,
              "#0d0887"
             ],
             [
              0.1111111111111111,
              "#46039f"
             ],
             [
              0.2222222222222222,
              "#7201a8"
             ],
             [
              0.3333333333333333,
              "#9c179e"
             ],
             [
              0.4444444444444444,
              "#bd3786"
             ],
             [
              0.5555555555555556,
              "#d8576b"
             ],
             [
              0.6666666666666666,
              "#ed7953"
             ],
             [
              0.7777777777777778,
              "#fb9f3a"
             ],
             [
              0.8888888888888888,
              "#fdca26"
             ],
             [
              1,
              "#f0f921"
             ]
            ],
            "type": "heatmap"
           }
          ],
          "heatmapgl": [
           {
            "colorbar": {
             "outlinewidth": 0,
             "ticks": ""
            },
            "colorscale": [
             [
              0,
              "#0d0887"
             ],
             [
              0.1111111111111111,
              "#46039f"
             ],
             [
              0.2222222222222222,
              "#7201a8"
             ],
             [
              0.3333333333333333,
              "#9c179e"
             ],
             [
              0.4444444444444444,
              "#bd3786"
             ],
             [
              0.5555555555555556,
              "#d8576b"
             ],
             [
              0.6666666666666666,
              "#ed7953"
             ],
             [
              0.7777777777777778,
              "#fb9f3a"
             ],
             [
              0.8888888888888888,
              "#fdca26"
             ],
             [
              1,
              "#f0f921"
             ]
            ],
            "type": "heatmapgl"
           }
          ],
          "histogram": [
           {
            "marker": {
             "pattern": {
              "fillmode": "overlay",
              "size": 10,
              "solidity": 0.2
             }
            },
            "type": "histogram"
           }
          ],
          "histogram2d": [
           {
            "colorbar": {
             "outlinewidth": 0,
             "ticks": ""
            },
            "colorscale": [
             [
              0,
              "#0d0887"
             ],
             [
              0.1111111111111111,
              "#46039f"
             ],
             [
              0.2222222222222222,
              "#7201a8"
             ],
             [
              0.3333333333333333,
              "#9c179e"
             ],
             [
              0.4444444444444444,
              "#bd3786"
             ],
             [
              0.5555555555555556,
              "#d8576b"
             ],
             [
              0.6666666666666666,
              "#ed7953"
             ],
             [
              0.7777777777777778,
              "#fb9f3a"
             ],
             [
              0.8888888888888888,
              "#fdca26"
             ],
             [
              1,
              "#f0f921"
             ]
            ],
            "type": "histogram2d"
           }
          ],
          "histogram2dcontour": [
           {
            "colorbar": {
             "outlinewidth": 0,
             "ticks": ""
            },
            "colorscale": [
             [
              0,
              "#0d0887"
             ],
             [
              0.1111111111111111,
              "#46039f"
             ],
             [
              0.2222222222222222,
              "#7201a8"
             ],
             [
              0.3333333333333333,
              "#9c179e"
             ],
             [
              0.4444444444444444,
              "#bd3786"
             ],
             [
              0.5555555555555556,
              "#d8576b"
             ],
             [
              0.6666666666666666,
              "#ed7953"
             ],
             [
              0.7777777777777778,
              "#fb9f3a"
             ],
             [
              0.8888888888888888,
              "#fdca26"
             ],
             [
              1,
              "#f0f921"
             ]
            ],
            "type": "histogram2dcontour"
           }
          ],
          "mesh3d": [
           {
            "colorbar": {
             "outlinewidth": 0,
             "ticks": ""
            },
            "type": "mesh3d"
           }
          ],
          "parcoords": [
           {
            "line": {
             "colorbar": {
              "outlinewidth": 0,
              "ticks": ""
             }
            },
            "type": "parcoords"
           }
          ],
          "pie": [
           {
            "automargin": true,
            "type": "pie"
           }
          ],
          "scatter": [
           {
            "fillpattern": {
             "fillmode": "overlay",
             "size": 10,
             "solidity": 0.2
            },
            "type": "scatter"
           }
          ],
          "scatter3d": [
           {
            "line": {
             "colorbar": {
              "outlinewidth": 0,
              "ticks": ""
             }
            },
            "marker": {
             "colorbar": {
              "outlinewidth": 0,
              "ticks": ""
             }
            },
            "type": "scatter3d"
           }
          ],
          "scattercarpet": [
           {
            "marker": {
             "colorbar": {
              "outlinewidth": 0,
              "ticks": ""
             }
            },
            "type": "scattercarpet"
           }
          ],
          "scattergeo": [
           {
            "marker": {
             "colorbar": {
              "outlinewidth": 0,
              "ticks": ""
             }
            },
            "type": "scattergeo"
           }
          ],
          "scattergl": [
           {
            "marker": {
             "colorbar": {
              "outlinewidth": 0,
              "ticks": ""
             }
            },
            "type": "scattergl"
           }
          ],
          "scattermapbox": [
           {
            "marker": {
             "colorbar": {
              "outlinewidth": 0,
              "ticks": ""
             }
            },
            "type": "scattermapbox"
           }
          ],
          "scatterpolar": [
           {
            "marker": {
             "colorbar": {
              "outlinewidth": 0,
              "ticks": ""
             }
            },
            "type": "scatterpolar"
           }
          ],
          "scatterpolargl": [
           {
            "marker": {
             "colorbar": {
              "outlinewidth": 0,
              "ticks": ""
             }
            },
            "type": "scatterpolargl"
           }
          ],
          "scatterternary": [
           {
            "marker": {
             "colorbar": {
              "outlinewidth": 0,
              "ticks": ""
             }
            },
            "type": "scatterternary"
           }
          ],
          "surface": [
           {
            "colorbar": {
             "outlinewidth": 0,
             "ticks": ""
            },
            "colorscale": [
             [
              0,
              "#0d0887"
             ],
             [
              0.1111111111111111,
              "#46039f"
             ],
             [
              0.2222222222222222,
              "#7201a8"
             ],
             [
              0.3333333333333333,
              "#9c179e"
             ],
             [
              0.4444444444444444,
              "#bd3786"
             ],
             [
              0.5555555555555556,
              "#d8576b"
             ],
             [
              0.6666666666666666,
              "#ed7953"
             ],
             [
              0.7777777777777778,
              "#fb9f3a"
             ],
             [
              0.8888888888888888,
              "#fdca26"
             ],
             [
              1,
              "#f0f921"
             ]
            ],
            "type": "surface"
           }
          ],
          "table": [
           {
            "cells": {
             "fill": {
              "color": "#EBF0F8"
             },
             "line": {
              "color": "white"
             }
            },
            "header": {
             "fill": {
              "color": "#C8D4E3"
             },
             "line": {
              "color": "white"
             }
            },
            "type": "table"
           }
          ]
         },
         "layout": {
          "annotationdefaults": {
           "arrowcolor": "#2a3f5f",
           "arrowhead": 0,
           "arrowwidth": 1
          },
          "autotypenumbers": "strict",
          "coloraxis": {
           "colorbar": {
            "outlinewidth": 0,
            "ticks": ""
           }
          },
          "colorscale": {
           "diverging": [
            [
             0,
             "#8e0152"
            ],
            [
             0.1,
             "#c51b7d"
            ],
            [
             0.2,
             "#de77ae"
            ],
            [
             0.3,
             "#f1b6da"
            ],
            [
             0.4,
             "#fde0ef"
            ],
            [
             0.5,
             "#f7f7f7"
            ],
            [
             0.6,
             "#e6f5d0"
            ],
            [
             0.7,
             "#b8e186"
            ],
            [
             0.8,
             "#7fbc41"
            ],
            [
             0.9,
             "#4d9221"
            ],
            [
             1,
             "#276419"
            ]
           ],
           "sequential": [
            [
             0,
             "#0d0887"
            ],
            [
             0.1111111111111111,
             "#46039f"
            ],
            [
             0.2222222222222222,
             "#7201a8"
            ],
            [
             0.3333333333333333,
             "#9c179e"
            ],
            [
             0.4444444444444444,
             "#bd3786"
            ],
            [
             0.5555555555555556,
             "#d8576b"
            ],
            [
             0.6666666666666666,
             "#ed7953"
            ],
            [
             0.7777777777777778,
             "#fb9f3a"
            ],
            [
             0.8888888888888888,
             "#fdca26"
            ],
            [
             1,
             "#f0f921"
            ]
           ],
           "sequentialminus": [
            [
             0,
             "#0d0887"
            ],
            [
             0.1111111111111111,
             "#46039f"
            ],
            [
             0.2222222222222222,
             "#7201a8"
            ],
            [
             0.3333333333333333,
             "#9c179e"
            ],
            [
             0.4444444444444444,
             "#bd3786"
            ],
            [
             0.5555555555555556,
             "#d8576b"
            ],
            [
             0.6666666666666666,
             "#ed7953"
            ],
            [
             0.7777777777777778,
             "#fb9f3a"
            ],
            [
             0.8888888888888888,
             "#fdca26"
            ],
            [
             1,
             "#f0f921"
            ]
           ]
          },
          "colorway": [
           "#636efa",
           "#EF553B",
           "#00cc96",
           "#ab63fa",
           "#FFA15A",
           "#19d3f3",
           "#FF6692",
           "#B6E880",
           "#FF97FF",
           "#FECB52"
          ],
          "font": {
           "color": "#2a3f5f"
          },
          "geo": {
           "bgcolor": "white",
           "lakecolor": "white",
           "landcolor": "#E5ECF6",
           "showlakes": true,
           "showland": true,
           "subunitcolor": "white"
          },
          "hoverlabel": {
           "align": "left"
          },
          "hovermode": "closest",
          "mapbox": {
           "style": "light"
          },
          "paper_bgcolor": "white",
          "plot_bgcolor": "#E5ECF6",
          "polar": {
           "angularaxis": {
            "gridcolor": "white",
            "linecolor": "white",
            "ticks": ""
           },
           "bgcolor": "#E5ECF6",
           "radialaxis": {
            "gridcolor": "white",
            "linecolor": "white",
            "ticks": ""
           }
          },
          "scene": {
           "xaxis": {
            "backgroundcolor": "#E5ECF6",
            "gridcolor": "white",
            "gridwidth": 2,
            "linecolor": "white",
            "showbackground": true,
            "ticks": "",
            "zerolinecolor": "white"
           },
           "yaxis": {
            "backgroundcolor": "#E5ECF6",
            "gridcolor": "white",
            "gridwidth": 2,
            "linecolor": "white",
            "showbackground": true,
            "ticks": "",
            "zerolinecolor": "white"
           },
           "zaxis": {
            "backgroundcolor": "#E5ECF6",
            "gridcolor": "white",
            "gridwidth": 2,
            "linecolor": "white",
            "showbackground": true,
            "ticks": "",
            "zerolinecolor": "white"
           }
          },
          "shapedefaults": {
           "line": {
            "color": "#2a3f5f"
           }
          },
          "ternary": {
           "aaxis": {
            "gridcolor": "white",
            "linecolor": "white",
            "ticks": ""
           },
           "baxis": {
            "gridcolor": "white",
            "linecolor": "white",
            "ticks": ""
           },
           "bgcolor": "#E5ECF6",
           "caxis": {
            "gridcolor": "white",
            "linecolor": "white",
            "ticks": ""
           }
          },
          "title": {
           "x": 0.05
          },
          "xaxis": {
           "automargin": true,
           "gridcolor": "white",
           "linecolor": "white",
           "ticks": "",
           "title": {
            "standoff": 15
           },
           "zerolinecolor": "white",
           "zerolinewidth": 2
          },
          "yaxis": {
           "automargin": true,
           "gridcolor": "white",
           "linecolor": "white",
           "ticks": "",
           "title": {
            "standoff": 15
           },
           "zerolinecolor": "white",
           "zerolinewidth": 2
          }
         }
        },
        "title": {
         "text": "Performance per Price"
        },
        "width": 1080,
        "xaxis": {
         "anchor": "y",
         "domain": [
          0,
          1
         ],
         "title": {
          "text": "price"
         }
        },
        "xaxis2": {
         "anchor": "y2",
         "domain": [
          0,
          1
         ],
         "title": {
          "text": "price"
         }
        },
        "xaxis3": {
         "anchor": "y3",
         "domain": [
          0,
          1
         ],
         "title": {
          "text": "price"
         }
        },
        "xaxis4": {
         "anchor": "y4",
         "domain": [
          0,
          1
         ],
         "title": {
          "text": "price"
         }
        },
        "yaxis": {
         "anchor": "x",
         "domain": [
          0.84375,
          1
         ],
         "title": {
          "text": "Max flight distance [m]"
         }
        },
        "yaxis2": {
         "anchor": "x2",
         "domain": [
          0.5625,
          0.71875
         ],
         "title": {
          "text": "Max speed [m/s]"
         }
        },
        "yaxis3": {
         "anchor": "x3",
         "domain": [
          0.28125,
          0.4375
         ],
         "title": {
          "text": "Max payload [kg]"
         }
        },
        "yaxis4": {
         "anchor": "x4",
         "domain": [
          0,
          0.15625
         ],
         "title": {
          "text": "Max flight time [min]"
         }
        }
       }
      }
     },
     "metadata": {},
     "output_type": "display_data"
    }
   ],
   "source": [
    "uav_td.plot_price_vs_performances()"
   ]
  },
  {
   "cell_type": "markdown",
   "metadata": {},
   "source": [
    "## The Design Space Visualization\n",
    "\n",
    "To understand what design variable affects more the final performance of the system, we can visualize the design space by color the characteristics of the designs grouped by each category. The designs that have a black background color are the ones that are in the Pareto Front, and the grays are the ones that are near the Pareto Front."
   ]
  },
  {
   "cell_type": "code",
   "execution_count": 83,
   "metadata": {},
   "outputs": [
    {
     "data": {
      "application/vnd.plotly.v1+json": {
       "config": {
        "plotlyServerURL": "https://plot.ly"
       },
       "data": [
        {
         "error_y": {
          "array": [
           0.0752012432002695,
           0.1220760743885585,
           0.09166874388555535,
           0.12583332522102286,
           0.09762629489985897,
           0.11978239873879548,
           0.08726718580106896,
           0.08670541656066333
          ],
          "arrayminus": [
           0.09798949871550272,
           0.08697260224226844,
           0.06594510375248597,
           0.09364075883901246,
           0.06878688223822316,
           0.07990636912488547,
           0.06560593967104222,
           0.06286545705122959
          ],
          "symmetric": false,
          "type": "data",
          "visible": true
         },
         "hovertemplate": "<b>%{text}</b><br><br>%{xaxis.title.text}: %{x}<br>%{yaxis.title.text}: %{y}<extra></extra>",
         "marker": {
          "color": "darkblue",
          "size": 14
         },
         "mode": "markers",
         "name": "Pareto Front",
         "text": [
          "ID: 62",
          "ID: 90",
          "ID: 91",
          "ID: 92",
          "ID: 93",
          "ID: 94",
          "ID: 95",
          "ID: 98"
         ],
         "type": "scatter",
         "x": [
          403.15,
          441.38,
          534.29,
          429.38,
          516.29,
          473.38,
          582.29,
          415.14
         ],
         "xaxis": "x",
         "y": [
          0.2893671312224969,
          0.6459793842731799,
          0.7341606427318893,
          0.635083356859033,
          0.716883744790409,
          0.6526310436574926,
          0.7469251611768997,
          0.5129612562739567
         ],
         "yaxis": "y"
        },
        {
         "error_y": {
          "array": [
           0.11225735443988805,
           0.15947451881989905,
           0.1605523049292611,
           0.1980201710710605,
           0.0892848577940778
          ],
          "arrayminus": [
           0.1099123116843852,
           0.15302071829860298,
           0.15316215192574956,
           0.1526092687614023,
           0.07751264001751901
          ],
          "symmetric": false,
          "type": "data",
          "visible": true
         },
         "hovertemplate": "<b>%{text}</b><br><br>%{xaxis.title.text}: %{x}<br>%{yaxis.title.text}: %{y}<extra></extra>",
         "marker": {
          "color": "blue",
          "size": 14
         },
         "mode": "markers",
         "name": "Near Pareto Front",
         "text": [
          "ID: 72",
          "ID: 73",
          "ID: 75",
          "ID: 81",
          "ID: 99"
         ],
         "type": "scatter",
         "x": [
          515.88,
          608.79,
          590.79,
          569.43,
          494.93
         ],
         "xaxis": "x",
         "y": [
          0.5139685583100868,
          0.6240957770673811,
          0.6215552812381703,
          0.5332381681896431,
          0.6234833391241303
         ],
         "yaxis": "y"
        },
        {
         "hovertemplate": "<b>%{text}</b><br>%{yaxis.title.text}: %{y}<br>%{xaxis.title.text}: %{x}<extra></extra>",
         "marker": {
          "color": [
           1.4460000000000002,
           1.6440000000000001,
           1.4380000000000002,
           1.6320000000000001,
           1.4740000000000002,
           1.686,
           1.4100000000000001,
           1.59,
           1.4020000000000001,
           1.578,
           1.4380000000000002,
           1.6320000000000001,
           1.4100000000000001,
           1.59,
           1.4020000000000001,
           1.578,
           1.4380000000000002,
           1.6320000000000001,
           1.4708,
           1.6688,
           1.4628,
           1.6568,
           1.4988000000000001,
           1.7108000000000003,
           1.4348,
           1.6148000000000002,
           1.4268,
           1.6028000000000002,
           1.4628,
           1.6568,
           1.4348,
           1.6148000000000002,
           1.4268,
           1.6028000000000002,
           1.4628,
           1.6568,
           1.4940000000000002,
           1.6920000000000004,
           1.4860000000000002,
           1.6800000000000002,
           1.5220000000000002,
           1.7340000000000002,
           1.4580000000000002,
           1.6380000000000003,
           1.4500000000000002,
           1.6260000000000001,
           1.4860000000000002,
           1.6800000000000002,
           1.4580000000000002,
           1.6380000000000003,
           1.4500000000000002,
           1.6260000000000001,
           1.4860000000000002,
           1.6800000000000002,
           1.235,
           1.4330000000000003,
           1.227,
           1.4210000000000003,
           1.2630000000000001,
           1.475,
           1.199,
           1.379,
           1.191,
           1.367,
           1.227,
           1.4210000000000003,
           1.199,
           1.379,
           1.191,
           1.367,
           1.227,
           1.4210000000000003,
           1.59,
           1.7880000000000003,
           1.582,
           1.776,
           1.618,
           1.83,
           1.554,
           1.7339999999999998,
           1.546,
           1.722,
           1.582,
           1.776,
           1.554,
           1.7339999999999998,
           1.546,
           1.722,
           1.582,
           1.776,
           1.4940000000000002,
           1.6920000000000004,
           1.4860000000000002,
           1.6800000000000002,
           1.5220000000000002,
           1.7340000000000002,
           1.4580000000000002,
           1.6380000000000003,
           1.4500000000000002,
           1.6260000000000001,
           1.4860000000000002,
           1.6800000000000002,
           1.4580000000000002,
           1.6380000000000003,
           1.4500000000000002,
           1.6260000000000001,
           1.4860000000000002,
           1.6800000000000002
          ],
          "colorbar": {
           "len": 0.05194805194805195,
           "y": 0.974025974025974
          },
          "colorscale": [
           [
            0,
            "#0508b8"
           ],
           [
            0.08333333333333333,
            "#1910d8"
           ],
           [
            0.16666666666666666,
            "#3c19f0"
           ],
           [
            0.25,
            "#6b1cfb"
           ],
           [
            0.3333333333333333,
            "#981cfd"
           ],
           [
            0.4166666666666667,
            "#bf1cfd"
           ],
           [
            0.5,
            "#dd2bfd"
           ],
           [
            0.5833333333333334,
            "#f246fe"
           ],
           [
            0.6666666666666666,
            "#fc67fd"
           ],
           [
            0.75,
            "#fe88fc"
           ],
           [
            0.8333333333333334,
            "#fea5fd"
           ],
           [
            0.9166666666666666,
            "#febefe"
           ],
           [
            1,
            "#fec3fe"
           ]
          ],
          "showscale": true,
          "size": 10
         },
         "mode": "markers",
         "name": "mass",
         "text": [
          "ID: 0",
          "ID: 1",
          "ID: 2",
          "ID: 3",
          "ID: 4",
          "ID: 5",
          "ID: 6",
          "ID: 7",
          "ID: 8",
          "ID: 9",
          "ID: 10",
          "ID: 11",
          "ID: 12",
          "ID: 13",
          "ID: 14",
          "ID: 15",
          "ID: 16",
          "ID: 17",
          "ID: 18",
          "ID: 19",
          "ID: 20",
          "ID: 21",
          "ID: 22",
          "ID: 23",
          "ID: 24",
          "ID: 25",
          "ID: 26",
          "ID: 27",
          "ID: 28",
          "ID: 29",
          "ID: 30",
          "ID: 31",
          "ID: 32",
          "ID: 33",
          "ID: 34",
          "ID: 35",
          "ID: 36",
          "ID: 37",
          "ID: 38",
          "ID: 39",
          "ID: 40",
          "ID: 41",
          "ID: 42",
          "ID: 43",
          "ID: 44",
          "ID: 45",
          "ID: 46",
          "ID: 47",
          "ID: 48",
          "ID: 49",
          "ID: 50",
          "ID: 51",
          "ID: 52",
          "ID: 53",
          "ID: 54",
          "ID: 55",
          "ID: 56",
          "ID: 57",
          "ID: 58",
          "ID: 59",
          "ID: 60",
          "ID: 61",
          "ID: 62",
          "ID: 63",
          "ID: 64",
          "ID: 65",
          "ID: 66",
          "ID: 67",
          "ID: 68",
          "ID: 69",
          "ID: 70",
          "ID: 71",
          "ID: 72",
          "ID: 73",
          "ID: 74",
          "ID: 75",
          "ID: 76",
          "ID: 77",
          "ID: 78",
          "ID: 79",
          "ID: 80",
          "ID: 81",
          "ID: 82",
          "ID: 83",
          "ID: 84",
          "ID: 85",
          "ID: 86",
          "ID: 87",
          "ID: 88",
          "ID: 89",
          "ID: 90",
          "ID: 91",
          "ID: 92",
          "ID: 93",
          "ID: 94",
          "ID: 95",
          "ID: 96",
          "ID: 97",
          "ID: 98",
          "ID: 99",
          "ID: 100",
          "ID: 101",
          "ID: 102",
          "ID: 103",
          "ID: 104",
          "ID: 105",
          "ID: 106",
          "ID: 107"
         ],
         "type": "scatter",
         "x": [
          481.36,
          574.27,
          469.36,
          556.27,
          513.36,
          622.27,
          467.12,
          552.91,
          455.12,
          534.91,
          499.12,
          600.91,
          467.12,
          552.91,
          455.12,
          534.91,
          499.12,
          600.91,
          454.16,
          547.0699999999999,
          442.16,
          529.0699999999999,
          486.16,
          595.0699999999999,
          439.92,
          525.71,
          427.92,
          507.71,
          471.92,
          573.71,
          439.92,
          525.71,
          427.92,
          507.71,
          471.92,
          573.71,
          441.38,
          534.29,
          429.38,
          516.29,
          473.38,
          582.29,
          427.14,
          512.9300000000001,
          415.14,
          494.93,
          459.14,
          560.9300000000001,
          427.14,
          512.9300000000001,
          415.14,
          494.93,
          459.14,
          560.9300000000001,
          429.39,
          522.3,
          417.39,
          504.3,
          461.39,
          570.3,
          415.15,
          500.94,
          403.15,
          482.94,
          447.15,
          548.94,
          415.15,
          500.94,
          403.15,
          482.94,
          447.15,
          548.94,
          515.88,
          608.79,
          503.88,
          590.79,
          547.88,
          656.79,
          501.64,
          587.43,
          489.64,
          569.43,
          533.64,
          635.43,
          501.64,
          587.43,
          489.64,
          569.43,
          533.64,
          635.43,
          441.38,
          534.29,
          429.38,
          516.29,
          473.38,
          582.29,
          427.14,
          512.9300000000001,
          415.14,
          494.93,
          459.14,
          560.9300000000001,
          427.14,
          512.9300000000001,
          415.14,
          494.93,
          459.14,
          560.9300000000001
         ],
         "xaxis": "x",
         "y": [
          0.3279246096335133,
          0.38911665765449194,
          0.31799087943469634,
          0.37156919494722646,
          0.33478184697474184,
          0.40527897456563255,
          0.1974428603512297,
          0.25734726706681926,
          0.21178409855595287,
          0.266899338283787,
          0.16491759522400853,
          0.22871466818269626,
          0.13151952557584556,
          0.1937848996084126,
          0.15835688392660846,
          0.21820218713678718,
          0.08342338833646662,
          0.14577529061084213,
          0.41157434283359795,
          0.4993634219105951,
          0.400710469837773,
          0.4801918075442479,
          0.4182190561486845,
          0.5155291084415282,
          0.27513785071007596,
          0.358374390459507,
          0.29164129461738403,
          0.3708293822342459,
          0.2388682705124817,
          0.3246881071648056,
          0.20279539960298787,
          0.2859790566165804,
          0.23276472587478436,
          0.3145721999382846,
          0.1497672539495724,
          0.23149985526665193,
          0.4548520819193793,
          0.5461171468731731,
          0.4441802223842408,
          0.5267936669946434,
          0.46085342766870874,
          0.5620816006025537,
          0.30821133650811683,
          0.39466520041873365,
          0.32625745401056705,
          0.40837219985859663,
          0.2691121488965319,
          0.3583939151872023,
          0.23083988715461598,
          0.31743296436453283,
          0.2630194970288945,
          0.3480778743512176,
          0.17419827673828897,
          0.2593411202287978,
          0.4296184441850692,
          0.46610402790923744,
          0.19494119365371493,
          0.44702420572571167,
          0.43823124630555316,
          0.48383748431023854,
          0.27497435513982604,
          0.3132027062363442,
          0.2893671312224969,
          0.32172888205776773,
          0.23955238555298736,
          0.283315005508748,
          0.20229861319808573,
          0.24635625986851217,
          0.23140900565321554,
          0.2715257015509601,
          0.147785459277935,
          0.19395828937454657,
          0.5139685583100868,
          0.6240957770673811,
          0.5058448020758677,
          0.6215552812381703,
          0.5137550968793179,
          0.6239358106371234,
          0.3741097981170547,
          0.5209573254186783,
          0.3965891520469698,
          0.5332381681896431,
          0.33069835685291377,
          0.4760759634201318,
          0.2933860717469463,
          0.432871715090091,
          0.32858000519486735,
          0.47143496372454174,
          0.23469671535043996,
          0.3667104315033621,
          0.6459793842731799,
          0.7341606427318893,
          0.635083356859033,
          0.716883744790409,
          0.6526310436574926,
          0.7469251611768997,
          0.4889791944687769,
          0.6035801730045518,
          0.5129612562739567,
          0.6234833391241303,
          0.4389707437202779,
          0.5555631317786038,
          0.39235434406585845,
          0.5053992269369938,
          0.43328820307935045,
          0.545422712706788,
          0.32106497991816896,
          0.43133151572396433
         ],
         "yaxis": "y"
        },
        {
         "error_y": {
          "array": [
           0.0752012432002695,
           0.1220760743885585,
           0.09166874388555535,
           0.12583332522102286,
           0.09762629489985897,
           0.11978239873879548,
           0.08726718580106896,
           0.08670541656066333
          ],
          "arrayminus": [
           0.09798949871550272,
           0.08697260224226844,
           0.06594510375248597,
           0.09364075883901246,
           0.06878688223822316,
           0.07990636912488547,
           0.06560593967104222,
           0.06286545705122959
          ],
          "symmetric": false,
          "type": "data",
          "visible": true
         },
         "hovertemplate": "<b>%{text}</b><br><br>%{xaxis.title.text}: %{x}<br>%{yaxis.title.text}: %{y}<extra></extra>",
         "marker": {
          "color": "darkblue",
          "size": 14
         },
         "mode": "markers",
         "name": "Pareto Front",
         "text": [
          "ID: 62",
          "ID: 90",
          "ID: 91",
          "ID: 92",
          "ID: 93",
          "ID: 94",
          "ID: 95",
          "ID: 98"
         ],
         "type": "scatter",
         "x": [
          403.15,
          441.38,
          534.29,
          429.38,
          516.29,
          473.38,
          582.29,
          415.14
         ],
         "xaxis": "x2",
         "y": [
          0.2893671312224969,
          0.6459793842731799,
          0.7341606427318893,
          0.635083356859033,
          0.716883744790409,
          0.6526310436574926,
          0.7469251611768997,
          0.5129612562739567
         ],
         "yaxis": "y2"
        },
        {
         "error_y": {
          "array": [
           0.11225735443988805,
           0.15947451881989905,
           0.1605523049292611,
           0.1980201710710605,
           0.0892848577940778
          ],
          "arrayminus": [
           0.1099123116843852,
           0.15302071829860298,
           0.15316215192574956,
           0.1526092687614023,
           0.07751264001751901
          ],
          "symmetric": false,
          "type": "data",
          "visible": true
         },
         "hovertemplate": "<b>%{text}</b><br><br>%{xaxis.title.text}: %{x}<br>%{yaxis.title.text}: %{y}<extra></extra>",
         "marker": {
          "color": "blue",
          "size": 14
         },
         "mode": "markers",
         "name": "Near Pareto Front",
         "text": [
          "ID: 72",
          "ID: 73",
          "ID: 75",
          "ID: 81",
          "ID: 99"
         ],
         "type": "scatter",
         "x": [
          515.88,
          608.79,
          590.79,
          569.43,
          494.93
         ],
         "xaxis": "x2",
         "y": [
          0.5139685583100868,
          0.6240957770673811,
          0.6215552812381703,
          0.5332381681896431,
          0.6234833391241303
         ],
         "yaxis": "y2"
        },
        {
         "hovertemplate": "<b>%{text}</b><br>%{yaxis.title.text}: %{y}<br>%{xaxis.title.text}: %{x}<extra></extra>",
         "marker": {
          "color": [
           4,
           6,
           4,
           6,
           4,
           6,
           4,
           6,
           4,
           6,
           4,
           6,
           4,
           6,
           4,
           6,
           4,
           6,
           4,
           6,
           4,
           6,
           4,
           6,
           4,
           6,
           4,
           6,
           4,
           6,
           4,
           6,
           4,
           6,
           4,
           6,
           4,
           6,
           4,
           6,
           4,
           6,
           4,
           6,
           4,
           6,
           4,
           6,
           4,
           6,
           4,
           6,
           4,
           6,
           4,
           6,
           4,
           6,
           4,
           6,
           4,
           6,
           4,
           6,
           4,
           6,
           4,
           6,
           4,
           6,
           4,
           6,
           4,
           6,
           4,
           6,
           4,
           6,
           4,
           6,
           4,
           6,
           4,
           6,
           4,
           6,
           4,
           6,
           4,
           6,
           4,
           6,
           4,
           6,
           4,
           6,
           4,
           6,
           4,
           6,
           4,
           6,
           4,
           6,
           4,
           6,
           4,
           6
          ],
          "colorbar": {
           "len": 0.05194805194805195,
           "y": 0.8793896103896104
          },
          "colorscale": [
           [
            0,
            "#0508b8"
           ],
           [
            0.08333333333333333,
            "#1910d8"
           ],
           [
            0.16666666666666666,
            "#3c19f0"
           ],
           [
            0.25,
            "#6b1cfb"
           ],
           [
            0.3333333333333333,
            "#981cfd"
           ],
           [
            0.4166666666666667,
            "#bf1cfd"
           ],
           [
            0.5,
            "#dd2bfd"
           ],
           [
            0.5833333333333334,
            "#f246fe"
           ],
           [
            0.6666666666666666,
            "#fc67fd"
           ],
           [
            0.75,
            "#fe88fc"
           ],
           [
            0.8333333333333334,
            "#fea5fd"
           ],
           [
            0.9166666666666666,
            "#febefe"
           ],
           [
            1,
            "#fec3fe"
           ]
          ],
          "showscale": true,
          "size": 10
         },
         "mode": "markers",
         "name": "number_of_rotors",
         "text": [
          "ID: 0",
          "ID: 1",
          "ID: 2",
          "ID: 3",
          "ID: 4",
          "ID: 5",
          "ID: 6",
          "ID: 7",
          "ID: 8",
          "ID: 9",
          "ID: 10",
          "ID: 11",
          "ID: 12",
          "ID: 13",
          "ID: 14",
          "ID: 15",
          "ID: 16",
          "ID: 17",
          "ID: 18",
          "ID: 19",
          "ID: 20",
          "ID: 21",
          "ID: 22",
          "ID: 23",
          "ID: 24",
          "ID: 25",
          "ID: 26",
          "ID: 27",
          "ID: 28",
          "ID: 29",
          "ID: 30",
          "ID: 31",
          "ID: 32",
          "ID: 33",
          "ID: 34",
          "ID: 35",
          "ID: 36",
          "ID: 37",
          "ID: 38",
          "ID: 39",
          "ID: 40",
          "ID: 41",
          "ID: 42",
          "ID: 43",
          "ID: 44",
          "ID: 45",
          "ID: 46",
          "ID: 47",
          "ID: 48",
          "ID: 49",
          "ID: 50",
          "ID: 51",
          "ID: 52",
          "ID: 53",
          "ID: 54",
          "ID: 55",
          "ID: 56",
          "ID: 57",
          "ID: 58",
          "ID: 59",
          "ID: 60",
          "ID: 61",
          "ID: 62",
          "ID: 63",
          "ID: 64",
          "ID: 65",
          "ID: 66",
          "ID: 67",
          "ID: 68",
          "ID: 69",
          "ID: 70",
          "ID: 71",
          "ID: 72",
          "ID: 73",
          "ID: 74",
          "ID: 75",
          "ID: 76",
          "ID: 77",
          "ID: 78",
          "ID: 79",
          "ID: 80",
          "ID: 81",
          "ID: 82",
          "ID: 83",
          "ID: 84",
          "ID: 85",
          "ID: 86",
          "ID: 87",
          "ID: 88",
          "ID: 89",
          "ID: 90",
          "ID: 91",
          "ID: 92",
          "ID: 93",
          "ID: 94",
          "ID: 95",
          "ID: 96",
          "ID: 97",
          "ID: 98",
          "ID: 99",
          "ID: 100",
          "ID: 101",
          "ID: 102",
          "ID: 103",
          "ID: 104",
          "ID: 105",
          "ID: 106",
          "ID: 107"
         ],
         "type": "scatter",
         "x": [
          481.36,
          574.27,
          469.36,
          556.27,
          513.36,
          622.27,
          467.12,
          552.91,
          455.12,
          534.91,
          499.12,
          600.91,
          467.12,
          552.91,
          455.12,
          534.91,
          499.12,
          600.91,
          454.16,
          547.0699999999999,
          442.16,
          529.0699999999999,
          486.16,
          595.0699999999999,
          439.92,
          525.71,
          427.92,
          507.71,
          471.92,
          573.71,
          439.92,
          525.71,
          427.92,
          507.71,
          471.92,
          573.71,
          441.38,
          534.29,
          429.38,
          516.29,
          473.38,
          582.29,
          427.14,
          512.9300000000001,
          415.14,
          494.93,
          459.14,
          560.9300000000001,
          427.14,
          512.9300000000001,
          415.14,
          494.93,
          459.14,
          560.9300000000001,
          429.39,
          522.3,
          417.39,
          504.3,
          461.39,
          570.3,
          415.15,
          500.94,
          403.15,
          482.94,
          447.15,
          548.94,
          415.15,
          500.94,
          403.15,
          482.94,
          447.15,
          548.94,
          515.88,
          608.79,
          503.88,
          590.79,
          547.88,
          656.79,
          501.64,
          587.43,
          489.64,
          569.43,
          533.64,
          635.43,
          501.64,
          587.43,
          489.64,
          569.43,
          533.64,
          635.43,
          441.38,
          534.29,
          429.38,
          516.29,
          473.38,
          582.29,
          427.14,
          512.9300000000001,
          415.14,
          494.93,
          459.14,
          560.9300000000001,
          427.14,
          512.9300000000001,
          415.14,
          494.93,
          459.14,
          560.9300000000001
         ],
         "xaxis": "x2",
         "y": [
          0.3279246096335133,
          0.38911665765449194,
          0.31799087943469634,
          0.37156919494722646,
          0.33478184697474184,
          0.40527897456563255,
          0.1974428603512297,
          0.25734726706681926,
          0.21178409855595287,
          0.266899338283787,
          0.16491759522400853,
          0.22871466818269626,
          0.13151952557584556,
          0.1937848996084126,
          0.15835688392660846,
          0.21820218713678718,
          0.08342338833646662,
          0.14577529061084213,
          0.41157434283359795,
          0.4993634219105951,
          0.400710469837773,
          0.4801918075442479,
          0.4182190561486845,
          0.5155291084415282,
          0.27513785071007596,
          0.358374390459507,
          0.29164129461738403,
          0.3708293822342459,
          0.2388682705124817,
          0.3246881071648056,
          0.20279539960298787,
          0.2859790566165804,
          0.23276472587478436,
          0.3145721999382846,
          0.1497672539495724,
          0.23149985526665193,
          0.4548520819193793,
          0.5461171468731731,
          0.4441802223842408,
          0.5267936669946434,
          0.46085342766870874,
          0.5620816006025537,
          0.30821133650811683,
          0.39466520041873365,
          0.32625745401056705,
          0.40837219985859663,
          0.2691121488965319,
          0.3583939151872023,
          0.23083988715461598,
          0.31743296436453283,
          0.2630194970288945,
          0.3480778743512176,
          0.17419827673828897,
          0.2593411202287978,
          0.4296184441850692,
          0.46610402790923744,
          0.19494119365371493,
          0.44702420572571167,
          0.43823124630555316,
          0.48383748431023854,
          0.27497435513982604,
          0.3132027062363442,
          0.2893671312224969,
          0.32172888205776773,
          0.23955238555298736,
          0.283315005508748,
          0.20229861319808573,
          0.24635625986851217,
          0.23140900565321554,
          0.2715257015509601,
          0.147785459277935,
          0.19395828937454657,
          0.5139685583100868,
          0.6240957770673811,
          0.5058448020758677,
          0.6215552812381703,
          0.5137550968793179,
          0.6239358106371234,
          0.3741097981170547,
          0.5209573254186783,
          0.3965891520469698,
          0.5332381681896431,
          0.33069835685291377,
          0.4760759634201318,
          0.2933860717469463,
          0.432871715090091,
          0.32858000519486735,
          0.47143496372454174,
          0.23469671535043996,
          0.3667104315033621,
          0.6459793842731799,
          0.7341606427318893,
          0.635083356859033,
          0.716883744790409,
          0.6526310436574926,
          0.7469251611768997,
          0.4889791944687769,
          0.6035801730045518,
          0.5129612562739567,
          0.6234833391241303,
          0.4389707437202779,
          0.5555631317786038,
          0.39235434406585845,
          0.5053992269369938,
          0.43328820307935045,
          0.545422712706788,
          0.32106497991816896,
          0.43133151572396433
         ],
         "yaxis": "y2"
        },
        {
         "error_y": {
          "array": [
           0.0752012432002695,
           0.1220760743885585,
           0.09166874388555535,
           0.12583332522102286,
           0.09762629489985897,
           0.11978239873879548,
           0.08726718580106896,
           0.08670541656066333
          ],
          "arrayminus": [
           0.09798949871550272,
           0.08697260224226844,
           0.06594510375248597,
           0.09364075883901246,
           0.06878688223822316,
           0.07990636912488547,
           0.06560593967104222,
           0.06286545705122959
          ],
          "symmetric": false,
          "type": "data",
          "visible": true
         },
         "hovertemplate": "<b>%{text}</b><br><br>%{xaxis.title.text}: %{x}<br>%{yaxis.title.text}: %{y}<extra></extra>",
         "marker": {
          "color": "darkblue",
          "size": 14
         },
         "mode": "markers",
         "name": "Pareto Front",
         "text": [
          "ID: 62",
          "ID: 90",
          "ID: 91",
          "ID: 92",
          "ID: 93",
          "ID: 94",
          "ID: 95",
          "ID: 98"
         ],
         "type": "scatter",
         "x": [
          403.15,
          441.38,
          534.29,
          429.38,
          516.29,
          473.38,
          582.29,
          415.14
         ],
         "xaxis": "x3",
         "y": [
          0.2893671312224969,
          0.6459793842731799,
          0.7341606427318893,
          0.635083356859033,
          0.716883744790409,
          0.6526310436574926,
          0.7469251611768997,
          0.5129612562739567
         ],
         "yaxis": "y3"
        },
        {
         "error_y": {
          "array": [
           0.11225735443988805,
           0.15947451881989905,
           0.1605523049292611,
           0.1980201710710605,
           0.0892848577940778
          ],
          "arrayminus": [
           0.1099123116843852,
           0.15302071829860298,
           0.15316215192574956,
           0.1526092687614023,
           0.07751264001751901
          ],
          "symmetric": false,
          "type": "data",
          "visible": true
         },
         "hovertemplate": "<b>%{text}</b><br><br>%{xaxis.title.text}: %{x}<br>%{yaxis.title.text}: %{y}<extra></extra>",
         "marker": {
          "color": "blue",
          "size": 14
         },
         "mode": "markers",
         "name": "Near Pareto Front",
         "text": [
          "ID: 72",
          "ID: 73",
          "ID: 75",
          "ID: 81",
          "ID: 99"
         ],
         "type": "scatter",
         "x": [
          515.88,
          608.79,
          590.79,
          569.43,
          494.93
         ],
         "xaxis": "x3",
         "y": [
          0.5139685583100868,
          0.6240957770673811,
          0.6215552812381703,
          0.5332381681896431,
          0.6234833391241303
         ],
         "yaxis": "y3"
        },
        {
         "hovertemplate": "<b>%{text}</b><br>%{yaxis.title.text}: %{y}<br>%{xaxis.title.text}: %{x}<extra></extra>",
         "marker": {
          "color": [
           0.2794,
           0.2794,
           0.2413,
           0.2413,
           0.3302,
           0.3302,
           0.2794,
           0.2794,
           0.2413,
           0.2413,
           0.3302,
           0.3302,
           0.2794,
           0.2794,
           0.2413,
           0.2413,
           0.3302,
           0.3302,
           0.2794,
           0.2794,
           0.2413,
           0.2413,
           0.3302,
           0.3302,
           0.2794,
           0.2794,
           0.2413,
           0.2413,
           0.3302,
           0.3302,
           0.2794,
           0.2794,
           0.2413,
           0.2413,
           0.3302,
           0.3302,
           0.2794,
           0.2794,
           0.2413,
           0.2413,
           0.3302,
           0.3302,
           0.2794,
           0.2794,
           0.2413,
           0.2413,
           0.3302,
           0.3302,
           0.2794,
           0.2794,
           0.2413,
           0.2413,
           0.3302,
           0.3302,
           0.2794,
           0.2794,
           0.2413,
           0.2413,
           0.3302,
           0.3302,
           0.2794,
           0.2794,
           0.2413,
           0.2413,
           0.3302,
           0.3302,
           0.2794,
           0.2794,
           0.2413,
           0.2413,
           0.3302,
           0.3302,
           0.2794,
           0.2794,
           0.2413,
           0.2413,
           0.3302,
           0.3302,
           0.2794,
           0.2794,
           0.2413,
           0.2413,
           0.3302,
           0.3302,
           0.2794,
           0.2794,
           0.2413,
           0.2413,
           0.3302,
           0.3302,
           0.2794,
           0.2794,
           0.2413,
           0.2413,
           0.3302,
           0.3302,
           0.2794,
           0.2794,
           0.2413,
           0.2413,
           0.3302,
           0.3302,
           0.2794,
           0.2794,
           0.2413,
           0.2413,
           0.3302,
           0.3302
          ],
          "colorbar": {
           "len": 0.05194805194805195,
           "y": 0.7847532467532468
          },
          "colorscale": [
           [
            0,
            "#0508b8"
           ],
           [
            0.08333333333333333,
            "#1910d8"
           ],
           [
            0.16666666666666666,
            "#3c19f0"
           ],
           [
            0.25,
            "#6b1cfb"
           ],
           [
            0.3333333333333333,
            "#981cfd"
           ],
           [
            0.4166666666666667,
            "#bf1cfd"
           ],
           [
            0.5,
            "#dd2bfd"
           ],
           [
            0.5833333333333334,
            "#f246fe"
           ],
           [
            0.6666666666666666,
            "#fc67fd"
           ],
           [
            0.75,
            "#fe88fc"
           ],
           [
            0.8333333333333334,
            "#fea5fd"
           ],
           [
            0.9166666666666666,
            "#febefe"
           ],
           [
            1,
            "#fec3fe"
           ]
          ],
          "showscale": true,
          "size": 10
         },
         "mode": "markers",
         "name": "prop_diameter",
         "text": [
          "ID: 0",
          "ID: 1",
          "ID: 2",
          "ID: 3",
          "ID: 4",
          "ID: 5",
          "ID: 6",
          "ID: 7",
          "ID: 8",
          "ID: 9",
          "ID: 10",
          "ID: 11",
          "ID: 12",
          "ID: 13",
          "ID: 14",
          "ID: 15",
          "ID: 16",
          "ID: 17",
          "ID: 18",
          "ID: 19",
          "ID: 20",
          "ID: 21",
          "ID: 22",
          "ID: 23",
          "ID: 24",
          "ID: 25",
          "ID: 26",
          "ID: 27",
          "ID: 28",
          "ID: 29",
          "ID: 30",
          "ID: 31",
          "ID: 32",
          "ID: 33",
          "ID: 34",
          "ID: 35",
          "ID: 36",
          "ID: 37",
          "ID: 38",
          "ID: 39",
          "ID: 40",
          "ID: 41",
          "ID: 42",
          "ID: 43",
          "ID: 44",
          "ID: 45",
          "ID: 46",
          "ID: 47",
          "ID: 48",
          "ID: 49",
          "ID: 50",
          "ID: 51",
          "ID: 52",
          "ID: 53",
          "ID: 54",
          "ID: 55",
          "ID: 56",
          "ID: 57",
          "ID: 58",
          "ID: 59",
          "ID: 60",
          "ID: 61",
          "ID: 62",
          "ID: 63",
          "ID: 64",
          "ID: 65",
          "ID: 66",
          "ID: 67",
          "ID: 68",
          "ID: 69",
          "ID: 70",
          "ID: 71",
          "ID: 72",
          "ID: 73",
          "ID: 74",
          "ID: 75",
          "ID: 76",
          "ID: 77",
          "ID: 78",
          "ID: 79",
          "ID: 80",
          "ID: 81",
          "ID: 82",
          "ID: 83",
          "ID: 84",
          "ID: 85",
          "ID: 86",
          "ID: 87",
          "ID: 88",
          "ID: 89",
          "ID: 90",
          "ID: 91",
          "ID: 92",
          "ID: 93",
          "ID: 94",
          "ID: 95",
          "ID: 96",
          "ID: 97",
          "ID: 98",
          "ID: 99",
          "ID: 100",
          "ID: 101",
          "ID: 102",
          "ID: 103",
          "ID: 104",
          "ID: 105",
          "ID: 106",
          "ID: 107"
         ],
         "type": "scatter",
         "x": [
          481.36,
          574.27,
          469.36,
          556.27,
          513.36,
          622.27,
          467.12,
          552.91,
          455.12,
          534.91,
          499.12,
          600.91,
          467.12,
          552.91,
          455.12,
          534.91,
          499.12,
          600.91,
          454.16,
          547.0699999999999,
          442.16,
          529.0699999999999,
          486.16,
          595.0699999999999,
          439.92,
          525.71,
          427.92,
          507.71,
          471.92,
          573.71,
          439.92,
          525.71,
          427.92,
          507.71,
          471.92,
          573.71,
          441.38,
          534.29,
          429.38,
          516.29,
          473.38,
          582.29,
          427.14,
          512.9300000000001,
          415.14,
          494.93,
          459.14,
          560.9300000000001,
          427.14,
          512.9300000000001,
          415.14,
          494.93,
          459.14,
          560.9300000000001,
          429.39,
          522.3,
          417.39,
          504.3,
          461.39,
          570.3,
          415.15,
          500.94,
          403.15,
          482.94,
          447.15,
          548.94,
          415.15,
          500.94,
          403.15,
          482.94,
          447.15,
          548.94,
          515.88,
          608.79,
          503.88,
          590.79,
          547.88,
          656.79,
          501.64,
          587.43,
          489.64,
          569.43,
          533.64,
          635.43,
          501.64,
          587.43,
          489.64,
          569.43,
          533.64,
          635.43,
          441.38,
          534.29,
          429.38,
          516.29,
          473.38,
          582.29,
          427.14,
          512.9300000000001,
          415.14,
          494.93,
          459.14,
          560.9300000000001,
          427.14,
          512.9300000000001,
          415.14,
          494.93,
          459.14,
          560.9300000000001
         ],
         "xaxis": "x3",
         "y": [
          0.3279246096335133,
          0.38911665765449194,
          0.31799087943469634,
          0.37156919494722646,
          0.33478184697474184,
          0.40527897456563255,
          0.1974428603512297,
          0.25734726706681926,
          0.21178409855595287,
          0.266899338283787,
          0.16491759522400853,
          0.22871466818269626,
          0.13151952557584556,
          0.1937848996084126,
          0.15835688392660846,
          0.21820218713678718,
          0.08342338833646662,
          0.14577529061084213,
          0.41157434283359795,
          0.4993634219105951,
          0.400710469837773,
          0.4801918075442479,
          0.4182190561486845,
          0.5155291084415282,
          0.27513785071007596,
          0.358374390459507,
          0.29164129461738403,
          0.3708293822342459,
          0.2388682705124817,
          0.3246881071648056,
          0.20279539960298787,
          0.2859790566165804,
          0.23276472587478436,
          0.3145721999382846,
          0.1497672539495724,
          0.23149985526665193,
          0.4548520819193793,
          0.5461171468731731,
          0.4441802223842408,
          0.5267936669946434,
          0.46085342766870874,
          0.5620816006025537,
          0.30821133650811683,
          0.39466520041873365,
          0.32625745401056705,
          0.40837219985859663,
          0.2691121488965319,
          0.3583939151872023,
          0.23083988715461598,
          0.31743296436453283,
          0.2630194970288945,
          0.3480778743512176,
          0.17419827673828897,
          0.2593411202287978,
          0.4296184441850692,
          0.46610402790923744,
          0.19494119365371493,
          0.44702420572571167,
          0.43823124630555316,
          0.48383748431023854,
          0.27497435513982604,
          0.3132027062363442,
          0.2893671312224969,
          0.32172888205776773,
          0.23955238555298736,
          0.283315005508748,
          0.20229861319808573,
          0.24635625986851217,
          0.23140900565321554,
          0.2715257015509601,
          0.147785459277935,
          0.19395828937454657,
          0.5139685583100868,
          0.6240957770673811,
          0.5058448020758677,
          0.6215552812381703,
          0.5137550968793179,
          0.6239358106371234,
          0.3741097981170547,
          0.5209573254186783,
          0.3965891520469698,
          0.5332381681896431,
          0.33069835685291377,
          0.4760759634201318,
          0.2933860717469463,
          0.432871715090091,
          0.32858000519486735,
          0.47143496372454174,
          0.23469671535043996,
          0.3667104315033621,
          0.6459793842731799,
          0.7341606427318893,
          0.635083356859033,
          0.716883744790409,
          0.6526310436574926,
          0.7469251611768997,
          0.4889791944687769,
          0.6035801730045518,
          0.5129612562739567,
          0.6234833391241303,
          0.4389707437202779,
          0.5555631317786038,
          0.39235434406585845,
          0.5053992269369938,
          0.43328820307935045,
          0.545422712706788,
          0.32106497991816896,
          0.43133151572396433
         ],
         "yaxis": "y3"
        },
        {
         "error_y": {
          "array": [
           0.0752012432002695,
           0.1220760743885585,
           0.09166874388555535,
           0.12583332522102286,
           0.09762629489985897,
           0.11978239873879548,
           0.08726718580106896,
           0.08670541656066333
          ],
          "arrayminus": [
           0.09798949871550272,
           0.08697260224226844,
           0.06594510375248597,
           0.09364075883901246,
           0.06878688223822316,
           0.07990636912488547,
           0.06560593967104222,
           0.06286545705122959
          ],
          "symmetric": false,
          "type": "data",
          "visible": true
         },
         "hovertemplate": "<b>%{text}</b><br><br>%{xaxis.title.text}: %{x}<br>%{yaxis.title.text}: %{y}<extra></extra>",
         "marker": {
          "color": "darkblue",
          "size": 14
         },
         "mode": "markers",
         "name": "Pareto Front",
         "text": [
          "ID: 62",
          "ID: 90",
          "ID: 91",
          "ID: 92",
          "ID: 93",
          "ID: 94",
          "ID: 95",
          "ID: 98"
         ],
         "type": "scatter",
         "x": [
          403.15,
          441.38,
          534.29,
          429.38,
          516.29,
          473.38,
          582.29,
          415.14
         ],
         "xaxis": "x4",
         "y": [
          0.2893671312224969,
          0.6459793842731799,
          0.7341606427318893,
          0.635083356859033,
          0.716883744790409,
          0.6526310436574926,
          0.7469251611768997,
          0.5129612562739567
         ],
         "yaxis": "y4"
        },
        {
         "error_y": {
          "array": [
           0.11225735443988805,
           0.15947451881989905,
           0.1605523049292611,
           0.1980201710710605,
           0.0892848577940778
          ],
          "arrayminus": [
           0.1099123116843852,
           0.15302071829860298,
           0.15316215192574956,
           0.1526092687614023,
           0.07751264001751901
          ],
          "symmetric": false,
          "type": "data",
          "visible": true
         },
         "hovertemplate": "<b>%{text}</b><br><br>%{xaxis.title.text}: %{x}<br>%{yaxis.title.text}: %{y}<extra></extra>",
         "marker": {
          "color": "blue",
          "size": 14
         },
         "mode": "markers",
         "name": "Near Pareto Front",
         "text": [
          "ID: 72",
          "ID: 73",
          "ID: 75",
          "ID: 81",
          "ID: 99"
         ],
         "type": "scatter",
         "x": [
          515.88,
          608.79,
          590.79,
          569.43,
          494.93
         ],
         "xaxis": "x4",
         "y": [
          0.5139685583100868,
          0.6240957770673811,
          0.6215552812381703,
          0.5332381681896431,
          0.6234833391241303
         ],
         "yaxis": "y4"
        },
        {
         "hovertemplate": "<b>%{text}</b><br>%{yaxis.title.text}: %{y}<br>%{xaxis.title.text}: %{x}<extra></extra>",
         "marker": {
          "color": [
           0.10668,
           0.10668,
           0.1143,
           0.1143,
           0.12191999999999999,
           0.12191999999999999,
           0.10668,
           0.10668,
           0.1143,
           0.1143,
           0.12191999999999999,
           0.12191999999999999,
           0.10668,
           0.10668,
           0.1143,
           0.1143,
           0.12191999999999999,
           0.12191999999999999,
           0.10668,
           0.10668,
           0.1143,
           0.1143,
           0.12191999999999999,
           0.12191999999999999,
           0.10668,
           0.10668,
           0.1143,
           0.1143,
           0.12191999999999999,
           0.12191999999999999,
           0.10668,
           0.10668,
           0.1143,
           0.1143,
           0.12191999999999999,
           0.12191999999999999,
           0.10668,
           0.10668,
           0.1143,
           0.1143,
           0.12191999999999999,
           0.12191999999999999,
           0.10668,
           0.10668,
           0.1143,
           0.1143,
           0.12191999999999999,
           0.12191999999999999,
           0.10668,
           0.10668,
           0.1143,
           0.1143,
           0.12191999999999999,
           0.12191999999999999,
           0.10668,
           0.10668,
           0.1143,
           0.1143,
           0.12191999999999999,
           0.12191999999999999,
           0.10668,
           0.10668,
           0.1143,
           0.1143,
           0.12191999999999999,
           0.12191999999999999,
           0.10668,
           0.10668,
           0.1143,
           0.1143,
           0.12191999999999999,
           0.12191999999999999,
           0.10668,
           0.10668,
           0.1143,
           0.1143,
           0.12191999999999999,
           0.12191999999999999,
           0.10668,
           0.10668,
           0.1143,
           0.1143,
           0.12191999999999999,
           0.12191999999999999,
           0.10668,
           0.10668,
           0.1143,
           0.1143,
           0.12191999999999999,
           0.12191999999999999,
           0.10668,
           0.10668,
           0.1143,
           0.1143,
           0.12191999999999999,
           0.12191999999999999,
           0.10668,
           0.10668,
           0.1143,
           0.1143,
           0.12191999999999999,
           0.12191999999999999,
           0.10668,
           0.10668,
           0.1143,
           0.1143,
           0.12191999999999999,
           0.12191999999999999
          ],
          "colorbar": {
           "len": 0.05194805194805195,
           "y": 0.6901168831168831
          },
          "colorscale": [
           [
            0,
            "#0508b8"
           ],
           [
            0.08333333333333333,
            "#1910d8"
           ],
           [
            0.16666666666666666,
            "#3c19f0"
           ],
           [
            0.25,
            "#6b1cfb"
           ],
           [
            0.3333333333333333,
            "#981cfd"
           ],
           [
            0.4166666666666667,
            "#bf1cfd"
           ],
           [
            0.5,
            "#dd2bfd"
           ],
           [
            0.5833333333333334,
            "#f246fe"
           ],
           [
            0.6666666666666666,
            "#fc67fd"
           ],
           [
            0.75,
            "#fe88fc"
           ],
           [
            0.8333333333333334,
            "#fea5fd"
           ],
           [
            0.9166666666666666,
            "#febefe"
           ],
           [
            1,
            "#fec3fe"
           ]
          ],
          "showscale": true,
          "size": 10
         },
         "mode": "markers",
         "name": "prop_pitch",
         "text": [
          "ID: 0",
          "ID: 1",
          "ID: 2",
          "ID: 3",
          "ID: 4",
          "ID: 5",
          "ID: 6",
          "ID: 7",
          "ID: 8",
          "ID: 9",
          "ID: 10",
          "ID: 11",
          "ID: 12",
          "ID: 13",
          "ID: 14",
          "ID: 15",
          "ID: 16",
          "ID: 17",
          "ID: 18",
          "ID: 19",
          "ID: 20",
          "ID: 21",
          "ID: 22",
          "ID: 23",
          "ID: 24",
          "ID: 25",
          "ID: 26",
          "ID: 27",
          "ID: 28",
          "ID: 29",
          "ID: 30",
          "ID: 31",
          "ID: 32",
          "ID: 33",
          "ID: 34",
          "ID: 35",
          "ID: 36",
          "ID: 37",
          "ID: 38",
          "ID: 39",
          "ID: 40",
          "ID: 41",
          "ID: 42",
          "ID: 43",
          "ID: 44",
          "ID: 45",
          "ID: 46",
          "ID: 47",
          "ID: 48",
          "ID: 49",
          "ID: 50",
          "ID: 51",
          "ID: 52",
          "ID: 53",
          "ID: 54",
          "ID: 55",
          "ID: 56",
          "ID: 57",
          "ID: 58",
          "ID: 59",
          "ID: 60",
          "ID: 61",
          "ID: 62",
          "ID: 63",
          "ID: 64",
          "ID: 65",
          "ID: 66",
          "ID: 67",
          "ID: 68",
          "ID: 69",
          "ID: 70",
          "ID: 71",
          "ID: 72",
          "ID: 73",
          "ID: 74",
          "ID: 75",
          "ID: 76",
          "ID: 77",
          "ID: 78",
          "ID: 79",
          "ID: 80",
          "ID: 81",
          "ID: 82",
          "ID: 83",
          "ID: 84",
          "ID: 85",
          "ID: 86",
          "ID: 87",
          "ID: 88",
          "ID: 89",
          "ID: 90",
          "ID: 91",
          "ID: 92",
          "ID: 93",
          "ID: 94",
          "ID: 95",
          "ID: 96",
          "ID: 97",
          "ID: 98",
          "ID: 99",
          "ID: 100",
          "ID: 101",
          "ID: 102",
          "ID: 103",
          "ID: 104",
          "ID: 105",
          "ID: 106",
          "ID: 107"
         ],
         "type": "scatter",
         "x": [
          481.36,
          574.27,
          469.36,
          556.27,
          513.36,
          622.27,
          467.12,
          552.91,
          455.12,
          534.91,
          499.12,
          600.91,
          467.12,
          552.91,
          455.12,
          534.91,
          499.12,
          600.91,
          454.16,
          547.0699999999999,
          442.16,
          529.0699999999999,
          486.16,
          595.0699999999999,
          439.92,
          525.71,
          427.92,
          507.71,
          471.92,
          573.71,
          439.92,
          525.71,
          427.92,
          507.71,
          471.92,
          573.71,
          441.38,
          534.29,
          429.38,
          516.29,
          473.38,
          582.29,
          427.14,
          512.9300000000001,
          415.14,
          494.93,
          459.14,
          560.9300000000001,
          427.14,
          512.9300000000001,
          415.14,
          494.93,
          459.14,
          560.9300000000001,
          429.39,
          522.3,
          417.39,
          504.3,
          461.39,
          570.3,
          415.15,
          500.94,
          403.15,
          482.94,
          447.15,
          548.94,
          415.15,
          500.94,
          403.15,
          482.94,
          447.15,
          548.94,
          515.88,
          608.79,
          503.88,
          590.79,
          547.88,
          656.79,
          501.64,
          587.43,
          489.64,
          569.43,
          533.64,
          635.43,
          501.64,
          587.43,
          489.64,
          569.43,
          533.64,
          635.43,
          441.38,
          534.29,
          429.38,
          516.29,
          473.38,
          582.29,
          427.14,
          512.9300000000001,
          415.14,
          494.93,
          459.14,
          560.9300000000001,
          427.14,
          512.9300000000001,
          415.14,
          494.93,
          459.14,
          560.9300000000001
         ],
         "xaxis": "x4",
         "y": [
          0.3279246096335133,
          0.38911665765449194,
          0.31799087943469634,
          0.37156919494722646,
          0.33478184697474184,
          0.40527897456563255,
          0.1974428603512297,
          0.25734726706681926,
          0.21178409855595287,
          0.266899338283787,
          0.16491759522400853,
          0.22871466818269626,
          0.13151952557584556,
          0.1937848996084126,
          0.15835688392660846,
          0.21820218713678718,
          0.08342338833646662,
          0.14577529061084213,
          0.41157434283359795,
          0.4993634219105951,
          0.400710469837773,
          0.4801918075442479,
          0.4182190561486845,
          0.5155291084415282,
          0.27513785071007596,
          0.358374390459507,
          0.29164129461738403,
          0.3708293822342459,
          0.2388682705124817,
          0.3246881071648056,
          0.20279539960298787,
          0.2859790566165804,
          0.23276472587478436,
          0.3145721999382846,
          0.1497672539495724,
          0.23149985526665193,
          0.4548520819193793,
          0.5461171468731731,
          0.4441802223842408,
          0.5267936669946434,
          0.46085342766870874,
          0.5620816006025537,
          0.30821133650811683,
          0.39466520041873365,
          0.32625745401056705,
          0.40837219985859663,
          0.2691121488965319,
          0.3583939151872023,
          0.23083988715461598,
          0.31743296436453283,
          0.2630194970288945,
          0.3480778743512176,
          0.17419827673828897,
          0.2593411202287978,
          0.4296184441850692,
          0.46610402790923744,
          0.19494119365371493,
          0.44702420572571167,
          0.43823124630555316,
          0.48383748431023854,
          0.27497435513982604,
          0.3132027062363442,
          0.2893671312224969,
          0.32172888205776773,
          0.23955238555298736,
          0.283315005508748,
          0.20229861319808573,
          0.24635625986851217,
          0.23140900565321554,
          0.2715257015509601,
          0.147785459277935,
          0.19395828937454657,
          0.5139685583100868,
          0.6240957770673811,
          0.5058448020758677,
          0.6215552812381703,
          0.5137550968793179,
          0.6239358106371234,
          0.3741097981170547,
          0.5209573254186783,
          0.3965891520469698,
          0.5332381681896431,
          0.33069835685291377,
          0.4760759634201318,
          0.2933860717469463,
          0.432871715090091,
          0.32858000519486735,
          0.47143496372454174,
          0.23469671535043996,
          0.3667104315033621,
          0.6459793842731799,
          0.7341606427318893,
          0.635083356859033,
          0.716883744790409,
          0.6526310436574926,
          0.7469251611768997,
          0.4889791944687769,
          0.6035801730045518,
          0.5129612562739567,
          0.6234833391241303,
          0.4389707437202779,
          0.5555631317786038,
          0.39235434406585845,
          0.5053992269369938,
          0.43328820307935045,
          0.545422712706788,
          0.32106497991816896,
          0.43133151572396433
         ],
         "yaxis": "y4"
        },
        {
         "error_y": {
          "array": [
           0.0752012432002695,
           0.1220760743885585,
           0.09166874388555535,
           0.12583332522102286,
           0.09762629489985897,
           0.11978239873879548,
           0.08726718580106896,
           0.08670541656066333
          ],
          "arrayminus": [
           0.09798949871550272,
           0.08697260224226844,
           0.06594510375248597,
           0.09364075883901246,
           0.06878688223822316,
           0.07990636912488547,
           0.06560593967104222,
           0.06286545705122959
          ],
          "symmetric": false,
          "type": "data",
          "visible": true
         },
         "hovertemplate": "<b>%{text}</b><br><br>%{xaxis.title.text}: %{x}<br>%{yaxis.title.text}: %{y}<extra></extra>",
         "marker": {
          "color": "darkblue",
          "size": 14
         },
         "mode": "markers",
         "name": "Pareto Front",
         "text": [
          "ID: 62",
          "ID: 90",
          "ID: 91",
          "ID: 92",
          "ID: 93",
          "ID: 94",
          "ID: 95",
          "ID: 98"
         ],
         "type": "scatter",
         "x": [
          403.15,
          441.38,
          534.29,
          429.38,
          516.29,
          473.38,
          582.29,
          415.14
         ],
         "xaxis": "x5",
         "y": [
          0.2893671312224969,
          0.6459793842731799,
          0.7341606427318893,
          0.635083356859033,
          0.716883744790409,
          0.6526310436574926,
          0.7469251611768997,
          0.5129612562739567
         ],
         "yaxis": "y5"
        },
        {
         "error_y": {
          "array": [
           0.11225735443988805,
           0.15947451881989905,
           0.1605523049292611,
           0.1980201710710605,
           0.0892848577940778
          ],
          "arrayminus": [
           0.1099123116843852,
           0.15302071829860298,
           0.15316215192574956,
           0.1526092687614023,
           0.07751264001751901
          ],
          "symmetric": false,
          "type": "data",
          "visible": true
         },
         "hovertemplate": "<b>%{text}</b><br><br>%{xaxis.title.text}: %{x}<br>%{yaxis.title.text}: %{y}<extra></extra>",
         "marker": {
          "color": "blue",
          "size": 14
         },
         "mode": "markers",
         "name": "Near Pareto Front",
         "text": [
          "ID: 72",
          "ID: 73",
          "ID: 75",
          "ID: 81",
          "ID: 99"
         ],
         "type": "scatter",
         "x": [
          515.88,
          608.79,
          590.79,
          569.43,
          494.93
         ],
         "xaxis": "x5",
         "y": [
          0.5139685583100868,
          0.6240957770673811,
          0.6215552812381703,
          0.5332381681896431,
          0.6234833391241303
         ],
         "yaxis": "y5"
        },
        {
         "hovertemplate": "<b>%{text}</b><br>%{yaxis.title.text}: %{y}<br>%{xaxis.title.text}: %{x}<extra></extra>",
         "marker": {
          "color": [
           1350,
           1350,
           1350,
           1350,
           1350,
           1350,
           1950,
           1950,
           1950,
           1950,
           1950,
           1950,
           2400,
           2400,
           2400,
           2400,
           2400,
           2400,
           1350,
           1350,
           1350,
           1350,
           1350,
           1350,
           1950,
           1950,
           1950,
           1950,
           1950,
           1950,
           2400,
           2400,
           2400,
           2400,
           2400,
           2400,
           1350,
           1350,
           1350,
           1350,
           1350,
           1350,
           1950,
           1950,
           1950,
           1950,
           1950,
           1950,
           2400,
           2400,
           2400,
           2400,
           2400,
           2400,
           1350,
           1350,
           1350,
           1350,
           1350,
           1350,
           1950,
           1950,
           1950,
           1950,
           1950,
           1950,
           2400,
           2400,
           2400,
           2400,
           2400,
           2400,
           1350,
           1350,
           1350,
           1350,
           1350,
           1350,
           1950,
           1950,
           1950,
           1950,
           1950,
           1950,
           2400,
           2400,
           2400,
           2400,
           2400,
           2400,
           1350,
           1350,
           1350,
           1350,
           1350,
           1350,
           1950,
           1950,
           1950,
           1950,
           1950,
           1950,
           2400,
           2400,
           2400,
           2400,
           2400,
           2400
          ],
          "colorbar": {
           "len": 0.05194805194805195,
           "y": 0.5954805194805195
          },
          "colorscale": [
           [
            0,
            "#0508b8"
           ],
           [
            0.08333333333333333,
            "#1910d8"
           ],
           [
            0.16666666666666666,
            "#3c19f0"
           ],
           [
            0.25,
            "#6b1cfb"
           ],
           [
            0.3333333333333333,
            "#981cfd"
           ],
           [
            0.4166666666666667,
            "#bf1cfd"
           ],
           [
            0.5,
            "#dd2bfd"
           ],
           [
            0.5833333333333334,
            "#f246fe"
           ],
           [
            0.6666666666666666,
            "#fc67fd"
           ],
           [
            0.75,
            "#fe88fc"
           ],
           [
            0.8333333333333334,
            "#fea5fd"
           ],
           [
            0.9166666666666666,
            "#febefe"
           ],
           [
            1,
            "#fec3fe"
           ]
          ],
          "showscale": true,
          "size": 10
         },
         "mode": "markers",
         "name": "kv",
         "text": [
          "ID: 0",
          "ID: 1",
          "ID: 2",
          "ID: 3",
          "ID: 4",
          "ID: 5",
          "ID: 6",
          "ID: 7",
          "ID: 8",
          "ID: 9",
          "ID: 10",
          "ID: 11",
          "ID: 12",
          "ID: 13",
          "ID: 14",
          "ID: 15",
          "ID: 16",
          "ID: 17",
          "ID: 18",
          "ID: 19",
          "ID: 20",
          "ID: 21",
          "ID: 22",
          "ID: 23",
          "ID: 24",
          "ID: 25",
          "ID: 26",
          "ID: 27",
          "ID: 28",
          "ID: 29",
          "ID: 30",
          "ID: 31",
          "ID: 32",
          "ID: 33",
          "ID: 34",
          "ID: 35",
          "ID: 36",
          "ID: 37",
          "ID: 38",
          "ID: 39",
          "ID: 40",
          "ID: 41",
          "ID: 42",
          "ID: 43",
          "ID: 44",
          "ID: 45",
          "ID: 46",
          "ID: 47",
          "ID: 48",
          "ID: 49",
          "ID: 50",
          "ID: 51",
          "ID: 52",
          "ID: 53",
          "ID: 54",
          "ID: 55",
          "ID: 56",
          "ID: 57",
          "ID: 58",
          "ID: 59",
          "ID: 60",
          "ID: 61",
          "ID: 62",
          "ID: 63",
          "ID: 64",
          "ID: 65",
          "ID: 66",
          "ID: 67",
          "ID: 68",
          "ID: 69",
          "ID: 70",
          "ID: 71",
          "ID: 72",
          "ID: 73",
          "ID: 74",
          "ID: 75",
          "ID: 76",
          "ID: 77",
          "ID: 78",
          "ID: 79",
          "ID: 80",
          "ID: 81",
          "ID: 82",
          "ID: 83",
          "ID: 84",
          "ID: 85",
          "ID: 86",
          "ID: 87",
          "ID: 88",
          "ID: 89",
          "ID: 90",
          "ID: 91",
          "ID: 92",
          "ID: 93",
          "ID: 94",
          "ID: 95",
          "ID: 96",
          "ID: 97",
          "ID: 98",
          "ID: 99",
          "ID: 100",
          "ID: 101",
          "ID: 102",
          "ID: 103",
          "ID: 104",
          "ID: 105",
          "ID: 106",
          "ID: 107"
         ],
         "type": "scatter",
         "x": [
          481.36,
          574.27,
          469.36,
          556.27,
          513.36,
          622.27,
          467.12,
          552.91,
          455.12,
          534.91,
          499.12,
          600.91,
          467.12,
          552.91,
          455.12,
          534.91,
          499.12,
          600.91,
          454.16,
          547.0699999999999,
          442.16,
          529.0699999999999,
          486.16,
          595.0699999999999,
          439.92,
          525.71,
          427.92,
          507.71,
          471.92,
          573.71,
          439.92,
          525.71,
          427.92,
          507.71,
          471.92,
          573.71,
          441.38,
          534.29,
          429.38,
          516.29,
          473.38,
          582.29,
          427.14,
          512.9300000000001,
          415.14,
          494.93,
          459.14,
          560.9300000000001,
          427.14,
          512.9300000000001,
          415.14,
          494.93,
          459.14,
          560.9300000000001,
          429.39,
          522.3,
          417.39,
          504.3,
          461.39,
          570.3,
          415.15,
          500.94,
          403.15,
          482.94,
          447.15,
          548.94,
          415.15,
          500.94,
          403.15,
          482.94,
          447.15,
          548.94,
          515.88,
          608.79,
          503.88,
          590.79,
          547.88,
          656.79,
          501.64,
          587.43,
          489.64,
          569.43,
          533.64,
          635.43,
          501.64,
          587.43,
          489.64,
          569.43,
          533.64,
          635.43,
          441.38,
          534.29,
          429.38,
          516.29,
          473.38,
          582.29,
          427.14,
          512.9300000000001,
          415.14,
          494.93,
          459.14,
          560.9300000000001,
          427.14,
          512.9300000000001,
          415.14,
          494.93,
          459.14,
          560.9300000000001
         ],
         "xaxis": "x5",
         "y": [
          0.3279246096335133,
          0.38911665765449194,
          0.31799087943469634,
          0.37156919494722646,
          0.33478184697474184,
          0.40527897456563255,
          0.1974428603512297,
          0.25734726706681926,
          0.21178409855595287,
          0.266899338283787,
          0.16491759522400853,
          0.22871466818269626,
          0.13151952557584556,
          0.1937848996084126,
          0.15835688392660846,
          0.21820218713678718,
          0.08342338833646662,
          0.14577529061084213,
          0.41157434283359795,
          0.4993634219105951,
          0.400710469837773,
          0.4801918075442479,
          0.4182190561486845,
          0.5155291084415282,
          0.27513785071007596,
          0.358374390459507,
          0.29164129461738403,
          0.3708293822342459,
          0.2388682705124817,
          0.3246881071648056,
          0.20279539960298787,
          0.2859790566165804,
          0.23276472587478436,
          0.3145721999382846,
          0.1497672539495724,
          0.23149985526665193,
          0.4548520819193793,
          0.5461171468731731,
          0.4441802223842408,
          0.5267936669946434,
          0.46085342766870874,
          0.5620816006025537,
          0.30821133650811683,
          0.39466520041873365,
          0.32625745401056705,
          0.40837219985859663,
          0.2691121488965319,
          0.3583939151872023,
          0.23083988715461598,
          0.31743296436453283,
          0.2630194970288945,
          0.3480778743512176,
          0.17419827673828897,
          0.2593411202287978,
          0.4296184441850692,
          0.46610402790923744,
          0.19494119365371493,
          0.44702420572571167,
          0.43823124630555316,
          0.48383748431023854,
          0.27497435513982604,
          0.3132027062363442,
          0.2893671312224969,
          0.32172888205776773,
          0.23955238555298736,
          0.283315005508748,
          0.20229861319808573,
          0.24635625986851217,
          0.23140900565321554,
          0.2715257015509601,
          0.147785459277935,
          0.19395828937454657,
          0.5139685583100868,
          0.6240957770673811,
          0.5058448020758677,
          0.6215552812381703,
          0.5137550968793179,
          0.6239358106371234,
          0.3741097981170547,
          0.5209573254186783,
          0.3965891520469698,
          0.5332381681896431,
          0.33069835685291377,
          0.4760759634201318,
          0.2933860717469463,
          0.432871715090091,
          0.32858000519486735,
          0.47143496372454174,
          0.23469671535043996,
          0.3667104315033621,
          0.6459793842731799,
          0.7341606427318893,
          0.635083356859033,
          0.716883744790409,
          0.6526310436574926,
          0.7469251611768997,
          0.4889791944687769,
          0.6035801730045518,
          0.5129612562739567,
          0.6234833391241303,
          0.4389707437202779,
          0.5555631317786038,
          0.39235434406585845,
          0.5053992269369938,
          0.43328820307935045,
          0.545422712706788,
          0.32106497991816896,
          0.43133151572396433
         ],
         "yaxis": "y5"
        },
        {
         "error_y": {
          "array": [
           0.0752012432002695,
           0.1220760743885585,
           0.09166874388555535,
           0.12583332522102286,
           0.09762629489985897,
           0.11978239873879548,
           0.08726718580106896,
           0.08670541656066333
          ],
          "arrayminus": [
           0.09798949871550272,
           0.08697260224226844,
           0.06594510375248597,
           0.09364075883901246,
           0.06878688223822316,
           0.07990636912488547,
           0.06560593967104222,
           0.06286545705122959
          ],
          "symmetric": false,
          "type": "data",
          "visible": true
         },
         "hovertemplate": "<b>%{text}</b><br><br>%{xaxis.title.text}: %{x}<br>%{yaxis.title.text}: %{y}<extra></extra>",
         "marker": {
          "color": "darkblue",
          "size": 14
         },
         "mode": "markers",
         "name": "Pareto Front",
         "text": [
          "ID: 62",
          "ID: 90",
          "ID: 91",
          "ID: 92",
          "ID: 93",
          "ID: 94",
          "ID: 95",
          "ID: 98"
         ],
         "type": "scatter",
         "x": [
          403.15,
          441.38,
          534.29,
          429.38,
          516.29,
          473.38,
          582.29,
          415.14
         ],
         "xaxis": "x6",
         "y": [
          0.2893671312224969,
          0.6459793842731799,
          0.7341606427318893,
          0.635083356859033,
          0.716883744790409,
          0.6526310436574926,
          0.7469251611768997,
          0.5129612562739567
         ],
         "yaxis": "y6"
        },
        {
         "error_y": {
          "array": [
           0.11225735443988805,
           0.15947451881989905,
           0.1605523049292611,
           0.1980201710710605,
           0.0892848577940778
          ],
          "arrayminus": [
           0.1099123116843852,
           0.15302071829860298,
           0.15316215192574956,
           0.1526092687614023,
           0.07751264001751901
          ],
          "symmetric": false,
          "type": "data",
          "visible": true
         },
         "hovertemplate": "<b>%{text}</b><br><br>%{xaxis.title.text}: %{x}<br>%{yaxis.title.text}: %{y}<extra></extra>",
         "marker": {
          "color": "blue",
          "size": 14
         },
         "mode": "markers",
         "name": "Near Pareto Front",
         "text": [
          "ID: 72",
          "ID: 73",
          "ID: 75",
          "ID: 81",
          "ID: 99"
         ],
         "type": "scatter",
         "x": [
          515.88,
          608.79,
          590.79,
          569.43,
          494.93
         ],
         "xaxis": "x6",
         "y": [
          0.5139685583100868,
          0.6240957770673811,
          0.6215552812381703,
          0.5332381681896431,
          0.6234833391241303
         ],
         "yaxis": "y6"
        },
        {
         "hovertemplate": "<b>%{text}</b><br>%{yaxis.title.text}: %{y}<br>%{xaxis.title.text}: %{x}<extra></extra>",
         "marker": {
          "color": [
           14.8,
           14.8,
           14.8,
           14.8,
           14.8,
           14.8,
           14.8,
           14.8,
           14.8,
           14.8,
           14.8,
           14.8,
           14.8,
           14.8,
           14.8,
           14.8,
           14.8,
           14.8,
           22.2,
           22.2,
           22.2,
           22.2,
           22.2,
           22.2,
           22.2,
           22.2,
           22.2,
           22.2,
           22.2,
           22.2,
           22.2,
           22.2,
           22.2,
           22.2,
           22.2,
           22.2,
           22.2,
           22.2,
           22.2,
           22.2,
           22.2,
           22.2,
           22.2,
           22.2,
           22.2,
           22.2,
           22.2,
           22.2,
           22.2,
           22.2,
           22.2,
           22.2,
           22.2,
           22.2,
           11.1,
           11.1,
           11.1,
           11.1,
           11.1,
           11.1,
           11.1,
           11.1,
           11.1,
           11.1,
           11.1,
           11.1,
           11.1,
           11.1,
           11.1,
           11.1,
           11.1,
           11.1,
           44.4,
           44.4,
           44.4,
           44.4,
           44.4,
           44.4,
           44.4,
           44.4,
           44.4,
           44.4,
           44.4,
           44.4,
           44.4,
           44.4,
           44.4,
           44.4,
           44.4,
           44.4,
           29.6,
           29.6,
           29.6,
           29.6,
           29.6,
           29.6,
           29.6,
           29.6,
           29.6,
           29.6,
           29.6,
           29.6,
           29.6,
           29.6,
           29.6,
           29.6,
           29.6,
           29.6
          ],
          "colorbar": {
           "len": 0.05194805194805195,
           "y": 0.5008441558441559
          },
          "colorscale": [
           [
            0,
            "#0508b8"
           ],
           [
            0.08333333333333333,
            "#1910d8"
           ],
           [
            0.16666666666666666,
            "#3c19f0"
           ],
           [
            0.25,
            "#6b1cfb"
           ],
           [
            0.3333333333333333,
            "#981cfd"
           ],
           [
            0.4166666666666667,
            "#bf1cfd"
           ],
           [
            0.5,
            "#dd2bfd"
           ],
           [
            0.5833333333333334,
            "#f246fe"
           ],
           [
            0.6666666666666666,
            "#fc67fd"
           ],
           [
            0.75,
            "#fe88fc"
           ],
           [
            0.8333333333333334,
            "#fea5fd"
           ],
           [
            0.9166666666666666,
            "#febefe"
           ],
           [
            1,
            "#fec3fe"
           ]
          ],
          "showscale": true,
          "size": 10
         },
         "mode": "markers",
         "name": "voltage",
         "text": [
          "ID: 0",
          "ID: 1",
          "ID: 2",
          "ID: 3",
          "ID: 4",
          "ID: 5",
          "ID: 6",
          "ID: 7",
          "ID: 8",
          "ID: 9",
          "ID: 10",
          "ID: 11",
          "ID: 12",
          "ID: 13",
          "ID: 14",
          "ID: 15",
          "ID: 16",
          "ID: 17",
          "ID: 18",
          "ID: 19",
          "ID: 20",
          "ID: 21",
          "ID: 22",
          "ID: 23",
          "ID: 24",
          "ID: 25",
          "ID: 26",
          "ID: 27",
          "ID: 28",
          "ID: 29",
          "ID: 30",
          "ID: 31",
          "ID: 32",
          "ID: 33",
          "ID: 34",
          "ID: 35",
          "ID: 36",
          "ID: 37",
          "ID: 38",
          "ID: 39",
          "ID: 40",
          "ID: 41",
          "ID: 42",
          "ID: 43",
          "ID: 44",
          "ID: 45",
          "ID: 46",
          "ID: 47",
          "ID: 48",
          "ID: 49",
          "ID: 50",
          "ID: 51",
          "ID: 52",
          "ID: 53",
          "ID: 54",
          "ID: 55",
          "ID: 56",
          "ID: 57",
          "ID: 58",
          "ID: 59",
          "ID: 60",
          "ID: 61",
          "ID: 62",
          "ID: 63",
          "ID: 64",
          "ID: 65",
          "ID: 66",
          "ID: 67",
          "ID: 68",
          "ID: 69",
          "ID: 70",
          "ID: 71",
          "ID: 72",
          "ID: 73",
          "ID: 74",
          "ID: 75",
          "ID: 76",
          "ID: 77",
          "ID: 78",
          "ID: 79",
          "ID: 80",
          "ID: 81",
          "ID: 82",
          "ID: 83",
          "ID: 84",
          "ID: 85",
          "ID: 86",
          "ID: 87",
          "ID: 88",
          "ID: 89",
          "ID: 90",
          "ID: 91",
          "ID: 92",
          "ID: 93",
          "ID: 94",
          "ID: 95",
          "ID: 96",
          "ID: 97",
          "ID: 98",
          "ID: 99",
          "ID: 100",
          "ID: 101",
          "ID: 102",
          "ID: 103",
          "ID: 104",
          "ID: 105",
          "ID: 106",
          "ID: 107"
         ],
         "type": "scatter",
         "x": [
          481.36,
          574.27,
          469.36,
          556.27,
          513.36,
          622.27,
          467.12,
          552.91,
          455.12,
          534.91,
          499.12,
          600.91,
          467.12,
          552.91,
          455.12,
          534.91,
          499.12,
          600.91,
          454.16,
          547.0699999999999,
          442.16,
          529.0699999999999,
          486.16,
          595.0699999999999,
          439.92,
          525.71,
          427.92,
          507.71,
          471.92,
          573.71,
          439.92,
          525.71,
          427.92,
          507.71,
          471.92,
          573.71,
          441.38,
          534.29,
          429.38,
          516.29,
          473.38,
          582.29,
          427.14,
          512.9300000000001,
          415.14,
          494.93,
          459.14,
          560.9300000000001,
          427.14,
          512.9300000000001,
          415.14,
          494.93,
          459.14,
          560.9300000000001,
          429.39,
          522.3,
          417.39,
          504.3,
          461.39,
          570.3,
          415.15,
          500.94,
          403.15,
          482.94,
          447.15,
          548.94,
          415.15,
          500.94,
          403.15,
          482.94,
          447.15,
          548.94,
          515.88,
          608.79,
          503.88,
          590.79,
          547.88,
          656.79,
          501.64,
          587.43,
          489.64,
          569.43,
          533.64,
          635.43,
          501.64,
          587.43,
          489.64,
          569.43,
          533.64,
          635.43,
          441.38,
          534.29,
          429.38,
          516.29,
          473.38,
          582.29,
          427.14,
          512.9300000000001,
          415.14,
          494.93,
          459.14,
          560.9300000000001,
          427.14,
          512.9300000000001,
          415.14,
          494.93,
          459.14,
          560.9300000000001
         ],
         "xaxis": "x6",
         "y": [
          0.3279246096335133,
          0.38911665765449194,
          0.31799087943469634,
          0.37156919494722646,
          0.33478184697474184,
          0.40527897456563255,
          0.1974428603512297,
          0.25734726706681926,
          0.21178409855595287,
          0.266899338283787,
          0.16491759522400853,
          0.22871466818269626,
          0.13151952557584556,
          0.1937848996084126,
          0.15835688392660846,
          0.21820218713678718,
          0.08342338833646662,
          0.14577529061084213,
          0.41157434283359795,
          0.4993634219105951,
          0.400710469837773,
          0.4801918075442479,
          0.4182190561486845,
          0.5155291084415282,
          0.27513785071007596,
          0.358374390459507,
          0.29164129461738403,
          0.3708293822342459,
          0.2388682705124817,
          0.3246881071648056,
          0.20279539960298787,
          0.2859790566165804,
          0.23276472587478436,
          0.3145721999382846,
          0.1497672539495724,
          0.23149985526665193,
          0.4548520819193793,
          0.5461171468731731,
          0.4441802223842408,
          0.5267936669946434,
          0.46085342766870874,
          0.5620816006025537,
          0.30821133650811683,
          0.39466520041873365,
          0.32625745401056705,
          0.40837219985859663,
          0.2691121488965319,
          0.3583939151872023,
          0.23083988715461598,
          0.31743296436453283,
          0.2630194970288945,
          0.3480778743512176,
          0.17419827673828897,
          0.2593411202287978,
          0.4296184441850692,
          0.46610402790923744,
          0.19494119365371493,
          0.44702420572571167,
          0.43823124630555316,
          0.48383748431023854,
          0.27497435513982604,
          0.3132027062363442,
          0.2893671312224969,
          0.32172888205776773,
          0.23955238555298736,
          0.283315005508748,
          0.20229861319808573,
          0.24635625986851217,
          0.23140900565321554,
          0.2715257015509601,
          0.147785459277935,
          0.19395828937454657,
          0.5139685583100868,
          0.6240957770673811,
          0.5058448020758677,
          0.6215552812381703,
          0.5137550968793179,
          0.6239358106371234,
          0.3741097981170547,
          0.5209573254186783,
          0.3965891520469698,
          0.5332381681896431,
          0.33069835685291377,
          0.4760759634201318,
          0.2933860717469463,
          0.432871715090091,
          0.32858000519486735,
          0.47143496372454174,
          0.23469671535043996,
          0.3667104315033621,
          0.6459793842731799,
          0.7341606427318893,
          0.635083356859033,
          0.716883744790409,
          0.6526310436574926,
          0.7469251611768997,
          0.4889791944687769,
          0.6035801730045518,
          0.5129612562739567,
          0.6234833391241303,
          0.4389707437202779,
          0.5555631317786038,
          0.39235434406585845,
          0.5053992269369938,
          0.43328820307935045,
          0.545422712706788,
          0.32106497991816896,
          0.43133151572396433
         ],
         "yaxis": "y6"
        },
        {
         "error_y": {
          "array": [
           0.0752012432002695,
           0.1220760743885585,
           0.09166874388555535,
           0.12583332522102286,
           0.09762629489985897,
           0.11978239873879548,
           0.08726718580106896,
           0.08670541656066333
          ],
          "arrayminus": [
           0.09798949871550272,
           0.08697260224226844,
           0.06594510375248597,
           0.09364075883901246,
           0.06878688223822316,
           0.07990636912488547,
           0.06560593967104222,
           0.06286545705122959
          ],
          "symmetric": false,
          "type": "data",
          "visible": true
         },
         "hovertemplate": "<b>%{text}</b><br><br>%{xaxis.title.text}: %{x}<br>%{yaxis.title.text}: %{y}<extra></extra>",
         "marker": {
          "color": "darkblue",
          "size": 14
         },
         "mode": "markers",
         "name": "Pareto Front",
         "text": [
          "ID: 62",
          "ID: 90",
          "ID: 91",
          "ID: 92",
          "ID: 93",
          "ID: 94",
          "ID: 95",
          "ID: 98"
         ],
         "type": "scatter",
         "x": [
          403.15,
          441.38,
          534.29,
          429.38,
          516.29,
          473.38,
          582.29,
          415.14
         ],
         "xaxis": "x7",
         "y": [
          0.2893671312224969,
          0.6459793842731799,
          0.7341606427318893,
          0.635083356859033,
          0.716883744790409,
          0.6526310436574926,
          0.7469251611768997,
          0.5129612562739567
         ],
         "yaxis": "y7"
        },
        {
         "error_y": {
          "array": [
           0.11225735443988805,
           0.15947451881989905,
           0.1605523049292611,
           0.1980201710710605,
           0.0892848577940778
          ],
          "arrayminus": [
           0.1099123116843852,
           0.15302071829860298,
           0.15316215192574956,
           0.1526092687614023,
           0.07751264001751901
          ],
          "symmetric": false,
          "type": "data",
          "visible": true
         },
         "hovertemplate": "<b>%{text}</b><br><br>%{xaxis.title.text}: %{x}<br>%{yaxis.title.text}: %{y}<extra></extra>",
         "marker": {
          "color": "blue",
          "size": 14
         },
         "mode": "markers",
         "name": "Near Pareto Front",
         "text": [
          "ID: 72",
          "ID: 73",
          "ID: 75",
          "ID: 81",
          "ID: 99"
         ],
         "type": "scatter",
         "x": [
          515.88,
          608.79,
          590.79,
          569.43,
          494.93
         ],
         "xaxis": "x7",
         "y": [
          0.5139685583100868,
          0.6240957770673811,
          0.6215552812381703,
          0.5332381681896431,
          0.6234833391241303
         ],
         "yaxis": "y7"
        },
        {
         "hovertemplate": "<b>%{text}</b><br>%{yaxis.title.text}: %{y}<br>%{xaxis.title.text}: %{x}<extra></extra>",
         "marker": {
          "color": [
           6000,
           6000,
           6000,
           6000,
           6000,
           6000,
           6000,
           6000,
           6000,
           6000,
           6000,
           6000,
           6000,
           6000,
           6000,
           6000,
           6000,
           6000,
           4600,
           4600,
           4600,
           4600,
           4600,
           4600,
           4600,
           4600,
           4600,
           4600,
           4600,
           4600,
           4600,
           4600,
           4600,
           4600,
           4600,
           4600,
           5000,
           5000,
           5000,
           5000,
           5000,
           5000,
           5000,
           5000,
           5000,
           5000,
           5000,
           5000,
           5000,
           5000,
           5000,
           5000,
           5000,
           5000,
           8000,
           8000,
           8000,
           8000,
           8000,
           8000,
           8000,
           8000,
           8000,
           8000,
           8000,
           8000,
           8000,
           8000,
           8000,
           8000,
           8000,
           8000,
           2600,
           2600,
           2600,
           2600,
           2600,
           2600,
           2600,
           2600,
           2600,
           2600,
           2600,
           2600,
           2600,
           2600,
           2600,
           2600,
           2600,
           2600,
           5000,
           5000,
           5000,
           5000,
           5000,
           5000,
           5000,
           5000,
           5000,
           5000,
           5000,
           5000,
           5000,
           5000,
           5000,
           5000,
           5000,
           5000
          ],
          "colorbar": {
           "len": 0.05194805194805195,
           "y": 0.40620779220779224
          },
          "colorscale": [
           [
            0,
            "#0508b8"
           ],
           [
            0.08333333333333333,
            "#1910d8"
           ],
           [
            0.16666666666666666,
            "#3c19f0"
           ],
           [
            0.25,
            "#6b1cfb"
           ],
           [
            0.3333333333333333,
            "#981cfd"
           ],
           [
            0.4166666666666667,
            "#bf1cfd"
           ],
           [
            0.5,
            "#dd2bfd"
           ],
           [
            0.5833333333333334,
            "#f246fe"
           ],
           [
            0.6666666666666666,
            "#fc67fd"
           ],
           [
            0.75,
            "#fe88fc"
           ],
           [
            0.8333333333333334,
            "#fea5fd"
           ],
           [
            0.9166666666666666,
            "#febefe"
           ],
           [
            1,
            "#fec3fe"
           ]
          ],
          "showscale": true,
          "size": 10
         },
         "mode": "markers",
         "name": "capacity",
         "text": [
          "ID: 0",
          "ID: 1",
          "ID: 2",
          "ID: 3",
          "ID: 4",
          "ID: 5",
          "ID: 6",
          "ID: 7",
          "ID: 8",
          "ID: 9",
          "ID: 10",
          "ID: 11",
          "ID: 12",
          "ID: 13",
          "ID: 14",
          "ID: 15",
          "ID: 16",
          "ID: 17",
          "ID: 18",
          "ID: 19",
          "ID: 20",
          "ID: 21",
          "ID: 22",
          "ID: 23",
          "ID: 24",
          "ID: 25",
          "ID: 26",
          "ID: 27",
          "ID: 28",
          "ID: 29",
          "ID: 30",
          "ID: 31",
          "ID: 32",
          "ID: 33",
          "ID: 34",
          "ID: 35",
          "ID: 36",
          "ID: 37",
          "ID: 38",
          "ID: 39",
          "ID: 40",
          "ID: 41",
          "ID: 42",
          "ID: 43",
          "ID: 44",
          "ID: 45",
          "ID: 46",
          "ID: 47",
          "ID: 48",
          "ID: 49",
          "ID: 50",
          "ID: 51",
          "ID: 52",
          "ID: 53",
          "ID: 54",
          "ID: 55",
          "ID: 56",
          "ID: 57",
          "ID: 58",
          "ID: 59",
          "ID: 60",
          "ID: 61",
          "ID: 62",
          "ID: 63",
          "ID: 64",
          "ID: 65",
          "ID: 66",
          "ID: 67",
          "ID: 68",
          "ID: 69",
          "ID: 70",
          "ID: 71",
          "ID: 72",
          "ID: 73",
          "ID: 74",
          "ID: 75",
          "ID: 76",
          "ID: 77",
          "ID: 78",
          "ID: 79",
          "ID: 80",
          "ID: 81",
          "ID: 82",
          "ID: 83",
          "ID: 84",
          "ID: 85",
          "ID: 86",
          "ID: 87",
          "ID: 88",
          "ID: 89",
          "ID: 90",
          "ID: 91",
          "ID: 92",
          "ID: 93",
          "ID: 94",
          "ID: 95",
          "ID: 96",
          "ID: 97",
          "ID: 98",
          "ID: 99",
          "ID: 100",
          "ID: 101",
          "ID: 102",
          "ID: 103",
          "ID: 104",
          "ID: 105",
          "ID: 106",
          "ID: 107"
         ],
         "type": "scatter",
         "x": [
          481.36,
          574.27,
          469.36,
          556.27,
          513.36,
          622.27,
          467.12,
          552.91,
          455.12,
          534.91,
          499.12,
          600.91,
          467.12,
          552.91,
          455.12,
          534.91,
          499.12,
          600.91,
          454.16,
          547.0699999999999,
          442.16,
          529.0699999999999,
          486.16,
          595.0699999999999,
          439.92,
          525.71,
          427.92,
          507.71,
          471.92,
          573.71,
          439.92,
          525.71,
          427.92,
          507.71,
          471.92,
          573.71,
          441.38,
          534.29,
          429.38,
          516.29,
          473.38,
          582.29,
          427.14,
          512.9300000000001,
          415.14,
          494.93,
          459.14,
          560.9300000000001,
          427.14,
          512.9300000000001,
          415.14,
          494.93,
          459.14,
          560.9300000000001,
          429.39,
          522.3,
          417.39,
          504.3,
          461.39,
          570.3,
          415.15,
          500.94,
          403.15,
          482.94,
          447.15,
          548.94,
          415.15,
          500.94,
          403.15,
          482.94,
          447.15,
          548.94,
          515.88,
          608.79,
          503.88,
          590.79,
          547.88,
          656.79,
          501.64,
          587.43,
          489.64,
          569.43,
          533.64,
          635.43,
          501.64,
          587.43,
          489.64,
          569.43,
          533.64,
          635.43,
          441.38,
          534.29,
          429.38,
          516.29,
          473.38,
          582.29,
          427.14,
          512.9300000000001,
          415.14,
          494.93,
          459.14,
          560.9300000000001,
          427.14,
          512.9300000000001,
          415.14,
          494.93,
          459.14,
          560.9300000000001
         ],
         "xaxis": "x7",
         "y": [
          0.3279246096335133,
          0.38911665765449194,
          0.31799087943469634,
          0.37156919494722646,
          0.33478184697474184,
          0.40527897456563255,
          0.1974428603512297,
          0.25734726706681926,
          0.21178409855595287,
          0.266899338283787,
          0.16491759522400853,
          0.22871466818269626,
          0.13151952557584556,
          0.1937848996084126,
          0.15835688392660846,
          0.21820218713678718,
          0.08342338833646662,
          0.14577529061084213,
          0.41157434283359795,
          0.4993634219105951,
          0.400710469837773,
          0.4801918075442479,
          0.4182190561486845,
          0.5155291084415282,
          0.27513785071007596,
          0.358374390459507,
          0.29164129461738403,
          0.3708293822342459,
          0.2388682705124817,
          0.3246881071648056,
          0.20279539960298787,
          0.2859790566165804,
          0.23276472587478436,
          0.3145721999382846,
          0.1497672539495724,
          0.23149985526665193,
          0.4548520819193793,
          0.5461171468731731,
          0.4441802223842408,
          0.5267936669946434,
          0.46085342766870874,
          0.5620816006025537,
          0.30821133650811683,
          0.39466520041873365,
          0.32625745401056705,
          0.40837219985859663,
          0.2691121488965319,
          0.3583939151872023,
          0.23083988715461598,
          0.31743296436453283,
          0.2630194970288945,
          0.3480778743512176,
          0.17419827673828897,
          0.2593411202287978,
          0.4296184441850692,
          0.46610402790923744,
          0.19494119365371493,
          0.44702420572571167,
          0.43823124630555316,
          0.48383748431023854,
          0.27497435513982604,
          0.3132027062363442,
          0.2893671312224969,
          0.32172888205776773,
          0.23955238555298736,
          0.283315005508748,
          0.20229861319808573,
          0.24635625986851217,
          0.23140900565321554,
          0.2715257015509601,
          0.147785459277935,
          0.19395828937454657,
          0.5139685583100868,
          0.6240957770673811,
          0.5058448020758677,
          0.6215552812381703,
          0.5137550968793179,
          0.6239358106371234,
          0.3741097981170547,
          0.5209573254186783,
          0.3965891520469698,
          0.5332381681896431,
          0.33069835685291377,
          0.4760759634201318,
          0.2933860717469463,
          0.432871715090091,
          0.32858000519486735,
          0.47143496372454174,
          0.23469671535043996,
          0.3667104315033621,
          0.6459793842731799,
          0.7341606427318893,
          0.635083356859033,
          0.716883744790409,
          0.6526310436574926,
          0.7469251611768997,
          0.4889791944687769,
          0.6035801730045518,
          0.5129612562739567,
          0.6234833391241303,
          0.4389707437202779,
          0.5555631317786038,
          0.39235434406585845,
          0.5053992269369938,
          0.43328820307935045,
          0.545422712706788,
          0.32106497991816896,
          0.43133151572396433
         ],
         "yaxis": "y7"
        },
        {
         "error_y": {
          "array": [
           0.0752012432002695,
           0.1220760743885585,
           0.09166874388555535,
           0.12583332522102286,
           0.09762629489985897,
           0.11978239873879548,
           0.08726718580106896,
           0.08670541656066333
          ],
          "arrayminus": [
           0.09798949871550272,
           0.08697260224226844,
           0.06594510375248597,
           0.09364075883901246,
           0.06878688223822316,
           0.07990636912488547,
           0.06560593967104222,
           0.06286545705122959
          ],
          "symmetric": false,
          "type": "data",
          "visible": true
         },
         "hovertemplate": "<b>%{text}</b><br><br>%{xaxis.title.text}: %{x}<br>%{yaxis.title.text}: %{y}<extra></extra>",
         "marker": {
          "color": "darkblue",
          "size": 14
         },
         "mode": "markers",
         "name": "Pareto Front",
         "text": [
          "ID: 62",
          "ID: 90",
          "ID: 91",
          "ID: 92",
          "ID: 93",
          "ID: 94",
          "ID: 95",
          "ID: 98"
         ],
         "type": "scatter",
         "x": [
          403.15,
          441.38,
          534.29,
          429.38,
          516.29,
          473.38,
          582.29,
          415.14
         ],
         "xaxis": "x8",
         "y": [
          0.2893671312224969,
          0.6459793842731799,
          0.7341606427318893,
          0.635083356859033,
          0.716883744790409,
          0.6526310436574926,
          0.7469251611768997,
          0.5129612562739567
         ],
         "yaxis": "y8"
        },
        {
         "error_y": {
          "array": [
           0.11225735443988805,
           0.15947451881989905,
           0.1605523049292611,
           0.1980201710710605,
           0.0892848577940778
          ],
          "arrayminus": [
           0.1099123116843852,
           0.15302071829860298,
           0.15316215192574956,
           0.1526092687614023,
           0.07751264001751901
          ],
          "symmetric": false,
          "type": "data",
          "visible": true
         },
         "hovertemplate": "<b>%{text}</b><br><br>%{xaxis.title.text}: %{x}<br>%{yaxis.title.text}: %{y}<extra></extra>",
         "marker": {
          "color": "blue",
          "size": 14
         },
         "mode": "markers",
         "name": "Near Pareto Front",
         "text": [
          "ID: 72",
          "ID: 73",
          "ID: 75",
          "ID: 81",
          "ID: 99"
         ],
         "type": "scatter",
         "x": [
          515.88,
          608.79,
          590.79,
          569.43,
          494.93
         ],
         "xaxis": "x8",
         "y": [
          0.5139685583100868,
          0.6240957770673811,
          0.6215552812381703,
          0.5332381681896431,
          0.6234833391241303
         ],
         "yaxis": "y8"
        },
        {
         "hovertemplate": "<b>%{text}</b><br>%{yaxis.title.text}: %{y}<br>%{xaxis.title.text}: %{x}<extra></extra>",
         "marker": {
          "color": [
           7475.599555937627,
           8027.750691931928,
           7468.581382980759,
           7963.301171803134,
           7431.262163925041,
           8058.291080515461,
           5730.1472304675135,
           6205.509015034349,
           5950.389763997984,
           6378.382303630754,
           5305.321889887239,
           5822.8239437401035,
           4925.764846324326,
           5432.527084777837,
           5266.713015337659,
           5746.403563467425,
           4349.744203787916,
           4860.870069951336,
           7865.712904453087,
           8461.46947225642,
           7862.890409376679,
           8401.611409953288,
           7818.810581168064,
           8490.347718971827,
           6117.065577177975,
           6635.0943801599315,
           6343.780775155054,
           6813.908210421196,
           5682.218559585618,
           6244.2002832966555,
           5291.024500856689,
           5840.737069069327,
           5643.034405454478,
           6164.741119227762,
           4695.084232676722,
           5250.912561322508,
           8457.634482312536,
           9114.210000293771,
           8457.77703192303,
           9052.416877563928,
           8402.228133716435,
           9141.197303170495,
           6567.075882495031,
           7138.54280121716,
           6815.137347358108,
           7335.082224282433,
           6093.984947743397,
           6712.328195419908,
           5671.949778837681,
           6276.001789259247,
           6054.146839052299,
           6628.635174694439,
           5027.414449075568,
           5636.839387002808,
           8826.927944924775,
           9285.503264675686,
           8782.300949603945,
           9177.608853003387,
           8824.078375644747,
           9362.7707288393,
           6788.45789520516,
           7177.818322670956,
           7009.824458070221,
           7342.272821486958,
           6330.585843976465,
           6773.991014604414,
           5890.890496201025,
           6334.605633424671,
           6262.506413793413,
           6668.248080566883,
           5237.797180402131,
           5698.350662112658,
           7037.379503301563,
           7616.789412082625,
           7049.035647904277,
           7583.006657959491,
           6985.16860079179,
           7627.897257673417,
           5621.163640818019,
           6139.213063327687,
           5821.451031439783,
           6300.293143406622,
           5246.905476084875,
           5803.440356651031,
           4912.685314369608,
           5455.388779554432,
           5219.688049942917,
           5738.75005248598,
           4395.542611189824,
           4945.838130994427,
           10531.173350026083,
           11343.615011952686,
           10532.584848670469,
           11272.47266069352,
           10467.70596234915,
           11378.159410544657,
           8288.745205034249,
           9001.63402113549,
           8586.441785799285,
           9237.416261442535,
           7720.877934396937,
           8492.247051050581,
           7207.293856656695,
           7961.281567834373,
           7670.302345765525,
           8387.29665057099,
           6422.31727470267,
           7186.482105961616
          ],
          "colorbar": {
           "len": 0.05194805194805195,
           "y": 0.3115714285714286
          },
          "colorscale": [
           [
            0,
            "#0508b8"
           ],
           [
            0.08333333333333333,
            "#1910d8"
           ],
           [
            0.16666666666666666,
            "#3c19f0"
           ],
           [
            0.25,
            "#6b1cfb"
           ],
           [
            0.3333333333333333,
            "#981cfd"
           ],
           [
            0.4166666666666667,
            "#bf1cfd"
           ],
           [
            0.5,
            "#dd2bfd"
           ],
           [
            0.5833333333333334,
            "#f246fe"
           ],
           [
            0.6666666666666666,
            "#fc67fd"
           ],
           [
            0.75,
            "#fe88fc"
           ],
           [
            0.8333333333333334,
            "#fea5fd"
           ],
           [
            0.9166666666666666,
            "#febefe"
           ],
           [
            1,
            "#fec3fe"
           ]
          ],
          "showscale": true,
          "size": 10
         },
         "mode": "markers",
         "name": "max_flight_distance",
         "text": [
          "ID: 0",
          "ID: 1",
          "ID: 2",
          "ID: 3",
          "ID: 4",
          "ID: 5",
          "ID: 6",
          "ID: 7",
          "ID: 8",
          "ID: 9",
          "ID: 10",
          "ID: 11",
          "ID: 12",
          "ID: 13",
          "ID: 14",
          "ID: 15",
          "ID: 16",
          "ID: 17",
          "ID: 18",
          "ID: 19",
          "ID: 20",
          "ID: 21",
          "ID: 22",
          "ID: 23",
          "ID: 24",
          "ID: 25",
          "ID: 26",
          "ID: 27",
          "ID: 28",
          "ID: 29",
          "ID: 30",
          "ID: 31",
          "ID: 32",
          "ID: 33",
          "ID: 34",
          "ID: 35",
          "ID: 36",
          "ID: 37",
          "ID: 38",
          "ID: 39",
          "ID: 40",
          "ID: 41",
          "ID: 42",
          "ID: 43",
          "ID: 44",
          "ID: 45",
          "ID: 46",
          "ID: 47",
          "ID: 48",
          "ID: 49",
          "ID: 50",
          "ID: 51",
          "ID: 52",
          "ID: 53",
          "ID: 54",
          "ID: 55",
          "ID: 56",
          "ID: 57",
          "ID: 58",
          "ID: 59",
          "ID: 60",
          "ID: 61",
          "ID: 62",
          "ID: 63",
          "ID: 64",
          "ID: 65",
          "ID: 66",
          "ID: 67",
          "ID: 68",
          "ID: 69",
          "ID: 70",
          "ID: 71",
          "ID: 72",
          "ID: 73",
          "ID: 74",
          "ID: 75",
          "ID: 76",
          "ID: 77",
          "ID: 78",
          "ID: 79",
          "ID: 80",
          "ID: 81",
          "ID: 82",
          "ID: 83",
          "ID: 84",
          "ID: 85",
          "ID: 86",
          "ID: 87",
          "ID: 88",
          "ID: 89",
          "ID: 90",
          "ID: 91",
          "ID: 92",
          "ID: 93",
          "ID: 94",
          "ID: 95",
          "ID: 96",
          "ID: 97",
          "ID: 98",
          "ID: 99",
          "ID: 100",
          "ID: 101",
          "ID: 102",
          "ID: 103",
          "ID: 104",
          "ID: 105",
          "ID: 106",
          "ID: 107"
         ],
         "type": "scatter",
         "x": [
          481.36,
          574.27,
          469.36,
          556.27,
          513.36,
          622.27,
          467.12,
          552.91,
          455.12,
          534.91,
          499.12,
          600.91,
          467.12,
          552.91,
          455.12,
          534.91,
          499.12,
          600.91,
          454.16,
          547.0699999999999,
          442.16,
          529.0699999999999,
          486.16,
          595.0699999999999,
          439.92,
          525.71,
          427.92,
          507.71,
          471.92,
          573.71,
          439.92,
          525.71,
          427.92,
          507.71,
          471.92,
          573.71,
          441.38,
          534.29,
          429.38,
          516.29,
          473.38,
          582.29,
          427.14,
          512.9300000000001,
          415.14,
          494.93,
          459.14,
          560.9300000000001,
          427.14,
          512.9300000000001,
          415.14,
          494.93,
          459.14,
          560.9300000000001,
          429.39,
          522.3,
          417.39,
          504.3,
          461.39,
          570.3,
          415.15,
          500.94,
          403.15,
          482.94,
          447.15,
          548.94,
          415.15,
          500.94,
          403.15,
          482.94,
          447.15,
          548.94,
          515.88,
          608.79,
          503.88,
          590.79,
          547.88,
          656.79,
          501.64,
          587.43,
          489.64,
          569.43,
          533.64,
          635.43,
          501.64,
          587.43,
          489.64,
          569.43,
          533.64,
          635.43,
          441.38,
          534.29,
          429.38,
          516.29,
          473.38,
          582.29,
          427.14,
          512.9300000000001,
          415.14,
          494.93,
          459.14,
          560.9300000000001,
          427.14,
          512.9300000000001,
          415.14,
          494.93,
          459.14,
          560.9300000000001
         ],
         "xaxis": "x8",
         "y": [
          0.3279246096335133,
          0.38911665765449194,
          0.31799087943469634,
          0.37156919494722646,
          0.33478184697474184,
          0.40527897456563255,
          0.1974428603512297,
          0.25734726706681926,
          0.21178409855595287,
          0.266899338283787,
          0.16491759522400853,
          0.22871466818269626,
          0.13151952557584556,
          0.1937848996084126,
          0.15835688392660846,
          0.21820218713678718,
          0.08342338833646662,
          0.14577529061084213,
          0.41157434283359795,
          0.4993634219105951,
          0.400710469837773,
          0.4801918075442479,
          0.4182190561486845,
          0.5155291084415282,
          0.27513785071007596,
          0.358374390459507,
          0.29164129461738403,
          0.3708293822342459,
          0.2388682705124817,
          0.3246881071648056,
          0.20279539960298787,
          0.2859790566165804,
          0.23276472587478436,
          0.3145721999382846,
          0.1497672539495724,
          0.23149985526665193,
          0.4548520819193793,
          0.5461171468731731,
          0.4441802223842408,
          0.5267936669946434,
          0.46085342766870874,
          0.5620816006025537,
          0.30821133650811683,
          0.39466520041873365,
          0.32625745401056705,
          0.40837219985859663,
          0.2691121488965319,
          0.3583939151872023,
          0.23083988715461598,
          0.31743296436453283,
          0.2630194970288945,
          0.3480778743512176,
          0.17419827673828897,
          0.2593411202287978,
          0.4296184441850692,
          0.46610402790923744,
          0.19494119365371493,
          0.44702420572571167,
          0.43823124630555316,
          0.48383748431023854,
          0.27497435513982604,
          0.3132027062363442,
          0.2893671312224969,
          0.32172888205776773,
          0.23955238555298736,
          0.283315005508748,
          0.20229861319808573,
          0.24635625986851217,
          0.23140900565321554,
          0.2715257015509601,
          0.147785459277935,
          0.19395828937454657,
          0.5139685583100868,
          0.6240957770673811,
          0.5058448020758677,
          0.6215552812381703,
          0.5137550968793179,
          0.6239358106371234,
          0.3741097981170547,
          0.5209573254186783,
          0.3965891520469698,
          0.5332381681896431,
          0.33069835685291377,
          0.4760759634201318,
          0.2933860717469463,
          0.432871715090091,
          0.32858000519486735,
          0.47143496372454174,
          0.23469671535043996,
          0.3667104315033621,
          0.6459793842731799,
          0.7341606427318893,
          0.635083356859033,
          0.716883744790409,
          0.6526310436574926,
          0.7469251611768997,
          0.4889791944687769,
          0.6035801730045518,
          0.5129612562739567,
          0.6234833391241303,
          0.4389707437202779,
          0.5555631317786038,
          0.39235434406585845,
          0.5053992269369938,
          0.43328820307935045,
          0.545422712706788,
          0.32106497991816896,
          0.43133151572396433
         ],
         "yaxis": "y8"
        },
        {
         "error_y": {
          "array": [
           0.0752012432002695,
           0.1220760743885585,
           0.09166874388555535,
           0.12583332522102286,
           0.09762629489985897,
           0.11978239873879548,
           0.08726718580106896,
           0.08670541656066333
          ],
          "arrayminus": [
           0.09798949871550272,
           0.08697260224226844,
           0.06594510375248597,
           0.09364075883901246,
           0.06878688223822316,
           0.07990636912488547,
           0.06560593967104222,
           0.06286545705122959
          ],
          "symmetric": false,
          "type": "data",
          "visible": true
         },
         "hovertemplate": "<b>%{text}</b><br><br>%{xaxis.title.text}: %{x}<br>%{yaxis.title.text}: %{y}<extra></extra>",
         "marker": {
          "color": "darkblue",
          "size": 14
         },
         "mode": "markers",
         "name": "Pareto Front",
         "text": [
          "ID: 62",
          "ID: 90",
          "ID: 91",
          "ID: 92",
          "ID: 93",
          "ID: 94",
          "ID: 95",
          "ID: 98"
         ],
         "type": "scatter",
         "x": [
          403.15,
          441.38,
          534.29,
          429.38,
          516.29,
          473.38,
          582.29,
          415.14
         ],
         "xaxis": "x9",
         "y": [
          0.2893671312224969,
          0.6459793842731799,
          0.7341606427318893,
          0.635083356859033,
          0.716883744790409,
          0.6526310436574926,
          0.7469251611768997,
          0.5129612562739567
         ],
         "yaxis": "y9"
        },
        {
         "error_y": {
          "array": [
           0.11225735443988805,
           0.15947451881989905,
           0.1605523049292611,
           0.1980201710710605,
           0.0892848577940778
          ],
          "arrayminus": [
           0.1099123116843852,
           0.15302071829860298,
           0.15316215192574956,
           0.1526092687614023,
           0.07751264001751901
          ],
          "symmetric": false,
          "type": "data",
          "visible": true
         },
         "hovertemplate": "<b>%{text}</b><br><br>%{xaxis.title.text}: %{x}<br>%{yaxis.title.text}: %{y}<extra></extra>",
         "marker": {
          "color": "blue",
          "size": 14
         },
         "mode": "markers",
         "name": "Near Pareto Front",
         "text": [
          "ID: 72",
          "ID: 73",
          "ID: 75",
          "ID: 81",
          "ID: 99"
         ],
         "type": "scatter",
         "x": [
          515.88,
          608.79,
          590.79,
          569.43,
          494.93
         ],
         "xaxis": "x9",
         "y": [
          0.5139685583100868,
          0.6240957770673811,
          0.6215552812381703,
          0.5332381681896431,
          0.6234833391241303
         ],
         "yaxis": "y9"
        },
        {
         "hovertemplate": "<b>%{text}</b><br>%{yaxis.title.text}: %{y}<br>%{xaxis.title.text}: %{x}<extra></extra>",
         "marker": {
          "color": [
           15.954833754330496,
           19.80642765117283,
           14.911787492248305,
           18.563363950303145,
           17.161510005888484,
           21.251074053459078,
           15.982464230978849,
           19.83571070096315,
           15.727507428551066,
           19.530863338716895,
           16.07912006670147,
           19.95390356644955,
           15.433567286842804,
           19.181499597275415,
           15.509237126319045,
           19.270790746399193,
           15.12247682347951,
           18.813991758169305,
           21.754110090845803,
           26.781777744534107,
           20.817373243898345,
           25.649435697753262,
           22.717704366209237,
           27.949850152336964,
           21.095803158089875,
           25.983262219865512,
           21.060426101505204,
           25.939852109726278,
           20.870404414717722,
           25.71345146884245,
           20.135609367810787,
           24.824558060938287,
           20.439879810630195,
           25.190777358197668,
           19.512390056098237,
           24.076363553701757,
           21.74595688953743,
           26.776436203218836,
           20.80836413132683,
           25.64350624675295,
           22.71026167642383,
           27.944971911734257,
           21.087180570481994,
           25.97763549332605,
           21.051801815591173,
           25.93423370284575,
           20.861448333230747,
           25.707559207840188,
           20.12600380582335,
           24.81824416684897,
           20.430632324167412,
           25.184725238805957,
           19.50195915086616,
           24.06942478828537,
           12.62148538105707,
           15.760118631220655,
           11.56293593368121,
           14.50297667327181,
           13.924736510119638,
           17.313607040933288,
           13.00354916179524,
           16.211084530924303,
           12.633223387853961,
           15.770392178526073,
           13.282193481599972,
           16.545031185466176,
           12.69870862291763,
           15.848868333767307,
           12.641982314748464,
           15.780793076787328,
           12.575779874949854,
           15.705186139752247,
           34.81680372296326,
           42.68845671211627,
           34.280258450950924,
           42.03315553050297,
           35.07258154650778,
           43.00160387149568,
           32.341908200861866,
           39.666708182321926,
           32.86260214032,
           40.30169812987667,
           31.335147295708122,
           38.43994484709137,
           30.38854244628904,
           37.284879115138395,
           31.242584329624812,
           38.32564021712206,
           29.025890033792578,
           35.62621602279161,
           26.621288885073813,
           32.689579791727574,
           25.809540636160804,
           31.70221899730189,
           27.344085244816426,
           33.570358242308664,
           25.321664259455503,
           31.1077259096469,
           25.48497143382552,
           31.305654608439887,
           24.81282484646828,
           30.49150497972962,
           23.99993096817186,
           29.50319202987955,
           24.504219649103522,
           30.114561052426275,
           23.10635914904463,
           28.421979584636905
          ],
          "colorbar": {
           "len": 0.05194805194805195,
           "y": 0.21693506493506498
          },
          "colorscale": [
           [
            0,
            "#0508b8"
           ],
           [
            0.08333333333333333,
            "#1910d8"
           ],
           [
            0.16666666666666666,
            "#3c19f0"
           ],
           [
            0.25,
            "#6b1cfb"
           ],
           [
            0.3333333333333333,
            "#981cfd"
           ],
           [
            0.4166666666666667,
            "#bf1cfd"
           ],
           [
            0.5,
            "#dd2bfd"
           ],
           [
            0.5833333333333334,
            "#f246fe"
           ],
           [
            0.6666666666666666,
            "#fc67fd"
           ],
           [
            0.75,
            "#fe88fc"
           ],
           [
            0.8333333333333334,
            "#fea5fd"
           ],
           [
            0.9166666666666666,
            "#febefe"
           ],
           [
            1,
            "#fec3fe"
           ]
          ],
          "showscale": true,
          "size": 10
         },
         "mode": "markers",
         "name": "max_speed",
         "text": [
          "ID: 0",
          "ID: 1",
          "ID: 2",
          "ID: 3",
          "ID: 4",
          "ID: 5",
          "ID: 6",
          "ID: 7",
          "ID: 8",
          "ID: 9",
          "ID: 10",
          "ID: 11",
          "ID: 12",
          "ID: 13",
          "ID: 14",
          "ID: 15",
          "ID: 16",
          "ID: 17",
          "ID: 18",
          "ID: 19",
          "ID: 20",
          "ID: 21",
          "ID: 22",
          "ID: 23",
          "ID: 24",
          "ID: 25",
          "ID: 26",
          "ID: 27",
          "ID: 28",
          "ID: 29",
          "ID: 30",
          "ID: 31",
          "ID: 32",
          "ID: 33",
          "ID: 34",
          "ID: 35",
          "ID: 36",
          "ID: 37",
          "ID: 38",
          "ID: 39",
          "ID: 40",
          "ID: 41",
          "ID: 42",
          "ID: 43",
          "ID: 44",
          "ID: 45",
          "ID: 46",
          "ID: 47",
          "ID: 48",
          "ID: 49",
          "ID: 50",
          "ID: 51",
          "ID: 52",
          "ID: 53",
          "ID: 54",
          "ID: 55",
          "ID: 56",
          "ID: 57",
          "ID: 58",
          "ID: 59",
          "ID: 60",
          "ID: 61",
          "ID: 62",
          "ID: 63",
          "ID: 64",
          "ID: 65",
          "ID: 66",
          "ID: 67",
          "ID: 68",
          "ID: 69",
          "ID: 70",
          "ID: 71",
          "ID: 72",
          "ID: 73",
          "ID: 74",
          "ID: 75",
          "ID: 76",
          "ID: 77",
          "ID: 78",
          "ID: 79",
          "ID: 80",
          "ID: 81",
          "ID: 82",
          "ID: 83",
          "ID: 84",
          "ID: 85",
          "ID: 86",
          "ID: 87",
          "ID: 88",
          "ID: 89",
          "ID: 90",
          "ID: 91",
          "ID: 92",
          "ID: 93",
          "ID: 94",
          "ID: 95",
          "ID: 96",
          "ID: 97",
          "ID: 98",
          "ID: 99",
          "ID: 100",
          "ID: 101",
          "ID: 102",
          "ID: 103",
          "ID: 104",
          "ID: 105",
          "ID: 106",
          "ID: 107"
         ],
         "type": "scatter",
         "x": [
          481.36,
          574.27,
          469.36,
          556.27,
          513.36,
          622.27,
          467.12,
          552.91,
          455.12,
          534.91,
          499.12,
          600.91,
          467.12,
          552.91,
          455.12,
          534.91,
          499.12,
          600.91,
          454.16,
          547.0699999999999,
          442.16,
          529.0699999999999,
          486.16,
          595.0699999999999,
          439.92,
          525.71,
          427.92,
          507.71,
          471.92,
          573.71,
          439.92,
          525.71,
          427.92,
          507.71,
          471.92,
          573.71,
          441.38,
          534.29,
          429.38,
          516.29,
          473.38,
          582.29,
          427.14,
          512.9300000000001,
          415.14,
          494.93,
          459.14,
          560.9300000000001,
          427.14,
          512.9300000000001,
          415.14,
          494.93,
          459.14,
          560.9300000000001,
          429.39,
          522.3,
          417.39,
          504.3,
          461.39,
          570.3,
          415.15,
          500.94,
          403.15,
          482.94,
          447.15,
          548.94,
          415.15,
          500.94,
          403.15,
          482.94,
          447.15,
          548.94,
          515.88,
          608.79,
          503.88,
          590.79,
          547.88,
          656.79,
          501.64,
          587.43,
          489.64,
          569.43,
          533.64,
          635.43,
          501.64,
          587.43,
          489.64,
          569.43,
          533.64,
          635.43,
          441.38,
          534.29,
          429.38,
          516.29,
          473.38,
          582.29,
          427.14,
          512.9300000000001,
          415.14,
          494.93,
          459.14,
          560.9300000000001,
          427.14,
          512.9300000000001,
          415.14,
          494.93,
          459.14,
          560.9300000000001
         ],
         "xaxis": "x9",
         "y": [
          0.3279246096335133,
          0.38911665765449194,
          0.31799087943469634,
          0.37156919494722646,
          0.33478184697474184,
          0.40527897456563255,
          0.1974428603512297,
          0.25734726706681926,
          0.21178409855595287,
          0.266899338283787,
          0.16491759522400853,
          0.22871466818269626,
          0.13151952557584556,
          0.1937848996084126,
          0.15835688392660846,
          0.21820218713678718,
          0.08342338833646662,
          0.14577529061084213,
          0.41157434283359795,
          0.4993634219105951,
          0.400710469837773,
          0.4801918075442479,
          0.4182190561486845,
          0.5155291084415282,
          0.27513785071007596,
          0.358374390459507,
          0.29164129461738403,
          0.3708293822342459,
          0.2388682705124817,
          0.3246881071648056,
          0.20279539960298787,
          0.2859790566165804,
          0.23276472587478436,
          0.3145721999382846,
          0.1497672539495724,
          0.23149985526665193,
          0.4548520819193793,
          0.5461171468731731,
          0.4441802223842408,
          0.5267936669946434,
          0.46085342766870874,
          0.5620816006025537,
          0.30821133650811683,
          0.39466520041873365,
          0.32625745401056705,
          0.40837219985859663,
          0.2691121488965319,
          0.3583939151872023,
          0.23083988715461598,
          0.31743296436453283,
          0.2630194970288945,
          0.3480778743512176,
          0.17419827673828897,
          0.2593411202287978,
          0.4296184441850692,
          0.46610402790923744,
          0.19494119365371493,
          0.44702420572571167,
          0.43823124630555316,
          0.48383748431023854,
          0.27497435513982604,
          0.3132027062363442,
          0.2893671312224969,
          0.32172888205776773,
          0.23955238555298736,
          0.283315005508748,
          0.20229861319808573,
          0.24635625986851217,
          0.23140900565321554,
          0.2715257015509601,
          0.147785459277935,
          0.19395828937454657,
          0.5139685583100868,
          0.6240957770673811,
          0.5058448020758677,
          0.6215552812381703,
          0.5137550968793179,
          0.6239358106371234,
          0.3741097981170547,
          0.5209573254186783,
          0.3965891520469698,
          0.5332381681896431,
          0.33069835685291377,
          0.4760759634201318,
          0.2933860717469463,
          0.432871715090091,
          0.32858000519486735,
          0.47143496372454174,
          0.23469671535043996,
          0.3667104315033621,
          0.6459793842731799,
          0.7341606427318893,
          0.635083356859033,
          0.716883744790409,
          0.6526310436574926,
          0.7469251611768997,
          0.4889791944687769,
          0.6035801730045518,
          0.5129612562739567,
          0.6234833391241303,
          0.4389707437202779,
          0.5555631317786038,
          0.39235434406585845,
          0.5053992269369938,
          0.43328820307935045,
          0.545422712706788,
          0.32106497991816896,
          0.43133151572396433
         ],
         "yaxis": "y9"
        },
        {
         "error_y": {
          "array": [
           0.0752012432002695,
           0.1220760743885585,
           0.09166874388555535,
           0.12583332522102286,
           0.09762629489985897,
           0.11978239873879548,
           0.08726718580106896,
           0.08670541656066333
          ],
          "arrayminus": [
           0.09798949871550272,
           0.08697260224226844,
           0.06594510375248597,
           0.09364075883901246,
           0.06878688223822316,
           0.07990636912488547,
           0.06560593967104222,
           0.06286545705122959
          ],
          "symmetric": false,
          "type": "data",
          "visible": true
         },
         "hovertemplate": "<b>%{text}</b><br><br>%{xaxis.title.text}: %{x}<br>%{yaxis.title.text}: %{y}<extra></extra>",
         "marker": {
          "color": "darkblue",
          "size": 14
         },
         "mode": "markers",
         "name": "Pareto Front",
         "text": [
          "ID: 62",
          "ID: 90",
          "ID: 91",
          "ID: 92",
          "ID: 93",
          "ID: 94",
          "ID: 95",
          "ID: 98"
         ],
         "type": "scatter",
         "x": [
          403.15,
          441.38,
          534.29,
          429.38,
          516.29,
          473.38,
          582.29,
          415.14
         ],
         "xaxis": "x10",
         "y": [
          0.2893671312224969,
          0.6459793842731799,
          0.7341606427318893,
          0.635083356859033,
          0.716883744790409,
          0.6526310436574926,
          0.7469251611768997,
          0.5129612562739567
         ],
         "yaxis": "y10"
        },
        {
         "error_y": {
          "array": [
           0.11225735443988805,
           0.15947451881989905,
           0.1605523049292611,
           0.1980201710710605,
           0.0892848577940778
          ],
          "arrayminus": [
           0.1099123116843852,
           0.15302071829860298,
           0.15316215192574956,
           0.1526092687614023,
           0.07751264001751901
          ],
          "symmetric": false,
          "type": "data",
          "visible": true
         },
         "hovertemplate": "<b>%{text}</b><br><br>%{xaxis.title.text}: %{x}<br>%{yaxis.title.text}: %{y}<extra></extra>",
         "marker": {
          "color": "blue",
          "size": 14
         },
         "mode": "markers",
         "name": "Near Pareto Front",
         "text": [
          "ID: 72",
          "ID: 73",
          "ID: 75",
          "ID: 81",
          "ID: 99"
         ],
         "type": "scatter",
         "x": [
          515.88,
          608.79,
          590.79,
          569.43,
          494.93
         ],
         "xaxis": "x10",
         "y": [
          0.5139685583100868,
          0.6240957770673811,
          0.6215552812381703,
          0.5332381681896431,
          0.6234833391241303
         ],
         "yaxis": "y10"
        },
        {
         "hovertemplate": "<b>%{text}</b><br>%{yaxis.title.text}: %{y}<br>%{xaxis.title.text}: %{x}<extra></extra>",
         "marker": {
          "color": [
           0.4058655373020503,
           0.662315125524941,
           0.3440763098904673,
           0.5696312844075664,
           0.48184574051327544,
           0.7762854303417787,
           0.40977037635551905,
           0.668172384105144,
           0.39456976835264196,
           0.6453714721008286,
           0.41407641222461,
           0.6746314379087804,
           0.3763391149384948,
           0.6180254919796077,
           0.38135491870371213,
           0.6255491976274337,
           0.3562887631943742,
           0.587949964363427,
           0.8341495370288494,
           1.3060051414250275,
           0.7556368685991729,
           1.1882361387805125,
           0.9173008798834692,
           1.4307321557069568,
           0.780740120488389,
           1.2258910166143369,
           0.7783505125444623,
           1.2223066046984468,
           0.7600151668777452,
           1.1948035861983708,
           0.7023411304542685,
           1.108292531563156,
           0.7273208456428402,
           1.1457621043460136,
           0.6516486710334942,
           1.0322538424319947,
           0.8317846032877688,
           1.3036402076839468,
           0.7532719348580923,
           1.185871205039432,
           0.9149359461423886,
           1.4283672219658765,
           0.7783751867473084,
           1.2235260828732561,
           0.7759855788033817,
           1.2199416709573663,
           0.7576502331366646,
           1.1924386524572903,
           0.6999761967131879,
           1.1059275978220753,
           0.7249559119017596,
           1.143397170604933,
           0.6492837372924136,
           1.029888908690914,
           0.23461293771431527,
           0.394681893829373,
           0.1860914071864112,
           0.32189959803751683,
           0.29949857550081416,
           0.4920103505091214,
           0.25548018735035527,
           0.425982768283433,
           0.23770799855195976,
           0.3993244850858397,
           0.2679374127438379,
           0.44466860637365696,
           0.2404309170876067,
           0.40340886288931016,
           0.23813284898925538,
           0.39996176074178325,
           0.232863662146405,
           0.3920579804775077,
           2.307929243911656,
           3.522750134980634,
           2.233829288020936,
           3.4116002011445543,
           2.3415690680668426,
           3.573209871213414,
           1.9758604863775175,
           3.0246469986794264,
           2.0449739392793784,
           3.128317178032217,
           1.844370330946374,
           2.827411765532711,
           1.7291057981836344,
           2.654514966388602,
           1.8357261068834083,
           2.8144454294382624,
           1.5640241537001087,
           2.406892499663313,
           1.3025247457576847,
           2.0097504213888207,
           1.2178704374325116,
           1.8827689589010614,
           1.3785272049469104,
           2.123754110172659,
           1.1701062104691673,
           1.8111226184560443,
           1.1873431696932437,
           1.8369780572921592,
           1.116906665757514,
           1.7313233013885645,
           1.0397557674053222,
           1.615596953860277,
           1.0892404809961131,
           1.6898240242464635,
           0.9536996572342303,
           1.4865127886036391
          ],
          "colorbar": {
           "len": 0.05194805194805195,
           "y": 0.12229870129870135
          },
          "colorscale": [
           [
            0,
            "#0508b8"
           ],
           [
            0.08333333333333333,
            "#1910d8"
           ],
           [
            0.16666666666666666,
            "#3c19f0"
           ],
           [
            0.25,
            "#6b1cfb"
           ],
           [
            0.3333333333333333,
            "#981cfd"
           ],
           [
            0.4166666666666667,
            "#bf1cfd"
           ],
           [
            0.5,
            "#dd2bfd"
           ],
           [
            0.5833333333333334,
            "#f246fe"
           ],
           [
            0.6666666666666666,
            "#fc67fd"
           ],
           [
            0.75,
            "#fe88fc"
           ],
           [
            0.8333333333333334,
            "#fea5fd"
           ],
           [
            0.9166666666666666,
            "#febefe"
           ],
           [
            1,
            "#fec3fe"
           ]
          ],
          "showscale": true,
          "size": 10
         },
         "mode": "markers",
         "name": "max_payload",
         "text": [
          "ID: 0",
          "ID: 1",
          "ID: 2",
          "ID: 3",
          "ID: 4",
          "ID: 5",
          "ID: 6",
          "ID: 7",
          "ID: 8",
          "ID: 9",
          "ID: 10",
          "ID: 11",
          "ID: 12",
          "ID: 13",
          "ID: 14",
          "ID: 15",
          "ID: 16",
          "ID: 17",
          "ID: 18",
          "ID: 19",
          "ID: 20",
          "ID: 21",
          "ID: 22",
          "ID: 23",
          "ID: 24",
          "ID: 25",
          "ID: 26",
          "ID: 27",
          "ID: 28",
          "ID: 29",
          "ID: 30",
          "ID: 31",
          "ID: 32",
          "ID: 33",
          "ID: 34",
          "ID: 35",
          "ID: 36",
          "ID: 37",
          "ID: 38",
          "ID: 39",
          "ID: 40",
          "ID: 41",
          "ID: 42",
          "ID: 43",
          "ID: 44",
          "ID: 45",
          "ID: 46",
          "ID: 47",
          "ID: 48",
          "ID: 49",
          "ID: 50",
          "ID: 51",
          "ID: 52",
          "ID: 53",
          "ID: 54",
          "ID: 55",
          "ID: 56",
          "ID: 57",
          "ID: 58",
          "ID: 59",
          "ID: 60",
          "ID: 61",
          "ID: 62",
          "ID: 63",
          "ID: 64",
          "ID: 65",
          "ID: 66",
          "ID: 67",
          "ID: 68",
          "ID: 69",
          "ID: 70",
          "ID: 71",
          "ID: 72",
          "ID: 73",
          "ID: 74",
          "ID: 75",
          "ID: 76",
          "ID: 77",
          "ID: 78",
          "ID: 79",
          "ID: 80",
          "ID: 81",
          "ID: 82",
          "ID: 83",
          "ID: 84",
          "ID: 85",
          "ID: 86",
          "ID: 87",
          "ID: 88",
          "ID: 89",
          "ID: 90",
          "ID: 91",
          "ID: 92",
          "ID: 93",
          "ID: 94",
          "ID: 95",
          "ID: 96",
          "ID: 97",
          "ID: 98",
          "ID: 99",
          "ID: 100",
          "ID: 101",
          "ID: 102",
          "ID: 103",
          "ID: 104",
          "ID: 105",
          "ID: 106",
          "ID: 107"
         ],
         "type": "scatter",
         "x": [
          481.36,
          574.27,
          469.36,
          556.27,
          513.36,
          622.27,
          467.12,
          552.91,
          455.12,
          534.91,
          499.12,
          600.91,
          467.12,
          552.91,
          455.12,
          534.91,
          499.12,
          600.91,
          454.16,
          547.0699999999999,
          442.16,
          529.0699999999999,
          486.16,
          595.0699999999999,
          439.92,
          525.71,
          427.92,
          507.71,
          471.92,
          573.71,
          439.92,
          525.71,
          427.92,
          507.71,
          471.92,
          573.71,
          441.38,
          534.29,
          429.38,
          516.29,
          473.38,
          582.29,
          427.14,
          512.9300000000001,
          415.14,
          494.93,
          459.14,
          560.9300000000001,
          427.14,
          512.9300000000001,
          415.14,
          494.93,
          459.14,
          560.9300000000001,
          429.39,
          522.3,
          417.39,
          504.3,
          461.39,
          570.3,
          415.15,
          500.94,
          403.15,
          482.94,
          447.15,
          548.94,
          415.15,
          500.94,
          403.15,
          482.94,
          447.15,
          548.94,
          515.88,
          608.79,
          503.88,
          590.79,
          547.88,
          656.79,
          501.64,
          587.43,
          489.64,
          569.43,
          533.64,
          635.43,
          501.64,
          587.43,
          489.64,
          569.43,
          533.64,
          635.43,
          441.38,
          534.29,
          429.38,
          516.29,
          473.38,
          582.29,
          427.14,
          512.9300000000001,
          415.14,
          494.93,
          459.14,
          560.9300000000001,
          427.14,
          512.9300000000001,
          415.14,
          494.93,
          459.14,
          560.9300000000001
         ],
         "xaxis": "x10",
         "y": [
          0.3279246096335133,
          0.38911665765449194,
          0.31799087943469634,
          0.37156919494722646,
          0.33478184697474184,
          0.40527897456563255,
          0.1974428603512297,
          0.25734726706681926,
          0.21178409855595287,
          0.266899338283787,
          0.16491759522400853,
          0.22871466818269626,
          0.13151952557584556,
          0.1937848996084126,
          0.15835688392660846,
          0.21820218713678718,
          0.08342338833646662,
          0.14577529061084213,
          0.41157434283359795,
          0.4993634219105951,
          0.400710469837773,
          0.4801918075442479,
          0.4182190561486845,
          0.5155291084415282,
          0.27513785071007596,
          0.358374390459507,
          0.29164129461738403,
          0.3708293822342459,
          0.2388682705124817,
          0.3246881071648056,
          0.20279539960298787,
          0.2859790566165804,
          0.23276472587478436,
          0.3145721999382846,
          0.1497672539495724,
          0.23149985526665193,
          0.4548520819193793,
          0.5461171468731731,
          0.4441802223842408,
          0.5267936669946434,
          0.46085342766870874,
          0.5620816006025537,
          0.30821133650811683,
          0.39466520041873365,
          0.32625745401056705,
          0.40837219985859663,
          0.2691121488965319,
          0.3583939151872023,
          0.23083988715461598,
          0.31743296436453283,
          0.2630194970288945,
          0.3480778743512176,
          0.17419827673828897,
          0.2593411202287978,
          0.4296184441850692,
          0.46610402790923744,
          0.19494119365371493,
          0.44702420572571167,
          0.43823124630555316,
          0.48383748431023854,
          0.27497435513982604,
          0.3132027062363442,
          0.2893671312224969,
          0.32172888205776773,
          0.23955238555298736,
          0.283315005508748,
          0.20229861319808573,
          0.24635625986851217,
          0.23140900565321554,
          0.2715257015509601,
          0.147785459277935,
          0.19395828937454657,
          0.5139685583100868,
          0.6240957770673811,
          0.5058448020758677,
          0.6215552812381703,
          0.5137550968793179,
          0.6239358106371234,
          0.3741097981170547,
          0.5209573254186783,
          0.3965891520469698,
          0.5332381681896431,
          0.33069835685291377,
          0.4760759634201318,
          0.2933860717469463,
          0.432871715090091,
          0.32858000519486735,
          0.47143496372454174,
          0.23469671535043996,
          0.3667104315033621,
          0.6459793842731799,
          0.7341606427318893,
          0.635083356859033,
          0.716883744790409,
          0.6526310436574926,
          0.7469251611768997,
          0.4889791944687769,
          0.6035801730045518,
          0.5129612562739567,
          0.6234833391241303,
          0.4389707437202779,
          0.5555631317786038,
          0.39235434406585845,
          0.5053992269369938,
          0.43328820307935045,
          0.545422712706788,
          0.32106497991816896,
          0.43133151572396433
         ],
         "yaxis": "y10"
        },
        {
         "error_y": {
          "array": [
           0.0752012432002695,
           0.1220760743885585,
           0.09166874388555535,
           0.12583332522102286,
           0.09762629489985897,
           0.11978239873879548,
           0.08726718580106896,
           0.08670541656066333
          ],
          "arrayminus": [
           0.09798949871550272,
           0.08697260224226844,
           0.06594510375248597,
           0.09364075883901246,
           0.06878688223822316,
           0.07990636912488547,
           0.06560593967104222,
           0.06286545705122959
          ],
          "symmetric": false,
          "type": "data",
          "visible": true
         },
         "hovertemplate": "<b>%{text}</b><br><br>%{xaxis.title.text}: %{x}<br>%{yaxis.title.text}: %{y}<extra></extra>",
         "marker": {
          "color": "darkblue",
          "size": 14
         },
         "mode": "markers",
         "name": "Pareto Front",
         "text": [
          "ID: 62",
          "ID: 90",
          "ID: 91",
          "ID: 92",
          "ID: 93",
          "ID: 94",
          "ID: 95",
          "ID: 98"
         ],
         "type": "scatter",
         "x": [
          403.15,
          441.38,
          534.29,
          429.38,
          516.29,
          473.38,
          582.29,
          415.14
         ],
         "xaxis": "x11",
         "y": [
          0.2893671312224969,
          0.6459793842731799,
          0.7341606427318893,
          0.635083356859033,
          0.716883744790409,
          0.6526310436574926,
          0.7469251611768997,
          0.5129612562739567
         ],
         "yaxis": "y11"
        },
        {
         "error_y": {
          "array": [
           0.11225735443988805,
           0.15947451881989905,
           0.1605523049292611,
           0.1980201710710605,
           0.0892848577940778
          ],
          "arrayminus": [
           0.1099123116843852,
           0.15302071829860298,
           0.15316215192574956,
           0.1526092687614023,
           0.07751264001751901
          ],
          "symmetric": false,
          "type": "data",
          "visible": true
         },
         "hovertemplate": "<b>%{text}</b><br><br>%{xaxis.title.text}: %{x}<br>%{yaxis.title.text}: %{y}<extra></extra>",
         "marker": {
          "color": "blue",
          "size": 14
         },
         "mode": "markers",
         "name": "Near Pareto Front",
         "text": [
          "ID: 72",
          "ID: 73",
          "ID: 75",
          "ID: 81",
          "ID: 99"
         ],
         "type": "scatter",
         "x": [
          515.88,
          608.79,
          590.79,
          569.43,
          494.93
         ],
         "xaxis": "x11",
         "y": [
          0.5139685583100868,
          0.6240957770673811,
          0.6215552812381703,
          0.5332381681896431,
          0.6234833391241303
         ],
         "yaxis": "y11"
        },
        {
         "hovertemplate": "<b>%{text}</b><br>%{yaxis.title.text}: %{y}<br>%{xaxis.title.text}: %{x}<extra></extra>",
         "marker": {
          "color": [
           20.388144535543113,
           20.43591884699835,
           20.348117827343078,
           20.26941968328216,
           20.20996385477563,
           20.39546585537893,
           15.959899679706776,
           16.161699656870155,
           16.523659472120322,
           16.575784476716006,
           14.770587396259883,
           15.116789451135773,
           13.863073059499536,
           14.300258826681729,
           14.77268802166303,
           15.086764358162794,
           12.238139180578582,
           12.758163582765677,
           21.02237163809277,
           21.1261813746742,
           20.991992849744697,
           20.974251203714076,
           20.84430290320711,
           21.08145463239245,
           16.737446368182642,
           16.988939074479738,
           17.29907775533742,
           17.403217516618692,
           15.554245796213962,
           15.949958217831231,
           14.646243877195998,
           15.131831383513692,
           15.559222497921098,
           15.921094044903317,
           13.006423473241417,
           13.578448923111873,
           22.452627168631977,
           22.621540631820295,
           22.427516631386098,
           22.464307903063567,
           22.252356902483854,
           22.567060822988573,
           17.843732022890883,
           18.165578280366148,
           18.454744890747154,
           18.61849806855766,
           16.566792601710016,
           17.04231805361602,
           15.590012947488662,
           16.158300254657473,
           16.575067527725988,
           17.01231972506486,
           13.829721436216262,
           14.487114523472275,
           26.019166790135355,
           25.312119814505895,
           25.8737829118025,
           25.02735207997617,
           25.89559145060664,
           25.331810485677053,
           20.448034032180857,
           20.032348334087185,
           21.06162252178817,
           20.457768174731523,
           19.031219920730226,
           18.8111326927808,
           17.93010238939177,
           17.867453200632056,
           19.005641716923645,
           18.76944748083545,
           15.913492479754293,
           15.997289549252221,
           17.64668613733537,
           17.902122518048795,
           17.65000509216068,
           17.81590626525282,
           17.491888354772268,
           17.84942580304642,
           14.500273425519334,
           14.867333432643635,
           14.951248327732248,
           15.205489611847277,
           13.569776631276568,
           14.051364631801713,
           12.853131908764412,
           13.399552620017525,
           13.584684480187526,
           14.03341313544472,
           11.5383953088061,
           12.15784903936233,
           27.638478952855433,
           27.830332004511828,
           27.609939311820657,
           27.65175314241541,
           27.410723286543675,
           27.76847767285472,
           22.316774046446383,
           22.693925554735078,
           23.032064052838837,
           23.2232492010565,
           20.812060191861942,
           21.373972105937987,
           19.6519640276352,
           20.327867779826924,
           20.82185432758923,
           21.33857914841452,
           17.541149996008066,
           18.332504223208726
          ],
          "colorbar": {
           "len": 0.05194805194805195,
           "y": 0.02766233766233772
          },
          "colorscale": [
           [
            0,
            "#0508b8"
           ],
           [
            0.08333333333333333,
            "#1910d8"
           ],
           [
            0.16666666666666666,
            "#3c19f0"
           ],
           [
            0.25,
            "#6b1cfb"
           ],
           [
            0.3333333333333333,
            "#981cfd"
           ],
           [
            0.4166666666666667,
            "#bf1cfd"
           ],
           [
            0.5,
            "#dd2bfd"
           ],
           [
            0.5833333333333334,
            "#f246fe"
           ],
           [
            0.6666666666666666,
            "#fc67fd"
           ],
           [
            0.75,
            "#fe88fc"
           ],
           [
            0.8333333333333334,
            "#fea5fd"
           ],
           [
            0.9166666666666666,
            "#febefe"
           ],
           [
            1,
            "#fec3fe"
           ]
          ],
          "showscale": true,
          "size": 10
         },
         "mode": "markers",
         "name": "max_flight_time",
         "text": [
          "ID: 0",
          "ID: 1",
          "ID: 2",
          "ID: 3",
          "ID: 4",
          "ID: 5",
          "ID: 6",
          "ID: 7",
          "ID: 8",
          "ID: 9",
          "ID: 10",
          "ID: 11",
          "ID: 12",
          "ID: 13",
          "ID: 14",
          "ID: 15",
          "ID: 16",
          "ID: 17",
          "ID: 18",
          "ID: 19",
          "ID: 20",
          "ID: 21",
          "ID: 22",
          "ID: 23",
          "ID: 24",
          "ID: 25",
          "ID: 26",
          "ID: 27",
          "ID: 28",
          "ID: 29",
          "ID: 30",
          "ID: 31",
          "ID: 32",
          "ID: 33",
          "ID: 34",
          "ID: 35",
          "ID: 36",
          "ID: 37",
          "ID: 38",
          "ID: 39",
          "ID: 40",
          "ID: 41",
          "ID: 42",
          "ID: 43",
          "ID: 44",
          "ID: 45",
          "ID: 46",
          "ID: 47",
          "ID: 48",
          "ID: 49",
          "ID: 50",
          "ID: 51",
          "ID: 52",
          "ID: 53",
          "ID: 54",
          "ID: 55",
          "ID: 56",
          "ID: 57",
          "ID: 58",
          "ID: 59",
          "ID: 60",
          "ID: 61",
          "ID: 62",
          "ID: 63",
          "ID: 64",
          "ID: 65",
          "ID: 66",
          "ID: 67",
          "ID: 68",
          "ID: 69",
          "ID: 70",
          "ID: 71",
          "ID: 72",
          "ID: 73",
          "ID: 74",
          "ID: 75",
          "ID: 76",
          "ID: 77",
          "ID: 78",
          "ID: 79",
          "ID: 80",
          "ID: 81",
          "ID: 82",
          "ID: 83",
          "ID: 84",
          "ID: 85",
          "ID: 86",
          "ID: 87",
          "ID: 88",
          "ID: 89",
          "ID: 90",
          "ID: 91",
          "ID: 92",
          "ID: 93",
          "ID: 94",
          "ID: 95",
          "ID: 96",
          "ID: 97",
          "ID: 98",
          "ID: 99",
          "ID: 100",
          "ID: 101",
          "ID: 102",
          "ID: 103",
          "ID: 104",
          "ID: 105",
          "ID: 106",
          "ID: 107"
         ],
         "type": "scatter",
         "x": [
          481.36,
          574.27,
          469.36,
          556.27,
          513.36,
          622.27,
          467.12,
          552.91,
          455.12,
          534.91,
          499.12,
          600.91,
          467.12,
          552.91,
          455.12,
          534.91,
          499.12,
          600.91,
          454.16,
          547.0699999999999,
          442.16,
          529.0699999999999,
          486.16,
          595.0699999999999,
          439.92,
          525.71,
          427.92,
          507.71,
          471.92,
          573.71,
          439.92,
          525.71,
          427.92,
          507.71,
          471.92,
          573.71,
          441.38,
          534.29,
          429.38,
          516.29,
          473.38,
          582.29,
          427.14,
          512.9300000000001,
          415.14,
          494.93,
          459.14,
          560.9300000000001,
          427.14,
          512.9300000000001,
          415.14,
          494.93,
          459.14,
          560.9300000000001,
          429.39,
          522.3,
          417.39,
          504.3,
          461.39,
          570.3,
          415.15,
          500.94,
          403.15,
          482.94,
          447.15,
          548.94,
          415.15,
          500.94,
          403.15,
          482.94,
          447.15,
          548.94,
          515.88,
          608.79,
          503.88,
          590.79,
          547.88,
          656.79,
          501.64,
          587.43,
          489.64,
          569.43,
          533.64,
          635.43,
          501.64,
          587.43,
          489.64,
          569.43,
          533.64,
          635.43,
          441.38,
          534.29,
          429.38,
          516.29,
          473.38,
          582.29,
          427.14,
          512.9300000000001,
          415.14,
          494.93,
          459.14,
          560.9300000000001,
          427.14,
          512.9300000000001,
          415.14,
          494.93,
          459.14,
          560.9300000000001
         ],
         "xaxis": "x11",
         "y": [
          0.3279246096335133,
          0.38911665765449194,
          0.31799087943469634,
          0.37156919494722646,
          0.33478184697474184,
          0.40527897456563255,
          0.1974428603512297,
          0.25734726706681926,
          0.21178409855595287,
          0.266899338283787,
          0.16491759522400853,
          0.22871466818269626,
          0.13151952557584556,
          0.1937848996084126,
          0.15835688392660846,
          0.21820218713678718,
          0.08342338833646662,
          0.14577529061084213,
          0.41157434283359795,
          0.4993634219105951,
          0.400710469837773,
          0.4801918075442479,
          0.4182190561486845,
          0.5155291084415282,
          0.27513785071007596,
          0.358374390459507,
          0.29164129461738403,
          0.3708293822342459,
          0.2388682705124817,
          0.3246881071648056,
          0.20279539960298787,
          0.2859790566165804,
          0.23276472587478436,
          0.3145721999382846,
          0.1497672539495724,
          0.23149985526665193,
          0.4548520819193793,
          0.5461171468731731,
          0.4441802223842408,
          0.5267936669946434,
          0.46085342766870874,
          0.5620816006025537,
          0.30821133650811683,
          0.39466520041873365,
          0.32625745401056705,
          0.40837219985859663,
          0.2691121488965319,
          0.3583939151872023,
          0.23083988715461598,
          0.31743296436453283,
          0.2630194970288945,
          0.3480778743512176,
          0.17419827673828897,
          0.2593411202287978,
          0.4296184441850692,
          0.46610402790923744,
          0.19494119365371493,
          0.44702420572571167,
          0.43823124630555316,
          0.48383748431023854,
          0.27497435513982604,
          0.3132027062363442,
          0.2893671312224969,
          0.32172888205776773,
          0.23955238555298736,
          0.283315005508748,
          0.20229861319808573,
          0.24635625986851217,
          0.23140900565321554,
          0.2715257015509601,
          0.147785459277935,
          0.19395828937454657,
          0.5139685583100868,
          0.6240957770673811,
          0.5058448020758677,
          0.6215552812381703,
          0.5137550968793179,
          0.6239358106371234,
          0.3741097981170547,
          0.5209573254186783,
          0.3965891520469698,
          0.5332381681896431,
          0.33069835685291377,
          0.4760759634201318,
          0.2933860717469463,
          0.432871715090091,
          0.32858000519486735,
          0.47143496372454174,
          0.23469671535043996,
          0.3667104315033621,
          0.6459793842731799,
          0.7341606427318893,
          0.635083356859033,
          0.716883744790409,
          0.6526310436574926,
          0.7469251611768997,
          0.4889791944687769,
          0.6035801730045518,
          0.5129612562739567,
          0.6234833391241303,
          0.4389707437202779,
          0.5555631317786038,
          0.39235434406585845,
          0.5053992269369938,
          0.43328820307935045,
          0.545422712706788,
          0.32106497991816896,
          0.43133151572396433
         ],
         "yaxis": "y11"
        }
       ],
       "layout": {
        "annotations": [
         {
          "font": {
           "size": 16
          },
          "showarrow": false,
          "text": "Mass [kg]",
          "x": 0.5,
          "xanchor": "center",
          "xref": "paper",
          "y": 0.9999999999999999,
          "yanchor": "bottom",
          "yref": "paper"
         },
         {
          "font": {
           "size": 16
          },
          "showarrow": false,
          "text": "Number of rotors",
          "x": 0.5,
          "xanchor": "center",
          "xref": "paper",
          "y": 0.9049586776859503,
          "yanchor": "bottom",
          "yref": "paper"
         },
         {
          "font": {
           "size": 16
          },
          "showarrow": false,
          "text": "Propeller diameter [in]",
          "x": 0.5,
          "xanchor": "center",
          "xref": "paper",
          "y": 0.8099173553719007,
          "yanchor": "bottom",
          "yref": "paper"
         },
         {
          "font": {
           "size": 16
          },
          "showarrow": false,
          "text": "Propeller pitch [in]",
          "x": 0.5,
          "xanchor": "center",
          "xref": "paper",
          "y": 0.7148760330578511,
          "yanchor": "bottom",
          "yref": "paper"
         },
         {
          "font": {
           "size": 16
          },
          "showarrow": false,
          "text": "Motor kv [rpm/V]",
          "x": 0.5,
          "xanchor": "center",
          "xref": "paper",
          "y": 0.6198347107438015,
          "yanchor": "bottom",
          "yref": "paper"
         },
         {
          "font": {
           "size": 16
          },
          "showarrow": false,
          "text": "Battery voltage [V]",
          "x": 0.5,
          "xanchor": "center",
          "xref": "paper",
          "y": 0.524793388429752,
          "yanchor": "bottom",
          "yref": "paper"
         },
         {
          "font": {
           "size": 16
          },
          "showarrow": false,
          "text": "Battery capacity [mAh]",
          "x": 0.5,
          "xanchor": "center",
          "xref": "paper",
          "y": 0.42975206611570244,
          "yanchor": "bottom",
          "yref": "paper"
         },
         {
          "font": {
           "size": 16
          },
          "showarrow": false,
          "text": "Max flight distance [m]",
          "x": 0.5,
          "xanchor": "center",
          "xref": "paper",
          "y": 0.33471074380165283,
          "yanchor": "bottom",
          "yref": "paper"
         },
         {
          "font": {
           "size": 16
          },
          "showarrow": false,
          "text": "Max speed [m/s]",
          "x": 0.5,
          "xanchor": "center",
          "xref": "paper",
          "y": 0.23966942148760328,
          "yanchor": "bottom",
          "yref": "paper"
         },
         {
          "font": {
           "size": 16
          },
          "showarrow": false,
          "text": "Max payload [kg]",
          "x": 0.5,
          "xanchor": "center",
          "xref": "paper",
          "y": 0.1446280991735537,
          "yanchor": "bottom",
          "yref": "paper"
         },
         {
          "font": {
           "size": 16
          },
          "showarrow": false,
          "text": "Max flight time [m]",
          "x": 0.5,
          "xanchor": "center",
          "xref": "paper",
          "y": 0.04958677685950413,
          "yanchor": "bottom",
          "yref": "paper"
         },
         {
          "font": {
           "size": 14
          },
          "showarrow": false,
          "text": "Desired Price Range",
          "x": 403.15,
          "xanchor": "left",
          "xref": "x",
          "y": 1,
          "yanchor": "top",
          "yref": "y domain"
         },
         {
          "font": {
           "size": 14
          },
          "showarrow": false,
          "text": "Desired Price Range",
          "x": 403.15,
          "xanchor": "left",
          "xref": "x2",
          "y": 1,
          "yanchor": "top",
          "yref": "y2 domain"
         },
         {
          "font": {
           "size": 14
          },
          "showarrow": false,
          "text": "Desired Price Range",
          "x": 403.15,
          "xanchor": "left",
          "xref": "x3",
          "y": 1,
          "yanchor": "top",
          "yref": "y3 domain"
         },
         {
          "font": {
           "size": 14
          },
          "showarrow": false,
          "text": "Desired Price Range",
          "x": 403.15,
          "xanchor": "left",
          "xref": "x4",
          "y": 1,
          "yanchor": "top",
          "yref": "y4 domain"
         },
         {
          "font": {
           "size": 14
          },
          "showarrow": false,
          "text": "Desired Price Range",
          "x": 403.15,
          "xanchor": "left",
          "xref": "x5",
          "y": 1,
          "yanchor": "top",
          "yref": "y5 domain"
         },
         {
          "font": {
           "size": 14
          },
          "showarrow": false,
          "text": "Desired Price Range",
          "x": 403.15,
          "xanchor": "left",
          "xref": "x6",
          "y": 1,
          "yanchor": "top",
          "yref": "y6 domain"
         },
         {
          "font": {
           "size": 14
          },
          "showarrow": false,
          "text": "Desired Price Range",
          "x": 403.15,
          "xanchor": "left",
          "xref": "x7",
          "y": 1,
          "yanchor": "top",
          "yref": "y7 domain"
         },
         {
          "font": {
           "size": 14
          },
          "showarrow": false,
          "text": "Desired Price Range",
          "x": 403.15,
          "xanchor": "left",
          "xref": "x8",
          "y": 1,
          "yanchor": "top",
          "yref": "y8 domain"
         },
         {
          "font": {
           "size": 14
          },
          "showarrow": false,
          "text": "Desired Price Range",
          "x": 403.15,
          "xanchor": "left",
          "xref": "x9",
          "y": 1,
          "yanchor": "top",
          "yref": "y9 domain"
         },
         {
          "font": {
           "size": 14
          },
          "showarrow": false,
          "text": "Desired Price Range",
          "x": 403.15,
          "xanchor": "left",
          "xref": "x10",
          "y": 1,
          "yanchor": "top",
          "yref": "y10 domain"
         },
         {
          "font": {
           "size": 14
          },
          "showarrow": false,
          "text": "Desired Price Range",
          "x": 403.15,
          "xanchor": "left",
          "xref": "x11",
          "y": 1,
          "yanchor": "top",
          "yref": "y11 domain"
         }
        ],
        "height": 3850,
        "shapes": [
         {
          "fillcolor": "blue",
          "line": {
           "width": 0
          },
          "opacity": 0.1,
          "type": "rect",
          "x0": 403.15,
          "x1": 600,
          "xref": "x",
          "y0": 0,
          "y1": 1,
          "yref": "y domain"
         },
         {
          "fillcolor": "blue",
          "line": {
           "width": 0
          },
          "opacity": 0.1,
          "type": "rect",
          "x0": 403.15,
          "x1": 600,
          "xref": "x2",
          "y0": 0,
          "y1": 1,
          "yref": "y2 domain"
         },
         {
          "fillcolor": "blue",
          "line": {
           "width": 0
          },
          "opacity": 0.1,
          "type": "rect",
          "x0": 403.15,
          "x1": 600,
          "xref": "x3",
          "y0": 0,
          "y1": 1,
          "yref": "y3 domain"
         },
         {
          "fillcolor": "blue",
          "line": {
           "width": 0
          },
          "opacity": 0.1,
          "type": "rect",
          "x0": 403.15,
          "x1": 600,
          "xref": "x4",
          "y0": 0,
          "y1": 1,
          "yref": "y4 domain"
         },
         {
          "fillcolor": "blue",
          "line": {
           "width": 0
          },
          "opacity": 0.1,
          "type": "rect",
          "x0": 403.15,
          "x1": 600,
          "xref": "x5",
          "y0": 0,
          "y1": 1,
          "yref": "y5 domain"
         },
         {
          "fillcolor": "blue",
          "line": {
           "width": 0
          },
          "opacity": 0.1,
          "type": "rect",
          "x0": 403.15,
          "x1": 600,
          "xref": "x6",
          "y0": 0,
          "y1": 1,
          "yref": "y6 domain"
         },
         {
          "fillcolor": "blue",
          "line": {
           "width": 0
          },
          "opacity": 0.1,
          "type": "rect",
          "x0": 403.15,
          "x1": 600,
          "xref": "x7",
          "y0": 0,
          "y1": 1,
          "yref": "y7 domain"
         },
         {
          "fillcolor": "blue",
          "line": {
           "width": 0
          },
          "opacity": 0.1,
          "type": "rect",
          "x0": 403.15,
          "x1": 600,
          "xref": "x8",
          "y0": 0,
          "y1": 1,
          "yref": "y8 domain"
         },
         {
          "fillcolor": "blue",
          "line": {
           "width": 0
          },
          "opacity": 0.1,
          "type": "rect",
          "x0": 403.15,
          "x1": 600,
          "xref": "x9",
          "y0": 0,
          "y1": 1,
          "yref": "y9 domain"
         },
         {
          "fillcolor": "blue",
          "line": {
           "width": 0
          },
          "opacity": 0.1,
          "type": "rect",
          "x0": 403.15,
          "x1": 600,
          "xref": "x10",
          "y0": 0,
          "y1": 1,
          "yref": "y10 domain"
         },
         {
          "fillcolor": "blue",
          "line": {
           "width": 0
          },
          "opacity": 0.1,
          "type": "rect",
          "x0": 403.15,
          "x1": 600,
          "xref": "x11",
          "y0": 0,
          "y1": 1,
          "yref": "y11 domain"
         }
        ],
        "showlegend": false,
        "template": {
         "data": {
          "bar": [
           {
            "error_x": {
             "color": "#2a3f5f"
            },
            "error_y": {
             "color": "#2a3f5f"
            },
            "marker": {
             "line": {
              "color": "#E5ECF6",
              "width": 0.5
             },
             "pattern": {
              "fillmode": "overlay",
              "size": 10,
              "solidity": 0.2
             }
            },
            "type": "bar"
           }
          ],
          "barpolar": [
           {
            "marker": {
             "line": {
              "color": "#E5ECF6",
              "width": 0.5
             },
             "pattern": {
              "fillmode": "overlay",
              "size": 10,
              "solidity": 0.2
             }
            },
            "type": "barpolar"
           }
          ],
          "carpet": [
           {
            "aaxis": {
             "endlinecolor": "#2a3f5f",
             "gridcolor": "white",
             "linecolor": "white",
             "minorgridcolor": "white",
             "startlinecolor": "#2a3f5f"
            },
            "baxis": {
             "endlinecolor": "#2a3f5f",
             "gridcolor": "white",
             "linecolor": "white",
             "minorgridcolor": "white",
             "startlinecolor": "#2a3f5f"
            },
            "type": "carpet"
           }
          ],
          "choropleth": [
           {
            "colorbar": {
             "outlinewidth": 0,
             "ticks": ""
            },
            "type": "choropleth"
           }
          ],
          "contour": [
           {
            "colorbar": {
             "outlinewidth": 0,
             "ticks": ""
            },
            "colorscale": [
             [
              0,
              "#0d0887"
             ],
             [
              0.1111111111111111,
              "#46039f"
             ],
             [
              0.2222222222222222,
              "#7201a8"
             ],
             [
              0.3333333333333333,
              "#9c179e"
             ],
             [
              0.4444444444444444,
              "#bd3786"
             ],
             [
              0.5555555555555556,
              "#d8576b"
             ],
             [
              0.6666666666666666,
              "#ed7953"
             ],
             [
              0.7777777777777778,
              "#fb9f3a"
             ],
             [
              0.8888888888888888,
              "#fdca26"
             ],
             [
              1,
              "#f0f921"
             ]
            ],
            "type": "contour"
           }
          ],
          "contourcarpet": [
           {
            "colorbar": {
             "outlinewidth": 0,
             "ticks": ""
            },
            "type": "contourcarpet"
           }
          ],
          "heatmap": [
           {
            "colorbar": {
             "outlinewidth": 0,
             "ticks": ""
            },
            "colorscale": [
             [
              0,
              "#0d0887"
             ],
             [
              0.1111111111111111,
              "#46039f"
             ],
             [
              0.2222222222222222,
              "#7201a8"
             ],
             [
              0.3333333333333333,
              "#9c179e"
             ],
             [
              0.4444444444444444,
              "#bd3786"
             ],
             [
              0.5555555555555556,
              "#d8576b"
             ],
             [
              0.6666666666666666,
              "#ed7953"
             ],
             [
              0.7777777777777778,
              "#fb9f3a"
             ],
             [
              0.8888888888888888,
              "#fdca26"
             ],
             [
              1,
              "#f0f921"
             ]
            ],
            "type": "heatmap"
           }
          ],
          "heatmapgl": [
           {
            "colorbar": {
             "outlinewidth": 0,
             "ticks": ""
            },
            "colorscale": [
             [
              0,
              "#0d0887"
             ],
             [
              0.1111111111111111,
              "#46039f"
             ],
             [
              0.2222222222222222,
              "#7201a8"
             ],
             [
              0.3333333333333333,
              "#9c179e"
             ],
             [
              0.4444444444444444,
              "#bd3786"
             ],
             [
              0.5555555555555556,
              "#d8576b"
             ],
             [
              0.6666666666666666,
              "#ed7953"
             ],
             [
              0.7777777777777778,
              "#fb9f3a"
             ],
             [
              0.8888888888888888,
              "#fdca26"
             ],
             [
              1,
              "#f0f921"
             ]
            ],
            "type": "heatmapgl"
           }
          ],
          "histogram": [
           {
            "marker": {
             "pattern": {
              "fillmode": "overlay",
              "size": 10,
              "solidity": 0.2
             }
            },
            "type": "histogram"
           }
          ],
          "histogram2d": [
           {
            "colorbar": {
             "outlinewidth": 0,
             "ticks": ""
            },
            "colorscale": [
             [
              0,
              "#0d0887"
             ],
             [
              0.1111111111111111,
              "#46039f"
             ],
             [
              0.2222222222222222,
              "#7201a8"
             ],
             [
              0.3333333333333333,
              "#9c179e"
             ],
             [
              0.4444444444444444,
              "#bd3786"
             ],
             [
              0.5555555555555556,
              "#d8576b"
             ],
             [
              0.6666666666666666,
              "#ed7953"
             ],
             [
              0.7777777777777778,
              "#fb9f3a"
             ],
             [
              0.8888888888888888,
              "#fdca26"
             ],
             [
              1,
              "#f0f921"
             ]
            ],
            "type": "histogram2d"
           }
          ],
          "histogram2dcontour": [
           {
            "colorbar": {
             "outlinewidth": 0,
             "ticks": ""
            },
            "colorscale": [
             [
              0,
              "#0d0887"
             ],
             [
              0.1111111111111111,
              "#46039f"
             ],
             [
              0.2222222222222222,
              "#7201a8"
             ],
             [
              0.3333333333333333,
              "#9c179e"
             ],
             [
              0.4444444444444444,
              "#bd3786"
             ],
             [
              0.5555555555555556,
              "#d8576b"
             ],
             [
              0.6666666666666666,
              "#ed7953"
             ],
             [
              0.7777777777777778,
              "#fb9f3a"
             ],
             [
              0.8888888888888888,
              "#fdca26"
             ],
             [
              1,
              "#f0f921"
             ]
            ],
            "type": "histogram2dcontour"
           }
          ],
          "mesh3d": [
           {
            "colorbar": {
             "outlinewidth": 0,
             "ticks": ""
            },
            "type": "mesh3d"
           }
          ],
          "parcoords": [
           {
            "line": {
             "colorbar": {
              "outlinewidth": 0,
              "ticks": ""
             }
            },
            "type": "parcoords"
           }
          ],
          "pie": [
           {
            "automargin": true,
            "type": "pie"
           }
          ],
          "scatter": [
           {
            "fillpattern": {
             "fillmode": "overlay",
             "size": 10,
             "solidity": 0.2
            },
            "type": "scatter"
           }
          ],
          "scatter3d": [
           {
            "line": {
             "colorbar": {
              "outlinewidth": 0,
              "ticks": ""
             }
            },
            "marker": {
             "colorbar": {
              "outlinewidth": 0,
              "ticks": ""
             }
            },
            "type": "scatter3d"
           }
          ],
          "scattercarpet": [
           {
            "marker": {
             "colorbar": {
              "outlinewidth": 0,
              "ticks": ""
             }
            },
            "type": "scattercarpet"
           }
          ],
          "scattergeo": [
           {
            "marker": {
             "colorbar": {
              "outlinewidth": 0,
              "ticks": ""
             }
            },
            "type": "scattergeo"
           }
          ],
          "scattergl": [
           {
            "marker": {
             "colorbar": {
              "outlinewidth": 0,
              "ticks": ""
             }
            },
            "type": "scattergl"
           }
          ],
          "scattermapbox": [
           {
            "marker": {
             "colorbar": {
              "outlinewidth": 0,
              "ticks": ""
             }
            },
            "type": "scattermapbox"
           }
          ],
          "scatterpolar": [
           {
            "marker": {
             "colorbar": {
              "outlinewidth": 0,
              "ticks": ""
             }
            },
            "type": "scatterpolar"
           }
          ],
          "scatterpolargl": [
           {
            "marker": {
             "colorbar": {
              "outlinewidth": 0,
              "ticks": ""
             }
            },
            "type": "scatterpolargl"
           }
          ],
          "scatterternary": [
           {
            "marker": {
             "colorbar": {
              "outlinewidth": 0,
              "ticks": ""
             }
            },
            "type": "scatterternary"
           }
          ],
          "surface": [
           {
            "colorbar": {
             "outlinewidth": 0,
             "ticks": ""
            },
            "colorscale": [
             [
              0,
              "#0d0887"
             ],
             [
              0.1111111111111111,
              "#46039f"
             ],
             [
              0.2222222222222222,
              "#7201a8"
             ],
             [
              0.3333333333333333,
              "#9c179e"
             ],
             [
              0.4444444444444444,
              "#bd3786"
             ],
             [
              0.5555555555555556,
              "#d8576b"
             ],
             [
              0.6666666666666666,
              "#ed7953"
             ],
             [
              0.7777777777777778,
              "#fb9f3a"
             ],
             [
              0.8888888888888888,
              "#fdca26"
             ],
             [
              1,
              "#f0f921"
             ]
            ],
            "type": "surface"
           }
          ],
          "table": [
           {
            "cells": {
             "fill": {
              "color": "#EBF0F8"
             },
             "line": {
              "color": "white"
             }
            },
            "header": {
             "fill": {
              "color": "#C8D4E3"
             },
             "line": {
              "color": "white"
             }
            },
            "type": "table"
           }
          ]
         },
         "layout": {
          "annotationdefaults": {
           "arrowcolor": "#2a3f5f",
           "arrowhead": 0,
           "arrowwidth": 1
          },
          "autotypenumbers": "strict",
          "coloraxis": {
           "colorbar": {
            "outlinewidth": 0,
            "ticks": ""
           }
          },
          "colorscale": {
           "diverging": [
            [
             0,
             "#8e0152"
            ],
            [
             0.1,
             "#c51b7d"
            ],
            [
             0.2,
             "#de77ae"
            ],
            [
             0.3,
             "#f1b6da"
            ],
            [
             0.4,
             "#fde0ef"
            ],
            [
             0.5,
             "#f7f7f7"
            ],
            [
             0.6,
             "#e6f5d0"
            ],
            [
             0.7,
             "#b8e186"
            ],
            [
             0.8,
             "#7fbc41"
            ],
            [
             0.9,
             "#4d9221"
            ],
            [
             1,
             "#276419"
            ]
           ],
           "sequential": [
            [
             0,
             "#0d0887"
            ],
            [
             0.1111111111111111,
             "#46039f"
            ],
            [
             0.2222222222222222,
             "#7201a8"
            ],
            [
             0.3333333333333333,
             "#9c179e"
            ],
            [
             0.4444444444444444,
             "#bd3786"
            ],
            [
             0.5555555555555556,
             "#d8576b"
            ],
            [
             0.6666666666666666,
             "#ed7953"
            ],
            [
             0.7777777777777778,
             "#fb9f3a"
            ],
            [
             0.8888888888888888,
             "#fdca26"
            ],
            [
             1,
             "#f0f921"
            ]
           ],
           "sequentialminus": [
            [
             0,
             "#0d0887"
            ],
            [
             0.1111111111111111,
             "#46039f"
            ],
            [
             0.2222222222222222,
             "#7201a8"
            ],
            [
             0.3333333333333333,
             "#9c179e"
            ],
            [
             0.4444444444444444,
             "#bd3786"
            ],
            [
             0.5555555555555556,
             "#d8576b"
            ],
            [
             0.6666666666666666,
             "#ed7953"
            ],
            [
             0.7777777777777778,
             "#fb9f3a"
            ],
            [
             0.8888888888888888,
             "#fdca26"
            ],
            [
             1,
             "#f0f921"
            ]
           ]
          },
          "colorway": [
           "#636efa",
           "#EF553B",
           "#00cc96",
           "#ab63fa",
           "#FFA15A",
           "#19d3f3",
           "#FF6692",
           "#B6E880",
           "#FF97FF",
           "#FECB52"
          ],
          "font": {
           "color": "#2a3f5f"
          },
          "geo": {
           "bgcolor": "white",
           "lakecolor": "white",
           "landcolor": "#E5ECF6",
           "showlakes": true,
           "showland": true,
           "subunitcolor": "white"
          },
          "hoverlabel": {
           "align": "left"
          },
          "hovermode": "closest",
          "mapbox": {
           "style": "light"
          },
          "paper_bgcolor": "white",
          "plot_bgcolor": "#E5ECF6",
          "polar": {
           "angularaxis": {
            "gridcolor": "white",
            "linecolor": "white",
            "ticks": ""
           },
           "bgcolor": "#E5ECF6",
           "radialaxis": {
            "gridcolor": "white",
            "linecolor": "white",
            "ticks": ""
           }
          },
          "scene": {
           "xaxis": {
            "backgroundcolor": "#E5ECF6",
            "gridcolor": "white",
            "gridwidth": 2,
            "linecolor": "white",
            "showbackground": true,
            "ticks": "",
            "zerolinecolor": "white"
           },
           "yaxis": {
            "backgroundcolor": "#E5ECF6",
            "gridcolor": "white",
            "gridwidth": 2,
            "linecolor": "white",
            "showbackground": true,
            "ticks": "",
            "zerolinecolor": "white"
           },
           "zaxis": {
            "backgroundcolor": "#E5ECF6",
            "gridcolor": "white",
            "gridwidth": 2,
            "linecolor": "white",
            "showbackground": true,
            "ticks": "",
            "zerolinecolor": "white"
           }
          },
          "shapedefaults": {
           "line": {
            "color": "#2a3f5f"
           }
          },
          "ternary": {
           "aaxis": {
            "gridcolor": "white",
            "linecolor": "white",
            "ticks": ""
           },
           "baxis": {
            "gridcolor": "white",
            "linecolor": "white",
            "ticks": ""
           },
           "bgcolor": "#E5ECF6",
           "caxis": {
            "gridcolor": "white",
            "linecolor": "white",
            "ticks": ""
           }
          },
          "title": {
           "x": 0.05
          },
          "xaxis": {
           "automargin": true,
           "gridcolor": "white",
           "linecolor": "white",
           "ticks": "",
           "title": {
            "standoff": 15
           },
           "zerolinecolor": "white",
           "zerolinewidth": 2
          },
          "yaxis": {
           "automargin": true,
           "gridcolor": "white",
           "linecolor": "white",
           "ticks": "",
           "title": {
            "standoff": 15
           },
           "zerolinecolor": "white",
           "zerolinewidth": 2
          }
         }
        },
        "title": {
         "text": "MAU per attribute"
        },
        "width": 1080,
        "xaxis": {
         "anchor": "y",
         "domain": [
          0,
          1
         ],
         "title": {
          "text": "price"
         }
        },
        "xaxis10": {
         "anchor": "y10",
         "domain": [
          0,
          1
         ],
         "title": {
          "text": "price"
         }
        },
        "xaxis11": {
         "anchor": "y11",
         "domain": [
          0,
          1
         ],
         "title": {
          "text": "price"
         }
        },
        "xaxis2": {
         "anchor": "y2",
         "domain": [
          0,
          1
         ],
         "title": {
          "text": "price"
         }
        },
        "xaxis3": {
         "anchor": "y3",
         "domain": [
          0,
          1
         ],
         "title": {
          "text": "price"
         }
        },
        "xaxis4": {
         "anchor": "y4",
         "domain": [
          0,
          1
         ],
         "title": {
          "text": "price"
         }
        },
        "xaxis5": {
         "anchor": "y5",
         "domain": [
          0,
          1
         ],
         "title": {
          "text": "price"
         }
        },
        "xaxis6": {
         "anchor": "y6",
         "domain": [
          0,
          1
         ],
         "title": {
          "text": "price"
         }
        },
        "xaxis7": {
         "anchor": "y7",
         "domain": [
          0,
          1
         ],
         "title": {
          "text": "price"
         }
        },
        "xaxis8": {
         "anchor": "y8",
         "domain": [
          0,
          1
         ],
         "title": {
          "text": "price"
         }
        },
        "xaxis9": {
         "anchor": "y9",
         "domain": [
          0,
          1
         ],
         "title": {
          "text": "price"
         }
        },
        "yaxis": {
         "anchor": "x",
         "domain": [
          0.9504132231404958,
          0.9999999999999999
         ],
         "title": {
          "text": "mau"
         }
        },
        "yaxis10": {
         "anchor": "x10",
         "domain": [
          0.09504132231404958,
          0.1446280991735537
         ],
         "title": {
          "text": "mau"
         }
        },
        "yaxis11": {
         "anchor": "x11",
         "domain": [
          0,
          0.04958677685950413
         ],
         "title": {
          "text": "mau"
         }
        },
        "yaxis2": {
         "anchor": "x2",
         "domain": [
          0.8553719008264462,
          0.9049586776859503
         ],
         "title": {
          "text": "mau"
         }
        },
        "yaxis3": {
         "anchor": "x3",
         "domain": [
          0.7603305785123966,
          0.8099173553719007
         ],
         "title": {
          "text": "mau"
         }
        },
        "yaxis4": {
         "anchor": "x4",
         "domain": [
          0.665289256198347,
          0.7148760330578511
         ],
         "title": {
          "text": "mau"
         }
        },
        "yaxis5": {
         "anchor": "x5",
         "domain": [
          0.5702479338842974,
          0.6198347107438015
         ],
         "title": {
          "text": "mau"
         }
        },
        "yaxis6": {
         "anchor": "x6",
         "domain": [
          0.4752066115702479,
          0.524793388429752
         ],
         "title": {
          "text": "mau"
         }
        },
        "yaxis7": {
         "anchor": "x7",
         "domain": [
          0.3801652892561983,
          0.42975206611570244
         ],
         "title": {
          "text": "mau"
         }
        },
        "yaxis8": {
         "anchor": "x8",
         "domain": [
          0.2851239669421487,
          0.33471074380165283
         ],
         "title": {
          "text": "mau"
         }
        },
        "yaxis9": {
         "anchor": "x9",
         "domain": [
          0.19008264462809915,
          0.23966942148760328
         ],
         "title": {
          "text": "mau"
         }
        }
       }
      }
     },
     "metadata": {},
     "output_type": "display_data"
    }
   ],
   "source": [
    "uav_td.plot_all_attributes('price', 'mau')"
   ]
  },
  {
   "cell_type": "markdown",
   "metadata": {},
   "source": [
    "## Choosing the best design\n",
    "\n",
    "We can see, given the desired price and the mission requirements, which design is the best. The best design is the one that has the highest MAU and the lowest cost for a given constraint of the performance. We can see that the design 91 is a good choice. Thus, we can investigate more its characteristics and dig into a deeper analysis of the design. \n",
    "\n",
    "For that, we can get the uav model from the uav_list and call the function uav.show_all() to see all the characteristics of the design, including its performance attributes in different mission scenarios."
   ]
  },
  {
   "cell_type": "code",
   "execution_count": 84,
   "metadata": {},
   "outputs": [
    {
     "name": "stdout",
     "output_type": "stream",
     "text": [
      "----------------------------------------\n",
      "        UAV Model Configuration         \n",
      "----------------------------------------\n",
      "----------------------------------------\n",
      "            Input parameters            \n",
      "----------------------------------------\n",
      "              Environment               \n",
      "Temperature:                      25.000 °C\n",
      "Altitude:                         60.000 m\n",
      "\n",
      "                General                 \n",
      "Mass:                              1.522 Kg\n",
      "\n",
      "               Propeller                \n",
      "Diameter:                          0.330 m\n",
      "Pitch:                             0.122 m\n",
      "Blade number:                      2.000 units\n",
      "\n",
      "                 Motor                  \n",
      "Motor constant:                 1350.000 rpm/V\n",
      "Motor no-load voltage:            10.000 V\n",
      "Motor no-load current:             1.180 A\n",
      "Motor resistance:                  0.100 Ohm\n",
      "Number of rotors:                  4.000 units\n",
      "\n",
      "                  ESC                   \n",
      "Equivalent resistance:             0.010 Ohm\n",
      "\n",
      "                Battery                 \n",
      "Battery voltage:                  29.600 V\n",
      "Battery capacity:               5000.000 mAh\n",
      "Minimum battery capacity:        500.000 mAh\n",
      "Battery internal resistance:       0.400 Ohm\n",
      "\n",
      "                 Others                 \n",
      "Control current:                   3.000 A\n",
      "Max duty for max payload:          0.700 %\n",
      "\n",
      "----------------------------------------\n",
      "         Calculated parameters          \n",
      "----------------------------------------\n",
      "              Environment               \n",
      "Air density:                       1.284 kg/m^3\n",
      "\n",
      "               Propeller                \n",
      "Thrust coefficient:                0.081\n",
      "Torque coefficient:                0.005\n",
      "----------------------------------------\n",
      "\n",
      "----------------------------------------\n",
      "            UAV Performance             \n",
      "----------------------------------------\n",
      "               Hover mode               \n",
      "----------------------------------------\n",
      "Thrust:                           14.926 N\n",
      "Thrust/motor:                      3.731 N\n",
      "Motor speed:                    3296.977 rpm\n",
      "Motor torque:                      0.084 Nm\n",
      "Motor voltage:                     3.727 V\n",
      "Motor current:                    13.137 A\n",
      "Duty cycle:                        0.130 %\n",
      "ESC voltage:                      28.915 V\n",
      "ESC current:                       1.713 A\n",
      "Battery current:                   9.850 A\n",
      "Flight time:                      27.411 min\n",
      "Efficiency:                        0.359\n",
      "\n",
      "          Maximum thrust mode           \n",
      "----------------------------------------\n",
      "Thrust:                          227.497 N\n",
      "Thrust/motor:                     56.874 N\n",
      "Motor speed:                   12871.708 rpm\n",
      "Motor torque:                      1.274 Nm\n",
      "Motor voltage:                    27.766 V\n",
      "Motor current:                   183.436 A\n",
      "Duty cycle:                        1.000 %\n",
      "ESC voltage:                    -265.097 V\n",
      "ESC current:                     183.436 A\n",
      "Battery current:                 736.742 A\n",
      "Flight time:                       0.366 min\n",
      "Efficiency:                        0.359\n",
      "\n",
      "          Maximum payload mode          \n",
      "----------------------------------------\n",
      "Thrust:                          147.545 N\n",
      "Thrust/motor:                     36.886 N\n",
      "Motor speed:                   10365.966 rpm\n",
      "Motor torque:                      0.826 Nm\n",
      "Motor voltage:                    19.526 V\n",
      "Motor current:                   119.383 A\n",
      "Duty cycle:                        0.700 %\n",
      "ESC voltage:                      -3.827 V\n",
      "ESC current:                      83.568 A\n",
      "Battery current:                 337.272 A\n",
      "Flight time:                       0.801 min\n",
      "Efficiency:                        0.359\n",
      "Maximum payload:                   1.379 Kg\n",
      "Maximum pitch:                    84.194 deg\n",
      "\n",
      "              Reachability              \n",
      "----------------------------------------\n",
      "Maximum distance:              10467.706 m\n",
      "Maximum speed:                    27.344 m/s\n",
      "----------------------------------------\n",
      "\n"
     ]
    }
   ],
   "source": [
    "uav = uav_td.uav_list[94]\n",
    "uav.show_all()"
   ]
  },
  {
   "cell_type": "markdown",
   "metadata": {},
   "source": [
    "### Thank you! We hope you enjoyed this tutorial and learned something about the design of drones."
   ]
  }
 ],
 "metadata": {
  "kernelspec": {
   "display_name": "Python 3",
   "language": "python",
   "name": "python3"
  },
  "language_info": {
   "codemirror_mode": {
    "name": "ipython",
    "version": 3
   },
   "file_extension": ".py",
   "mimetype": "text/x-python",
   "name": "python",
   "nbconvert_exporter": "python",
   "pygments_lexer": "ipython3",
   "version": "3.8.10"
  },
  "orig_nbformat": 4
 },
 "nbformat": 4,
 "nbformat_minor": 2
}
