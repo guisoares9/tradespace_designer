{
 "cells": [
  {
   "cell_type": "markdown",
   "metadata": {},
   "source": [
    "# UAV Tradespace Exploration Tutorial\n",
    "\n",
    "In this tutorial, we will be using the `UAVTradespacer` module to perform tradespace analysis for Unmanned Aerial Vehicles (UAVs). Tradespace analysis is a method used in the early stages of design to explore a wide range of design alternatives and understand the trade-offs between different design decisions.\n",
    "\n",
    "Let's get started!"
   ]
  },
  {
   "cell_type": "code",
   "execution_count": 1,
   "metadata": {},
   "outputs": [],
   "source": [
    "from uav_tradespace import UAVTradespacer\n",
    "\n",
    "%load_ext autoreload\n",
    "%autoreload 2"
   ]
  },
  {
   "attachments": {},
   "cell_type": "markdown",
   "metadata": {},
   "source": [
    "## Performance Variables or Attributes\n",
    "\n",
    "Performance variables or Attributes are used to evaluate the performance of a system. In this case, the system is a drone. The rules for selecting the performance variables are:\n",
    "\n",
    "1. The performance variables must represent how good the system is.\n",
    "2. They must be measurable.\n",
    "3. They will be used to compare different designs."
   ]
  },
  {
   "cell_type": "code",
   "execution_count": 2,
   "metadata": {},
   "outputs": [],
   "source": [
    "# Define your performance variables\n",
    "uav_td = UAVTradespacer()\n",
    "\n",
    "# Add performance variables\n",
    "# Add maximum flight distance\n",
    "uav_td.add_performance_variable(\"max_flight_distance\", 4000, 10000, \"m\", 0.25)\n",
    "\n",
    "# Add maximum speed\n",
    "uav_td.add_performance_variable(\"max_speed\", 7, 40, \"m/s\", 0.10)\n",
    "\n",
    "# Add maximum payload\n",
    "uav_td.add_performance_variable(\"max_payload\", 0.2, 3, \"kg\", 0.25)\n",
    "\n",
    "# Add maximum endurance\n",
    "uav_td.add_performance_variable(\"max_flight_time\", 10, 40, \"min\", 0.35)\n",
    "\n",
    "# set the desired price range\n",
    "uav_td.set_desired_price_range(None, 600)\n"
   ]
  },
  {
   "attachments": {},
   "cell_type": "markdown",
   "metadata": {},
   "source": [
    "## Design Variables\n",
    "\n",
    "Design variables are the variables that can be changed to improve the performance of the system. In this case, the system is a drone. The rules for selecting the design variables are:\n",
    "\n",
    "1. The design variables are the components of the drone.\n",
    "2. Their characteristics must be measurable.\n",
    "3. The relationship between the design vars and the performance vars in this case is the mathematical model of the drone."
   ]
  },
  {
   "attachments": {},
   "cell_type": "markdown",
   "metadata": {},
   "source": [
    "### Add Batteries options\n",
    "\n",
    "> On the batteries side, it is possible to choose between different options on the market, varying in weight, capacity, voltage and price. The question that we want to solve is: how those characteristics of each battery affect the performance of the drone? To answer that question, lets add the batteries to the design space."
   ]
  },
  {
   "cell_type": "code",
   "execution_count": 3,
   "metadata": {},
   "outputs": [],
   "source": [
    "\n",
    "# Add lipo battery with its attributes\n",
    "# Add Zeee 2S LiPo Battery 7.4V 60C 1500mAh (Pack with 2 in parallel x 2 in series)\n",
    "# https://amzn.eu/d/0v9NqXT\n",
    "uav_td.add_battery(name='zeee_1500_2x', Ub=2 * 7.4, Cb=2 * 3000,\n",
    "            Cmin=2 * 300, Rb=2 * 0.2, mass=4 * 0.176, price=4 * 32.99)\n",
    "# Add Tattu 2300mAh 11.1V 45C 3S1P (2 batteries in parallel x 2 in series)\n",
    "# https://amzn.eu/d/3qAMa69\n",
    "uav_td.add_battery(name='tatoo_2300_2x', Ub=2 * 11.1, Cb=2 * 2300,\n",
    "            Cmin=2 * 230, Rb=2 * 0.2, mass=4 * 0.1822, price=4 * 26.19)\n",
    "# Add HRB 2 Pack 3S 11,1 V 5000 mAh LiPo-accu 50 C (2 batteries in series)\n",
    "# https://amzn.eu/d/bihiQ4N\n",
    "uav_td.add_battery(name='hrb_5000', Ub=2 * 11.1, Cb=5000,\n",
    "            Cmin=500, Rb=2 * 0.2, mass=2 * 0.376, price=2 * 45.99)\n",
    "# Add Zeee 3S Lipo Battery 11.1V 100C 8000mAh\n",
    "# https://amzn.eu/d/8p7C5QJ\n",
    "uav_td.add_battery(name='zeee_8000', Ub=11.1, Cb=8000,\n",
    "            Cmin=800, Rb=0.2, mass=0.493, price=79.99)\n",
    "# Add Tattu Lipo 6S RC Battery 22.2V 1300mAh 120C (2 batteries in parallel x 2 in series)\n",
    "# https://amzn.eu/d/fp4bDz7\n",
    "uav_td.add_battery(name='tatoo_1300_2x', Ub=2 * 22.2, Cb=2 * 1300,\n",
    "            Cmin= 2 * 130, Rb=2 * 0.2, mass=4 * 0.212, price=4 * 41.62)\n",
    "\n",
    "# two 5000 in series\n",
    "uav_td.add_battery(name='4s_5000', Ub=2 * 14.8, Cb=5000,\n",
    "            Cmin=500, Rb=2 * 0.2, mass=2 * 0.376, price=2 * 45.99)\n"
   ]
  },
  {
   "attachments": {},
   "cell_type": "markdown",
   "metadata": {},
   "source": [
    "### Motors"
   ]
  },
  {
   "cell_type": "code",
   "execution_count": 4,
   "metadata": {},
   "outputs": [],
   "source": [
    "# Add motor with its attributes\n",
    "# Add TMOTOR Velox Victory V3008 1350kv\n",
    "# https://shop.tmotor.com/products/cinematic-fpv-drone-motor-v3008\n",
    "uav_td.add_motor(name='motor_v3008', Kv0=1350, Um0=10,\n",
    "          Im0=1.18, Rm=0.1, mass=0.07, price=28.39)\n",
    "# Add TMOTOR VELOCE V2808 1950KV\n",
    "# https://shop.tmotor.com/products/fpv-brushless-motor-v2808?variant=41118111367377\n",
    "uav_td.add_motor(name='motor_v2808', Kv0=1950, Um0=10,\n",
    "          Im0=2.45, Rm=0.1, mass=0.061, price=24.83)\n",
    "\n",
    "# try 2400kv\n",
    "uav_td.add_motor(name='motor_kv2400', Kv0=2400, Um0=10,\n",
    "            Im0=2.45, Rm=0.1, mass=0.061, price=24.83)\n"
   ]
  },
  {
   "attachments": {},
   "cell_type": "markdown",
   "metadata": {},
   "source": [
    "### Propellers"
   ]
  },
  {
   "cell_type": "code",
   "execution_count": 5,
   "metadata": {},
   "outputs": [],
   "source": [
    "# Add propeller with its attributes\n",
    "# Add Tmotor MS1101\n",
    "# https://uav-en.tmotor.com/html/2019/Straight_0429/242.html\n",
    "# https://store.tmotor.com/goods.php?id=822\n",
    "uav_td.add_propeller(name='propeller_ms1101', Dp=11, Hp=4.2, Bp=2, mass=0.010, price=13.99 / 2)\n",
    "# Add Tmotor T9545-A\n",
    "# https://uav-en.tmotor.com/html/2018/Straight_0416/150.html\n",
    "# https://store.tmotor.com/goods.php?id=479\n",
    "uav_td.add_propeller(name='propeller_t9545', Dp=9.5, Hp=4.5, Bp=2, mass=0.008, price=7.99 / 2)\n",
    "# Add Tmotor MF1302 folding propeller\n",
    "# https://uav-en.tmotor.com/html/2019/Folding_0603/250.html\n",
    "# https://store.tmotor.com/goods.php?id=853\n",
    "uav_td.add_propeller(name='propeller_mf1302', Dp=13, Hp=4.8, Bp=2, mass=0.017, price=29.99 / 2)\n"
   ]
  },
  {
   "attachments": {},
   "cell_type": "markdown",
   "metadata": {},
   "source": [
    "### ESCs"
   ]
  },
  {
   "cell_type": "code",
   "execution_count": 6,
   "metadata": {},
   "outputs": [],
   "source": [
    "\n",
    "# Add ESC with its attributes\n",
    "# Add 30A ESC\n",
    "uav_td.add_esc(name='esc_30', Re=0.01, mass=0.01, price=10)\n",
    "# # Add 20A ESC\n",
    "# add_esc('esc_20', 0.01, 0.01, 10)\n"
   ]
  },
  {
   "attachments": {},
   "cell_type": "markdown",
   "metadata": {},
   "source": [
    "### Frames"
   ]
  },
  {
   "cell_type": "code",
   "execution_count": 7,
   "metadata": {},
   "outputs": [],
   "source": [
    "# # Add frame with its attributes\n",
    "# # Add 450mm frame\n",
    "# https://www.aliexpress.com/item/1826445939.html?spm=a2g0o.productlist.main.1.50754792nUZ6Lo&algo_pvid=4287122b-6c35-4298-8ae2-759823a1c0b5&algo_exp_id=4287122b-6c35-4298-8ae2-759823a1c0b5-0&pdp_npi=3%40dis%21USD%2132.27%2119.04%21%21%2132.27%21%21%40212249cb16899388764054185d076a%2110000013899219007%21sea%21NL%212631492666&curPageLogUid=LcEeOINnKP5O\n",
    "uav_td.add_frame(name='frame_450', Df=450, nr=4, mass=0.282, price=17.86)\n",
    "# # Add custom 3D printed frame\n",
    "uav_td.add_frame(name='cig_frame', Df=450, nr=6, mass=0.3, price=20)\n"
   ]
  },
  {
   "cell_type": "markdown",
   "metadata": {},
   "source": [
    "### Onboard Computer"
   ]
  },
  {
   "cell_type": "code",
   "execution_count": 8,
   "metadata": {},
   "outputs": [],
   "source": [
    "# add_onboard_computer(name='raspberry_pi_4', Icontrol=1, mass=0.046, price=100)\n",
    "uav_td.add_onboard_computer(name='jetson_nano', Icontrol=3, mass=0.100, price=150)\n"
   ]
  },
  {
   "cell_type": "markdown",
   "metadata": {},
   "source": [
    "## Generate the Design Space\n",
    "\n",
    "The design space is the set of all possible designs. In this case, the design space is the set of all possible drones. The system will generate all the possible combinations of the design variables and will evaluate the performance of each design.\n"
   ]
  },
  {
   "cell_type": "code",
   "execution_count": 9,
   "metadata": {},
   "outputs": [],
   "source": [
    "# save design components to json file\n",
    "uav_td.save_components_to_json('design_components.json')\n",
    "\n",
    "# generate the tradespace\n",
    "uav_td.generate_tradespace()"
   ]
  },
  {
   "cell_type": "markdown",
   "metadata": {},
   "source": [
    "## Visualize the Design Space\n",
    "\n",
    "### The MAU and the SAU\n",
    "\n",
    "For visualization, we want to have the best design score at the lowest cost. The design score in the tradespace exploration theory is called Multi Attribute Utility MAU. The MAU is a weighted mean of the scores for each performance variable, called Single Attribute Utility SAU. The SAU is calculated based on the Mission requirements that were defined in the beginning of the design process. The MAU is calculated as follows:\n",
    "\n",
    "$$MAU = \\sum_{i=1}^{n} w_i SAU_i$$\n",
    "\n",
    "Where $w_i$ is the weight of the performance variable $i$ and $n$ is the number of performance variables.\n",
    "\n",
    "### The Pareto Front\n",
    "\n",
    "The Pareto Front is the set of designs that are not dominated by any other design. A design dominates another design if it has a better MAU and a lower cost. The Pareto Front is the set of designs that are the best in the tradespace. The Pareto Front is calculated by the system and is shown in the visualization."
   ]
  },
  {
   "cell_type": "code",
   "execution_count": null,
   "metadata": {},
   "outputs": [],
   "source": [
    "# see the tradespace\n",
    "# uav_td.td.plot_tradespace_plotly('price', 'MAU')\n",
    "uav_td.plot_price_vs_mau()\n"
   ]
  },
  {
   "cell_type": "markdown",
   "metadata": {},
   "source": [
    "![](./newplot.png)"
   ]
  },
  {
   "cell_type": "code",
   "execution_count": null,
   "metadata": {},
   "outputs": [],
   "source": [
    "uav_td.plot_price_vs_performances()"
   ]
  },
  {
   "cell_type": "markdown",
   "metadata": {},
   "source": [
    "![](./performance.png)"
   ]
  },
  {
   "cell_type": "markdown",
   "metadata": {},
   "source": [
    "## The Design Space Visualization\n",
    "\n",
    "To understand what design variable affects more the final performance of the system, we can visualize the design space by color the characteristics of the designs grouped by each category. The designs that have a black background color are the ones that are in the Pareto Front, and the grays are the ones that are near the Pareto Front."
   ]
  },
  {
   "cell_type": "code",
   "execution_count": null,
   "metadata": {},
   "outputs": [],
   "source": [
    "uav_td.plot_all_attributes('price', 'MAU')"
   ]
  },
  {
   "cell_type": "markdown",
   "metadata": {},
   "source": [
    "![](./per_design.png)"
   ]
  },
  {
   "cell_type": "markdown",
   "metadata": {},
   "source": [
    "## Choosing the best design\n",
    "\n",
    "We can see, given the desired price and the mission requirements, which design is the best. The best design is the one that has the highest MAU and the lowest cost for a given constraint of the performance. We can see that the design 91 is a good choice. Thus, we can investigate more its characteristics and dig into a deeper analysis of the design. \n",
    "\n",
    "For that, we can get the uav model from the uav_list and call the function uav.show_all() to see all the characteristics of the design, including its performance attributes in different mission scenarios."
   ]
  },
  {
   "cell_type": "code",
   "execution_count": 13,
   "metadata": {},
   "outputs": [
    {
     "name": "stdout",
     "output_type": "stream",
     "text": [
      "----------------------------------------\n",
      "        UAV Model Configuration         \n",
      "----------------------------------------\n",
      "----------------------------------------\n",
      "            Input parameters            \n",
      "----------------------------------------\n",
      "              Environment               \n",
      "Temperature:                      25.000 °C\n",
      "Altitude:                         60.000 m\n",
      "\n",
      "                General                 \n",
      "Mass:                              1.692 Kg\n",
      "\n",
      "               Propeller                \n",
      "Diameter:                          0.279 m\n",
      "Pitch:                             0.107 m\n",
      "Blade number:                      2.000 units\n",
      "\n",
      "                 Motor                  \n",
      "Motor constant:                 1350.000 rpm/V\n",
      "Motor no-load voltage:            10.000 V\n",
      "Motor no-load current:             1.180 A\n",
      "Motor resistance:                  0.100 Ohm\n",
      "Number of rotors:                  6.000 units\n",
      "\n",
      "                  ESC                   \n",
      "Equivalent resistance:             0.010 Ohm\n",
      "\n",
      "                Battery                 \n",
      "Battery voltage:                  29.600 V\n",
      "Battery capacity:               5000.000 mAh\n",
      "Minimum battery capacity:        500.000 mAh\n",
      "Battery internal resistance:       0.400 Ohm\n",
      "\n",
      "                 Others                 \n",
      "Control current:                   3.000 A\n",
      "Max duty for max payload:          0.700 %\n",
      "\n",
      "----------------------------------------\n",
      "         Calculated parameters          \n",
      "----------------------------------------\n",
      "              Environment               \n",
      "Air density:                       1.284 kg/m^3\n",
      "\n",
      "               Propeller                \n",
      "Thrust coefficient:                0.084\n",
      "Torque coefficient:                0.006\n",
      "----------------------------------------\n",
      "\n",
      "----------------------------------------\n",
      "            UAV Performance             \n",
      "----------------------------------------\n",
      "               Hover mode               \n",
      "----------------------------------------\n",
      "Thrust:                           16.593 N\n",
      "Thrust/motor:                      2.765 N\n",
      "Motor speed:                    3899.003 rpm\n",
      "Motor torque:                      0.052 Nm\n",
      "Motor voltage:                     3.722 V\n",
      "Motor current:                     8.680 A\n",
      "Duty cycle:                        0.129 %\n",
      "ESC voltage:                      29.153 V\n",
      "ESC current:                       1.117 A\n",
      "Battery current:                   9.702 A\n",
      "Flight time:                      27.830 min\n",
      "Efficiency:                        0.480\n",
      "\n",
      "          Maximum thrust mode           \n",
      "----------------------------------------\n",
      "Thrust:                          334.849 N\n",
      "Thrust/motor:                     55.808 N\n",
      "Motor speed:                   17515.312 rpm\n",
      "Motor torque:                      1.058 Nm\n",
      "Motor voltage:                    28.075 V\n",
      "Motor current:                   152.534 A\n",
      "Duty cycle:                        1.000 %\n",
      "ESC voltage:                    -337.683 V\n",
      "ESC current:                     152.534 A\n",
      "Battery current:                 918.207 A\n",
      "Flight time:                       0.294 min\n",
      "Efficiency:                        0.480\n",
      "\n",
      "          Maximum payload mode          \n",
      "----------------------------------------\n",
      "Thrust:                          209.937 N\n",
      "Thrust/motor:                     34.990 N\n",
      "Motor speed:                   13868.770 rpm\n",
      "Motor torque:                      0.663 Nm\n",
      "Motor voltage:                    19.759 V\n",
      "Motor current:                    96.073 A\n",
      "Duty cycle:                        0.700 %\n",
      "ESC voltage:                       2.699 V\n",
      "ESC current:                      67.251 A\n",
      "Battery current:                 406.508 A\n",
      "Flight time:                       0.664 min\n",
      "Efficiency:                        0.480\n",
      "Maximum payload:                   2.010 Kg\n",
      "Maximum pitch:                    85.467 deg\n",
      "\n",
      "              Reachability              \n",
      "----------------------------------------\n",
      "Maximum distance:              11343.615 m\n",
      "Maximum speed:                    32.690 m/s\n",
      "----------------------------------------\n",
      "\n"
     ]
    }
   ],
   "source": [
    "uav = uav_td.uav_list[91]\n",
    "uav.show_all()"
   ]
  },
  {
   "cell_type": "markdown",
   "metadata": {},
   "source": [
    "### Thank you! We hope you enjoyed this tutorial and learned something about the design of drones."
   ]
  }
 ],
 "metadata": {
  "kernelspec": {
   "display_name": "Python 3",
   "language": "python",
   "name": "python3"
  },
  "language_info": {
   "codemirror_mode": {
    "name": "ipython",
    "version": 3
   },
   "file_extension": ".py",
   "mimetype": "text/x-python",
   "name": "python",
   "nbconvert_exporter": "python",
   "pygments_lexer": "ipython3",
   "version": "3.8.10"
  },
  "orig_nbformat": 4
 },
 "nbformat": 4,
 "nbformat_minor": 2
}
